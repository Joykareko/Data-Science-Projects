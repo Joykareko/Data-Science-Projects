{
  "nbformat": 4,
  "nbformat_minor": 0,
  "metadata": {
    "colab": {
      "name": "Stock Price Prediction-2",
      "provenance": [],
      "authorship_tag": "ABX9TyPNjiaFtv3VyalpdUJOU+hj",
      "include_colab_link": true
    },
    "kernelspec": {
      "name": "python3",
      "display_name": "Python 3"
    },
    "language_info": {
      "name": "python"
    }
  },
  "cells": [
    {
      "cell_type": "markdown",
      "metadata": {
        "id": "view-in-github",
        "colab_type": "text"
      },
      "source": [
        "<a href=\"https://colab.research.google.com/github/Joykareko/Data-Science-Projects/blob/main/Stock_Price_Prediction_2.ipynb\" target=\"_parent\"><img src=\"https://colab.research.google.com/assets/colab-badge.svg\" alt=\"Open In Colab\"/></a>"
      ]
    },
    {
      "cell_type": "code",
      "metadata": {
        "id": "N9uQUqUM4n5y"
      },
      "source": [
        "#importing dependencies\n",
        "import pandas_datareader as pdr\n",
        "import numpy as np\n",
        "import pandas as pd\n",
        "import matplotlib.pyplot as plt\n"
      ],
      "execution_count": 31,
      "outputs": []
    },
    {
      "cell_type": "code",
      "metadata": {
        "id": "a9gFFaCt478e"
      },
      "source": [
        "#obtaining data from an API\n",
        "df = pdr.get_data_tiingo('AAPL',api_key = '1619014d6663909145590ae6adcc1278cd3a9c92')\n",
        "df.to_csv('AAPL.csv')"
      ],
      "execution_count": 32,
      "outputs": []
    },
    {
      "cell_type": "code",
      "metadata": {
        "id": "UzmzS2wm5P-5"
      },
      "source": [
        "#loading the data using pandas\n",
        "df = pd.read_csv('AAPL.csv')"
      ],
      "execution_count": 33,
      "outputs": []
    },
    {
      "cell_type": "code",
      "metadata": {
        "colab": {
          "base_uri": "https://localhost:8080/",
          "height": 143
        },
        "id": "-XYtw1xu7tqx",
        "outputId": "78408a20-037e-4043-a103-3419badd4c13"
      },
      "source": [
        "df.head(3)"
      ],
      "execution_count": 34,
      "outputs": [
        {
          "output_type": "execute_result",
          "data": {
            "text/html": [
              "<div>\n",
              "<style scoped>\n",
              "    .dataframe tbody tr th:only-of-type {\n",
              "        vertical-align: middle;\n",
              "    }\n",
              "\n",
              "    .dataframe tbody tr th {\n",
              "        vertical-align: top;\n",
              "    }\n",
              "\n",
              "    .dataframe thead th {\n",
              "        text-align: right;\n",
              "    }\n",
              "</style>\n",
              "<table border=\"1\" class=\"dataframe\">\n",
              "  <thead>\n",
              "    <tr style=\"text-align: right;\">\n",
              "      <th></th>\n",
              "      <th>symbol</th>\n",
              "      <th>date</th>\n",
              "      <th>close</th>\n",
              "      <th>high</th>\n",
              "      <th>low</th>\n",
              "      <th>open</th>\n",
              "      <th>volume</th>\n",
              "      <th>adjClose</th>\n",
              "      <th>adjHigh</th>\n",
              "      <th>adjLow</th>\n",
              "      <th>adjOpen</th>\n",
              "      <th>adjVolume</th>\n",
              "      <th>divCash</th>\n",
              "      <th>splitFactor</th>\n",
              "    </tr>\n",
              "  </thead>\n",
              "  <tbody>\n",
              "    <tr>\n",
              "      <th>0</th>\n",
              "      <td>AAPL</td>\n",
              "      <td>2016-09-12 00:00:00+00:00</td>\n",
              "      <td>105.44</td>\n",
              "      <td>105.72</td>\n",
              "      <td>102.53</td>\n",
              "      <td>102.65</td>\n",
              "      <td>45292770</td>\n",
              "      <td>24.717011</td>\n",
              "      <td>24.782648</td>\n",
              "      <td>24.034855</td>\n",
              "      <td>24.062985</td>\n",
              "      <td>181171080</td>\n",
              "      <td>0.0</td>\n",
              "      <td>1.0</td>\n",
              "    </tr>\n",
              "    <tr>\n",
              "      <th>1</th>\n",
              "      <td>AAPL</td>\n",
              "      <td>2016-09-13 00:00:00+00:00</td>\n",
              "      <td>107.95</td>\n",
              "      <td>108.79</td>\n",
              "      <td>107.24</td>\n",
              "      <td>107.51</td>\n",
              "      <td>62176190</td>\n",
              "      <td>25.305400</td>\n",
              "      <td>25.502310</td>\n",
              "      <td>25.138963</td>\n",
              "      <td>25.202256</td>\n",
              "      <td>248704760</td>\n",
              "      <td>0.0</td>\n",
              "      <td>1.0</td>\n",
              "    </tr>\n",
              "    <tr>\n",
              "      <th>2</th>\n",
              "      <td>AAPL</td>\n",
              "      <td>2016-09-14 00:00:00+00:00</td>\n",
              "      <td>111.77</td>\n",
              "      <td>113.03</td>\n",
              "      <td>108.60</td>\n",
              "      <td>108.73</td>\n",
              "      <td>112340318</td>\n",
              "      <td>26.200875</td>\n",
              "      <td>26.496242</td>\n",
              "      <td>25.457771</td>\n",
              "      <td>25.488245</td>\n",
              "      <td>449361272</td>\n",
              "      <td>0.0</td>\n",
              "      <td>1.0</td>\n",
              "    </tr>\n",
              "  </tbody>\n",
              "</table>\n",
              "</div>"
            ],
            "text/plain": [
              "  symbol                       date   close  ...  adjVolume  divCash  splitFactor\n",
              "0   AAPL  2016-09-12 00:00:00+00:00  105.44  ...  181171080      0.0          1.0\n",
              "1   AAPL  2016-09-13 00:00:00+00:00  107.95  ...  248704760      0.0          1.0\n",
              "2   AAPL  2016-09-14 00:00:00+00:00  111.77  ...  449361272      0.0          1.0\n",
              "\n",
              "[3 rows x 14 columns]"
            ]
          },
          "metadata": {},
          "execution_count": 34
        }
      ]
    },
    {
      "cell_type": "code",
      "metadata": {
        "colab": {
          "base_uri": "https://localhost:8080/",
          "height": 143
        },
        "id": "bDYdcOnv9CkG",
        "outputId": "afdb41a2-5154-4bb4-c683-5e1d25d551e5"
      },
      "source": [
        "df.tail(3)"
      ],
      "execution_count": 35,
      "outputs": [
        {
          "output_type": "execute_result",
          "data": {
            "text/html": [
              "<div>\n",
              "<style scoped>\n",
              "    .dataframe tbody tr th:only-of-type {\n",
              "        vertical-align: middle;\n",
              "    }\n",
              "\n",
              "    .dataframe tbody tr th {\n",
              "        vertical-align: top;\n",
              "    }\n",
              "\n",
              "    .dataframe thead th {\n",
              "        text-align: right;\n",
              "    }\n",
              "</style>\n",
              "<table border=\"1\" class=\"dataframe\">\n",
              "  <thead>\n",
              "    <tr style=\"text-align: right;\">\n",
              "      <th></th>\n",
              "      <th>symbol</th>\n",
              "      <th>date</th>\n",
              "      <th>close</th>\n",
              "      <th>high</th>\n",
              "      <th>low</th>\n",
              "      <th>open</th>\n",
              "      <th>volume</th>\n",
              "      <th>adjClose</th>\n",
              "      <th>adjHigh</th>\n",
              "      <th>adjLow</th>\n",
              "      <th>adjOpen</th>\n",
              "      <th>adjVolume</th>\n",
              "      <th>divCash</th>\n",
              "      <th>splitFactor</th>\n",
              "    </tr>\n",
              "  </thead>\n",
              "  <tbody>\n",
              "    <tr>\n",
              "      <th>1254</th>\n",
              "      <td>AAPL</td>\n",
              "      <td>2021-09-03 00:00:00+00:00</td>\n",
              "      <td>154.30</td>\n",
              "      <td>154.63</td>\n",
              "      <td>153.090</td>\n",
              "      <td>153.76</td>\n",
              "      <td>57866066</td>\n",
              "      <td>154.30</td>\n",
              "      <td>154.63</td>\n",
              "      <td>153.090</td>\n",
              "      <td>153.76</td>\n",
              "      <td>57866066</td>\n",
              "      <td>0.0</td>\n",
              "      <td>1.0</td>\n",
              "    </tr>\n",
              "    <tr>\n",
              "      <th>1255</th>\n",
              "      <td>AAPL</td>\n",
              "      <td>2021-09-07 00:00:00+00:00</td>\n",
              "      <td>156.69</td>\n",
              "      <td>157.26</td>\n",
              "      <td>154.390</td>\n",
              "      <td>154.97</td>\n",
              "      <td>82278261</td>\n",
              "      <td>156.69</td>\n",
              "      <td>157.26</td>\n",
              "      <td>154.390</td>\n",
              "      <td>154.97</td>\n",
              "      <td>82278261</td>\n",
              "      <td>0.0</td>\n",
              "      <td>1.0</td>\n",
              "    </tr>\n",
              "    <tr>\n",
              "      <th>1256</th>\n",
              "      <td>AAPL</td>\n",
              "      <td>2021-09-08 00:00:00+00:00</td>\n",
              "      <td>155.11</td>\n",
              "      <td>157.04</td>\n",
              "      <td>153.975</td>\n",
              "      <td>156.98</td>\n",
              "      <td>74420207</td>\n",
              "      <td>155.11</td>\n",
              "      <td>157.04</td>\n",
              "      <td>153.975</td>\n",
              "      <td>156.98</td>\n",
              "      <td>74420207</td>\n",
              "      <td>0.0</td>\n",
              "      <td>1.0</td>\n",
              "    </tr>\n",
              "  </tbody>\n",
              "</table>\n",
              "</div>"
            ],
            "text/plain": [
              "     symbol                       date   close  ...  adjVolume  divCash  splitFactor\n",
              "1254   AAPL  2021-09-03 00:00:00+00:00  154.30  ...   57866066      0.0          1.0\n",
              "1255   AAPL  2021-09-07 00:00:00+00:00  156.69  ...   82278261      0.0          1.0\n",
              "1256   AAPL  2021-09-08 00:00:00+00:00  155.11  ...   74420207      0.0          1.0\n",
              "\n",
              "[3 rows x 14 columns]"
            ]
          },
          "metadata": {},
          "execution_count": 35
        }
      ]
    },
    {
      "cell_type": "code",
      "metadata": {
        "id": "R7Nv5bQJ9YaC"
      },
      "source": [
        "df = df['close']"
      ],
      "execution_count": 36,
      "outputs": []
    },
    {
      "cell_type": "code",
      "metadata": {
        "colab": {
          "base_uri": "https://localhost:8080/"
        },
        "id": "cyZiO_NsnlN5",
        "outputId": "146d8cfe-ab48-4e52-bcd4-738640bba54a"
      },
      "source": [
        "df.shape"
      ],
      "execution_count": 37,
      "outputs": [
        {
          "output_type": "execute_result",
          "data": {
            "text/plain": [
              "(1257,)"
            ]
          },
          "metadata": {},
          "execution_count": 37
        }
      ]
    },
    {
      "cell_type": "code",
      "metadata": {
        "colab": {
          "base_uri": "https://localhost:8080/",
          "height": 283
        },
        "id": "tT8rWTmZntU1",
        "outputId": "c95f1afb-75f7-4304-8133-15ed0196b1c1"
      },
      "source": [
        "plt.plot(df)"
      ],
      "execution_count": 38,
      "outputs": [
        {
          "output_type": "execute_result",
          "data": {
            "text/plain": [
              "[<matplotlib.lines.Line2D at 0x7f4260b048d0>]"
            ]
          },
          "metadata": {},
          "execution_count": 38
        },
        {
          "output_type": "display_data",
          "data": {
            "image/png": "[encoded data removed]",
            "text/plain": [
              "<Figure size 432x288 with 1 Axes>"
            ]
          },
          "metadata": {
            "needs_background": "light"
          }
        }
      ]
    },
    {
      "cell_type": "code",
      "metadata": {
        "colab": {
          "base_uri": "https://localhost:8080/"
        },
        "id": "1gVSJlPjoAIP",
        "outputId": "72997fd6-51a0-4008-92b3-6ee8e1bdd643"
      },
      "source": [
        "#since machines do not work well with large numbers, we need to scale\n",
        "from sklearn.preprocessing import MinMaxScaler\n",
        "scaler = MinMaxScaler(feature_range = (0,1))\n",
        "df = scaler.fit_transform(np.array(df).reshape(-1,1))\n",
        "df.shape"
      ],
      "execution_count": 39,
      "outputs": [
        {
          "output_type": "execute_result",
          "data": {
            "text/plain": [
              "(1257, 1)"
            ]
          },
          "metadata": {},
          "execution_count": 39
        }
      ]
    },
    {
      "cell_type": "code",
      "metadata": {
        "colab": {
          "base_uri": "https://localhost:8080/"
        },
        "id": "mDiy36HMpOMR",
        "outputId": "454819a8-20b8-4b88-e4e5-92ddf0b18f74"
      },
      "source": [
        "training_size = int(len(df)*0.65)\n",
        "test_size = len(df)-training_size\n",
        "train_data,test_data = df[0:training_size,:],df[training_size:len(df),:1]\n",
        "training_size,test_size"
      ],
      "execution_count": 43,
      "outputs": [
        {
          "output_type": "execute_result",
          "data": {
            "text/plain": [
              "(817, 440)"
            ]
          },
          "metadata": {},
          "execution_count": 43
        }
      ]
    },
    {
      "cell_type": "code",
      "metadata": {
        "id": "XSOj3Mj0r3y2"
      },
      "source": [
        "def create_dataset(dataset,time_step=1):\n",
        "    data_X,data_Y = [],[]\n",
        "    for i in range(len(dataset)-time_step-1):\n",
        "      a= dataset[i:(i+time_step),0]\n",
        "      data_X.append(a)\n",
        "      data_Y.append(dataset[i+time_step,0])\n",
        "    return np.array(data_X),np.array(data_Y)\n"
      ],
      "execution_count": 45,
      "outputs": []
    },
    {
      "cell_type": "code",
      "metadata": {
        "id": "_v7Tj3DU34s3"
      },
      "source": [
        "time_step = 100\n",
        "X_train,Y_train = create_dataset(train_data,time_step)\n",
        "X_test,Y_test = create_dataset(test_data,time_step)\n"
      ],
      "execution_count": 46,
      "outputs": []
    },
    {
      "cell_type": "code",
      "metadata": {
        "colab": {
          "base_uri": "https://localhost:8080/"
        },
        "id": "3NVwb-qq5_t8",
        "outputId": "d9d535aa-05d2-47fd-abbc-08a994c508e4"
      },
      "source": [
        "print(X_train.shape,Y_train.shape,X_test.shape,Y_test.shape)"
      ],
      "execution_count": 47,
      "outputs": [
        {
          "output_type": "stream",
          "name": "stdout",
          "text": [
            "(716, 100) (716,) (339, 100) (339,)\n"
          ]
        }
      ]
    },
    {
      "cell_type": "code",
      "metadata": {
        "colab": {
          "base_uri": "https://localhost:8080/"
        },
        "id": "Zjhq82Md6I_p",
        "outputId": "46058866-4491-4203-f196-a3fb36cb599a"
      },
      "source": [
        "print(X_train)"
      ],
      "execution_count": 48,
      "outputs": [
        {
          "output_type": "stream",
          "name": "stdout",
          "text": [
            "[[0.         0.00626482 0.01579933 ... 0.03971047 0.05818046 0.05763135]\n",
            " [0.00626482 0.01579933 0.02528391 ... 0.05818046 0.05763135 0.05900412]\n",
            " [0.01579933 0.02528391 0.02366155 ... 0.05763135 0.05900412 0.06202421]\n",
            " ...\n",
            " [0.24902034 0.24724822 0.24437789 ... 0.40386871 0.39615625 0.38440035]\n",
            " [0.24724822 0.24437789 0.25014352 ... 0.39615625 0.38440035 0.39011606]\n",
            " [0.24437789 0.25014352 0.24248097 ... 0.38440035 0.39011606 0.39970049]]\n"
          ]
        }
      ]
    },
    {
      "cell_type": "code",
      "metadata": {
        "colab": {
          "base_uri": "https://localhost:8080/"
        },
        "id": "Dgq6dAwx8LZv",
        "outputId": "1821b316-1b79-40ab-a2ef-3f08e8611731"
      },
      "source": [
        "#reshpaing our X_train\n",
        "X_train = X_train.reshape(X_train.shape[0],X_train.shape[1],1)\n",
        "X_test = X_test.reshape(X_test.shape[0],X_test.shape[1],1)\n",
        "print(X_train.shape)"
      ],
      "execution_count": 49,
      "outputs": [
        {
          "output_type": "stream",
          "name": "stdout",
          "text": [
            "(716, 100, 1)\n"
          ]
        }
      ]
    },
    {
      "cell_type": "code",
      "metadata": {
        "id": "n_j_dFi79ROz"
      },
      "source": [
        "#creating the stacked LSTM model\n",
        "from tensorflow.keras.models import Sequential\n",
        "from tensorflow.keras.layers import Dense\n",
        "from tensorflow.keras.layers import LSTM"
      ],
      "execution_count": 50,
      "outputs": []
    },
    {
      "cell_type": "code",
      "metadata": {
        "id": "23hCqg1x9r4M"
      },
      "source": [
        "model = Sequential()\n",
        "model.add(LSTM(50,return_sequences = True,input_shape = (100,1)))\n",
        "model.add(LSTM(50, return_sequences = True))\n",
        "model.add(LSTM(50))\n",
        "model.add(Dense(1))\n",
        "model.compile(loss = 'mean_squared_error',optimizer = 'adam')\n"
      ],
      "execution_count": 52,
      "outputs": []
    },
    {
      "cell_type": "code",
      "metadata": {
        "colab": {
          "base_uri": "https://localhost:8080/"
        },
        "id": "-4tvk4os-YGX",
        "outputId": "d7d73c03-3be7-4f11-a545-d280c6cf85b5"
      },
      "source": [
        "model.summary()"
      ],
      "execution_count": 53,
      "outputs": [
        {
          "output_type": "stream",
          "name": "stdout",
          "text": [
            "Model: \"sequential_1\"\n",
            "_________________________________________________________________\n",
            "Layer (type)                 Output Shape              Param #   \n",
            "=================================================================\n",
            "lstm_1 (LSTM)                (None, 100, 50)           10400     \n",
            "_________________________________________________________________\n",
            "lstm_2 (LSTM)                (None, 100, 50)           20200     \n",
            "_________________________________________________________________\n",
            "lstm_3 (LSTM)                (None, 50)                20200     \n",
            "_________________________________________________________________\n",
            "dense (Dense)                (None, 1)                 51        \n",
            "=================================================================\n",
            "Total params: 50,851\n",
            "Trainable params: 50,851\n",
            "Non-trainable params: 0\n",
            "_________________________________________________________________\n"
          ]
        }
      ]
    },
    {
      "cell_type": "code",
      "metadata": {
        "colab": {
          "base_uri": "https://localhost:8080/"
        },
        "id": "MG4ee7lp-q_G",
        "outputId": "b47e951c-2bb0-4e28-af67-0b2e552c45b6"
      },
      "source": [
        "model.fit(X_train,Y_train, validation_data=(X_test,Y_test),epochs = 100,batch_size = 64,verbose = 1)\n"
      ],
      "execution_count": 55,
      "outputs": [
        {
          "output_type": "stream",
          "name": "stdout",
          "text": [
            "Epoch 1/100\n",
            "12/12 [==============================] - 9s 297ms/step - loss: 0.0105 - val_loss: 0.0353\n",
            "Epoch 2/100\n",
            "12/12 [==============================] - 2s 187ms/step - loss: 0.0021 - val_loss: 0.0245\n",
            "Epoch 3/100\n",
            "12/12 [==============================] - 2s 188ms/step - loss: 0.0011 - val_loss: 0.0212\n",
            "Epoch 4/100\n",
            "12/12 [==============================] - 2s 186ms/step - loss: 6.5674e-04 - val_loss: 0.0217\n",
            "Epoch 5/100\n",
            "12/12 [==============================] - 2s 187ms/step - loss: 5.0227e-04 - val_loss: 0.0227\n",
            "Epoch 6/100\n",
            "12/12 [==============================] - 2s 187ms/step - loss: 4.6761e-04 - val_loss: 0.0211\n",
            "Epoch 7/100\n",
            "12/12 [==============================] - 2s 185ms/step - loss: 4.4327e-04 - val_loss: 0.0202\n",
            "Epoch 8/100\n",
            "12/12 [==============================] - 2s 183ms/step - loss: 4.2676e-04 - val_loss: 0.0213\n",
            "Epoch 9/100\n",
            "12/12 [==============================] - 2s 185ms/step - loss: 4.0669e-04 - val_loss: 0.0200\n",
            "Epoch 10/100\n",
            "12/12 [==============================] - 2s 185ms/step - loss: 3.9722e-04 - val_loss: 0.0201\n",
            "Epoch 11/100\n",
            "12/12 [==============================] - 2s 185ms/step - loss: 3.8528e-04 - val_loss: 0.0202\n",
            "Epoch 12/100\n",
            "12/12 [==============================] - 2s 190ms/step - loss: 4.0268e-04 - val_loss: 0.0175\n",
            "Epoch 13/100\n",
            "12/12 [==============================] - 2s 190ms/step - loss: 3.4977e-04 - val_loss: 0.0200\n",
            "Epoch 14/100\n",
            "12/12 [==============================] - 2s 189ms/step - loss: 2.9961e-04 - val_loss: 0.0197\n",
            "Epoch 15/100\n",
            "12/12 [==============================] - 2s 187ms/step - loss: 3.1629e-04 - val_loss: 0.0196\n",
            "Epoch 16/100\n",
            "12/12 [==============================] - 2s 190ms/step - loss: 3.1724e-04 - val_loss: 0.0191\n",
            "Epoch 17/100\n",
            "12/12 [==============================] - 2s 190ms/step - loss: 3.3117e-04 - val_loss: 0.0206\n",
            "Epoch 18/100\n",
            "12/12 [==============================] - 2s 187ms/step - loss: 3.1087e-04 - val_loss: 0.0163\n",
            "Epoch 19/100\n",
            "12/12 [==============================] - 2s 188ms/step - loss: 2.8365e-04 - val_loss: 0.0186\n",
            "Epoch 20/100\n",
            "12/12 [==============================] - 2s 187ms/step - loss: 2.7237e-04 - val_loss: 0.0168\n",
            "Epoch 21/100\n",
            "12/12 [==============================] - 2s 193ms/step - loss: 2.7292e-04 - val_loss: 0.0167\n",
            "Epoch 22/100\n",
            "12/12 [==============================] - 2s 190ms/step - loss: 2.5950e-04 - val_loss: 0.0167\n",
            "Epoch 23/100\n",
            "12/12 [==============================] - 2s 186ms/step - loss: 2.4786e-04 - val_loss: 0.0168\n",
            "Epoch 24/100\n",
            "12/12 [==============================] - 2s 189ms/step - loss: 2.4097e-04 - val_loss: 0.0159\n",
            "Epoch 25/100\n",
            "12/12 [==============================] - 2s 191ms/step - loss: 2.4986e-04 - val_loss: 0.0162\n",
            "Epoch 26/100\n",
            "12/12 [==============================] - 2s 187ms/step - loss: 2.4263e-04 - val_loss: 0.0170\n",
            "Epoch 27/100\n",
            "12/12 [==============================] - 2s 187ms/step - loss: 2.6292e-04 - val_loss: 0.0145\n",
            "Epoch 28/100\n",
            "12/12 [==============================] - 2s 187ms/step - loss: 2.3892e-04 - val_loss: 0.0153\n",
            "Epoch 29/100\n",
            "12/12 [==============================] - 2s 185ms/step - loss: 2.4522e-04 - val_loss: 0.0142\n",
            "Epoch 30/100\n",
            "12/12 [==============================] - 2s 187ms/step - loss: 2.2249e-04 - val_loss: 0.0148\n",
            "Epoch 31/100\n",
            "12/12 [==============================] - 2s 185ms/step - loss: 2.2332e-04 - val_loss: 0.0147\n",
            "Epoch 32/100\n",
            "12/12 [==============================] - 2s 186ms/step - loss: 2.5766e-04 - val_loss: 0.0150\n",
            "Epoch 33/100\n",
            "12/12 [==============================] - 2s 188ms/step - loss: 2.2117e-04 - val_loss: 0.0142\n",
            "Epoch 34/100\n",
            "12/12 [==============================] - 2s 187ms/step - loss: 2.1459e-04 - val_loss: 0.0146\n",
            "Epoch 35/100\n",
            "12/12 [==============================] - 2s 187ms/step - loss: 2.0857e-04 - val_loss: 0.0145\n",
            "Epoch 36/100\n",
            "12/12 [==============================] - 2s 186ms/step - loss: 2.1046e-04 - val_loss: 0.0152\n",
            "Epoch 37/100\n",
            "12/12 [==============================] - 2s 191ms/step - loss: 2.1864e-04 - val_loss: 0.0136\n",
            "Epoch 38/100\n",
            "12/12 [==============================] - 2s 190ms/step - loss: 2.4034e-04 - val_loss: 0.0136\n",
            "Epoch 39/100\n",
            "12/12 [==============================] - 2s 188ms/step - loss: 2.1910e-04 - val_loss: 0.0134\n",
            "Epoch 40/100\n",
            "12/12 [==============================] - 2s 193ms/step - loss: 2.1243e-04 - val_loss: 0.0139\n",
            "Epoch 41/100\n",
            "12/12 [==============================] - 2s 189ms/step - loss: 2.0135e-04 - val_loss: 0.0135\n",
            "Epoch 42/100\n",
            "12/12 [==============================] - 2s 186ms/step - loss: 1.9573e-04 - val_loss: 0.0136\n",
            "Epoch 43/100\n",
            "12/12 [==============================] - 2s 190ms/step - loss: 2.0756e-04 - val_loss: 0.0134\n",
            "Epoch 44/100\n",
            "12/12 [==============================] - 2s 187ms/step - loss: 2.1705e-04 - val_loss: 0.0135\n",
            "Epoch 45/100\n",
            "12/12 [==============================] - 2s 186ms/step - loss: 2.0775e-04 - val_loss: 0.0126\n",
            "Epoch 46/100\n",
            "12/12 [==============================] - 2s 184ms/step - loss: 2.0150e-04 - val_loss: 0.0125\n",
            "Epoch 47/100\n",
            "12/12 [==============================] - 2s 185ms/step - loss: 1.9556e-04 - val_loss: 0.0126\n",
            "Epoch 48/100\n",
            "12/12 [==============================] - 2s 188ms/step - loss: 1.8972e-04 - val_loss: 0.0125\n",
            "Epoch 49/100\n",
            "12/12 [==============================] - 2s 189ms/step - loss: 1.8227e-04 - val_loss: 0.0125\n",
            "Epoch 50/100\n",
            "12/12 [==============================] - 2s 187ms/step - loss: 1.8092e-04 - val_loss: 0.0127\n",
            "Epoch 51/100\n",
            "12/12 [==============================] - 2s 187ms/step - loss: 1.8243e-04 - val_loss: 0.0129\n",
            "Epoch 52/100\n",
            "12/12 [==============================] - 2s 189ms/step - loss: 2.2556e-04 - val_loss: 0.0121\n",
            "Epoch 53/100\n",
            "12/12 [==============================] - 2s 187ms/step - loss: 1.8896e-04 - val_loss: 0.0109\n",
            "Epoch 54/100\n",
            "12/12 [==============================] - 2s 189ms/step - loss: 1.9710e-04 - val_loss: 0.0117\n",
            "Epoch 55/100\n",
            "12/12 [==============================] - 2s 187ms/step - loss: 1.8000e-04 - val_loss: 0.0116\n",
            "Epoch 56/100\n",
            "12/12 [==============================] - 2s 192ms/step - loss: 1.7478e-04 - val_loss: 0.0112\n",
            "Epoch 57/100\n",
            "12/12 [==============================] - 2s 190ms/step - loss: 1.8357e-04 - val_loss: 0.0114\n",
            "Epoch 58/100\n",
            "12/12 [==============================] - 2s 190ms/step - loss: 1.7246e-04 - val_loss: 0.0113\n",
            "Epoch 59/100\n",
            "12/12 [==============================] - 2s 186ms/step - loss: 1.7300e-04 - val_loss: 0.0113\n",
            "Epoch 60/100\n",
            "12/12 [==============================] - 2s 189ms/step - loss: 1.6779e-04 - val_loss: 0.0107\n",
            "Epoch 61/100\n",
            "12/12 [==============================] - 2s 188ms/step - loss: 1.7005e-04 - val_loss: 0.0107\n",
            "Epoch 62/100\n",
            "12/12 [==============================] - 2s 186ms/step - loss: 1.6023e-04 - val_loss: 0.0110\n",
            "Epoch 63/100\n",
            "12/12 [==============================] - 2s 188ms/step - loss: 1.7208e-04 - val_loss: 0.0110\n",
            "Epoch 64/100\n",
            "12/12 [==============================] - 2s 186ms/step - loss: 1.7092e-04 - val_loss: 0.0107\n",
            "Epoch 65/100\n",
            "12/12 [==============================] - 2s 190ms/step - loss: 1.5605e-04 - val_loss: 0.0103\n",
            "Epoch 66/100\n",
            "12/12 [==============================] - 2s 187ms/step - loss: 1.5366e-04 - val_loss: 0.0104\n",
            "Epoch 67/100\n",
            "12/12 [==============================] - 2s 192ms/step - loss: 1.5636e-04 - val_loss: 0.0103\n",
            "Epoch 68/100\n",
            "12/12 [==============================] - 2s 194ms/step - loss: 1.6042e-04 - val_loss: 0.0096\n",
            "Epoch 69/100\n",
            "12/12 [==============================] - 2s 186ms/step - loss: 1.5058e-04 - val_loss: 0.0096\n",
            "Epoch 70/100\n",
            "12/12 [==============================] - 2s 189ms/step - loss: 1.5381e-04 - val_loss: 0.0097\n",
            "Epoch 71/100\n",
            "12/12 [==============================] - 2s 188ms/step - loss: 1.5198e-04 - val_loss: 0.0097\n",
            "Epoch 72/100\n",
            "12/12 [==============================] - 2s 190ms/step - loss: 1.4821e-04 - val_loss: 0.0091\n",
            "Epoch 73/100\n",
            "12/12 [==============================] - 2s 188ms/step - loss: 1.8194e-04 - val_loss: 0.0090\n",
            "Epoch 74/100\n",
            "12/12 [==============================] - 2s 191ms/step - loss: 1.5103e-04 - val_loss: 0.0090\n",
            "Epoch 75/100\n",
            "12/12 [==============================] - 2s 189ms/step - loss: 1.4165e-04 - val_loss: 0.0088\n",
            "Epoch 76/100\n",
            "12/12 [==============================] - 2s 186ms/step - loss: 1.4506e-04 - val_loss: 0.0091\n",
            "Epoch 77/100\n",
            "12/12 [==============================] - 2s 191ms/step - loss: 1.3677e-04 - val_loss: 0.0089\n",
            "Epoch 78/100\n",
            "12/12 [==============================] - 2s 188ms/step - loss: 1.6135e-04 - val_loss: 0.0087\n",
            "Epoch 79/100\n",
            "12/12 [==============================] - 2s 190ms/step - loss: 1.5595e-04 - val_loss: 0.0085\n",
            "Epoch 80/100\n",
            "12/12 [==============================] - 2s 190ms/step - loss: 1.7243e-04 - val_loss: 0.0087\n",
            "Epoch 81/100\n",
            "12/12 [==============================] - 2s 192ms/step - loss: 2.2171e-04 - val_loss: 0.0079\n",
            "Epoch 82/100\n",
            "12/12 [==============================] - 2s 191ms/step - loss: 1.5175e-04 - val_loss: 0.0076\n",
            "Epoch 83/100\n",
            "12/12 [==============================] - 2s 187ms/step - loss: 1.4117e-04 - val_loss: 0.0090\n",
            "Epoch 84/100\n",
            "12/12 [==============================] - 2s 188ms/step - loss: 1.4186e-04 - val_loss: 0.0079\n",
            "Epoch 85/100\n",
            "12/12 [==============================] - 2s 189ms/step - loss: 1.4376e-04 - val_loss: 0.0087\n",
            "Epoch 86/100\n",
            "12/12 [==============================] - 2s 184ms/step - loss: 1.4843e-04 - val_loss: 0.0076\n",
            "Epoch 87/100\n",
            "12/12 [==============================] - 2s 186ms/step - loss: 1.4346e-04 - val_loss: 0.0077\n",
            "Epoch 88/100\n",
            "12/12 [==============================] - 2s 186ms/step - loss: 1.3284e-04 - val_loss: 0.0074\n",
            "Epoch 89/100\n",
            "12/12 [==============================] - 2s 187ms/step - loss: 1.2851e-04 - val_loss: 0.0075\n",
            "Epoch 90/100\n",
            "12/12 [==============================] - 2s 189ms/step - loss: 1.2715e-04 - val_loss: 0.0074\n",
            "Epoch 91/100\n",
            "12/12 [==============================] - 2s 191ms/step - loss: 1.4512e-04 - val_loss: 0.0066\n",
            "Epoch 92/100\n",
            "12/12 [==============================] - 2s 188ms/step - loss: 1.3168e-04 - val_loss: 0.0063\n",
            "Epoch 93/100\n",
            "12/12 [==============================] - 2s 186ms/step - loss: 1.2710e-04 - val_loss: 0.0068\n",
            "Epoch 94/100\n",
            "12/12 [==============================] - 2s 191ms/step - loss: 1.2003e-04 - val_loss: 0.0068\n",
            "Epoch 95/100\n",
            "12/12 [==============================] - 2s 186ms/step - loss: 1.1873e-04 - val_loss: 0.0064\n",
            "Epoch 96/100\n",
            "12/12 [==============================] - 2s 187ms/step - loss: 1.1716e-04 - val_loss: 0.0064\n",
            "Epoch 97/100\n",
            "12/12 [==============================] - 2s 187ms/step - loss: 1.1463e-04 - val_loss: 0.0066\n",
            "Epoch 98/100\n",
            "12/12 [==============================] - 2s 189ms/step - loss: 1.2167e-04 - val_loss: 0.0065\n",
            "Epoch 99/100\n",
            "12/12 [==============================] - 2s 186ms/step - loss: 1.1646e-04 - val_loss: 0.0064\n",
            "Epoch 100/100\n",
            "12/12 [==============================] - 2s 189ms/step - loss: 1.2569e-04 - val_loss: 0.0060\n"
          ]
        },
        {
          "output_type": "execute_result",
          "data": {
            "text/plain": [
              "<keras.callbacks.History at 0x7f42192c3110>"
            ]
          },
          "metadata": {},
          "execution_count": 55
        }
      ]
    },
    {
      "cell_type": "code",
      "metadata": {
        "id": "332bhKYr_UDw"
      },
      "source": [
        "import tensorflow as tf"
      ],
      "execution_count": 56,
      "outputs": []
    },
    {
      "cell_type": "code",
      "metadata": {
        "id": "hFv1wf3J_yDZ"
      },
      "source": [
        "#predictions\n",
        "train_predict = model.predict(X_train)\n",
        "test_predict = model.predict(X_test)"
      ],
      "execution_count": 57,
      "outputs": []
    },
    {
      "cell_type": "code",
      "metadata": {
        "id": "Y5d9bFoXACMH"
      },
      "source": [
        "train_predict = scaler.inverse_transform(train_predict)\n",
        "test_predict = scaler.inverse_transform(test_predict)"
      ],
      "execution_count": 58,
      "outputs": []
    },
    {
      "cell_type": "code",
      "metadata": {
        "colab": {
          "base_uri": "https://localhost:8080/"
        },
        "id": "hCd91C9_Aax4",
        "outputId": "54283958-8261-46d9-99c2-65516bbd4e67"
      },
      "source": [
        "#checking the performance metrics\n",
        "import math\n",
        "from sklearn.metrics import mean_squared_error\n",
        "math.sqrt(mean_squared_error(Y_train,train_predict))\n",
        "\n"
      ],
      "execution_count": 61,
      "outputs": [
        {
          "output_type": "execute_result",
          "data": {
            "text/plain": [
              "185.79443152246864"
            ]
          },
          "metadata": {},
          "execution_count": 61
        }
      ]
    },
    {
      "cell_type": "code",
      "metadata": {
        "colab": {
          "base_uri": "https://localhost:8080/"
        },
        "id": "E5rAQsnjA0TR",
        "outputId": "040fd4f8-fe05-4b95-c272-6704be3ce25b"
      },
      "source": [
        "#test data\n",
        "math.sqrt(mean_squared_error(Y_test,test_predict))\n"
      ],
      "execution_count": 62,
      "outputs": [
        {
          "output_type": "execute_result",
          "data": {
            "text/plain": [
              "213.8486523930958"
            ]
          },
          "metadata": {},
          "execution_count": 62
        }
      ]
    },
    {
      "cell_type": "code",
      "metadata": {
        "id": "WTLUM9nvBQdc"
      },
      "source": [
        ""
      ],
      "execution_count": null,
      "outputs": []
    }
  ]
}