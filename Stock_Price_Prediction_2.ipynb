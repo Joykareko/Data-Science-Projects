{
  "nbformat": 4,
  "nbformat_minor": 0,
  "metadata": {
    "colab": {
      "name": "Stock Price Prediction-2",
      "provenance": [],
      "authorship_tag": "ABX9TyOvWPw259YizpQ7gLkD59xI",
      "include_colab_link": true
    },
    "kernelspec": {
      "name": "python3",
      "display_name": "Python 3"
    },
    "language_info": {
      "name": "python"
    }
  },
  "cells": [
    {
      "cell_type": "markdown",
      "metadata": {
        "id": "view-in-github",
        "colab_type": "text"
      },
      "source": [
        "<a href=\"https://colab.research.google.com/github/Joykareko/Data-Science-Projects/blob/main/Stock_Price_Prediction_2.ipynb\" target=\"_parent\"><img src=\"https://colab.research.google.com/assets/colab-badge.svg\" alt=\"Open In Colab\"/></a>"
      ]
    },
    {
      "cell_type": "code",
      "metadata": {
        "id": "N9uQUqUM4n5y"
      },
      "source": [
        "#importing dependencies\n",
        "import pandas_datareader as pdr\n",
        "import numpy as np\n",
        "import pandas as pd\n",
        "import matplotlib.pyplot as plt\n"
      ],
      "execution_count": 10,
      "outputs": []
    },
    {
      "cell_type": "code",
      "metadata": {
        "id": "a9gFFaCt478e"
      },
      "source": [
        "#obtaining data from an API\n",
        "df = pdr.get_data_tiingo('AAPL',api_key = '1619014d6663909145590ae6adcc1278cd3a9c92')\n",
        "df.to_csv('AAPL.csv')"
      ],
      "execution_count": 2,
      "outputs": []
    },
    {
      "cell_type": "code",
      "metadata": {
        "id": "UzmzS2wm5P-5"
      },
      "source": [
        "#loading the data using pandas\n",
        "df = pd.read_csv('AAPL.csv')"
      ],
      "execution_count": 3,
      "outputs": []
    },
    {
      "cell_type": "code",
      "metadata": {
        "colab": {
          "base_uri": "https://localhost:8080/",
          "height": 143
        },
        "id": "-XYtw1xu7tqx",
        "outputId": "efb2862d-c838-4644-8bbb-4569531cdbdf"
      },
      "source": [
        "df.head(3)"
      ],
      "execution_count": 4,
      "outputs": [
        {
          "output_type": "execute_result",
          "data": {
            "text/html": [
              "<div>\n",
              "<style scoped>\n",
              "    .dataframe tbody tr th:only-of-type {\n",
              "        vertical-align: middle;\n",
              "    }\n",
              "\n",
              "    .dataframe tbody tr th {\n",
              "        vertical-align: top;\n",
              "    }\n",
              "\n",
              "    .dataframe thead th {\n",
              "        text-align: right;\n",
              "    }\n",
              "</style>\n",
              "<table border=\"1\" class=\"dataframe\">\n",
              "  <thead>\n",
              "    <tr style=\"text-align: right;\">\n",
              "      <th></th>\n",
              "      <th>symbol</th>\n",
              "      <th>date</th>\n",
              "      <th>close</th>\n",
              "      <th>high</th>\n",
              "      <th>low</th>\n",
              "      <th>open</th>\n",
              "      <th>volume</th>\n",
              "      <th>adjClose</th>\n",
              "      <th>adjHigh</th>\n",
              "      <th>adjLow</th>\n",
              "      <th>adjOpen</th>\n",
              "      <th>adjVolume</th>\n",
              "      <th>divCash</th>\n",
              "      <th>splitFactor</th>\n",
              "    </tr>\n",
              "  </thead>\n",
              "  <tbody>\n",
              "    <tr>\n",
              "      <th>0</th>\n",
              "      <td>AAPL</td>\n",
              "      <td>2016-09-09 00:00:00+00:00</td>\n",
              "      <td>103.13</td>\n",
              "      <td>105.72</td>\n",
              "      <td>103.13</td>\n",
              "      <td>104.64</td>\n",
              "      <td>46556984</td>\n",
              "      <td>24.175506</td>\n",
              "      <td>24.782648</td>\n",
              "      <td>24.175506</td>\n",
              "      <td>24.529477</td>\n",
              "      <td>186227936</td>\n",
              "      <td>0.0</td>\n",
              "      <td>1.0</td>\n",
              "    </tr>\n",
              "    <tr>\n",
              "      <th>1</th>\n",
              "      <td>AAPL</td>\n",
              "      <td>2016-09-12 00:00:00+00:00</td>\n",
              "      <td>105.44</td>\n",
              "      <td>105.72</td>\n",
              "      <td>102.53</td>\n",
              "      <td>102.65</td>\n",
              "      <td>45292770</td>\n",
              "      <td>24.717011</td>\n",
              "      <td>24.782648</td>\n",
              "      <td>24.034855</td>\n",
              "      <td>24.062985</td>\n",
              "      <td>181171080</td>\n",
              "      <td>0.0</td>\n",
              "      <td>1.0</td>\n",
              "    </tr>\n",
              "    <tr>\n",
              "      <th>2</th>\n",
              "      <td>AAPL</td>\n",
              "      <td>2016-09-13 00:00:00+00:00</td>\n",
              "      <td>107.95</td>\n",
              "      <td>108.79</td>\n",
              "      <td>107.24</td>\n",
              "      <td>107.51</td>\n",
              "      <td>62176190</td>\n",
              "      <td>25.305400</td>\n",
              "      <td>25.502310</td>\n",
              "      <td>25.138963</td>\n",
              "      <td>25.202256</td>\n",
              "      <td>248704760</td>\n",
              "      <td>0.0</td>\n",
              "      <td>1.0</td>\n",
              "    </tr>\n",
              "  </tbody>\n",
              "</table>\n",
              "</div>"
            ],
            "text/plain": [
              "  symbol                       date   close  ...  adjVolume  divCash  splitFactor\n",
              "0   AAPL  2016-09-09 00:00:00+00:00  103.13  ...  186227936      0.0          1.0\n",
              "1   AAPL  2016-09-12 00:00:00+00:00  105.44  ...  181171080      0.0          1.0\n",
              "2   AAPL  2016-09-13 00:00:00+00:00  107.95  ...  248704760      0.0          1.0\n",
              "\n",
              "[3 rows x 14 columns]"
            ]
          },
          "metadata": {},
          "execution_count": 4
        }
      ]
    },
    {
      "cell_type": "code",
      "metadata": {
        "colab": {
          "base_uri": "https://localhost:8080/",
          "height": 143
        },
        "id": "bDYdcOnv9CkG",
        "outputId": "4601bc69-d938-4cc3-c5b9-4d6b7cf49883"
      },
      "source": [
        "df.tail(3)"
      ],
      "execution_count": 5,
      "outputs": [
        {
          "output_type": "execute_result",
          "data": {
            "text/html": [
              "<div>\n",
              "<style scoped>\n",
              "    .dataframe tbody tr th:only-of-type {\n",
              "        vertical-align: middle;\n",
              "    }\n",
              "\n",
              "    .dataframe tbody tr th {\n",
              "        vertical-align: top;\n",
              "    }\n",
              "\n",
              "    .dataframe thead th {\n",
              "        text-align: right;\n",
              "    }\n",
              "</style>\n",
              "<table border=\"1\" class=\"dataframe\">\n",
              "  <thead>\n",
              "    <tr style=\"text-align: right;\">\n",
              "      <th></th>\n",
              "      <th>symbol</th>\n",
              "      <th>date</th>\n",
              "      <th>close</th>\n",
              "      <th>high</th>\n",
              "      <th>low</th>\n",
              "      <th>open</th>\n",
              "      <th>volume</th>\n",
              "      <th>adjClose</th>\n",
              "      <th>adjHigh</th>\n",
              "      <th>adjLow</th>\n",
              "      <th>adjOpen</th>\n",
              "      <th>adjVolume</th>\n",
              "      <th>divCash</th>\n",
              "      <th>splitFactor</th>\n",
              "    </tr>\n",
              "  </thead>\n",
              "  <tbody>\n",
              "    <tr>\n",
              "      <th>1254</th>\n",
              "      <td>AAPL</td>\n",
              "      <td>2021-09-02 00:00:00+00:00</td>\n",
              "      <td>153.65</td>\n",
              "      <td>154.72</td>\n",
              "      <td>152.40</td>\n",
              "      <td>153.87</td>\n",
              "      <td>71171317</td>\n",
              "      <td>153.65</td>\n",
              "      <td>154.72</td>\n",
              "      <td>152.40</td>\n",
              "      <td>153.87</td>\n",
              "      <td>71171317</td>\n",
              "      <td>0.0</td>\n",
              "      <td>1.0</td>\n",
              "    </tr>\n",
              "    <tr>\n",
              "      <th>1255</th>\n",
              "      <td>AAPL</td>\n",
              "      <td>2021-09-03 00:00:00+00:00</td>\n",
              "      <td>154.30</td>\n",
              "      <td>154.63</td>\n",
              "      <td>153.09</td>\n",
              "      <td>153.76</td>\n",
              "      <td>57866066</td>\n",
              "      <td>154.30</td>\n",
              "      <td>154.63</td>\n",
              "      <td>153.09</td>\n",
              "      <td>153.76</td>\n",
              "      <td>57866066</td>\n",
              "      <td>0.0</td>\n",
              "      <td>1.0</td>\n",
              "    </tr>\n",
              "    <tr>\n",
              "      <th>1256</th>\n",
              "      <td>AAPL</td>\n",
              "      <td>2021-09-07 00:00:00+00:00</td>\n",
              "      <td>156.69</td>\n",
              "      <td>157.26</td>\n",
              "      <td>154.39</td>\n",
              "      <td>154.97</td>\n",
              "      <td>82278261</td>\n",
              "      <td>156.69</td>\n",
              "      <td>157.26</td>\n",
              "      <td>154.39</td>\n",
              "      <td>154.97</td>\n",
              "      <td>82278261</td>\n",
              "      <td>0.0</td>\n",
              "      <td>1.0</td>\n",
              "    </tr>\n",
              "  </tbody>\n",
              "</table>\n",
              "</div>"
            ],
            "text/plain": [
              "     symbol                       date   close  ...  adjVolume  divCash  splitFactor\n",
              "1254   AAPL  2021-09-02 00:00:00+00:00  153.65  ...   71171317      0.0          1.0\n",
              "1255   AAPL  2021-09-03 00:00:00+00:00  154.30  ...   57866066      0.0          1.0\n",
              "1256   AAPL  2021-09-07 00:00:00+00:00  156.69  ...   82278261      0.0          1.0\n",
              "\n",
              "[3 rows x 14 columns]"
            ]
          },
          "metadata": {},
          "execution_count": 5
        }
      ]
    },
    {
      "cell_type": "code",
      "metadata": {
        "id": "R7Nv5bQJ9YaC"
      },
      "source": [
        "df = df['close']"
      ],
      "execution_count": 6,
      "outputs": []
    },
    {
      "cell_type": "code",
      "metadata": {
        "colab": {
          "base_uri": "https://localhost:8080/"
        },
        "id": "cyZiO_NsnlN5",
        "outputId": "ee4a996a-429f-40ab-a6ea-3c23e99f4eba"
      },
      "source": [
        "df.shape"
      ],
      "execution_count": 7,
      "outputs": [
        {
          "output_type": "execute_result",
          "data": {
            "text/plain": [
              "(1257,)"
            ]
          },
          "metadata": {},
          "execution_count": 7
        }
      ]
    },
    {
      "cell_type": "code",
      "metadata": {
        "colab": {
          "base_uri": "https://localhost:8080/",
          "height": 283
        },
        "id": "tT8rWTmZntU1",
        "outputId": "251b534d-e797-43a3-df07-e0a0ff8f89e5"
      },
      "source": [
        "plt.plot(df)"
      ],
      "execution_count": 11,
      "outputs": [
        {
          "output_type": "execute_result",
          "data": {
            "text/plain": [
              "[<matplotlib.lines.Line2D at 0x7f242ec4acd0>]"
            ]
          },
          "metadata": {},
          "execution_count": 11
        },
        {
          "output_type": "display_data",
          "data": {
            "image/png": "[encoded data removed]",
            "text/plain": [
              "<Figure size 432x288 with 1 Axes>"
            ]
          },
          "metadata": {
            "needs_background": "light"
          }
        }
      ]
    },
    {
      "cell_type": "code",
      "metadata": {
        "colab": {
          "base_uri": "https://localhost:8080/"
        },
        "id": "1gVSJlPjoAIP",
        "outputId": "742f85d0-e135-4827-f997-1d637f58283a"
      },
      "source": [
        "#since machines do not work well with large numbers, we need to scale\n",
        "from sklearn.preprocessing import MinMaxScaler\n",
        "scaler = MinMaxScaler(feature_range = (0,1))\n",
        "df = scaler.fit_transform(np.array(df).reshape(-1,1))\n",
        "df.shape"
      ],
      "execution_count": 13,
      "outputs": [
        {
          "output_type": "execute_result",
          "data": {
            "text/plain": [
              "(1257, 1)"
            ]
          },
          "metadata": {},
          "execution_count": 13
        }
      ]
    },
    {
      "cell_type": "code",
      "metadata": {
        "colab": {
          "base_uri": "https://localhost:8080/"
        },
        "id": "mDiy36HMpOMR",
        "outputId": "f998fb49-781a-40ce-f322-63310d697af4"
      },
      "source": [
        "training_size = int(len(df)*0.65)\n",
        "test_size = len(df)-training_size\n",
        "train_data,test_data = df[0:training_size,:],df[training_size:len(df),:1]\n",
        "training_size,test_size"
      ],
      "execution_count": 14,
      "outputs": [
        {
          "output_type": "execute_result",
          "data": {
            "text/plain": [
              "(817, 440)"
            ]
          },
          "metadata": {},
          "execution_count": 14
        }
      ]
    },
    {
      "cell_type": "code",
      "metadata": {
        "id": "XSOj3Mj0r3y2"
      },
      "source": [
        ""
      ],
      "execution_count": null,
      "outputs": []
    }
  ]
}