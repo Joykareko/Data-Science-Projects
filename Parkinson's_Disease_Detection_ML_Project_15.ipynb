{
  "nbformat": 4,
  "nbformat_minor": 0,
  "metadata": {
    "colab": {
      "name": "Parkinson's Disease Detection - ML Project 15",
      "provenance": [],
      "authorship_tag": "ABX9TyPs4rlv49NfVSw312ZtUA8n",
      "include_colab_link": true
    },
    "kernelspec": {
      "name": "python3",
      "display_name": "Python 3"
    },
    "language_info": {
      "name": "python"
    }
  },
  "cells": [
    {
      "cell_type": "markdown",
      "metadata": {
        "id": "view-in-github",
        "colab_type": "text"
      },
      "source": [
        "<a href=\"https://colab.research.google.com/github/Joykareko/Data-Science-Projects/blob/main/Parkinson's_Disease_Detection_ML_Project_15.ipynb\" target=\"_parent\"><img src=\"https://colab.research.google.com/assets/colab-badge.svg\" alt=\"Open In Colab\"/></a>"
      ]
    },
    {
      "cell_type": "markdown",
      "metadata": {
        "id": "oJGDoRpC7J5v"
      },
      "source": [
        "Parkinson's is a nervous system disorder and is progressive in nature.\n",
        "\n",
        "We will be using SVM in this model"
      ]
    },
    {
      "cell_type": "code",
      "metadata": {
        "id": "Gdk5UFq367d-"
      },
      "source": [
        "#Importing dependencies/libraries\n",
        "import numpy as np\n",
        "import pandas as pd\n",
        "from sklearn.model_selection import train_test_split\n",
        "from sklearn.preprocessing import StandardScaler\n",
        "from sklearn.metrics import accuracy_score\n",
        "from sklearn import svm"
      ],
      "execution_count": 31,
      "outputs": []
    },
    {
      "cell_type": "code",
      "metadata": {
        "colab": {
          "base_uri": "https://localhost:8080/",
          "height": 163
        },
        "id": "qldjRweB80Qg",
        "outputId": "9be20aa4-557a-47df-d375-edb706a0992c"
      },
      "source": [
        "#loading the data\n",
        "park_data = pd.read_csv('/content/parkinsons.csv')\n",
        "park_data.head(3)"
      ],
      "execution_count": 32,
      "outputs": [
        {
          "output_type": "execute_result",
          "data": {
            "text/html": [
              "<div>\n",
              "<style scoped>\n",
              "    .dataframe tbody tr th:only-of-type {\n",
              "        vertical-align: middle;\n",
              "    }\n",
              "\n",
              "    .dataframe tbody tr th {\n",
              "        vertical-align: top;\n",
              "    }\n",
              "\n",
              "    .dataframe thead th {\n",
              "        text-align: right;\n",
              "    }\n",
              "</style>\n",
              "<table border=\"1\" class=\"dataframe\">\n",
              "  <thead>\n",
              "    <tr style=\"text-align: right;\">\n",
              "      <th></th>\n",
              "      <th>name</th>\n",
              "      <th>MDVP:Fo(Hz)</th>\n",
              "      <th>MDVP:Fhi(Hz)</th>\n",
              "      <th>MDVP:Flo(Hz)</th>\n",
              "      <th>MDVP:Jitter(%)</th>\n",
              "      <th>MDVP:Jitter(Abs)</th>\n",
              "      <th>MDVP:RAP</th>\n",
              "      <th>MDVP:PPQ</th>\n",
              "      <th>Jitter:DDP</th>\n",
              "      <th>MDVP:Shimmer</th>\n",
              "      <th>MDVP:Shimmer(dB)</th>\n",
              "      <th>Shimmer:APQ3</th>\n",
              "      <th>Shimmer:APQ5</th>\n",
              "      <th>MDVP:APQ</th>\n",
              "      <th>Shimmer:DDA</th>\n",
              "      <th>NHR</th>\n",
              "      <th>HNR</th>\n",
              "      <th>status</th>\n",
              "      <th>RPDE</th>\n",
              "      <th>DFA</th>\n",
              "      <th>spread1</th>\n",
              "      <th>spread2</th>\n",
              "      <th>D2</th>\n",
              "      <th>PPE</th>\n",
              "    </tr>\n",
              "  </thead>\n",
              "  <tbody>\n",
              "    <tr>\n",
              "      <th>0</th>\n",
              "      <td>phon_R01_S01_1</td>\n",
              "      <td>119.992</td>\n",
              "      <td>157.302</td>\n",
              "      <td>74.997</td>\n",
              "      <td>0.00784</td>\n",
              "      <td>0.00007</td>\n",
              "      <td>0.00370</td>\n",
              "      <td>0.00554</td>\n",
              "      <td>0.01109</td>\n",
              "      <td>0.04374</td>\n",
              "      <td>0.426</td>\n",
              "      <td>0.02182</td>\n",
              "      <td>0.03130</td>\n",
              "      <td>0.02971</td>\n",
              "      <td>0.06545</td>\n",
              "      <td>0.02211</td>\n",
              "      <td>21.033</td>\n",
              "      <td>1</td>\n",
              "      <td>0.414783</td>\n",
              "      <td>0.815285</td>\n",
              "      <td>-4.813031</td>\n",
              "      <td>0.266482</td>\n",
              "      <td>2.301442</td>\n",
              "      <td>0.284654</td>\n",
              "    </tr>\n",
              "    <tr>\n",
              "      <th>1</th>\n",
              "      <td>phon_R01_S01_2</td>\n",
              "      <td>122.400</td>\n",
              "      <td>148.650</td>\n",
              "      <td>113.819</td>\n",
              "      <td>0.00968</td>\n",
              "      <td>0.00008</td>\n",
              "      <td>0.00465</td>\n",
              "      <td>0.00696</td>\n",
              "      <td>0.01394</td>\n",
              "      <td>0.06134</td>\n",
              "      <td>0.626</td>\n",
              "      <td>0.03134</td>\n",
              "      <td>0.04518</td>\n",
              "      <td>0.04368</td>\n",
              "      <td>0.09403</td>\n",
              "      <td>0.01929</td>\n",
              "      <td>19.085</td>\n",
              "      <td>1</td>\n",
              "      <td>0.458359</td>\n",
              "      <td>0.819521</td>\n",
              "      <td>-4.075192</td>\n",
              "      <td>0.335590</td>\n",
              "      <td>2.486855</td>\n",
              "      <td>0.368674</td>\n",
              "    </tr>\n",
              "    <tr>\n",
              "      <th>2</th>\n",
              "      <td>phon_R01_S01_3</td>\n",
              "      <td>116.682</td>\n",
              "      <td>131.111</td>\n",
              "      <td>111.555</td>\n",
              "      <td>0.01050</td>\n",
              "      <td>0.00009</td>\n",
              "      <td>0.00544</td>\n",
              "      <td>0.00781</td>\n",
              "      <td>0.01633</td>\n",
              "      <td>0.05233</td>\n",
              "      <td>0.482</td>\n",
              "      <td>0.02757</td>\n",
              "      <td>0.03858</td>\n",
              "      <td>0.03590</td>\n",
              "      <td>0.08270</td>\n",
              "      <td>0.01309</td>\n",
              "      <td>20.651</td>\n",
              "      <td>1</td>\n",
              "      <td>0.429895</td>\n",
              "      <td>0.825288</td>\n",
              "      <td>-4.443179</td>\n",
              "      <td>0.311173</td>\n",
              "      <td>2.342259</td>\n",
              "      <td>0.332634</td>\n",
              "    </tr>\n",
              "  </tbody>\n",
              "</table>\n",
              "</div>"
            ],
            "text/plain": [
              "             name  MDVP:Fo(Hz)  MDVP:Fhi(Hz)  ...   spread2        D2       PPE\n",
              "0  phon_R01_S01_1      119.992       157.302  ...  0.266482  2.301442  0.284654\n",
              "1  phon_R01_S01_2      122.400       148.650  ...  0.335590  2.486855  0.368674\n",
              "2  phon_R01_S01_3      116.682       131.111  ...  0.311173  2.342259  0.332634\n",
              "\n",
              "[3 rows x 24 columns]"
            ]
          },
          "metadata": {},
          "execution_count": 32
        }
      ]
    },
    {
      "cell_type": "code",
      "metadata": {
        "colab": {
          "base_uri": "https://localhost:8080/"
        },
        "id": "-WtJntaBARJz",
        "outputId": "12f8725e-be02-431d-db7f-a3c50e033c3d"
      },
      "source": [
        "park_data.shape"
      ],
      "execution_count": 33,
      "outputs": [
        {
          "output_type": "execute_result",
          "data": {
            "text/plain": [
              "(195, 24)"
            ]
          },
          "metadata": {},
          "execution_count": 33
        }
      ]
    },
    {
      "cell_type": "code",
      "metadata": {
        "colab": {
          "base_uri": "https://localhost:8080/"
        },
        "id": "QiLOwP96HBXX",
        "outputId": "c209da37-6b05-4fad-9a50-94eb92fb1370"
      },
      "source": [
        "park_data.info()"
      ],
      "execution_count": 34,
      "outputs": [
        {
          "output_type": "stream",
          "name": "stdout",
          "text": [
            "<class 'pandas.core.frame.DataFrame'>\n",
            "RangeIndex: 195 entries, 0 to 194\n",
            "Data columns (total 24 columns):\n",
            " #   Column            Non-Null Count  Dtype  \n",
            "---  ------            --------------  -----  \n",
            " 0   name              195 non-null    object \n",
            " 1   MDVP:Fo(Hz)       195 non-null    float64\n",
            " 2   MDVP:Fhi(Hz)      195 non-null    float64\n",
            " 3   MDVP:Flo(Hz)      195 non-null    float64\n",
            " 4   MDVP:Jitter(%)    195 non-null    float64\n",
            " 5   MDVP:Jitter(Abs)  195 non-null    float64\n",
            " 6   MDVP:RAP          195 non-null    float64\n",
            " 7   MDVP:PPQ          195 non-null    float64\n",
            " 8   Jitter:DDP        195 non-null    float64\n",
            " 9   MDVP:Shimmer      195 non-null    float64\n",
            " 10  MDVP:Shimmer(dB)  195 non-null    float64\n",
            " 11  Shimmer:APQ3      195 non-null    float64\n",
            " 12  Shimmer:APQ5      195 non-null    float64\n",
            " 13  MDVP:APQ          195 non-null    float64\n",
            " 14  Shimmer:DDA       195 non-null    float64\n",
            " 15  NHR               195 non-null    float64\n",
            " 16  HNR               195 non-null    float64\n",
            " 17  status            195 non-null    int64  \n",
            " 18  RPDE              195 non-null    float64\n",
            " 19  DFA               195 non-null    float64\n",
            " 20  spread1           195 non-null    float64\n",
            " 21  spread2           195 non-null    float64\n",
            " 22  D2                195 non-null    float64\n",
            " 23  PPE               195 non-null    float64\n",
            "dtypes: float64(22), int64(1), object(1)\n",
            "memory usage: 36.7+ KB\n"
          ]
        }
      ]
    },
    {
      "cell_type": "code",
      "metadata": {
        "colab": {
          "base_uri": "https://localhost:8080/"
        },
        "id": "n960dhexAwOg",
        "outputId": "6e5cc808-89d0-4509-83e5-1076a8eb9f4b"
      },
      "source": [
        "#checking for missing values\n",
        "park_data.isnull().sum()"
      ],
      "execution_count": 35,
      "outputs": [
        {
          "output_type": "execute_result",
          "data": {
            "text/plain": [
              "name                0\n",
              "MDVP:Fo(Hz)         0\n",
              "MDVP:Fhi(Hz)        0\n",
              "MDVP:Flo(Hz)        0\n",
              "MDVP:Jitter(%)      0\n",
              "MDVP:Jitter(Abs)    0\n",
              "MDVP:RAP            0\n",
              "MDVP:PPQ            0\n",
              "Jitter:DDP          0\n",
              "MDVP:Shimmer        0\n",
              "MDVP:Shimmer(dB)    0\n",
              "Shimmer:APQ3        0\n",
              "Shimmer:APQ5        0\n",
              "MDVP:APQ            0\n",
              "Shimmer:DDA         0\n",
              "NHR                 0\n",
              "HNR                 0\n",
              "status              0\n",
              "RPDE                0\n",
              "DFA                 0\n",
              "spread1             0\n",
              "spread2             0\n",
              "D2                  0\n",
              "PPE                 0\n",
              "dtype: int64"
            ]
          },
          "metadata": {},
          "execution_count": 35
        }
      ]
    },
    {
      "cell_type": "code",
      "metadata": {
        "colab": {
          "base_uri": "https://localhost:8080/",
          "height": 320
        },
        "id": "jCOJJBwvE6RM",
        "outputId": "5046cf7f-5dac-4c93-974b-7d1f59ffe886"
      },
      "source": [
        "#statistical measures\n",
        "park_data.describe()"
      ],
      "execution_count": 36,
      "outputs": [
        {
          "output_type": "execute_result",
          "data": {
            "text/html": [
              "<div>\n",
              "<style scoped>\n",
              "    .dataframe tbody tr th:only-of-type {\n",
              "        vertical-align: middle;\n",
              "    }\n",
              "\n",
              "    .dataframe tbody tr th {\n",
              "        vertical-align: top;\n",
              "    }\n",
              "\n",
              "    .dataframe thead th {\n",
              "        text-align: right;\n",
              "    }\n",
              "</style>\n",
              "<table border=\"1\" class=\"dataframe\">\n",
              "  <thead>\n",
              "    <tr style=\"text-align: right;\">\n",
              "      <th></th>\n",
              "      <th>MDVP:Fo(Hz)</th>\n",
              "      <th>MDVP:Fhi(Hz)</th>\n",
              "      <th>MDVP:Flo(Hz)</th>\n",
              "      <th>MDVP:Jitter(%)</th>\n",
              "      <th>MDVP:Jitter(Abs)</th>\n",
              "      <th>MDVP:RAP</th>\n",
              "      <th>MDVP:PPQ</th>\n",
              "      <th>Jitter:DDP</th>\n",
              "      <th>MDVP:Shimmer</th>\n",
              "      <th>MDVP:Shimmer(dB)</th>\n",
              "      <th>Shimmer:APQ3</th>\n",
              "      <th>Shimmer:APQ5</th>\n",
              "      <th>MDVP:APQ</th>\n",
              "      <th>Shimmer:DDA</th>\n",
              "      <th>NHR</th>\n",
              "      <th>HNR</th>\n",
              "      <th>status</th>\n",
              "      <th>RPDE</th>\n",
              "      <th>DFA</th>\n",
              "      <th>spread1</th>\n",
              "      <th>spread2</th>\n",
              "      <th>D2</th>\n",
              "      <th>PPE</th>\n",
              "    </tr>\n",
              "  </thead>\n",
              "  <tbody>\n",
              "    <tr>\n",
              "      <th>count</th>\n",
              "      <td>195.000000</td>\n",
              "      <td>195.000000</td>\n",
              "      <td>195.000000</td>\n",
              "      <td>195.000000</td>\n",
              "      <td>195.000000</td>\n",
              "      <td>195.000000</td>\n",
              "      <td>195.000000</td>\n",
              "      <td>195.000000</td>\n",
              "      <td>195.000000</td>\n",
              "      <td>195.000000</td>\n",
              "      <td>195.000000</td>\n",
              "      <td>195.000000</td>\n",
              "      <td>195.000000</td>\n",
              "      <td>195.000000</td>\n",
              "      <td>195.000000</td>\n",
              "      <td>195.000000</td>\n",
              "      <td>195.000000</td>\n",
              "      <td>195.000000</td>\n",
              "      <td>195.000000</td>\n",
              "      <td>195.000000</td>\n",
              "      <td>195.000000</td>\n",
              "      <td>195.000000</td>\n",
              "      <td>195.000000</td>\n",
              "    </tr>\n",
              "    <tr>\n",
              "      <th>mean</th>\n",
              "      <td>154.228641</td>\n",
              "      <td>197.104918</td>\n",
              "      <td>116.324631</td>\n",
              "      <td>0.006220</td>\n",
              "      <td>0.000044</td>\n",
              "      <td>0.003306</td>\n",
              "      <td>0.003446</td>\n",
              "      <td>0.009920</td>\n",
              "      <td>0.029709</td>\n",
              "      <td>0.282251</td>\n",
              "      <td>0.015664</td>\n",
              "      <td>0.017878</td>\n",
              "      <td>0.024081</td>\n",
              "      <td>0.046993</td>\n",
              "      <td>0.024847</td>\n",
              "      <td>21.885974</td>\n",
              "      <td>0.753846</td>\n",
              "      <td>0.498536</td>\n",
              "      <td>0.718099</td>\n",
              "      <td>-5.684397</td>\n",
              "      <td>0.226510</td>\n",
              "      <td>2.381826</td>\n",
              "      <td>0.206552</td>\n",
              "    </tr>\n",
              "    <tr>\n",
              "      <th>std</th>\n",
              "      <td>41.390065</td>\n",
              "      <td>91.491548</td>\n",
              "      <td>43.521413</td>\n",
              "      <td>0.004848</td>\n",
              "      <td>0.000035</td>\n",
              "      <td>0.002968</td>\n",
              "      <td>0.002759</td>\n",
              "      <td>0.008903</td>\n",
              "      <td>0.018857</td>\n",
              "      <td>0.194877</td>\n",
              "      <td>0.010153</td>\n",
              "      <td>0.012024</td>\n",
              "      <td>0.016947</td>\n",
              "      <td>0.030459</td>\n",
              "      <td>0.040418</td>\n",
              "      <td>4.425764</td>\n",
              "      <td>0.431878</td>\n",
              "      <td>0.103942</td>\n",
              "      <td>0.055336</td>\n",
              "      <td>1.090208</td>\n",
              "      <td>0.083406</td>\n",
              "      <td>0.382799</td>\n",
              "      <td>0.090119</td>\n",
              "    </tr>\n",
              "    <tr>\n",
              "      <th>min</th>\n",
              "      <td>88.333000</td>\n",
              "      <td>102.145000</td>\n",
              "      <td>65.476000</td>\n",
              "      <td>0.001680</td>\n",
              "      <td>0.000007</td>\n",
              "      <td>0.000680</td>\n",
              "      <td>0.000920</td>\n",
              "      <td>0.002040</td>\n",
              "      <td>0.009540</td>\n",
              "      <td>0.085000</td>\n",
              "      <td>0.004550</td>\n",
              "      <td>0.005700</td>\n",
              "      <td>0.007190</td>\n",
              "      <td>0.013640</td>\n",
              "      <td>0.000650</td>\n",
              "      <td>8.441000</td>\n",
              "      <td>0.000000</td>\n",
              "      <td>0.256570</td>\n",
              "      <td>0.574282</td>\n",
              "      <td>-7.964984</td>\n",
              "      <td>0.006274</td>\n",
              "      <td>1.423287</td>\n",
              "      <td>0.044539</td>\n",
              "    </tr>\n",
              "    <tr>\n",
              "      <th>25%</th>\n",
              "      <td>117.572000</td>\n",
              "      <td>134.862500</td>\n",
              "      <td>84.291000</td>\n",
              "      <td>0.003460</td>\n",
              "      <td>0.000020</td>\n",
              "      <td>0.001660</td>\n",
              "      <td>0.001860</td>\n",
              "      <td>0.004985</td>\n",
              "      <td>0.016505</td>\n",
              "      <td>0.148500</td>\n",
              "      <td>0.008245</td>\n",
              "      <td>0.009580</td>\n",
              "      <td>0.013080</td>\n",
              "      <td>0.024735</td>\n",
              "      <td>0.005925</td>\n",
              "      <td>19.198000</td>\n",
              "      <td>1.000000</td>\n",
              "      <td>0.421306</td>\n",
              "      <td>0.674758</td>\n",
              "      <td>-6.450096</td>\n",
              "      <td>0.174351</td>\n",
              "      <td>2.099125</td>\n",
              "      <td>0.137451</td>\n",
              "    </tr>\n",
              "    <tr>\n",
              "      <th>50%</th>\n",
              "      <td>148.790000</td>\n",
              "      <td>175.829000</td>\n",
              "      <td>104.315000</td>\n",
              "      <td>0.004940</td>\n",
              "      <td>0.000030</td>\n",
              "      <td>0.002500</td>\n",
              "      <td>0.002690</td>\n",
              "      <td>0.007490</td>\n",
              "      <td>0.022970</td>\n",
              "      <td>0.221000</td>\n",
              "      <td>0.012790</td>\n",
              "      <td>0.013470</td>\n",
              "      <td>0.018260</td>\n",
              "      <td>0.038360</td>\n",
              "      <td>0.011660</td>\n",
              "      <td>22.085000</td>\n",
              "      <td>1.000000</td>\n",
              "      <td>0.495954</td>\n",
              "      <td>0.722254</td>\n",
              "      <td>-5.720868</td>\n",
              "      <td>0.218885</td>\n",
              "      <td>2.361532</td>\n",
              "      <td>0.194052</td>\n",
              "    </tr>\n",
              "    <tr>\n",
              "      <th>75%</th>\n",
              "      <td>182.769000</td>\n",
              "      <td>224.205500</td>\n",
              "      <td>140.018500</td>\n",
              "      <td>0.007365</td>\n",
              "      <td>0.000060</td>\n",
              "      <td>0.003835</td>\n",
              "      <td>0.003955</td>\n",
              "      <td>0.011505</td>\n",
              "      <td>0.037885</td>\n",
              "      <td>0.350000</td>\n",
              "      <td>0.020265</td>\n",
              "      <td>0.022380</td>\n",
              "      <td>0.029400</td>\n",
              "      <td>0.060795</td>\n",
              "      <td>0.025640</td>\n",
              "      <td>25.075500</td>\n",
              "      <td>1.000000</td>\n",
              "      <td>0.587562</td>\n",
              "      <td>0.761881</td>\n",
              "      <td>-5.046192</td>\n",
              "      <td>0.279234</td>\n",
              "      <td>2.636456</td>\n",
              "      <td>0.252980</td>\n",
              "    </tr>\n",
              "    <tr>\n",
              "      <th>max</th>\n",
              "      <td>260.105000</td>\n",
              "      <td>592.030000</td>\n",
              "      <td>239.170000</td>\n",
              "      <td>0.033160</td>\n",
              "      <td>0.000260</td>\n",
              "      <td>0.021440</td>\n",
              "      <td>0.019580</td>\n",
              "      <td>0.064330</td>\n",
              "      <td>0.119080</td>\n",
              "      <td>1.302000</td>\n",
              "      <td>0.056470</td>\n",
              "      <td>0.079400</td>\n",
              "      <td>0.137780</td>\n",
              "      <td>0.169420</td>\n",
              "      <td>0.314820</td>\n",
              "      <td>33.047000</td>\n",
              "      <td>1.000000</td>\n",
              "      <td>0.685151</td>\n",
              "      <td>0.825288</td>\n",
              "      <td>-2.434031</td>\n",
              "      <td>0.450493</td>\n",
              "      <td>3.671155</td>\n",
              "      <td>0.527367</td>\n",
              "    </tr>\n",
              "  </tbody>\n",
              "</table>\n",
              "</div>"
            ],
            "text/plain": [
              "       MDVP:Fo(Hz)  MDVP:Fhi(Hz)  ...          D2         PPE\n",
              "count   195.000000    195.000000  ...  195.000000  195.000000\n",
              "mean    154.228641    197.104918  ...    2.381826    0.206552\n",
              "std      41.390065     91.491548  ...    0.382799    0.090119\n",
              "min      88.333000    102.145000  ...    1.423287    0.044539\n",
              "25%     117.572000    134.862500  ...    2.099125    0.137451\n",
              "50%     148.790000    175.829000  ...    2.361532    0.194052\n",
              "75%     182.769000    224.205500  ...    2.636456    0.252980\n",
              "max     260.105000    592.030000  ...    3.671155    0.527367\n",
              "\n",
              "[8 rows x 23 columns]"
            ]
          },
          "metadata": {},
          "execution_count": 36
        }
      ]
    },
    {
      "cell_type": "code",
      "metadata": {
        "colab": {
          "base_uri": "https://localhost:8080/"
        },
        "id": "JPj4G20KFBRT",
        "outputId": "26da8126-60a9-4efc-b7c6-f32e5a4a7d9f"
      },
      "source": [
        "#distribution of target variable\n",
        "#1 means positive presence of Parkinsons while 0 means negative\n",
        "park_data['status'].value_counts()"
      ],
      "execution_count": 37,
      "outputs": [
        {
          "output_type": "execute_result",
          "data": {
            "text/plain": [
              "1    147\n",
              "0     48\n",
              "Name: status, dtype: int64"
            ]
          },
          "metadata": {},
          "execution_count": 37
        }
      ]
    },
    {
      "cell_type": "code",
      "metadata": {
        "colab": {
          "base_uri": "https://localhost:8080/",
          "height": 163
        },
        "id": "nhXAhY6AFakK",
        "outputId": "2e74061e-09d0-4dc4-8576-ee6391b41cd6"
      },
      "source": [
        "park_data.groupby('status').mean()"
      ],
      "execution_count": 38,
      "outputs": [
        {
          "output_type": "execute_result",
          "data": {
            "text/html": [
              "<div>\n",
              "<style scoped>\n",
              "    .dataframe tbody tr th:only-of-type {\n",
              "        vertical-align: middle;\n",
              "    }\n",
              "\n",
              "    .dataframe tbody tr th {\n",
              "        vertical-align: top;\n",
              "    }\n",
              "\n",
              "    .dataframe thead th {\n",
              "        text-align: right;\n",
              "    }\n",
              "</style>\n",
              "<table border=\"1\" class=\"dataframe\">\n",
              "  <thead>\n",
              "    <tr style=\"text-align: right;\">\n",
              "      <th></th>\n",
              "      <th>MDVP:Fo(Hz)</th>\n",
              "      <th>MDVP:Fhi(Hz)</th>\n",
              "      <th>MDVP:Flo(Hz)</th>\n",
              "      <th>MDVP:Jitter(%)</th>\n",
              "      <th>MDVP:Jitter(Abs)</th>\n",
              "      <th>MDVP:RAP</th>\n",
              "      <th>MDVP:PPQ</th>\n",
              "      <th>Jitter:DDP</th>\n",
              "      <th>MDVP:Shimmer</th>\n",
              "      <th>MDVP:Shimmer(dB)</th>\n",
              "      <th>Shimmer:APQ3</th>\n",
              "      <th>Shimmer:APQ5</th>\n",
              "      <th>MDVP:APQ</th>\n",
              "      <th>Shimmer:DDA</th>\n",
              "      <th>NHR</th>\n",
              "      <th>HNR</th>\n",
              "      <th>RPDE</th>\n",
              "      <th>DFA</th>\n",
              "      <th>spread1</th>\n",
              "      <th>spread2</th>\n",
              "      <th>D2</th>\n",
              "      <th>PPE</th>\n",
              "    </tr>\n",
              "    <tr>\n",
              "      <th>status</th>\n",
              "      <th></th>\n",
              "      <th></th>\n",
              "      <th></th>\n",
              "      <th></th>\n",
              "      <th></th>\n",
              "      <th></th>\n",
              "      <th></th>\n",
              "      <th></th>\n",
              "      <th></th>\n",
              "      <th></th>\n",
              "      <th></th>\n",
              "      <th></th>\n",
              "      <th></th>\n",
              "      <th></th>\n",
              "      <th></th>\n",
              "      <th></th>\n",
              "      <th></th>\n",
              "      <th></th>\n",
              "      <th></th>\n",
              "      <th></th>\n",
              "      <th></th>\n",
              "      <th></th>\n",
              "    </tr>\n",
              "  </thead>\n",
              "  <tbody>\n",
              "    <tr>\n",
              "      <th>0</th>\n",
              "      <td>181.937771</td>\n",
              "      <td>223.636750</td>\n",
              "      <td>145.207292</td>\n",
              "      <td>0.003866</td>\n",
              "      <td>0.000023</td>\n",
              "      <td>0.001925</td>\n",
              "      <td>0.002056</td>\n",
              "      <td>0.005776</td>\n",
              "      <td>0.017615</td>\n",
              "      <td>0.162958</td>\n",
              "      <td>0.009504</td>\n",
              "      <td>0.010509</td>\n",
              "      <td>0.013305</td>\n",
              "      <td>0.028511</td>\n",
              "      <td>0.011483</td>\n",
              "      <td>24.678750</td>\n",
              "      <td>0.442552</td>\n",
              "      <td>0.695716</td>\n",
              "      <td>-6.759264</td>\n",
              "      <td>0.160292</td>\n",
              "      <td>2.154491</td>\n",
              "      <td>0.123017</td>\n",
              "    </tr>\n",
              "    <tr>\n",
              "      <th>1</th>\n",
              "      <td>145.180762</td>\n",
              "      <td>188.441463</td>\n",
              "      <td>106.893558</td>\n",
              "      <td>0.006989</td>\n",
              "      <td>0.000051</td>\n",
              "      <td>0.003757</td>\n",
              "      <td>0.003900</td>\n",
              "      <td>0.011273</td>\n",
              "      <td>0.033658</td>\n",
              "      <td>0.321204</td>\n",
              "      <td>0.017676</td>\n",
              "      <td>0.020285</td>\n",
              "      <td>0.027600</td>\n",
              "      <td>0.053027</td>\n",
              "      <td>0.029211</td>\n",
              "      <td>20.974048</td>\n",
              "      <td>0.516816</td>\n",
              "      <td>0.725408</td>\n",
              "      <td>-5.333420</td>\n",
              "      <td>0.248133</td>\n",
              "      <td>2.456058</td>\n",
              "      <td>0.233828</td>\n",
              "    </tr>\n",
              "  </tbody>\n",
              "</table>\n",
              "</div>"
            ],
            "text/plain": [
              "        MDVP:Fo(Hz)  MDVP:Fhi(Hz)  MDVP:Flo(Hz)  ...   spread2        D2       PPE\n",
              "status                                           ...                              \n",
              "0        181.937771    223.636750    145.207292  ...  0.160292  2.154491  0.123017\n",
              "1        145.180762    188.441463    106.893558  ...  0.248133  2.456058  0.233828\n",
              "\n",
              "[2 rows x 22 columns]"
            ]
          },
          "metadata": {},
          "execution_count": 38
        }
      ]
    },
    {
      "cell_type": "markdown",
      "metadata": {
        "id": "sI1eIDeHGqBF"
      },
      "source": [
        "Data preprocessing"
      ]
    },
    {
      "cell_type": "code",
      "metadata": {
        "id": "VpIUJJHhGECx"
      },
      "source": [
        "X = park_data.drop(columns = ['name','status'], axis =1)\n",
        "Y = park_data['status']"
      ],
      "execution_count": 39,
      "outputs": []
    },
    {
      "cell_type": "code",
      "metadata": {
        "colab": {
          "base_uri": "https://localhost:8080/"
        },
        "id": "S1D7MARBGLuR",
        "outputId": "af1f550f-93b5-4f33-a062-676edd024bd5"
      },
      "source": [
        "print(X.shape,Y.shape)"
      ],
      "execution_count": 40,
      "outputs": [
        {
          "output_type": "stream",
          "name": "stdout",
          "text": [
            "(195, 22) (195,)\n"
          ]
        }
      ]
    },
    {
      "cell_type": "code",
      "metadata": {
        "colab": {
          "base_uri": "https://localhost:8080/"
        },
        "id": "X1RYG9L6HL_A",
        "outputId": "18a38d2e-7982-4b8c-fd2d-8c59e640db82"
      },
      "source": [
        "#splitting the data to training and testing data\n",
        "X_train,X_test,Y_train,Y_test = train_test_split(X,Y, test_size = 0.2, stratify = Y ,random_state = 2)\n",
        "print(X_train.shape,X_test.shape,Y_train.shape,Y_test.shape)"
      ],
      "execution_count": 41,
      "outputs": [
        {
          "output_type": "stream",
          "name": "stdout",
          "text": [
            "(156, 22) (39, 22) (156,) (39,)\n"
          ]
        }
      ]
    },
    {
      "cell_type": "markdown",
      "metadata": {
        "id": "Us-C_6kPIC-q"
      },
      "source": [
        "Standardizing the data"
      ]
    },
    {
      "cell_type": "code",
      "metadata": {
        "colab": {
          "base_uri": "https://localhost:8080/"
        },
        "id": "H8v2FS4uH_8I",
        "outputId": "e21a6b63-54d1-4c67-d1d8-bf2f7f09647b"
      },
      "source": [
        "scaler = StandardScaler()\n",
        "scaler.fit(X_train)"
      ],
      "execution_count": 42,
      "outputs": [
        {
          "output_type": "execute_result",
          "data": {
            "text/plain": [
              "StandardScaler(copy=True, with_mean=True, with_std=True)"
            ]
          },
          "metadata": {},
          "execution_count": 42
        }
      ]
    },
    {
      "cell_type": "code",
      "metadata": {
        "id": "tPM1cqvZIP7P"
      },
      "source": [
        "X_train = scaler.transform(X_train)\n",
        "X_test = scaler.transform(X_test)"
      ],
      "execution_count": 43,
      "outputs": []
    },
    {
      "cell_type": "code",
      "metadata": {
        "colab": {
          "base_uri": "https://localhost:8080/"
        },
        "id": "JkzUMmcyIou7",
        "outputId": "d3acbb51-b25c-415d-f6f7-f9c0615057c5"
      },
      "source": [
        "print(X_train)"
      ],
      "execution_count": 44,
      "outputs": [
        {
          "output_type": "stream",
          "name": "stdout",
          "text": [
            "[[-3.37789850e-01 -1.86151275e-01 -9.11085922e-01 ...  3.02808525e-01\n",
            "   3.67380761e-01 -1.01626972e-01]\n",
            " [ 1.09942206e+00  2.52399879e-01  7.59431971e-01 ...  9.62684763e-01\n",
            "   2.30410182e-01  7.25430092e-03]\n",
            " [-8.75220075e-01 -5.64868721e-01 -3.69947894e-01 ... -1.24083946e-03\n",
            "  -1.27562573e+00 -5.03037967e-01]\n",
            " ...\n",
            " [ 9.67834202e-01  1.38914623e-01 -8.24451036e-01 ...  5.83176337e-01\n",
            "   5.94403638e-01 -2.56870663e-01]\n",
            " [-7.69983726e-01 -6.17537239e-01 -4.08691589e-01 ...  2.01206260e-01\n",
            "  -9.18334164e-01 -4.43401072e-01]\n",
            " [ 1.19847659e+00  4.93351249e-01  1.11785168e+00 ... -1.03979251e-01\n",
            "   5.12603529e-01 -5.39510027e-01]]\n"
          ]
        }
      ]
    },
    {
      "cell_type": "code",
      "metadata": {
        "colab": {
          "base_uri": "https://localhost:8080/"
        },
        "id": "3PPq8IHNIxuY",
        "outputId": "457ccfe3-e3a9-4838-a7c4-9db4244d5ec9"
      },
      "source": [
        "print(X_test)"
      ],
      "execution_count": 45,
      "outputs": [
        {
          "output_type": "stream",
          "name": "stdout",
          "text": [
            "[[ 6.75664548e-01  4.30692802e-02  9.17000470e-01 -4.65043840e-01\n",
            "  -7.49745604e-01 -3.93228335e-01 -3.77439566e-01 -3.94525767e-01\n",
            "   4.45619551e-01  2.19598173e-01  5.21466719e-01  5.50343466e-01\n",
            "   2.33273889e-01  5.21470425e-01  1.16130564e-01 -1.29432625e+00\n",
            "   8.21532645e-01  1.19747938e-01  1.25597046e-02  1.02371713e+00\n",
            "   1.83847640e+00 -9.57975551e-02]\n",
            " [ 2.14053706e+00  5.75095585e-01  2.69990518e+00 -7.34959454e-01\n",
            "  -1.06696913e+00 -6.19284025e-01 -6.30896620e-01 -6.20586823e-01\n",
            "  -6.53557602e-01 -6.64300480e-01 -5.71749737e-01 -6.30067211e-01\n",
            "  -6.80568916e-01 -5.72107026e-01 -4.63775964e-01  2.99892220e-01\n",
            "  -4.08092287e-01 -1.53468433e+00 -1.02431660e+00 -8.41894550e-01\n",
            "  -3.00324761e-01 -1.00212990e+00]\n",
            " [-1.38183818e+00 -9.55917721e-01 -7.26885474e-01  1.56841734e-01\n",
            "   8.36372029e-01  2.13175024e-01  2.32999252e-01  2.14284168e-01\n",
            "   5.35991668e-01  3.84392837e-01  6.79342665e-01  5.16269755e-01\n",
            "   2.32711870e-01  6.79681691e-01 -1.47813603e-01 -6.35730329e-01\n",
            "   4.42804024e-01  8.75799415e-01  1.12314644e+00 -8.79399218e-01\n",
            "   6.88972147e-01  1.29665790e+00]\n",
            " [ 5.23179722e-01  4.78660424e-01 -9.63631913e-01  1.59495213e+00\n",
            "   1.15359556e+00  1.05639863e+00  7.64902082e-01  1.05752779e+00\n",
            "  -3.65627832e-01 -1.54935154e-01 -3.11601952e-01 -3.64779038e-01\n",
            "  -4.46769034e-01 -3.11621114e-01  2.29951855e+00 -9.03835372e-01\n",
            "  -8.97853679e-01 -1.15565864e+00 -1.01851889e+00 -8.39681431e-01\n",
            "   7.74907245e-01 -8.45707221e-01]\n",
            " [-8.24407961e-01 -7.39891602e-01 -6.26772507e-01  1.52523085e-01\n",
            "   5.19148502e-01  2.27527766e-01 -1.77529778e-01  2.27441161e-01\n",
            "  -1.69121018e-01 -2.54810708e-01 -9.71289686e-02 -3.32327886e-01\n",
            "  -2.49500385e-01 -9.74732292e-02  6.19523559e-01 -2.29785050e-03\n",
            "   1.48685008e+00 -1.09106004e+00  1.30802601e+00 -6.35672130e-01\n",
            "   1.93817938e-01  4.17627751e-01]\n",
            " [-7.97292813e-02 -3.57875547e-01  6.68999138e-01 -6.16196584e-01\n",
            "  -7.49745604e-01 -5.58284870e-01 -5.41651178e-01 -5.59586221e-01\n",
            "  -4.51271176e-01 -4.44574261e-01 -4.23803096e-01 -3.84249730e-01\n",
            "  -4.47331053e-01 -4.24156324e-01 -4.85794247e-01  2.68552296e-01\n",
            "  -1.65972644e+00  6.40660486e-01 -5.52850905e-01 -1.42025228e+00\n",
            "  -4.21497494e-01 -5.76724411e-01]\n",
            " [-6.48795865e-01 -6.76660981e-01 -7.23648222e-02 -3.74352194e-01\n",
            "  -1.15298551e-01 -7.12576849e-01 -6.45175890e-01 -7.12685772e-01\n",
            "  -5.10118136e-01 -5.09493371e-01 -4.35718262e-01 -6.94158237e-01\n",
            "  -4.76556039e-01 -4.35740831e-01 -5.19096900e-01  7.31102123e-01\n",
            "   7.84160775e-02  6.96958614e-01 -9.29000327e-01  7.40284091e-01\n",
            "   1.44828350e-01 -1.12664361e+00]\n",
            " [-1.12947458e+00 -9.10993288e-01 -5.27840609e-01 -6.98873813e-02\n",
            "   5.19148502e-01 -1.38467160e-01 -1.09703242e-01 -1.38562455e-01\n",
            "   1.01307238e+00  7.68913720e-01  1.09339467e+00  1.05252505e+00\n",
            "   6.68276552e-01  1.09374507e+00  1.84662470e-01 -1.09210367e+00\n",
            "   1.35139517e+00  4.08530258e-01  3.38124739e-01  1.07676097e+00\n",
            "   6.85711134e-04  3.69868019e-01]\n",
            " [ 7.99555439e-02 -7.40968733e-02  6.23516402e-01  3.16631778e-01\n",
            "   2.01924976e-01  1.52175869e-01  1.75882170e-01  1.52087475e-01\n",
            "   5.20754509e-01  3.04492394e-01  1.38195555e-01  4.53801287e-01\n",
            "   1.03864704e+00  1.38519726e-01  2.76588801e-01 -1.07082913e+00\n",
            "   1.46608150e+00 -6.17684983e-01  1.02002288e+00  1.31098467e+00\n",
            "   1.22450541e+00  1.23261073e+00]\n",
            " [-3.91220145e-01 -3.23032625e-01 -1.15545141e+00  6.51327139e-01\n",
            "   8.36372029e-01  6.36580919e-01  4.04350499e-01  6.35307934e-01\n",
            "   5.62838573e-02  1.04741286e-01  5.57823251e-02 -4.51351849e-02\n",
            "   7.92806981e-02  5.57732478e-02  8.22774541e-02 -4.24357411e-01\n",
            "  -1.31278341e-02  1.43109626e-01  3.16894142e-01 -2.80993239e-01\n",
            "  -2.11731274e-01  1.86110404e-01]\n",
            " [-5.85862541e-01  3.09670738e+00 -6.40250589e-01 -8.71619806e-02\n",
            "   2.01924976e-01 -3.17876438e-01 -1.27552331e-01 -3.17975991e-01\n",
            "  -5.23253619e-01 -3.29717374e-01 -7.27639822e-01 -5.65976184e-01\n",
            "  -4.09113765e-01 -7.27339419e-01 -2.76816394e-03  6.65448413e-01\n",
            "  -1.14499211e-01 -6.52196567e-01 -4.69727179e-01  5.98017250e-01\n",
            "   7.91345545e-01 -6.19735461e-01]\n",
            " [ 2.40844005e+00  7.13298562e-01  1.54901134e+00 -9.42254645e-01\n",
            "  -1.16213619e+00 -8.52516085e-01 -8.45085679e-01 -8.52628331e-01\n",
            "  -9.73012530e-01 -9.18983143e-01 -9.60978485e-01 -8.79941086e-01\n",
            "  -9.00318323e-01 -9.61346458e-01 -5.30656498e-01  1.13714858e+00\n",
            "   1.08326950e+00 -1.51810107e+00 -1.50453457e+00 -3.37646709e-01\n",
            "  -8.80003547e-01 -1.34055263e+00]\n",
            " [ 5.74961532e-01  2.08742461e-01 -7.39599334e-01 -3.48440295e-01\n",
            "  -4.32522078e-01 -4.32698376e-01 -4.59545372e-01 -4.31604565e-01\n",
            "  -9.64080402e-01 -8.49070255e-01 -1.04041292e+00 -9.61068968e-01\n",
            "  -7.63185700e-01 -1.04012110e+00 -3.30014895e-01  1.21973043e+00\n",
            "  -9.70914923e-01 -1.14682722e+00  8.77096851e-01  6.17958988e-01\n",
            "   7.13840539e-01  2.79577564e-01]\n",
            " [-8.28565536e-02 -3.91178390e-01  4.10136603e-01 -7.86783252e-01\n",
            "  -7.49745604e-01 -7.66399632e-01 -7.70119508e-01 -7.65313743e-01\n",
            "  -8.71081188e-01 -8.04126255e-01 -9.15303683e-01 -8.08548550e-01\n",
            "  -7.88476553e-01 -9.15670402e-01 -4.90473132e-01  1.27806386e+00\n",
            "  -1.30891720e+00 -1.78205479e-02 -1.21044246e+00 -2.26328024e-01\n",
            "  -9.66985735e-01 -1.05148344e+00]\n",
            " [ 6.56755460e-01  5.53462222e-02  1.37926161e+00 -7.28481479e-01\n",
            "  -7.49745604e-01 -6.33636767e-01 -6.55885343e-01 -6.33743816e-01\n",
            "  -8.19590098e-01 -7.79157367e-01 -8.49770271e-01 -7.54192870e-01\n",
            "  -7.14852071e-01 -8.50135192e-01 -5.85977434e-01  1.12182176e+00\n",
            "  -9.33832361e-01  8.00457971e-01 -7.12528220e-01 -2.02480783e-01\n",
            "  -2.68050494e-01 -7.34347901e-01]\n",
            " [-8.91268557e-01  4.20635069e+00 -5.01417085e-01 -7.65190003e-01\n",
            "  -7.49745604e-01 -7.69987818e-01 -7.20142061e-01 -7.70098104e-01\n",
            "  -8.95250475e-01 -8.49070255e-01 -9.44098667e-01 -8.32075636e-01\n",
            "  -7.40704943e-01 -9.44466176e-01 -4.62399821e-01  7.29500813e-01\n",
            "   2.83376360e-01 -1.01051531e+00 -6.27580269e-01 -1.33457973e+00\n",
            "  -5.66204342e-01 -7.67763339e-01]\n",
            " [-9.42274610e-01 -7.84116991e-01 -9.00294193e-01 -8.71619806e-02\n",
            "   2.01924976e-01 -1.09761676e-01 -1.20412695e-01 -1.11052379e-01\n",
            "   5.28110379e-01  5.94131501e-01 -2.80057314e-03  1.45515337e-01\n",
            "   9.28491324e-01 -3.14224445e-03 -7.90064688e-02 -3.19585986e-01\n",
            "   1.50110283e+00 -4.67409155e-01  4.43427696e-01  3.52988328e-01\n",
            "  -5.68649246e-01  3.90260060e-01]\n",
            " [-8.00698873e-01 -7.59661410e-01 -2.36927103e-01 -7.58712028e-01\n",
            "  -7.49745604e-01 -7.66399632e-01 -7.66549691e-01 -7.65313743e-01\n",
            "  -1.04131704e+00 -9.83902253e-01 -1.09800289e+00 -9.95142678e-01\n",
            "  -8.76151508e-01 -1.09804364e+00 -5.15518929e-01  1.03740985e+00\n",
            "  -7.94388011e-02 -3.79080600e-02 -2.01236322e-01 -3.95602014e-01\n",
            "  -6.76021737e-01 -2.79751668e-01]\n",
            " [ 4.34767613e-01  1.32503089e-01 -9.35517839e-01 -3.59236919e-01\n",
            "  -4.32522078e-01 -2.85582768e-01 -4.13137743e-01 -2.85681555e-01\n",
            "  -5.45321229e-01 -5.04499593e-01 -6.87922603e-01 -5.23789686e-01\n",
            "  -3.31555151e-01 -6.88283081e-01 -3.48179978e-01  9.31952147e-01\n",
            "  -7.89859021e-01 -1.14879785e-03 -4.67409919e-01 -3.69821139e-02\n",
            "   5.45996048e-01 -6.74590924e-01]\n",
            " [ 1.35847657e+00  4.51233910e-01 -1.50963806e-01 -7.32800129e-01\n",
            "  -1.06696913e+00 -6.55165880e-01 -7.05862790e-01 -6.54077350e-01\n",
            "  -6.00490254e-01 -5.84400037e-01 -6.02530582e-01 -4.51585871e-01\n",
            "  -6.06944434e-01 -6.02557730e-01 -4.09831171e-01  8.50971613e-01\n",
            "  -1.54043899e+00 -7.45218561e-01 -1.24979845e+00 -1.92208581e+00\n",
            "   2.18371186e-01 -1.17551683e+00]\n",
            " [ 1.33275536e+00  6.29249569e-01 -5.58015764e-01  2.92879204e-01\n",
            "  -1.15298551e-01  3.53114260e-01  2.79406882e-01  3.54226727e-01\n",
            "   1.95514917e+00  1.41810482e+00  2.41697100e+00  1.77537448e+00\n",
            "   1.12519795e+00  2.41669575e+00  5.16863314e-01 -1.41511077e+00\n",
            "   1.04396940e+00 -9.74039216e-01  2.38591195e-01  7.04341624e-01\n",
            "   7.37702505e-01  2.45889213e-01]\n",
            " [-9.14589766e-01 -7.98141541e-01 -1.68216677e-01 -6.24833883e-01\n",
            "  -4.32522078e-01 -6.08519468e-01 -5.38081361e-01 -6.08625921e-01\n",
            "  -7.88590360e-01 -7.49194701e-01 -7.64378250e-01 -7.15251486e-01\n",
            "  -7.46887151e-01 -7.64409841e-01 -5.39188583e-01  9.54141728e-01\n",
            "  -9.13249390e-01  7.12780848e-01 -2.69455809e-01 -3.72382020e-01\n",
            "  -1.01662086e+00 -2.74347995e-01]\n",
            " [-1.92311083e-01  2.10494270e-02 -8.16577243e-01  2.41055406e-01\n",
            "   2.01924976e-01  3.02879663e-01  2.57987976e-01  3.02794846e-01\n",
            "  -3.37255190e-01 -2.69792041e-01 -3.44368658e-01 -2.59312792e-01\n",
            "  -2.91089787e-01 -3.44057733e-01 -1.33776948e-01 -6.81024526e-01\n",
            "   1.34850359e+00  2.57776578e-01  7.06500796e-02 -1.20068014e+00\n",
            "  -1.54753625e+00  1.47564206e-01]\n",
            " [ 1.14282812e-01 -2.53477850e-01 -1.09994117e+00 -5.68691436e-01\n",
            "  -7.49745604e-01 -4.79344788e-01 -5.48790814e-01 -4.80644265e-01\n",
            "   3.74162527e-01  9.97475084e-02  4.76784848e-01  4.10803509e-01\n",
            "   1.69765748e-01  4.76456341e-01 -4.15610970e-01  8.80617844e-02\n",
            "   2.83604801e-02 -1.55937679e-01 -5.29345047e-01 -4.89334098e-01\n",
            "  -5.87125814e-01 -5.28211439e-01]\n",
            " [ 1.48320382e+00  7.00082281e-01 -8.78270730e-01 -1.17392529e-01\n",
            "  -4.32522078e-01 -1.24114418e-01 -1.16842878e-01 -1.24209372e-01\n",
            "  -5.88405611e-01 -4.84524483e-01 -5.51891128e-01 -5.30279917e-01\n",
            "  -6.12002604e-01 -5.51916886e-01  5.60899880e-01 -1.42984371e-01\n",
            "  -3.58261373e-01 -1.00214403e+00 -4.78433656e-02 -4.58433281e-01\n",
            "   4.59013860e-01 -6.61862273e-01]\n",
            " [-6.80504951e-01 -5.70548445e-01  6.69732630e-03  1.42220613e+00\n",
            "   1.78804261e+00  1.48339271e+00  9.75521324e-01  1.48213983e+00\n",
            "   4.63483806e-01  2.74529728e-01  5.49268773e-01  2.91545524e-01\n",
            "   3.51859886e-01  5.49604228e-01  1.59383258e+00 -1.48602593e+00\n",
            "   1.27089983e+00 -1.14966234e-01  1.50796596e+00  4.25015280e-01\n",
            "   7.54710096e-01  1.43469717e+00]\n",
            " [ 8.01361499e-01  1.68442467e-02  1.42854230e+00 -6.98250930e-01\n",
            "  -7.49745604e-01 -5.90578540e-01 -6.23756984e-01 -5.89488477e-01\n",
            "  -7.92793714e-01 -7.59182256e-01 -8.02109608e-01 -7.08761256e-01\n",
            "  -6.90685257e-01 -8.02473220e-01 -5.85977434e-01  1.14103748e+00\n",
            "  -1.68998058e+00  7.90086798e-01 -8.90861399e-01 -3.35019370e-01\n",
            "  -2.02096617e-03 -8.58523204e-01]\n",
            " [-8.51971593e-01 -6.76901277e-01 -3.50633943e-01  2.57312631e+00\n",
            "   3.37416024e+00  2.82537411e+00  1.31465400e+00  2.82534917e+00\n",
            "   1.00256400e+00  7.53932387e-01  1.02091075e+00  2.80998899e-01\n",
            "   2.55192628e-01  1.02092817e+00  2.30860109e+00 -6.31155158e-01\n",
            "   1.28040493e+00 -1.31311996e+00  2.03347093e+00  8.73544605e-01\n",
            "   1.49871088e+00  5.68821417e-01]\n",
            " [-8.78250377e-01 -7.02154204e-01 -1.79355779e-01  3.59818276e-01\n",
            "   8.36372029e-01  1.58248183e-02  5.11445029e-01  1.69292773e-02\n",
            "  -1.88561531e-01 -1.09991155e-01 -1.86492712e-01 -1.53846546e-01\n",
            "  -1.82620130e-01 -1.86177453e-01 -4.33225596e-01  1.75905075e-01\n",
            "   3.96343364e-01  1.63622236e+00  1.09097505e+00  3.93274188e-01\n",
            "  -1.39236612e+00  1.27721560e+00]\n",
            " [-2.65208042e-01  2.32357006e-01 -7.58172223e-01 -5.44938862e-01\n",
            "  -4.32522078e-01 -6.19284025e-01 -5.23802090e-01 -6.19390733e-01\n",
            "  -7.88590360e-01 -8.04126255e-01 -8.04095469e-01 -7.51759033e-01\n",
            "  -6.19870869e-01 -8.04128150e-01 -4.18638484e-01  7.64272115e-01\n",
            "   6.49112408e-01 -1.11031573e+00  3.02704803e-01 -2.27440501e-01\n",
            "  -4.30329141e-01  2.77175931e-01]\n",
            " [ 1.84955529e+00  6.12090249e-01  2.43759207e+00 -8.99068147e-01\n",
            "  -1.09869148e+00 -7.73576003e-01 -8.45085679e-01 -7.73686375e-01\n",
            "  -8.12759647e-01 -7.89144922e-01 -8.07074261e-01 -6.95780795e-01\n",
            "  -8.12643368e-01 -8.06776037e-01 -5.66986665e-01  1.04793274e+00\n",
            "  -2.17480870e+00 -8.37921987e-01 -1.66591559e+00 -2.04220963e+00\n",
            "  -9.45014632e-01 -1.48046954e+00]\n",
            " [-2.96444401e-02 -4.19609778e-01  4.13448227e-01 -7.84623927e-01\n",
            "  -7.49745604e-01 -7.69987818e-01 -8.12957320e-01 -7.68902014e-01\n",
            "  -8.16437582e-01 -7.49194701e-01 -9.42112806e-01 -8.32886915e-01\n",
            "  -6.71576612e-01 -9.42480261e-01 -4.68179620e-01  1.14355382e+00\n",
            "  -1.03465668e+00 -3.66971594e-01 -8.47624133e-01  2.33965150e-01\n",
            "   3.15854775e-01 -1.13414325e+00]\n",
            " [-7.44407972e-01 -5.19168787e-01 -4.81413286e-02  7.48496760e-01\n",
            "   1.15359556e+00  4.85877126e-01  1.23611801e+00  4.84600563e-01\n",
            "   1.64462637e+00  1.69276260e+00  1.54120632e+00  2.19318307e+00\n",
            "   1.07124414e+00  1.54156900e+00 -1.18639378e-01 -6.28867572e-01\n",
            "  -4.01674151e-01  1.74398700e+00  1.45761257e+00  1.25671000e+00\n",
            "   2.84612348e-01  1.74091620e+00]\n",
            " [-1.17208064e-01 -3.40705304e-01  6.11404656e-01 -3.50599620e-01\n",
            "  -4.32522078e-01 -2.85582768e-01 -3.34601755e-01 -2.85681555e-01\n",
            "   6.23211270e-01  4.79274614e-01  7.95515531e-01  5.73059273e-01\n",
            "   3.31065185e-01  7.95857746e-01 -1.22767806e-01 -6.98638936e-01\n",
            "  -4.39919207e-01  2.39335003e-01 -2.56015151e-01 -1.67537634e+00\n",
            "  -7.75969878e-02 -2.47908208e-01]\n",
            " [-6.65838287e-01 -6.01983533e-01  1.03794826e-02  5.81859165e+00\n",
            "   6.86361903e+00  6.51044067e+00  4.18478739e+00  6.51169931e+00\n",
            "   3.24400269e+00  3.01611369e+00  3.74948370e+00  2.41466218e+00\n",
            "   2.09861477e+00  3.74957602e+00  8.01518958e+00 -2.96632263e+00\n",
            "   1.67850518e+00 -1.13507558e+00  1.79967598e+00  3.67805571e-01\n",
            "   1.56604742e+00  1.76588226e+00]\n",
            " [ 1.15411296e+00  3.03648466e-01 -6.07018549e-01 -7.88984102e-04\n",
            "  -4.32522078e-01  1.48587684e-01 -4.54465247e-02  1.47303114e-01\n",
            "  -3.77187056e-01 -3.99630262e-01 -3.87064668e-01 -3.04744406e-01\n",
            "  -3.42795530e-01 -3.87085902e-01 -4.55794336e-01  3.21395525e-01\n",
            "  -6.19275328e-01  1.21800934e-01  3.77385776e-01  3.20146594e-01\n",
            "   4.47536532e-01  2.54589672e-01]\n",
            " [ 5.75785775e-01  1.02433319e-01 -9.39153679e-01  2.71285955e-01\n",
            "  -1.15298551e-01  3.17232405e-01  2.50848340e-01  3.17147929e-01\n",
            "   9.41089940e-01  7.38951054e-01  1.08942295e+00  9.79509959e-01\n",
            "   5.89031881e-01  1.08944225e+00  8.55944872e-01 -1.81658206e+00\n",
            "   5.56992134e-01  1.52295017e-01  3.49454480e-01  1.34527025e+00\n",
            "   1.84113224e+00  3.59377253e-01]\n",
            " [ 2.18987039e+00  5.97792636e-01  2.69879359e+00 -8.88271523e-01\n",
            "  -1.09869148e+00 -7.91516931e-01 -7.59410055e-01 -7.91627729e-01\n",
            "  -8.32725580e-01 -8.04126255e-01 -7.99130817e-01 -7.43646245e-01\n",
            "  -8.03089046e-01 -7.99494347e-01 -5.24601471e-01  8.08422519e-01\n",
            "  -5.97666628e-01 -1.51666751e+00 -1.26564950e+00 -1.63078259e+00\n",
            "  -1.12211959e-01 -1.28518409e+00]\n",
            " [ 4.77858516e-02 -3.54391255e-01  6.54224196e-01 -9.78963169e-01\n",
            "  -1.06696913e+00 -9.38632539e-01 -9.20051850e-01 -9.38746829e-01\n",
            "  -1.01924943e+00 -9.48945809e-01 -1.05232809e+00 -9.59446410e-01\n",
            "  -8.62101035e-01 -1.05203660e+00 -5.85426977e-01  1.80992754e+00\n",
            "  -1.61484834e+00 -7.61925708e-01 -1.19564961e+00 -5.30827114e-01\n",
            "  -6.22521020e-01 -1.11781215e+00]]\n"
          ]
        }
      ]
    },
    {
      "cell_type": "code",
      "metadata": {
        "colab": {
          "base_uri": "https://localhost:8080/"
        },
        "id": "d-TQC8XHHhKI",
        "outputId": "256658f7-0dcb-476b-bdbe-9a083f952b75"
      },
      "source": [
        "#making the model\n",
        "classifier = svm.SVC()\n",
        "classifier.fit(X_train,Y_train)"
      ],
      "execution_count": 46,
      "outputs": [
        {
          "output_type": "execute_result",
          "data": {
            "text/plain": [
              "SVC(C=1.0, break_ties=False, cache_size=200, class_weight=None, coef0=0.0,\n",
              "    decision_function_shape='ovr', degree=3, gamma='scale', kernel='rbf',\n",
              "    max_iter=-1, probability=False, random_state=None, shrinking=True,\n",
              "    tol=0.001, verbose=False)"
            ]
          },
          "metadata": {},
          "execution_count": 46
        }
      ]
    },
    {
      "cell_type": "code",
      "metadata": {
        "colab": {
          "base_uri": "https://localhost:8080/"
        },
        "id": "NDQDsCjCHypH",
        "outputId": "0e131583-12b2-4bd2-d805-5238ce26868c"
      },
      "source": [
        "#making predictions\n",
        "train_pred = classifier.predict(X_train)\n",
        "score_1 = accuracy_score(Y_train,train_pred)\n",
        "print('Accuracy score on training data:',score_1)"
      ],
      "execution_count": 47,
      "outputs": [
        {
          "output_type": "stream",
          "name": "stdout",
          "text": [
            "Accuracy score on training data: 0.8846153846153846\n"
          ]
        }
      ]
    },
    {
      "cell_type": "code",
      "metadata": {
        "colab": {
          "base_uri": "https://localhost:8080/"
        },
        "id": "x4m_tKKnI2B3",
        "outputId": "326da88e-68b5-4152-b6c1-605dbe5fa362"
      },
      "source": [
        "#test data\n",
        "test_data = classifier.predict(X_test)\n",
        "score_2 = accuracy_score(Y_test,test_data)\n",
        "print('Accuracy score on training data:',score_2)"
      ],
      "execution_count": 48,
      "outputs": [
        {
          "output_type": "stream",
          "name": "stdout",
          "text": [
            "Accuracy score on training data: 0.8717948717948718\n"
          ]
        }
      ]
    },
    {
      "cell_type": "code",
      "metadata": {
        "colab": {
          "base_uri": "https://localhost:8080/"
        },
        "id": "oalGi_9eKuHa",
        "outputId": "99ea28fa-176d-4ab6-9061-685dc4fd14f3"
      },
      "source": [
        "#Making a prediction system\n",
        "input_data = [119.99200,157.30200,74.99700,0.00784,0.00007,0.00370,0.00554,0.01109,0.04374,0.42600,0.02182,0.03130,0.02971,0.06545,0.02211,21.03300,0.414783,0.815285,-4.813031,0.266482,2.301442,0.284654]\n",
        "\n",
        "#changing to numpy array\n",
        "input_data_as_np = np.asarray(input_data)\n",
        "\n",
        "#reshaping\n",
        "input_data_as_np_reshaped = input_data_as_np.reshape(1,-1)\n",
        "\n",
        "#standardize the data\n",
        "input_data_standard = scaler.transform(input_data_as_np_reshaped)\n",
        "\n",
        "#fitting the data to the model\n",
        "prediction = classifier.predict(input_data_standard)\n",
        "if (prediction[0]==1):\n",
        "  print(prediction,'Person has Parkinsons')\n",
        "else:\n",
        "  print(prediction,'Person is Parkinson Free')"
      ],
      "execution_count": 49,
      "outputs": [
        {
          "output_type": "stream",
          "name": "stdout",
          "text": [
            "[1] Person has Parkinsons\n"
          ]
        }
      ]
    },
    {
      "cell_type": "code",
      "metadata": {
        "colab": {
          "base_uri": "https://localhost:8080/"
        },
        "id": "IoxZCvwWMupy",
        "outputId": "b9218ce0-1e19-42a0-ddf7-3358a7e7f311"
      },
      "source": [
        "#Making a prediction system\n",
        "input_data = [214.28900,260.27700,77.97300,0.00567,0.00003,0.00295,0.00317,0.00885,0.01884,0.19000,0.01026,0.01161,0.01373,0.03078,0.04398,21.20900,0.462803,0.664357,-5.724056,0.190667,2.555477,0.148569]\n",
        "\n",
        "#changing to numpy array\n",
        "input_data_as_np = np.asarray(input_data)\n",
        "\n",
        "#reshaping\n",
        "input_data_as_np_reshaped = input_data_as_np.reshape(1,-1)\n",
        "\n",
        "#standardize the data\n",
        "input_data_standard = scaler.transform(input_data_as_np_reshaped)\n",
        "\n",
        "#fitting the data to the model\n",
        "prediction = classifier.predict(input_data_standard)\n",
        "if (prediction[0]==1):\n",
        "  print(prediction,'Person has Parkinsons')\n",
        "else:\n",
        "  print(prediction,'Person is Parkinson Free')"
      ],
      "execution_count": 50,
      "outputs": [
        {
          "output_type": "stream",
          "name": "stdout",
          "text": [
            "[1] Person has Parkinsons\n"
          ]
        }
      ]
    }
  ]
}