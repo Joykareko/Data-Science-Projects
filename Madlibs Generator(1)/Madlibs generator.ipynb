{
 "cells": [
  {
   "cell_type": "markdown",
   "id": "4b849351",
   "metadata": {},
   "source": [
    "# MadLibs Generator"
   ]
  },
  {
   "cell_type": "markdown",
   "id": "c97344f7",
   "metadata": {},
   "source": [
    "Think of this as a game.\n",
    "This game will allow you to input a number of strings and form a story so that you sort of write your own novel or short story or essay, whatever you want to call it, if you like."
   ]
  },
  {
   "cell_type": "code",
   "execution_count": 82,
   "id": "7b755c77",
   "metadata": {},
   "outputs": [
    {
     "name": "stdout",
     "output_type": "stream",
     "text": [
      "Enter the name of any animal that comes to mind: cat\n",
      "Enter the name of any verb that comes to mind: go\n",
      "Enter the name of any profession that comes to mind: farmer\n",
      "Enter the name of any food that comes to mind: fish\n",
      "Enter the name of any fruit that comes to mind: fenugreek\n"
     ]
    }
   ],
   "source": [
    "animal = input('Enter the name of any animal that comes to mind: ')\n",
    "verb = input('Enter the name of any verb that comes to mind: ')\n",
    "profession = input('Enter the name of any profession that comes to mind: ')\n",
    "food = input('Enter the name of any food that comes to mind: ')\n",
    "fruit = input('Enter the name of any fruit that comes to mind: ')"
   ]
  },
  {
   "cell_type": "code",
   "execution_count": 84,
   "id": "680f4cd6",
   "metadata": {},
   "outputs": [
    {
     "name": "stdout",
     "output_type": "stream",
     "text": [
      "Once upon a time there was a cat.The cat go to the farmer could you please give me some piece of fish?.The farmer said, ofcourse,take some fenugreek.\n"
     ]
    }
   ],
   "source": [
    "story = f\"Once upon a time there was a {animal}.The {animal} {verb} to the {profession} could you please give me some piece of {food}?.The {profession} said, ofcourse,take some {fruit}.\"\n",
    "print(story)"
   ]
  },
  {
   "cell_type": "code",
   "execution_count": null,
   "id": "3b8bab40",
   "metadata": {},
   "outputs": [],
   "source": []
  }
 ],
 "metadata": {
  "kernelspec": {
   "display_name": "Python 3",
   "language": "python",
   "name": "python3"
  },
  "language_info": {
   "codemirror_mode": {
    "name": "ipython",
    "version": 3
   },
   "file_extension": ".py",
   "mimetype": "text/x-python",
   "name": "python",
   "nbconvert_exporter": "python",
   "pygments_lexer": "ipython3",
   "version": "3.8.8"
  }
 },
 "nbformat": 4,
 "nbformat_minor": 5
}
