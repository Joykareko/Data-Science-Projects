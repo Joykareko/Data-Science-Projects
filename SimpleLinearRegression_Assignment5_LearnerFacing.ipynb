{
  "cells": [
    {
      "cell_type": "markdown",
      "metadata": {
        "id": "view-in-github",
        "colab_type": "text"
      },
      "source": [
        "<a href=\"https://colab.research.google.com/github/Joykareko/Data-Science-Projects/blob/main/SimpleLinearRegression_Assignment5_LearnerFacing.ipynb\" target=\"_parent\"><img src=\"https://colab.research.google.com/assets/colab-badge.svg\" alt=\"Open In Colab\"/></a>"
      ]
    },
    {
      "cell_type": "markdown",
      "id": "60359d86-93e3-495b-8a5a-263735b55320",
      "metadata": {
        "id": "60359d86-93e3-495b-8a5a-263735b55320"
      },
      "source": [
        "# Activity: Run simple linear regression"
      ]
    },
    {
      "cell_type": "markdown",
      "id": "1ffc2b1e-7061-4100-b7a7-b7bed589c55e",
      "metadata": {
        "id": "1ffc2b1e-7061-4100-b7a7-b7bed589c55e"
      },
      "source": [
        "## Introduction\n",
        "\n",
        "In this lab, you will explore a marketing and sales dataset and conduct simple linear regression. Linear regression is one of the approaches for modeling the relationship between two variables. This activity will deepen your understanding of linear regression and prepare you for future scenarios where you will use regression to draw insights about the relationship between variables.\n",
        "\n",
        "For this activity, imagine that you are part of an analytics team that provides insights about marketing and sales. You have been assigned to a project that focuses on the use of influencer marketing, and you would like to explore the relationship between radio promotion budget and sales. The dataset provided includes information about marketing campaigns across TV, radio, and social media, as well as how much revenue in sales was generated from these campaigns. Based on your analysis, leaders in your company will make decisions about where to focus future marketing efforts, so it is critical to have a clear understanding of the relationship between types of marketing and the revenue they generate."
      ]
    },
    {
      "cell_type": "markdown",
      "id": "92b22e4b-fcb0-4f99-98fb-f639669dce2d",
      "metadata": {
        "id": "92b22e4b-fcb0-4f99-98fb-f639669dce2d"
      },
      "source": [
        "## Step 1. Imports"
      ]
    },
    {
      "cell_type": "code",
      "execution_count": null,
      "id": "ac02e2f5-e96d-4046-b8b8-a46cb06939f6",
      "metadata": {
        "id": "ac02e2f5-e96d-4046-b8b8-a46cb06939f6"
      },
      "outputs": [],
      "source": [
        "# Import relevant Python libraries and modules\n",
        "import pandas as pd\n",
        "### YOUR CODE HERE ###\n",
        "import numpy as np\n",
        "import matplotlib.pyplot as plt\n",
        "import seaborn as sb"
      ]
    },
    {
      "cell_type": "markdown",
      "id": "a1cc0f65-3243-4915-ae6a-e9f050c08e3a",
      "metadata": {
        "id": "a1cc0f65-3243-4915-ae6a-e9f050c08e3a"
      },
      "source": [
        "### Import relevant packages.\n",
        "\n",
        "In this section, you will start by importing relevant libraries and modules."
      ]
    },
    {
      "cell_type": "markdown",
      "id": "e385eecf-7003-44da-87bb-1a2e1a9f9de3",
      "metadata": {
        "id": "e385eecf-7003-44da-87bb-1a2e1a9f9de3"
      },
      "source": [
        "### Now load the dataset into a DataFrame. \n",
        "\n",
        "The dataset provided is a csv file (named `marketing_sales_data.csv`) containing information about promotional marketing conducted in collaboration with influencers, along with the corresponding sales. This is a fictional dataset that was created for educational purposes and modified for this lab. Assume that the numerical variables in the data are expressed in millions of dollars."
      ]
    },
    {
      "cell_type": "code",
      "execution_count": null,
      "id": "d285e184-40f6-401a-98b6-f266e7a65e48",
      "metadata": {
        "id": "d285e184-40f6-401a-98b6-f266e7a65e48",
        "colab": {
          "base_uri": "https://localhost:8080/",
          "height": 112
        },
        "outputId": "5d997982-12d4-4282-eaaa-5dc6a015696b"
      },
      "outputs": [
        {
          "output_type": "execute_result",
          "data": {
            "text/plain": [
              "    TV     Radio  Social Media Influencer      Sales\n",
              "0  Low  3.518070      2.293790      Micro  55.261284\n",
              "1  Low  7.756876      2.572287       Mega  67.574904"
            ],
            "text/html": [
              "\n",
              "  <div id=\"df-af3092ca-4bf4-44ca-89a9-9cb6338c811e\">\n",
              "    <div class=\"colab-df-container\">\n",
              "      <div>\n",
              "<style scoped>\n",
              "    .dataframe tbody tr th:only-of-type {\n",
              "        vertical-align: middle;\n",
              "    }\n",
              "\n",
              "    .dataframe tbody tr th {\n",
              "        vertical-align: top;\n",
              "    }\n",
              "\n",
              "    .dataframe thead th {\n",
              "        text-align: right;\n",
              "    }\n",
              "</style>\n",
              "<table border=\"1\" class=\"dataframe\">\n",
              "  <thead>\n",
              "    <tr style=\"text-align: right;\">\n",
              "      <th></th>\n",
              "      <th>TV</th>\n",
              "      <th>Radio</th>\n",
              "      <th>Social Media</th>\n",
              "      <th>Influencer</th>\n",
              "      <th>Sales</th>\n",
              "    </tr>\n",
              "  </thead>\n",
              "  <tbody>\n",
              "    <tr>\n",
              "      <th>0</th>\n",
              "      <td>Low</td>\n",
              "      <td>3.518070</td>\n",
              "      <td>2.293790</td>\n",
              "      <td>Micro</td>\n",
              "      <td>55.261284</td>\n",
              "    </tr>\n",
              "    <tr>\n",
              "      <th>1</th>\n",
              "      <td>Low</td>\n",
              "      <td>7.756876</td>\n",
              "      <td>2.572287</td>\n",
              "      <td>Mega</td>\n",
              "      <td>67.574904</td>\n",
              "    </tr>\n",
              "  </tbody>\n",
              "</table>\n",
              "</div>\n",
              "      <button class=\"colab-df-convert\" onclick=\"convertToInteractive('df-af3092ca-4bf4-44ca-89a9-9cb6338c811e')\"\n",
              "              title=\"Convert this dataframe to an interactive table.\"\n",
              "              style=\"display:none;\">\n",
              "        \n",
              "  <svg xmlns=\"http://www.w3.org/2000/svg\" height=\"24px\"viewBox=\"0 0 24 24\"\n",
              "       width=\"24px\">\n",
              "    <path d=\"M0 0h24v24H0V0z\" fill=\"none\"/>\n",
              "    <path d=\"M18.56 5.44l.94 2.06.94-2.06 2.06-.94-2.06-.94-.94-2.06-.94 2.06-2.06.94zm-11 1L8.5 8.5l.94-2.06 2.06-.94-2.06-.94L8.5 2.5l-.94 2.06-2.06.94zm10 10l.94 2.06.94-2.06 2.06-.94-2.06-.94-.94-2.06-.94 2.06-2.06.94z\"/><path d=\"M17.41 7.96l-1.37-1.37c-.4-.4-.92-.59-1.43-.59-.52 0-1.04.2-1.43.59L10.3 9.45l-7.72 7.72c-.78.78-.78 2.05 0 2.83L4 21.41c.39.39.9.59 1.41.59.51 0 1.02-.2 1.41-.59l7.78-7.78 2.81-2.81c.8-.78.8-2.07 0-2.86zM5.41 20L4 18.59l7.72-7.72 1.47 1.35L5.41 20z\"/>\n",
              "  </svg>\n",
              "      </button>\n",
              "      \n",
              "  <style>\n",
              "    .colab-df-container {\n",
              "      display:flex;\n",
              "      flex-wrap:wrap;\n",
              "      gap: 12px;\n",
              "    }\n",
              "\n",
              "    .colab-df-convert {\n",
              "      background-color: #E8F0FE;\n",
              "      border: none;\n",
              "      border-radius: 50%;\n",
              "      cursor: pointer;\n",
              "      display: none;\n",
              "      fill: #1967D2;\n",
              "      height: 32px;\n",
              "      padding: 0 0 0 0;\n",
              "      width: 32px;\n",
              "    }\n",
              "\n",
              "    .colab-df-convert:hover {\n",
              "      background-color: #E2EBFA;\n",
              "      box-shadow: 0px 1px 2px rgba(60, 64, 67, 0.3), 0px 1px 3px 1px rgba(60, 64, 67, 0.15);\n",
              "      fill: #174EA6;\n",
              "    }\n",
              "\n",
              "    [theme=dark] .colab-df-convert {\n",
              "      background-color: #3B4455;\n",
              "      fill: #D2E3FC;\n",
              "    }\n",
              "\n",
              "    [theme=dark] .colab-df-convert:hover {\n",
              "      background-color: #434B5C;\n",
              "      box-shadow: 0px 1px 3px 1px rgba(0, 0, 0, 0.15);\n",
              "      filter: drop-shadow(0px 1px 2px rgba(0, 0, 0, 0.3));\n",
              "      fill: #FFFFFF;\n",
              "    }\n",
              "  </style>\n",
              "\n",
              "      <script>\n",
              "        const buttonEl =\n",
              "          document.querySelector('#df-af3092ca-4bf4-44ca-89a9-9cb6338c811e button.colab-df-convert');\n",
              "        buttonEl.style.display =\n",
              "          google.colab.kernel.accessAllowed ? 'block' : 'none';\n",
              "\n",
              "        async function convertToInteractive(key) {\n",
              "          const element = document.querySelector('#df-af3092ca-4bf4-44ca-89a9-9cb6338c811e');\n",
              "          const dataTable =\n",
              "            await google.colab.kernel.invokeFunction('convertToInteractive',\n",
              "                                                     [key], {});\n",
              "          if (!dataTable) return;\n",
              "\n",
              "          const docLinkHtml = 'Like what you see? Visit the ' +\n",
              "            '<a target=\"_blank\" href=https://colab.research.google.com/notebooks/data_table.ipynb>data table notebook</a>'\n",
              "            + ' to learn more about interactive tables.';\n",
              "          element.innerHTML = '';\n",
              "          dataTable['output_type'] = 'display_data';\n",
              "          await google.colab.output.renderOutput(dataTable, element);\n",
              "          const docLink = document.createElement('div');\n",
              "          docLink.innerHTML = docLinkHtml;\n",
              "          element.appendChild(docLink);\n",
              "        }\n",
              "      </script>\n",
              "    </div>\n",
              "  </div>\n",
              "  "
            ]
          },
          "metadata": {},
          "execution_count": 2
        }
      ],
      "source": [
        "# Load the dataset into a DataFrame and save in a variable\n",
        "data = pd.read_csv('/content/marketing_sales_data.csv')\n",
        "### YOUR CODE HERE ###\n",
        "data.head(2)"
      ]
    },
    {
      "cell_type": "markdown",
      "metadata": {
        "jp-MarkdownHeadingCollapsed": true,
        "tags": [],
        "id": "lXPOJ3LO-v7J"
      },
      "source": [
        "<details>\n",
        "  <summary><h4><strong>HINT 1</strong></h4></summary>\n",
        "\n",
        "You may refer back to what you learned about loading data in Python.\n",
        "\n",
        "</details>"
      ],
      "id": "lXPOJ3LO-v7J"
    },
    {
      "cell_type": "markdown",
      "metadata": {
        "jp-MarkdownHeadingCollapsed": true,
        "tags": [],
        "id": "O5TEL8Ty-v7L"
      },
      "source": [
        "<details>\n",
        "  <summary><h4><strong>HINT 2</strong></h4></summary>\n",
        "\n",
        "There is a function in the `pandas` library that allows you to read data from a csv file and load the data into a DataFrame.\n",
        " \n",
        "\n",
        "</details>"
      ],
      "id": "O5TEL8Ty-v7L"
    },
    {
      "cell_type": "markdown",
      "metadata": {
        "jp-MarkdownHeadingCollapsed": true,
        "tags": [],
        "id": "kEx2SsH2-v7M"
      },
      "source": [
        "<details>\n",
        "  <summary><h4><strong>HINT 3</strong></h4></summary>\n",
        "\n",
        "Use the `read_csv()` function from the `pandas` library. \n",
        "\n",
        "</details>"
      ],
      "id": "kEx2SsH2-v7M"
    },
    {
      "cell_type": "markdown",
      "id": "18981762-ab15-441e-8cc7-16848fd6c9d2",
      "metadata": {
        "id": "18981762-ab15-441e-8cc7-16848fd6c9d2"
      },
      "source": [
        "## Step 2. Data exploration"
      ]
    },
    {
      "cell_type": "markdown",
      "id": "07264b51-9724-4cba-b5f0-3f508e392675",
      "metadata": {
        "id": "07264b51-9724-4cba-b5f0-3f508e392675"
      },
      "source": [
        "### Start to learn about the data by displaying the first 10 rows of the data."
      ]
    },
    {
      "cell_type": "code",
      "execution_count": null,
      "id": "e86b8a7c-0e6a-4fee-b810-9d08e35b6eb6",
      "metadata": {
        "id": "e86b8a7c-0e6a-4fee-b810-9d08e35b6eb6",
        "colab": {
          "base_uri": "https://localhost:8080/",
          "height": 363
        },
        "outputId": "b21023cc-066f-4929-b970-03139a71c84a"
      },
      "outputs": [
        {
          "output_type": "execute_result",
          "data": {
            "text/plain": [
              "       TV      Radio  Social Media Influencer       Sales\n",
              "0     Low   3.518070      2.293790      Micro   55.261284\n",
              "1     Low   7.756876      2.572287       Mega   67.574904\n",
              "2    High  20.348988      1.227180      Micro  272.250108\n",
              "3  Medium  20.108487      2.728374       Mega  195.102176\n",
              "4    High  31.653200      7.776978       Nano  273.960377\n",
              "5     Low   5.561586      3.530209       Nano   39.992087\n",
              "6  Medium  13.951808      4.477142      Micro  147.150178\n",
              "7  Medium  28.352592      4.695376       Mega  229.141912\n",
              "8  Medium  15.322175      4.379750      Macro  222.696768\n",
              "9    High  26.914287      6.074165       Mega  322.466797"
            ],
            "text/html": [
              "\n",
              "  <div id=\"df-6693093f-fad3-4812-a833-fa2fcd6c3e76\">\n",
              "    <div class=\"colab-df-container\">\n",
              "      <div>\n",
              "<style scoped>\n",
              "    .dataframe tbody tr th:only-of-type {\n",
              "        vertical-align: middle;\n",
              "    }\n",
              "\n",
              "    .dataframe tbody tr th {\n",
              "        vertical-align: top;\n",
              "    }\n",
              "\n",
              "    .dataframe thead th {\n",
              "        text-align: right;\n",
              "    }\n",
              "</style>\n",
              "<table border=\"1\" class=\"dataframe\">\n",
              "  <thead>\n",
              "    <tr style=\"text-align: right;\">\n",
              "      <th></th>\n",
              "      <th>TV</th>\n",
              "      <th>Radio</th>\n",
              "      <th>Social Media</th>\n",
              "      <th>Influencer</th>\n",
              "      <th>Sales</th>\n",
              "    </tr>\n",
              "  </thead>\n",
              "  <tbody>\n",
              "    <tr>\n",
              "      <th>0</th>\n",
              "      <td>Low</td>\n",
              "      <td>3.518070</td>\n",
              "      <td>2.293790</td>\n",
              "      <td>Micro</td>\n",
              "      <td>55.261284</td>\n",
              "    </tr>\n",
              "    <tr>\n",
              "      <th>1</th>\n",
              "      <td>Low</td>\n",
              "      <td>7.756876</td>\n",
              "      <td>2.572287</td>\n",
              "      <td>Mega</td>\n",
              "      <td>67.574904</td>\n",
              "    </tr>\n",
              "    <tr>\n",
              "      <th>2</th>\n",
              "      <td>High</td>\n",
              "      <td>20.348988</td>\n",
              "      <td>1.227180</td>\n",
              "      <td>Micro</td>\n",
              "      <td>272.250108</td>\n",
              "    </tr>\n",
              "    <tr>\n",
              "      <th>3</th>\n",
              "      <td>Medium</td>\n",
              "      <td>20.108487</td>\n",
              "      <td>2.728374</td>\n",
              "      <td>Mega</td>\n",
              "      <td>195.102176</td>\n",
              "    </tr>\n",
              "    <tr>\n",
              "      <th>4</th>\n",
              "      <td>High</td>\n",
              "      <td>31.653200</td>\n",
              "      <td>7.776978</td>\n",
              "      <td>Nano</td>\n",
              "      <td>273.960377</td>\n",
              "    </tr>\n",
              "    <tr>\n",
              "      <th>5</th>\n",
              "      <td>Low</td>\n",
              "      <td>5.561586</td>\n",
              "      <td>3.530209</td>\n",
              "      <td>Nano</td>\n",
              "      <td>39.992087</td>\n",
              "    </tr>\n",
              "    <tr>\n",
              "      <th>6</th>\n",
              "      <td>Medium</td>\n",
              "      <td>13.951808</td>\n",
              "      <td>4.477142</td>\n",
              "      <td>Micro</td>\n",
              "      <td>147.150178</td>\n",
              "    </tr>\n",
              "    <tr>\n",
              "      <th>7</th>\n",
              "      <td>Medium</td>\n",
              "      <td>28.352592</td>\n",
              "      <td>4.695376</td>\n",
              "      <td>Mega</td>\n",
              "      <td>229.141912</td>\n",
              "    </tr>\n",
              "    <tr>\n",
              "      <th>8</th>\n",
              "      <td>Medium</td>\n",
              "      <td>15.322175</td>\n",
              "      <td>4.379750</td>\n",
              "      <td>Macro</td>\n",
              "      <td>222.696768</td>\n",
              "    </tr>\n",
              "    <tr>\n",
              "      <th>9</th>\n",
              "      <td>High</td>\n",
              "      <td>26.914287</td>\n",
              "      <td>6.074165</td>\n",
              "      <td>Mega</td>\n",
              "      <td>322.466797</td>\n",
              "    </tr>\n",
              "  </tbody>\n",
              "</table>\n",
              "</div>\n",
              "      <button class=\"colab-df-convert\" onclick=\"convertToInteractive('df-6693093f-fad3-4812-a833-fa2fcd6c3e76')\"\n",
              "              title=\"Convert this dataframe to an interactive table.\"\n",
              "              style=\"display:none;\">\n",
              "        \n",
              "  <svg xmlns=\"http://www.w3.org/2000/svg\" height=\"24px\"viewBox=\"0 0 24 24\"\n",
              "       width=\"24px\">\n",
              "    <path d=\"M0 0h24v24H0V0z\" fill=\"none\"/>\n",
              "    <path d=\"M18.56 5.44l.94 2.06.94-2.06 2.06-.94-2.06-.94-.94-2.06-.94 2.06-2.06.94zm-11 1L8.5 8.5l.94-2.06 2.06-.94-2.06-.94L8.5 2.5l-.94 2.06-2.06.94zm10 10l.94 2.06.94-2.06 2.06-.94-2.06-.94-.94-2.06-.94 2.06-2.06.94z\"/><path d=\"M17.41 7.96l-1.37-1.37c-.4-.4-.92-.59-1.43-.59-.52 0-1.04.2-1.43.59L10.3 9.45l-7.72 7.72c-.78.78-.78 2.05 0 2.83L4 21.41c.39.39.9.59 1.41.59.51 0 1.02-.2 1.41-.59l7.78-7.78 2.81-2.81c.8-.78.8-2.07 0-2.86zM5.41 20L4 18.59l7.72-7.72 1.47 1.35L5.41 20z\"/>\n",
              "  </svg>\n",
              "      </button>\n",
              "      \n",
              "  <style>\n",
              "    .colab-df-container {\n",
              "      display:flex;\n",
              "      flex-wrap:wrap;\n",
              "      gap: 12px;\n",
              "    }\n",
              "\n",
              "    .colab-df-convert {\n",
              "      background-color: #E8F0FE;\n",
              "      border: none;\n",
              "      border-radius: 50%;\n",
              "      cursor: pointer;\n",
              "      display: none;\n",
              "      fill: #1967D2;\n",
              "      height: 32px;\n",
              "      padding: 0 0 0 0;\n",
              "      width: 32px;\n",
              "    }\n",
              "\n",
              "    .colab-df-convert:hover {\n",
              "      background-color: #E2EBFA;\n",
              "      box-shadow: 0px 1px 2px rgba(60, 64, 67, 0.3), 0px 1px 3px 1px rgba(60, 64, 67, 0.15);\n",
              "      fill: #174EA6;\n",
              "    }\n",
              "\n",
              "    [theme=dark] .colab-df-convert {\n",
              "      background-color: #3B4455;\n",
              "      fill: #D2E3FC;\n",
              "    }\n",
              "\n",
              "    [theme=dark] .colab-df-convert:hover {\n",
              "      background-color: #434B5C;\n",
              "      box-shadow: 0px 1px 3px 1px rgba(0, 0, 0, 0.15);\n",
              "      filter: drop-shadow(0px 1px 2px rgba(0, 0, 0, 0.3));\n",
              "      fill: #FFFFFF;\n",
              "    }\n",
              "  </style>\n",
              "\n",
              "      <script>\n",
              "        const buttonEl =\n",
              "          document.querySelector('#df-6693093f-fad3-4812-a833-fa2fcd6c3e76 button.colab-df-convert');\n",
              "        buttonEl.style.display =\n",
              "          google.colab.kernel.accessAllowed ? 'block' : 'none';\n",
              "\n",
              "        async function convertToInteractive(key) {\n",
              "          const element = document.querySelector('#df-6693093f-fad3-4812-a833-fa2fcd6c3e76');\n",
              "          const dataTable =\n",
              "            await google.colab.kernel.invokeFunction('convertToInteractive',\n",
              "                                                     [key], {});\n",
              "          if (!dataTable) return;\n",
              "\n",
              "          const docLinkHtml = 'Like what you see? Visit the ' +\n",
              "            '<a target=\"_blank\" href=https://colab.research.google.com/notebooks/data_table.ipynb>data table notebook</a>'\n",
              "            + ' to learn more about interactive tables.';\n",
              "          element.innerHTML = '';\n",
              "          dataTable['output_type'] = 'display_data';\n",
              "          await google.colab.output.renderOutput(dataTable, element);\n",
              "          const docLink = document.createElement('div');\n",
              "          docLink.innerHTML = docLinkHtml;\n",
              "          element.appendChild(docLink);\n",
              "        }\n",
              "      </script>\n",
              "    </div>\n",
              "  </div>\n",
              "  "
            ]
          },
          "metadata": {},
          "execution_count": 3
        }
      ],
      "source": [
        "# Display the first 10 rows of the data\n",
        "data.head(10)\n",
        "### YOUR CODE HERE ###\n"
      ]
    },
    {
      "cell_type": "markdown",
      "metadata": {
        "jp-MarkdownHeadingCollapsed": true,
        "tags": [],
        "id": "49881dfd-4532-424f-9729-f5378d984df0"
      },
      "source": [
        "<details>\n",
        "  <summary><h4><strong>HINT 1</strong></h4></summary>\n",
        "\n",
        "You may find it helpful to refer back to what you learned about exploring datasets in Python.\n",
        "\n",
        "</details>"
      ],
      "id": "49881dfd-4532-424f-9729-f5378d984df0"
    },
    {
      "cell_type": "markdown",
      "metadata": {
        "jp-MarkdownHeadingCollapsed": true,
        "tags": [],
        "id": "k2QxFOi9HW1Q"
      },
      "source": [
        "<details>\n",
        "  <summary><h4><strong>HINT 2</strong></h4></summary>\n",
        "\n",
        "  There is a function in the `pandas` library that allows you to get a specific number of rows from the top of a dataframe.\n",
        " \n",
        "\n",
        "</details>"
      ],
      "id": "k2QxFOi9HW1Q"
    },
    {
      "cell_type": "markdown",
      "metadata": {
        "jp-MarkdownHeadingCollapsed": true,
        "tags": [],
        "id": "ptkclWFzHjHv"
      },
      "source": [
        "<details>\n",
        "  <summary><h4><strong>HINT 3</strong></h4></summary>\n",
        "\n",
        "Use the `head()` function from the `pandas` library. \n",
        "\n",
        "</details>"
      ],
      "id": "ptkclWFzHjHv"
    },
    {
      "cell_type": "markdown",
      "id": "70e40948-980d-41b1-a17d-78ecfd62ab21",
      "metadata": {
        "id": "70e40948-980d-41b1-a17d-78ecfd62ab21"
      },
      "source": [
        "#### **Question 1**: What do you observe about the different variables included in the data?"
      ]
    },
    {
      "cell_type": "markdown",
      "source": [
        "Double-click (or enter) to edit"
      ],
      "metadata": {
        "id": "Eh2HFr3CiPiC"
      },
      "id": "Eh2HFr3CiPiC"
    },
    {
      "cell_type": "markdown",
      "id": "d7dafc3d-ae53-471e-a91e-2b177dee576a",
      "metadata": {
        "id": "d7dafc3d-ae53-471e-a91e-2b177dee576a"
      },
      "source": [
        "### To learn about the data, identify the number of rows and the number of columns in the data."
      ]
    },
    {
      "cell_type": "code",
      "execution_count": null,
      "id": "829c217b-5504-4b01-9f2f-ef4530c5d6a5",
      "metadata": {
        "id": "829c217b-5504-4b01-9f2f-ef4530c5d6a5",
        "colab": {
          "base_uri": "https://localhost:8080/"
        },
        "outputId": "337f18f1-46b6-4efb-aa89-b16b1ddcd8ac"
      },
      "outputs": [
        {
          "output_type": "execute_result",
          "data": {
            "text/plain": [
              "(572, 5)"
            ]
          },
          "metadata": {},
          "execution_count": 4
        }
      ],
      "source": [
        "# Display number of rows, number of columns\n",
        "data.shape\n",
        "### YOUR CODE HERE ###\n"
      ]
    },
    {
      "cell_type": "markdown",
      "metadata": {
        "jp-MarkdownHeadingCollapsed": true,
        "tags": [],
        "id": "AlENNCbBChZd"
      },
      "source": [
        "<details>\n",
        "  <summary><h4><strong>HINT 1</strong></h4></summary>\n",
        "\n",
        "You may find it helpful to refer back to what you learned about exploring datasets in Python.\n",
        "\n",
        "</details>"
      ],
      "id": "AlENNCbBChZd"
    },
    {
      "cell_type": "markdown",
      "metadata": {
        "jp-MarkdownHeadingCollapsed": true,
        "tags": [],
        "id": "Wq72auJsChZf"
      },
      "source": [
        "<details>\n",
        "  <summary><h4><strong>HINT 2</strong></h4></summary>\n",
        "\n",
        "There is a property that every DataFrame in `pandas` has; it gives you access to the number of rows and the number of columns as a tuple.\n",
        "\n",
        "</details>"
      ],
      "id": "Wq72auJsChZf"
    },
    {
      "cell_type": "markdown",
      "metadata": {
        "jp-MarkdownHeadingCollapsed": true,
        "tags": [],
        "id": "QhI8U7wkChZg"
      },
      "source": [
        "<details>\n",
        "  <summary><h4><strong>HINT 3</strong></h4></summary>\n",
        "\n",
        "Use the `shape` property.\n",
        "\n",
        "</details>"
      ],
      "id": "QhI8U7wkChZg"
    },
    {
      "cell_type": "markdown",
      "id": "3c5721af-2d79-4d2c-a0b1-d38d2b154d47",
      "metadata": {
        "tags": [],
        "id": "3c5721af-2d79-4d2c-a0b1-d38d2b154d47"
      },
      "source": [
        "#### **Question 2**: What do you observe about the number of rows and number of columns in the data?"
      ]
    },
    {
      "cell_type": "markdown",
      "source": [
        "Double-click (or enter) to edit"
      ],
      "metadata": {
        "id": "OyHSIQkxiQp5"
      },
      "id": "OyHSIQkxiQp5"
    },
    {
      "cell_type": "markdown",
      "id": "be18e6af-bf42-44ac-86e8-e87e2d4a4ecf",
      "metadata": {
        "tags": [],
        "id": "be18e6af-bf42-44ac-86e8-e87e2d4a4ecf"
      },
      "source": [
        "### Check for missing values in the rows of the data.\n",
        "This is an important check since missing values are not that meaningful when modeling the relationship between two variables."
      ]
    },
    {
      "cell_type": "code",
      "execution_count": null,
      "id": "a087e249-4392-4168-80ee-153dfbd9660f",
      "metadata": {
        "id": "a087e249-4392-4168-80ee-153dfbd9660f",
        "colab": {
          "base_uri": "https://localhost:8080/",
          "height": 423
        },
        "outputId": "c37f29d8-0d92-4df5-ba73-f736c87f2c4c"
      },
      "outputs": [
        {
          "output_type": "execute_result",
          "data": {
            "text/plain": [
              "        TV  Radio  Social Media  Influencer  Sales\n",
              "0    False  False         False       False  False\n",
              "1    False  False         False       False  False\n",
              "2    False  False         False       False  False\n",
              "3    False  False         False       False  False\n",
              "4    False  False         False       False  False\n",
              "..     ...    ...           ...         ...    ...\n",
              "567  False  False         False       False  False\n",
              "568  False  False         False       False  False\n",
              "569  False  False         False       False  False\n",
              "570  False  False         False       False  False\n",
              "571  False  False         False       False  False\n",
              "\n",
              "[572 rows x 5 columns]"
            ],
            "text/html": [
              "\n",
              "  <div id=\"df-fabb25e4-eecc-4178-81cb-72d4bd8330b8\">\n",
              "    <div class=\"colab-df-container\">\n",
              "      <div>\n",
              "<style scoped>\n",
              "    .dataframe tbody tr th:only-of-type {\n",
              "        vertical-align: middle;\n",
              "    }\n",
              "\n",
              "    .dataframe tbody tr th {\n",
              "        vertical-align: top;\n",
              "    }\n",
              "\n",
              "    .dataframe thead th {\n",
              "        text-align: right;\n",
              "    }\n",
              "</style>\n",
              "<table border=\"1\" class=\"dataframe\">\n",
              "  <thead>\n",
              "    <tr style=\"text-align: right;\">\n",
              "      <th></th>\n",
              "      <th>TV</th>\n",
              "      <th>Radio</th>\n",
              "      <th>Social Media</th>\n",
              "      <th>Influencer</th>\n",
              "      <th>Sales</th>\n",
              "    </tr>\n",
              "  </thead>\n",
              "  <tbody>\n",
              "    <tr>\n",
              "      <th>0</th>\n",
              "      <td>False</td>\n",
              "      <td>False</td>\n",
              "      <td>False</td>\n",
              "      <td>False</td>\n",
              "      <td>False</td>\n",
              "    </tr>\n",
              "    <tr>\n",
              "      <th>1</th>\n",
              "      <td>False</td>\n",
              "      <td>False</td>\n",
              "      <td>False</td>\n",
              "      <td>False</td>\n",
              "      <td>False</td>\n",
              "    </tr>\n",
              "    <tr>\n",
              "      <th>2</th>\n",
              "      <td>False</td>\n",
              "      <td>False</td>\n",
              "      <td>False</td>\n",
              "      <td>False</td>\n",
              "      <td>False</td>\n",
              "    </tr>\n",
              "    <tr>\n",
              "      <th>3</th>\n",
              "      <td>False</td>\n",
              "      <td>False</td>\n",
              "      <td>False</td>\n",
              "      <td>False</td>\n",
              "      <td>False</td>\n",
              "    </tr>\n",
              "    <tr>\n",
              "      <th>4</th>\n",
              "      <td>False</td>\n",
              "      <td>False</td>\n",
              "      <td>False</td>\n",
              "      <td>False</td>\n",
              "      <td>False</td>\n",
              "    </tr>\n",
              "    <tr>\n",
              "      <th>...</th>\n",
              "      <td>...</td>\n",
              "      <td>...</td>\n",
              "      <td>...</td>\n",
              "      <td>...</td>\n",
              "      <td>...</td>\n",
              "    </tr>\n",
              "    <tr>\n",
              "      <th>567</th>\n",
              "      <td>False</td>\n",
              "      <td>False</td>\n",
              "      <td>False</td>\n",
              "      <td>False</td>\n",
              "      <td>False</td>\n",
              "    </tr>\n",
              "    <tr>\n",
              "      <th>568</th>\n",
              "      <td>False</td>\n",
              "      <td>False</td>\n",
              "      <td>False</td>\n",
              "      <td>False</td>\n",
              "      <td>False</td>\n",
              "    </tr>\n",
              "    <tr>\n",
              "      <th>569</th>\n",
              "      <td>False</td>\n",
              "      <td>False</td>\n",
              "      <td>False</td>\n",
              "      <td>False</td>\n",
              "      <td>False</td>\n",
              "    </tr>\n",
              "    <tr>\n",
              "      <th>570</th>\n",
              "      <td>False</td>\n",
              "      <td>False</td>\n",
              "      <td>False</td>\n",
              "      <td>False</td>\n",
              "      <td>False</td>\n",
              "    </tr>\n",
              "    <tr>\n",
              "      <th>571</th>\n",
              "      <td>False</td>\n",
              "      <td>False</td>\n",
              "      <td>False</td>\n",
              "      <td>False</td>\n",
              "      <td>False</td>\n",
              "    </tr>\n",
              "  </tbody>\n",
              "</table>\n",
              "<p>572 rows × 5 columns</p>\n",
              "</div>\n",
              "      <button class=\"colab-df-convert\" onclick=\"convertToInteractive('df-fabb25e4-eecc-4178-81cb-72d4bd8330b8')\"\n",
              "              title=\"Convert this dataframe to an interactive table.\"\n",
              "              style=\"display:none;\">\n",
              "        \n",
              "  <svg xmlns=\"http://www.w3.org/2000/svg\" height=\"24px\"viewBox=\"0 0 24 24\"\n",
              "       width=\"24px\">\n",
              "    <path d=\"M0 0h24v24H0V0z\" fill=\"none\"/>\n",
              "    <path d=\"M18.56 5.44l.94 2.06.94-2.06 2.06-.94-2.06-.94-.94-2.06-.94 2.06-2.06.94zm-11 1L8.5 8.5l.94-2.06 2.06-.94-2.06-.94L8.5 2.5l-.94 2.06-2.06.94zm10 10l.94 2.06.94-2.06 2.06-.94-2.06-.94-.94-2.06-.94 2.06-2.06.94z\"/><path d=\"M17.41 7.96l-1.37-1.37c-.4-.4-.92-.59-1.43-.59-.52 0-1.04.2-1.43.59L10.3 9.45l-7.72 7.72c-.78.78-.78 2.05 0 2.83L4 21.41c.39.39.9.59 1.41.59.51 0 1.02-.2 1.41-.59l7.78-7.78 2.81-2.81c.8-.78.8-2.07 0-2.86zM5.41 20L4 18.59l7.72-7.72 1.47 1.35L5.41 20z\"/>\n",
              "  </svg>\n",
              "      </button>\n",
              "      \n",
              "  <style>\n",
              "    .colab-df-container {\n",
              "      display:flex;\n",
              "      flex-wrap:wrap;\n",
              "      gap: 12px;\n",
              "    }\n",
              "\n",
              "    .colab-df-convert {\n",
              "      background-color: #E8F0FE;\n",
              "      border: none;\n",
              "      border-radius: 50%;\n",
              "      cursor: pointer;\n",
              "      display: none;\n",
              "      fill: #1967D2;\n",
              "      height: 32px;\n",
              "      padding: 0 0 0 0;\n",
              "      width: 32px;\n",
              "    }\n",
              "\n",
              "    .colab-df-convert:hover {\n",
              "      background-color: #E2EBFA;\n",
              "      box-shadow: 0px 1px 2px rgba(60, 64, 67, 0.3), 0px 1px 3px 1px rgba(60, 64, 67, 0.15);\n",
              "      fill: #174EA6;\n",
              "    }\n",
              "\n",
              "    [theme=dark] .colab-df-convert {\n",
              "      background-color: #3B4455;\n",
              "      fill: #D2E3FC;\n",
              "    }\n",
              "\n",
              "    [theme=dark] .colab-df-convert:hover {\n",
              "      background-color: #434B5C;\n",
              "      box-shadow: 0px 1px 3px 1px rgba(0, 0, 0, 0.15);\n",
              "      filter: drop-shadow(0px 1px 2px rgba(0, 0, 0, 0.3));\n",
              "      fill: #FFFFFF;\n",
              "    }\n",
              "  </style>\n",
              "\n",
              "      <script>\n",
              "        const buttonEl =\n",
              "          document.querySelector('#df-fabb25e4-eecc-4178-81cb-72d4bd8330b8 button.colab-df-convert');\n",
              "        buttonEl.style.display =\n",
              "          google.colab.kernel.accessAllowed ? 'block' : 'none';\n",
              "\n",
              "        async function convertToInteractive(key) {\n",
              "          const element = document.querySelector('#df-fabb25e4-eecc-4178-81cb-72d4bd8330b8');\n",
              "          const dataTable =\n",
              "            await google.colab.kernel.invokeFunction('convertToInteractive',\n",
              "                                                     [key], {});\n",
              "          if (!dataTable) return;\n",
              "\n",
              "          const docLinkHtml = 'Like what you see? Visit the ' +\n",
              "            '<a target=\"_blank\" href=https://colab.research.google.com/notebooks/data_table.ipynb>data table notebook</a>'\n",
              "            + ' to learn more about interactive tables.';\n",
              "          element.innerHTML = '';\n",
              "          dataTable['output_type'] = 'display_data';\n",
              "          await google.colab.output.renderOutput(dataTable, element);\n",
              "          const docLink = document.createElement('div');\n",
              "          docLink.innerHTML = docLinkHtml;\n",
              "          element.appendChild(docLink);\n",
              "        }\n",
              "      </script>\n",
              "    </div>\n",
              "  </div>\n",
              "  "
            ]
          },
          "metadata": {},
          "execution_count": 5
        }
      ],
      "source": [
        "# Step 1. Start with .isna() to get booleans indicating whether each value in the data is missing\n",
        "data.isna()\n",
        "### YOUR CODE HERE ###\n"
      ]
    },
    {
      "cell_type": "markdown",
      "id": "3bd09ee1-60c5-4f88-bd50-17491f715a39",
      "metadata": {
        "id": "3bd09ee1-60c5-4f88-bd50-17491f715a39"
      },
      "source": [
        "If you would like to read more about the `isna()` function, refer to its documentation in the references section of this lab."
      ]
    },
    {
      "cell_type": "code",
      "execution_count": null,
      "id": "f08b6e59-daf5-4aca-a63e-7b7f0c188449",
      "metadata": {
        "id": "f08b6e59-daf5-4aca-a63e-7b7f0c188449",
        "colab": {
          "base_uri": "https://localhost:8080/"
        },
        "outputId": "9100913c-3227-4b03-f5e0-6a833a62fd61"
      },
      "outputs": [
        {
          "output_type": "execute_result",
          "data": {
            "text/plain": [
              "0      False\n",
              "1      False\n",
              "2      False\n",
              "3      False\n",
              "4      False\n",
              "       ...  \n",
              "567    False\n",
              "568    False\n",
              "569    False\n",
              "570    False\n",
              "571    False\n",
              "Length: 572, dtype: bool"
            ]
          },
          "metadata": {},
          "execution_count": 6
        }
      ],
      "source": [
        "# Step 1. Start with .isna() to get booleans indicating whether each value in the data is missing\n",
        "# Step 2. Use .any(axis=1) to get booleans indicating whether there are any missing values along the columns in each row\n",
        "\n",
        "### YOUR CODE HERE ###\n",
        "data.isna().any(axis=1)"
      ]
    },
    {
      "cell_type": "markdown",
      "id": "e6bc866e-b4da-4562-b066-3f1201b0e0c1",
      "metadata": {
        "id": "e6bc866e-b4da-4562-b066-3f1201b0e0c1"
      },
      "source": [
        "If you would like to read more about the `any()` function, refer to its documentation in the references section of this lab."
      ]
    },
    {
      "cell_type": "code",
      "execution_count": null,
      "id": "8e403e86-0a72-44a9-8d92-dd57f9c0caca",
      "metadata": {
        "id": "8e403e86-0a72-44a9-8d92-dd57f9c0caca",
        "colab": {
          "base_uri": "https://localhost:8080/"
        },
        "outputId": "6fb9e4d4-d631-421f-e367-3a14bb7d1694"
      },
      "outputs": [
        {
          "output_type": "execute_result",
          "data": {
            "text/plain": [
              "0"
            ]
          },
          "metadata": {},
          "execution_count": 7
        }
      ],
      "source": [
        "# Step 1. Start with .isna() to get booleans indicating whether each value in the data is missing\n",
        "# Step 2. Use .any(axis=1) to get booleans indicating whether there are any missing values along the columns in each row\n",
        "# Step 3. Use .sum() to get the number of rows that contain missing values\n",
        "\n",
        "### YOUR CODE HERE ###\n",
        "data.isna().any(axis=1).sum()\n"
      ]
    },
    {
      "cell_type": "markdown",
      "id": "8e75b7b7-8474-4eb7-9616-3f1dc017db86",
      "metadata": {
        "id": "8e75b7b7-8474-4eb7-9616-3f1dc017db86"
      },
      "source": [
        "If you would like to read more about the `sum()` function, refer to its documentation in the references section of this lab."
      ]
    },
    {
      "cell_type": "markdown",
      "id": "1b0da416-2142-4109-b1ca-48d0e620f2b2",
      "metadata": {
        "tags": [],
        "id": "1b0da416-2142-4109-b1ca-48d0e620f2b2"
      },
      "source": [
        "#### **Question 3**: What do you observe about the number of rows containing missing values?"
      ]
    },
    {
      "cell_type": "markdown",
      "source": [
        "Double-click (or enter) to edit"
      ],
      "metadata": {
        "id": "f9ActhhsiR0p"
      },
      "id": "f9ActhhsiR0p"
    },
    {
      "cell_type": "markdown",
      "id": "378974cf-892b-43f9-80fc-7b7271531915",
      "metadata": {
        "tags": [],
        "id": "378974cf-892b-43f9-80fc-7b7271531915"
      },
      "source": [
        "### Drop the rows that contain missing values.\n",
        "This is an important step in data cleaning since it makes the data more usable for the analysis and regression that you will conduct next."
      ]
    },
    {
      "cell_type": "code",
      "execution_count": null,
      "id": "fed80cba-aa90-4c9d-a9d9-d995fa9a649d",
      "metadata": {
        "id": "fed80cba-aa90-4c9d-a9d9-d995fa9a649d"
      },
      "outputs": [],
      "source": [
        "# Step 1. Use .dropna(axis=0) to indicate that you want rows which contain missing values to be dropped\n",
        "# Step 2. To update the DataFrame, reassign it to the result\n",
        "\n",
        "### YOUR CODE HERE ###\n",
        "data = data.dropna(axis=0)"
      ]
    },
    {
      "cell_type": "code",
      "execution_count": null,
      "id": "540f9c5d-5036-4df3-976b-2c1348a235fe",
      "metadata": {
        "id": "540f9c5d-5036-4df3-976b-2c1348a235fe",
        "colab": {
          "base_uri": "https://localhost:8080/"
        },
        "outputId": "9b33957d-e385-438d-99df-05ff957fc992"
      },
      "outputs": [
        {
          "output_type": "execute_result",
          "data": {
            "text/plain": [
              "0"
            ]
          },
          "metadata": {},
          "execution_count": 9
        }
      ],
      "source": [
        "# Check to make sure that the data does not contain any rows with missing values now\n",
        "\n",
        "# Step 1. Start with .isna() to get booleans indicating whether each value in the data is missing\n",
        "# Step 2. Use .any(axis=1) to get booleans indicating whether there are any missing values along the columns in each row\n",
        "# Step 3. Use .sum() to get the number of rows that contain missing values\n",
        "\n",
        "### YOUR CODE HERE ###\n",
        "data.isna().any(axis=1).sum()"
      ]
    },
    {
      "cell_type": "markdown",
      "id": "04271393-b4a7-40b8-8cfd-6dfd815f52bd",
      "metadata": {
        "tags": [],
        "id": "04271393-b4a7-40b8-8cfd-6dfd815f52bd"
      },
      "source": [
        "### Check model assumptions.\n",
        "You would like to explore the relationship between radio promotion budget and sales. You could model the relationship using linear regression. To do this, you want to check if the model assumptions for linear regression can be made in this context. Some of the assumptions can be addressed before the model is built --- you will address those in this section. After the model is built, you can finish checking the assumptions."
      ]
    },
    {
      "cell_type": "markdown",
      "id": "0781c130-3f65-4fcb-a137-cd6b3e057187",
      "metadata": {
        "id": "0781c130-3f65-4fcb-a137-cd6b3e057187"
      },
      "source": [
        "### Start by creating a plot of pairwise relationships in the data.\n",
        "This will help you visualize the relationships between variables in the data and help you check model assumptions. "
      ]
    },
    {
      "cell_type": "code",
      "execution_count": null,
      "id": "cfb20968-e969-495b-9b34-1de2d7b110f6",
      "metadata": {
        "id": "cfb20968-e969-495b-9b34-1de2d7b110f6",
        "colab": {
          "base_uri": "https://localhost:8080/",
          "height": 550
        },
        "outputId": "edf6e01b-18c7-4b57-812f-20e20d4ff646"
      },
      "outputs": [
        {
          "output_type": "display_data",
          "data": {
            "text/plain": [
              "<Figure size 540x540 with 12 Axes>"
            ],
            "image/png": "[encoded data removed]"
          },
          "metadata": {
            "needs_background": "light"
          }
        }
      ],
      "source": [
        "# Create plot of pairwise relationships\n",
        "\n",
        "### YOUR CODE HERE ###\n",
        "sb.pairplot(data);"
      ]
    },
    {
      "cell_type": "markdown",
      "id": "aba2029f-5371-4214-8497-9a8be492c68b",
      "metadata": {
        "tags": [],
        "id": "aba2029f-5371-4214-8497-9a8be492c68b"
      },
      "source": [
        "<details>\n",
        "<summary><h4><strong>HINT 1</strong></h4></summary>\n",
        "\n",
        "  You may find it helpful to refer back to what you learned about creating a plot that shows the \n",
        "  relationships between pairs of variables.\n",
        "\n",
        "</details>"
      ]
    },
    {
      "cell_type": "markdown",
      "id": "eecb9ac6-6cae-4b86-b2dc-b6f07b19a6bf",
      "metadata": {
        "jp-MarkdownHeadingCollapsed": true,
        "tags": [],
        "id": "eecb9ac6-6cae-4b86-b2dc-b6f07b19a6bf"
      },
      "source": [
        "<details>\n",
        "<summary><h4><strong>HINT 2</strong></h4></summary>\n",
        "\n",
        "  There is a function in the `seaborn` library that you can call to create a plot that shows the \n",
        "  relationships between pairs of variables.\n",
        "\n",
        "</details>"
      ]
    },
    {
      "cell_type": "markdown",
      "id": "edfdd31e-85f3-4d25-837f-72c09e93110d",
      "metadata": {
        "tags": [],
        "id": "edfdd31e-85f3-4d25-837f-72c09e93110d"
      },
      "source": [
        "<details>\n",
        "<summary><h4><strong>HINT 3</strong></h4></summary>\n",
        "\n",
        "  You can call the `pairplot()` function from the `seaborn` library.\n",
        "\n",
        "</details>"
      ]
    },
    {
      "cell_type": "markdown",
      "id": "4119330d-82f9-4075-8c12-3db273bdf9b3",
      "metadata": {
        "tags": [],
        "id": "4119330d-82f9-4075-8c12-3db273bdf9b3"
      },
      "source": [
        "#### **Question 4**: Is the assumption of linearity met?"
      ]
    },
    {
      "cell_type": "markdown",
      "source": [
        "Double-click (or enter) to edit"
      ],
      "metadata": {
        "id": "bp7NAEpyiTXH"
      },
      "id": "bp7NAEpyiTXH"
    },
    {
      "cell_type": "markdown",
      "id": "1be09689-a693-4059-adeb-945ce8e4e117",
      "metadata": {
        "jp-MarkdownHeadingCollapsed": true,
        "tags": [],
        "id": "1be09689-a693-4059-adeb-945ce8e4e117"
      },
      "source": [
        "<details>\n",
        "<summary><h4><strong>HINT 1</strong></h4></summary>\n",
        "\n",
        "  You may find it helpful to refer back to what you learned about checking model assumptions for linear regression.\n",
        "\n",
        "</details>"
      ]
    },
    {
      "cell_type": "markdown",
      "id": "e88fc7fe-ce13-4a05-8b46-68f6e82516e7",
      "metadata": {
        "jp-MarkdownHeadingCollapsed": true,
        "tags": [],
        "id": "e88fc7fe-ce13-4a05-8b46-68f6e82516e7"
      },
      "source": [
        "<details>\n",
        "<summary><h4><strong>HINT 2</strong></h4></summary>\n",
        "\n",
        "  Use the scatter plot of `Sales` over `Radio` found in the above plot of pairwise relationships. \n",
        "\n",
        "</details>"
      ]
    },
    {
      "cell_type": "markdown",
      "id": "9234580a-503a-47b4-83d2-ba8ee46ec407",
      "metadata": {
        "tags": [],
        "id": "9234580a-503a-47b4-83d2-ba8ee46ec407"
      },
      "source": [
        "<details>\n",
        "<summary><h4><strong>HINT 3</strong></h4></summary>\n",
        "\n",
        "  Check the scatter plot of `Sales` over `Radio` found in the above plot of pairwise relationships. If the data points cluster around a line, that would indicate that the assumption of linearity is met. Alternatively, if the data points resemble a random cloud or a curve, then a linear model may not fit the data well.  \n",
        "\n",
        "</details>"
      ]
    },
    {
      "cell_type": "markdown",
      "id": "39ab5dd9-ea2a-46ce-b3a3-8077d52a833a",
      "metadata": {
        "id": "39ab5dd9-ea2a-46ce-b3a3-8077d52a833a"
      },
      "source": [
        "## Step 3. Model building"
      ]
    },
    {
      "cell_type": "markdown",
      "id": "3cd2422c-0f5e-4ac7-89ed-52803d971555",
      "metadata": {
        "id": "3cd2422c-0f5e-4ac7-89ed-52803d971555"
      },
      "source": [
        "### Start by selecting only the columns that are needed for the model that you will build from the data."
      ]
    },
    {
      "cell_type": "code",
      "execution_count": null,
      "id": "17701ff3-82f0-4300-90c0-bca6ccce01eb",
      "metadata": {
        "id": "17701ff3-82f0-4300-90c0-bca6ccce01eb"
      },
      "outputs": [],
      "source": [
        "# Select relevant columns\n",
        "# Save resulting DataFrame in a separate variable to prepare for regression\n",
        "\n",
        "### YOUR CODE HERE ###\n"
      ]
    },
    {
      "cell_type": "markdown",
      "id": "e4c39136-f4d6-43a2-950a-e76db253f8c5",
      "metadata": {
        "jp-MarkdownHeadingCollapsed": true,
        "tags": [],
        "id": "e4c39136-f4d6-43a2-950a-e76db253f8c5"
      },
      "source": [
        "<details>\n",
        "<summary><h4><strong>HINT 1</strong></h4></summary>\n",
        "\n",
        "  You may find it helpful to refer back to what you learned about selecting multiple columns from a DataFrame.\n",
        "\n",
        "</details>"
      ]
    },
    {
      "cell_type": "markdown",
      "id": "1a342164-70eb-4a3f-9ddf-e9a8a22a9ad1",
      "metadata": {
        "jp-MarkdownHeadingCollapsed": true,
        "tags": [],
        "id": "1a342164-70eb-4a3f-9ddf-e9a8a22a9ad1"
      },
      "source": [
        "<details>\n",
        "<summary><h4><strong>HINT 2</strong></h4></summary>\n",
        "\n",
        "  Use two pairs of square brackets around the names of the columns that should be selected.\n",
        "\n",
        "</details>"
      ]
    },
    {
      "cell_type": "markdown",
      "id": "260ce4a1-10b9-420b-be6d-b3e109227bd1",
      "metadata": {
        "tags": [],
        "id": "260ce4a1-10b9-420b-be6d-b3e109227bd1"
      },
      "source": [
        "<details>\n",
        "<summary><h4><strong>HINT 3</strong></h4></summary>\n",
        "\n",
        "  Make sure to column names are spelled exactly as they are in the data.\n",
        "\n",
        "</details>"
      ]
    },
    {
      "cell_type": "markdown",
      "id": "1ea8080e-7f93-4ea6-a0b6-bedeaed3a856",
      "metadata": {
        "id": "1ea8080e-7f93-4ea6-a0b6-bedeaed3a856"
      },
      "source": [
        "### Display the first 10 rows of the new DataFrame to ensure it looks right."
      ]
    },
    {
      "cell_type": "code",
      "execution_count": null,
      "id": "39a7ccec-e572-46a8-9139-c4e159e75aae",
      "metadata": {
        "id": "39a7ccec-e572-46a8-9139-c4e159e75aae"
      },
      "outputs": [],
      "source": [
        "# Display first 10 rows of the new DataFrame\n",
        "\n",
        "### YOUR CODE HERE ###\n"
      ]
    },
    {
      "cell_type": "markdown",
      "id": "dcd2bea2-dbbd-4e07-85b7-ac3f3121fc20",
      "metadata": {
        "tags": [],
        "id": "dcd2bea2-dbbd-4e07-85b7-ac3f3121fc20"
      },
      "source": [
        "<details>\n",
        "<summary><h4><strong>HINT 1</strong></h4></summary>\n",
        "\n",
        "  You may find it helpful to refer back to what you learned about displaying contents of a DataFrame.\n",
        "\n",
        "</details>"
      ]
    },
    {
      "cell_type": "markdown",
      "id": "119e5c4b-e37f-4832-bca5-7ea9170a1e60",
      "metadata": {
        "jp-MarkdownHeadingCollapsed": true,
        "tags": [],
        "id": "119e5c4b-e37f-4832-bca5-7ea9170a1e60"
      },
      "source": [
        "<details>\n",
        "<summary><h4><strong>HINT 2</strong></h4></summary>\n",
        "\n",
        "  There is a function in the `pandas` library that allows you to display the first n number of rows of a DataFrame, where n is a number of your choice.\n",
        "\n",
        "</details>"
      ]
    },
    {
      "cell_type": "markdown",
      "id": "68ec36bd-8617-43bd-be30-132fcb369db1",
      "metadata": {
        "tags": [],
        "id": "68ec36bd-8617-43bd-be30-132fcb369db1"
      },
      "source": [
        "<details>\n",
        "<summary><h4><strong>HINT 3</strong></h4></summary>\n",
        "\n",
        "  Call the `head()` function from the `pandas` library and pass in the number of rows from top that you want to display. \n",
        "\n",
        "</details>"
      ]
    },
    {
      "cell_type": "markdown",
      "id": "be7f9869-c67e-4c87-b186-7461a00a9b37",
      "metadata": {
        "id": "be7f9869-c67e-4c87-b186-7461a00a9b37"
      },
      "source": [
        "### Write the linear regression formula for modeling the relationship between the two variables of interest."
      ]
    },
    {
      "cell_type": "code",
      "execution_count": null,
      "id": "f186ff9a-2c18-4cc6-acb3-3b7bf0c0c942",
      "metadata": {
        "id": "f186ff9a-2c18-4cc6-acb3-3b7bf0c0c942"
      },
      "outputs": [],
      "source": [
        "# Write the linear regression formula\n",
        "# Save it in a variable\n",
        "y = mx+c\n",
        "### YOUR CODE HERE ###\n"
      ]
    },
    {
      "cell_type": "markdown",
      "id": "69f2b790-4859-4bf6-8eba-45998ddcc599",
      "metadata": {
        "tags": [],
        "id": "69f2b790-4859-4bf6-8eba-45998ddcc599"
      },
      "source": [
        "<details>\n",
        "<summary><h4><strong>HINT 1</strong></h4></summary>\n",
        "\n",
        "  You may find it helpful to refer back to what you learned where model building for linear regression is discussed. \n",
        "\n",
        "</details>"
      ]
    },
    {
      "cell_type": "markdown",
      "id": "4bf1a70c-61a8-4802-a16d-e6d8b08cc9ca",
      "metadata": {
        "tags": [],
        "id": "4bf1a70c-61a8-4802-a16d-e6d8b08cc9ca"
      },
      "source": [
        "<details>\n",
        "<summary><h4><strong>HINT 2</strong></h4></summary>\n",
        "\n",
        "  Save the formula as string.\n",
        "\n",
        "</details>"
      ]
    },
    {
      "cell_type": "markdown",
      "id": "67d7406a-0074-4029-9bda-9f97f653a979",
      "metadata": {
        "tags": [],
        "id": "67d7406a-0074-4029-9bda-9f97f653a979"
      },
      "source": [
        "<details>\n",
        "<summary><h4><strong>HINT 3</strong></h4></summary>\n",
        "\n",
        "  Use a tilde to separate the y variable from the x variable so that the computer understands which is which. Make sure the spelling of each variable exactly matches the corresponding column from the data.\n",
        "\n",
        "</details>"
      ]
    },
    {
      "cell_type": "markdown",
      "id": "d855f4df-61d5-44a9-996c-9c4080d2be27",
      "metadata": {
        "id": "d855f4df-61d5-44a9-996c-9c4080d2be27"
      },
      "source": [
        "### Implement the Ordinary Least Squares (OLS) approach for linear regression."
      ]
    },
    {
      "cell_type": "code",
      "execution_count": null,
      "id": "0722345c-df7c-4563-a112-d30ea25a9ed8",
      "metadata": {
        "id": "0722345c-df7c-4563-a112-d30ea25a9ed8"
      },
      "outputs": [],
      "source": [
        "# Implement OLS\n",
        "\n",
        "### YOUR CODE HERE ###\n"
      ]
    },
    {
      "cell_type": "markdown",
      "id": "b5569bad-28e8-45da-bee5-990ab592ff70",
      "metadata": {
        "tags": [],
        "id": "b5569bad-28e8-45da-bee5-990ab592ff70"
      },
      "source": [
        "<details>\n",
        "<summary><h4><strong>HINT 1</strong></h4></summary>\n",
        "\n",
        "  You may find it helpful to refer back to what you learned where model building for linear regression is discussed.  \n",
        "\n",
        "</details>"
      ]
    },
    {
      "cell_type": "markdown",
      "id": "8884acac-75a5-44e7-a4bc-e162d8753a93",
      "metadata": {
        "tags": [],
        "id": "8884acac-75a5-44e7-a4bc-e162d8753a93"
      },
      "source": [
        "<details>\n",
        "<summary><h4><strong>HINT 2</strong></h4></summary>\n",
        "\n",
        "  There is a function from the `statsmodels` library that can be called to implement OLS.\n",
        "\n",
        "</details>"
      ]
    },
    {
      "cell_type": "markdown",
      "id": "89a8c604-1e36-40e5-bc6a-7d85f24c372b",
      "metadata": {
        "tags": [],
        "id": "89a8c604-1e36-40e5-bc6a-7d85f24c372b"
      },
      "source": [
        "<details>\n",
        "<summary><h4><strong>HINT 3</strong></h4></summary>\n",
        "\n",
        "  You can call the `ols()` function from the `statsmodels` library.\n",
        "\n",
        "</details>"
      ]
    },
    {
      "cell_type": "markdown",
      "id": "d480f1b9-e772-4c45-aab0-d18600d43d3b",
      "metadata": {
        "id": "d480f1b9-e772-4c45-aab0-d18600d43d3b"
      },
      "source": [
        "### Create a linear regression model for the data and fit the model to the data."
      ]
    },
    {
      "cell_type": "code",
      "execution_count": null,
      "id": "0927ac02-4f5d-4406-a4c1-56d2e5dbd223",
      "metadata": {
        "id": "0927ac02-4f5d-4406-a4c1-56d2e5dbd223"
      },
      "outputs": [],
      "source": [
        "# Fit the model to the data\n",
        "# Save the fitted model in a variable\n",
        "\n",
        "### YOUR CODE HERE ###\n"
      ]
    },
    {
      "cell_type": "markdown",
      "id": "ae5677e2-f2de-4f7e-99c2-df0bd23f32c0",
      "metadata": {
        "tags": [],
        "id": "ae5677e2-f2de-4f7e-99c2-df0bd23f32c0"
      },
      "source": [
        "<details>\n",
        "<summary><h4><strong>HINT 1</strong></h4></summary>\n",
        "\n",
        "  You may find it helpful to refer back to what you learned where model building for linear regression is discussed.  \n",
        "\n",
        "</details>"
      ]
    },
    {
      "cell_type": "markdown",
      "id": "4c3cbaf2-f372-4f4d-be61-28f80de823d7",
      "metadata": {
        "tags": [],
        "id": "4c3cbaf2-f372-4f4d-be61-28f80de823d7"
      },
      "source": [
        "<details>\n",
        "<summary><h4><strong>HINT 2</strong></h4></summary>\n",
        "\n",
        "  There is a function from the `statsmodels` library that can be called to fit the model.\n",
        "\n",
        "</details>"
      ]
    },
    {
      "cell_type": "markdown",
      "id": "ce5ed8ce-050a-4f99-905b-676444dd1f02",
      "metadata": {
        "tags": [],
        "id": "ce5ed8ce-050a-4f99-905b-676444dd1f02"
      },
      "source": [
        "<details>\n",
        "<summary><h4><strong>HINT 3</strong></h4></summary>\n",
        "\n",
        "  You can call the `fit()` function from the `statsmodels` library.\n",
        "\n",
        "</details>"
      ]
    },
    {
      "cell_type": "markdown",
      "id": "e4bb9926-05aa-45da-be69-0d373b9abb66",
      "metadata": {
        "id": "e4bb9926-05aa-45da-be69-0d373b9abb66"
      },
      "source": [
        "## Step 4. Results and evaluation"
      ]
    },
    {
      "cell_type": "markdown",
      "id": "91275e23-3c8a-4218-8525-13268d62c14b",
      "metadata": {
        "id": "91275e23-3c8a-4218-8525-13268d62c14b"
      },
      "source": [
        "### Get a summary of the results from the model."
      ]
    },
    {
      "cell_type": "code",
      "execution_count": null,
      "id": "de2160b6-3bdf-41a7-9743-f7cd6d4c38f8",
      "metadata": {
        "id": "de2160b6-3bdf-41a7-9743-f7cd6d4c38f8"
      },
      "outputs": [],
      "source": [
        "# Get summary of results\n",
        "\n",
        "### YOUR CODE HERE ###\n"
      ]
    },
    {
      "cell_type": "markdown",
      "id": "95984c14-a8b4-4d85-854b-0215b9be0419",
      "metadata": {
        "tags": [],
        "id": "95984c14-a8b4-4d85-854b-0215b9be0419"
      },
      "source": [
        "<details>\n",
        "<summary><h4><strong>HINT 1</strong></h4></summary>\n",
        "\n",
        "  You may find it helpful to refer back to what you learned where getting model results is discussed.  \n",
        "\n",
        "</details>"
      ]
    },
    {
      "cell_type": "markdown",
      "id": "45dddaed-a2f2-4328-b1c6-839cff1cbfe0",
      "metadata": {
        "tags": [],
        "id": "45dddaed-a2f2-4328-b1c6-839cff1cbfe0"
      },
      "source": [
        "<details>\n",
        "<summary><h4><strong>HINT 2</strong></h4></summary>\n",
        "\n",
        "  There is a function from the `statsmodels` library that can be called to get the summary of results from a model.\n",
        "\n",
        "</details>"
      ]
    },
    {
      "cell_type": "markdown",
      "id": "0fe50838-54b9-404f-b441-57fbe2be8b2d",
      "metadata": {
        "tags": [],
        "id": "0fe50838-54b9-404f-b441-57fbe2be8b2d"
      },
      "source": [
        "<details>\n",
        "<summary><h4><strong>HINT 3</strong></h4></summary>\n",
        "\n",
        "  You can call the `summary()` function from the `statsmodels` library.\n",
        "\n",
        "</details>"
      ]
    },
    {
      "cell_type": "markdown",
      "id": "557f7ef1-e1ee-4602-aa34-fb04bf5c3158",
      "metadata": {
        "id": "557f7ef1-e1ee-4602-aa34-fb04bf5c3158"
      },
      "source": [
        "### Take a look at the bottom table from the results summary.\n",
        "\n",
        "Based on that table, identify the coefficients that the model determined would generate the line of best fit, the coefficients here being the y-intercept and the slope. "
      ]
    },
    {
      "cell_type": "markdown",
      "id": "29ec7e9e-ded4-4621-9ef1-62836b90b3a6",
      "metadata": {
        "jp-MarkdownHeadingCollapsed": true,
        "tags": [],
        "id": "29ec7e9e-ded4-4621-9ef1-62836b90b3a6"
      },
      "source": [
        "#### **Question 5**: What is the y-intercept? "
      ]
    },
    {
      "cell_type": "markdown",
      "source": [
        "Double-click (or enter) to edit"
      ],
      "metadata": {
        "id": "3bV7OGngiVs2"
      },
      "id": "3bV7OGngiVs2"
    },
    {
      "cell_type": "markdown",
      "id": "dbdbfc1c-fce0-4813-aafe-c58bfaa436b6",
      "metadata": {
        "jp-MarkdownHeadingCollapsed": true,
        "tags": [],
        "id": "dbdbfc1c-fce0-4813-aafe-c58bfaa436b6"
      },
      "source": [
        "#### **Question 6**: What is the slope? "
      ]
    },
    {
      "cell_type": "markdown",
      "source": [
        "Double-click (or enter) to edit"
      ],
      "metadata": {
        "id": "QG_N49E5iWhM"
      },
      "id": "QG_N49E5iWhM"
    },
    {
      "cell_type": "markdown",
      "id": "3521b6db-6c35-4574-9bea-17af4ef3dd96",
      "metadata": {
        "jp-MarkdownHeadingCollapsed": true,
        "tags": [],
        "id": "3521b6db-6c35-4574-9bea-17af4ef3dd96"
      },
      "source": [
        "#### **Question 7**: What is the linear equation you would write to express the relationship between sales and radio promotion budget in the form of y = slope * x + y-intercept? \n"
      ]
    },
    {
      "cell_type": "markdown",
      "source": [
        "Double-click (or enter) to edit"
      ],
      "metadata": {
        "id": "GGDkSwpWiXbA"
      },
      "id": "GGDkSwpWiXbA"
    },
    {
      "cell_type": "markdown",
      "id": "fcf820e2-426e-4554-a1a6-20cec9cacd12",
      "metadata": {
        "id": "fcf820e2-426e-4554-a1a6-20cec9cacd12"
      },
      "source": [
        "#### **Question 8**: What do you think the slope in this context means?"
      ]
    },
    {
      "cell_type": "markdown",
      "source": [
        "Double-click (or enter) to edit"
      ],
      "metadata": {
        "id": "oAadvPHziYWI"
      },
      "id": "oAadvPHziYWI"
    },
    {
      "cell_type": "markdown",
      "id": "729bb783-ffba-4799-a915-79128060f180",
      "metadata": {
        "id": "729bb783-ffba-4799-a915-79128060f180"
      },
      "source": [
        "### Finish checking model assumptions.\n",
        "\n",
        "Now that you've built the linear regression model and fit it to the data, you can finish checking the model assumptions. This will help confirm your findings."
      ]
    },
    {
      "cell_type": "markdown",
      "id": "c8ebe78d-32ba-4213-b58b-3f0aad1774aa",
      "metadata": {
        "id": "c8ebe78d-32ba-4213-b58b-3f0aad1774aa"
      },
      "source": [
        "### Plot the OLS data with the best fit regression line."
      ]
    },
    {
      "cell_type": "code",
      "execution_count": null,
      "id": "a41ef379-d2a6-474b-80ce-61dc7a6ad7dd",
      "metadata": {
        "id": "a41ef379-d2a6-474b-80ce-61dc7a6ad7dd"
      },
      "outputs": [],
      "source": [
        "# Plot the OLS data with the best fit regression line\n",
        "\n",
        "### YOUR CODE HERE ###\n"
      ]
    },
    {
      "cell_type": "markdown",
      "id": "3684ed67-e472-4800-a0b0-b43774541afb",
      "metadata": {
        "tags": [],
        "id": "3684ed67-e472-4800-a0b0-b43774541afb"
      },
      "source": [
        "<details>\n",
        "<summary><h4><strong>HINT 1</strong></h4></summary>\n",
        "\n",
        "  You may find it helpful to refer back to what you learned where plotting the data with the best fit regression line is discussed.  \n",
        "\n",
        "</details>"
      ]
    },
    {
      "cell_type": "markdown",
      "id": "516bc013-1786-4551-91a5-088cf27c9cb1",
      "metadata": {
        "tags": [],
        "id": "516bc013-1786-4551-91a5-088cf27c9cb1"
      },
      "source": [
        "<details>\n",
        "<summary><h4><strong>HINT 2</strong></h4></summary>\n",
        "\n",
        "  There is a function from the `seaborn` library that can be useful here.\n",
        "\n",
        "</details>"
      ]
    },
    {
      "cell_type": "markdown",
      "id": "098a9e51-5138-411b-bde8-0c622ce10323",
      "metadata": {
        "tags": [],
        "id": "098a9e51-5138-411b-bde8-0c622ce10323"
      },
      "source": [
        "<details>\n",
        "<summary><h4><strong>HINT 3</strong></h4></summary>\n",
        "\n",
        "  You can call the `regplot()` function from the `seaborn` library.\n",
        "\n",
        "</details>"
      ]
    },
    {
      "cell_type": "markdown",
      "id": "ad67e686-dd0e-4582-b867-47fe112a53f0",
      "metadata": {
        "id": "ad67e686-dd0e-4582-b867-47fe112a53f0"
      },
      "source": [
        "#### **Question 9**: What do you observe from the regression plot above?"
      ]
    },
    {
      "cell_type": "markdown",
      "source": [
        "Double-click (or enter) to edit"
      ],
      "metadata": {
        "id": "AhZ1_iEiiZrS"
      },
      "id": "AhZ1_iEiiZrS"
    },
    {
      "cell_type": "markdown",
      "id": "72138441-ca7c-4afe-bfe4-aaf0e7aada24",
      "metadata": {
        "id": "72138441-ca7c-4afe-bfe4-aaf0e7aada24"
      },
      "source": [
        "### Check the normality assumption.\n",
        "Get the residuals from the model."
      ]
    },
    {
      "cell_type": "code",
      "execution_count": null,
      "id": "78650cbb-eb48-469f-88b7-f91914b79ea4",
      "metadata": {
        "id": "78650cbb-eb48-469f-88b7-f91914b79ea4"
      },
      "outputs": [],
      "source": [
        "# Get the residuals from the model\n",
        "\n",
        "### YOUR CODE HERE ###\n"
      ]
    },
    {
      "cell_type": "markdown",
      "id": "253395c5-75ef-4791-85b3-a6be7a2683ce",
      "metadata": {
        "tags": [],
        "id": "253395c5-75ef-4791-85b3-a6be7a2683ce"
      },
      "source": [
        "<details>\n",
        "<summary><h4><strong>HINT 1</strong></h4></summary>\n",
        "\n",
        "  You may find it helpful to refer back to what you learned where accessing residuals is discussed.  \n",
        "\n",
        "</details>"
      ]
    },
    {
      "cell_type": "markdown",
      "id": "3ab36332-ff4d-4ff0-89d9-96c15a86d005",
      "metadata": {
        "tags": [],
        "id": "3ab36332-ff4d-4ff0-89d9-96c15a86d005"
      },
      "source": [
        "<details>\n",
        "<summary><h4><strong>HINT 2</strong></h4></summary>\n",
        "\n",
        "  There is an attribute from the `statsmodels` library that can be called to get the residuals from a fitted model.\n",
        "\n",
        "</details>"
      ]
    },
    {
      "cell_type": "markdown",
      "id": "3d6c0477-af7c-4850-8a4e-db8cde350c6d",
      "metadata": {
        "tags": [],
        "id": "3d6c0477-af7c-4850-8a4e-db8cde350c6d"
      },
      "source": [
        "<details>\n",
        "<summary><h4><strong>HINT 3</strong></h4></summary>\n",
        "\n",
        "  You can call the `resid` attribute from the `statsmodels` library.\n",
        "\n",
        "</details>"
      ]
    },
    {
      "cell_type": "markdown",
      "id": "666b1d10-0aaa-46c8-ba9f-fc096e1ec989",
      "metadata": {
        "id": "666b1d10-0aaa-46c8-ba9f-fc096e1ec989"
      },
      "source": [
        "#### Visualize the distribution of the residuals."
      ]
    },
    {
      "cell_type": "code",
      "execution_count": null,
      "id": "1ea40581-121a-4d71-b421-7a888fd3b538",
      "metadata": {
        "id": "1ea40581-121a-4d71-b421-7a888fd3b538"
      },
      "outputs": [],
      "source": [
        "# Visualize the distribution of the residuals\n",
        "\n",
        "### YOUR CODE HERE ###\n"
      ]
    },
    {
      "cell_type": "markdown",
      "id": "4c3bb284-6e46-4c13-84ea-d40f3898ec0c",
      "metadata": {
        "tags": [],
        "id": "4c3bb284-6e46-4c13-84ea-d40f3898ec0c"
      },
      "source": [
        "<details>\n",
        "<summary><h4><strong>HINT 1</strong></h4></summary>\n",
        "\n",
        "  You may find it helpful to refer back to what you learned where visualizing residuals is discussed.  \n",
        "\n",
        "</details>"
      ]
    },
    {
      "cell_type": "markdown",
      "id": "e7124d39-997b-4bee-b6b5-e42d10f7f83e",
      "metadata": {
        "tags": [],
        "id": "e7124d39-997b-4bee-b6b5-e42d10f7f83e"
      },
      "source": [
        "<details>\n",
        "<summary><h4><strong>HINT 2</strong></h4></summary>\n",
        "\n",
        "  There is a function from the `seaborn` library that can be called to create a histogram.\n",
        "\n",
        "</details>"
      ]
    },
    {
      "cell_type": "markdown",
      "id": "693b2c61-7196-4e72-86e7-f35722739f0f",
      "metadata": {
        "tags": [],
        "id": "693b2c61-7196-4e72-86e7-f35722739f0f"
      },
      "source": [
        "<details>\n",
        "<summary><h4><strong>HINT 3</strong></h4></summary>\n",
        "\n",
        "  You can call the `histplot()` function from the `seaborn` library.\n",
        "\n",
        "</details>"
      ]
    },
    {
      "cell_type": "markdown",
      "id": "a7eca70a-cbe7-4e61-b712-3eae5cf6da34",
      "metadata": {
        "id": "a7eca70a-cbe7-4e61-b712-3eae5cf6da34"
      },
      "source": [
        "#### **Question 10**: Based on the visualization above, what do you observe about the distribution of the residuals?"
      ]
    },
    {
      "cell_type": "markdown",
      "source": [
        "Double-click (or enter) to edit"
      ],
      "metadata": {
        "id": "nymTKHlGia2z"
      },
      "id": "nymTKHlGia2z"
    },
    {
      "cell_type": "markdown",
      "id": "368b2874-1289-465d-a2cd-c0b24dacf682",
      "metadata": {
        "id": "368b2874-1289-465d-a2cd-c0b24dacf682"
      },
      "source": [
        "### Create a Q-Q plot to confirm the assumption of normality."
      ]
    },
    {
      "cell_type": "code",
      "execution_count": null,
      "id": "475aa7cd-c410-4116-93eb-6b6607f75409",
      "metadata": {
        "id": "475aa7cd-c410-4116-93eb-6b6607f75409"
      },
      "outputs": [],
      "source": [
        "# Create a Q-Q plot \n",
        "\n",
        "### YOUR CODE HERE ###\n",
        "\n"
      ]
    },
    {
      "cell_type": "markdown",
      "id": "2f5278be-49cd-4cb3-80a2-dccae87192fd",
      "metadata": {
        "tags": [],
        "id": "2f5278be-49cd-4cb3-80a2-dccae87192fd"
      },
      "source": [
        "<details>\n",
        "<summary><h4><strong>HINT 1</strong></h4></summary>\n",
        "\n",
        "  You may find it helpful to refer back to what you learned where creating a Q-Q plot is discussed.  \n",
        "\n",
        "</details>"
      ]
    },
    {
      "cell_type": "markdown",
      "id": "e1d4e7e6-55df-4fa3-97b1-5306b38ceb67",
      "metadata": {
        "tags": [],
        "id": "e1d4e7e6-55df-4fa3-97b1-5306b38ceb67"
      },
      "source": [
        "<details>\n",
        "<summary><h4><strong>HINT 2</strong></h4></summary>\n",
        "\n",
        "  There is a function from the `seaborn` library that can be called to create a Q-Q plot.\n",
        "\n",
        "</details>"
      ]
    },
    {
      "cell_type": "markdown",
      "id": "48c76f2c-459a-497e-ab7b-4a812166c627",
      "metadata": {
        "tags": [],
        "id": "48c76f2c-459a-497e-ab7b-4a812166c627"
      },
      "source": [
        "<details>\n",
        "<summary><h4><strong>HINT 3</strong></h4></summary>\n",
        "\n",
        "  You can call the `qqplot()` function from the `seaborn` library.\n",
        "\n",
        "</details>"
      ]
    },
    {
      "cell_type": "markdown",
      "id": "b343172c-32e9-4d71-a353-5b769460afe1",
      "metadata": {
        "id": "b343172c-32e9-4d71-a353-5b769460afe1"
      },
      "source": [
        "#### **Question 11**: Is the assumption of normality met?"
      ]
    },
    {
      "cell_type": "markdown",
      "source": [
        "Double-click (or enter) to edit"
      ],
      "metadata": {
        "id": "rZCW2Sfsib7T"
      },
      "id": "rZCW2Sfsib7T"
    },
    {
      "cell_type": "markdown",
      "id": "f0cd9598-a10f-4ba4-8103-a4fe017017ce",
      "metadata": {
        "id": "f0cd9598-a10f-4ba4-8103-a4fe017017ce"
      },
      "source": [
        "### Check the assumptions of independentobservation and homoskedasticity.\n",
        "\n",
        "Start by getting the fitted values from the model."
      ]
    },
    {
      "cell_type": "code",
      "execution_count": null,
      "id": "7a1df62d-2597-409b-9e1b-5a0b72a01359",
      "metadata": {
        "id": "7a1df62d-2597-409b-9e1b-5a0b72a01359"
      },
      "outputs": [],
      "source": [
        "# Get fitted values\n",
        "\n",
        "### YOUR CODE HERE ###\n"
      ]
    },
    {
      "cell_type": "markdown",
      "id": "9026e8bb-07a0-4263-b664-0448b6fb934e",
      "metadata": {
        "tags": [],
        "id": "9026e8bb-07a0-4263-b664-0448b6fb934e"
      },
      "source": [
        "<details>\n",
        "<summary><h4><strong>HINT 1</strong></h4></summary>\n",
        "\n",
        "  You may find it helpful to refer back to what you learned where calculating fitted values is discussed.  \n",
        "\n",
        "</details>"
      ]
    },
    {
      "cell_type": "markdown",
      "id": "a6123afa-c5e8-4d45-a2d6-e6750d748f95",
      "metadata": {
        "tags": [],
        "id": "a6123afa-c5e8-4d45-a2d6-e6750d748f95"
      },
      "source": [
        "<details>\n",
        "<summary><h4><strong>HINT 2</strong></h4></summary>\n",
        "\n",
        "  There is a function from the `statsmodels` library that can be called to calculate fitted values from the model.\n",
        "\n",
        "</details>"
      ]
    },
    {
      "cell_type": "markdown",
      "id": "b8034b30-f8e9-4b38-8afb-c7ed38b94711",
      "metadata": {
        "tags": [],
        "id": "b8034b30-f8e9-4b38-8afb-c7ed38b94711"
      },
      "source": [
        "<details>\n",
        "<summary><h4><strong>HINT 3</strong></h4></summary>\n",
        "\n",
        "  You can call the `predict()` function from the `statsmodels` library. Make sure to pass in the column from `ols_data` corresponding to the x variable.\n",
        "\n",
        "</details>"
      ]
    },
    {
      "cell_type": "markdown",
      "id": "309d0258-0c94-4857-be28-ae67b282ce3d",
      "metadata": {
        "id": "309d0258-0c94-4857-be28-ae67b282ce3d"
      },
      "source": [
        "Create a scatterplot of the residuals against the fitted values."
      ]
    },
    {
      "cell_type": "code",
      "execution_count": null,
      "id": "baec4c75-1b60-4c3f-bcb2-56abea7088bd",
      "metadata": {
        "id": "baec4c75-1b60-4c3f-bcb2-56abea7088bd"
      },
      "outputs": [],
      "source": [
        "# Create a scatterplot of residuals against fitted values\n",
        "\n",
        "### YOUR CODE HERE ###\n",
        "\n"
      ]
    },
    {
      "cell_type": "markdown",
      "id": "afe532da-1b40-496c-b948-47e4b426246c",
      "metadata": {
        "tags": [],
        "id": "afe532da-1b40-496c-b948-47e4b426246c"
      },
      "source": [
        "<details>\n",
        "<summary><h4><strong>HINT 1</strong></h4></summary>\n",
        "\n",
        "  You may find it helpful to refer back to what you learned where visualizing residuals against fitted values is discussed.\n",
        "\n",
        "</details>"
      ]
    },
    {
      "cell_type": "markdown",
      "id": "a3b18175-7f72-44a7-8a17-046ba30dc4c6",
      "metadata": {
        "tags": [],
        "id": "a3b18175-7f72-44a7-8a17-046ba30dc4c6"
      },
      "source": [
        "<details>\n",
        "<summary><h4><strong>HINT 2</strong></h4></summary>\n",
        "\n",
        "  There is a function from the `seaborn` library that can be called to create a scatterplot.\n",
        "\n",
        "</details>"
      ]
    },
    {
      "cell_type": "markdown",
      "id": "81b77acb-1e0b-44b4-89be-123d3843e2a6",
      "metadata": {
        "tags": [],
        "id": "81b77acb-1e0b-44b4-89be-123d3843e2a6"
      },
      "source": [
        "<details>\n",
        "  <summary><h4>HINT 3</h4></summary>\n",
        "\n",
        "  You can call the `scatterplot()` function from the `seaborn` library.\n",
        "\n",
        "</details>"
      ]
    },
    {
      "cell_type": "markdown",
      "id": "93d6469f-8fc1-4cbb-b551-d7be8f506f3e",
      "metadata": {
        "id": "93d6469f-8fc1-4cbb-b551-d7be8f506f3e"
      },
      "source": [
        "#### **Question 12**: Are the assumptions of independent observation and homoskedasticity met?\n"
      ]
    },
    {
      "cell_type": "markdown",
      "source": [
        "Double-click (or enter) to edit"
      ],
      "metadata": {
        "id": "qceg6rqUidGl"
      },
      "id": "qceg6rqUidGl"
    },
    {
      "cell_type": "markdown",
      "id": "29f336ab-8b70-446e-9498-b56740728e87",
      "metadata": {
        "id": "29f336ab-8b70-446e-9498-b56740728e87"
      },
      "source": [
        "## Conclusion"
      ]
    },
    {
      "cell_type": "markdown",
      "source": [
        "**What are some key takeaways from this lab?**"
      ],
      "metadata": {
        "id": "B8QDsK1eZ691"
      },
      "id": "B8QDsK1eZ691"
    },
    {
      "cell_type": "markdown",
      "source": [
        "Double-click (or enter) to edit"
      ],
      "metadata": {
        "id": "s9QOOQVViyS8"
      },
      "id": "s9QOOQVViyS8"
    },
    {
      "cell_type": "markdown",
      "source": [
        "**What results can be presented from this lab?**"
      ],
      "metadata": {
        "id": "TAf52zLaiqys"
      },
      "id": "TAf52zLaiqys"
    },
    {
      "cell_type": "markdown",
      "source": [
        "Double-click (or enter) to edit"
      ],
      "metadata": {
        "id": "fSVZtCPhizkd"
      },
      "id": "fSVZtCPhizkd"
    },
    {
      "cell_type": "markdown",
      "source": [
        "**How would you frame your findings to external stakeholders?**"
      ],
      "metadata": {
        "id": "Wi_DUs07it_J"
      },
      "id": "Wi_DUs07it_J"
    },
    {
      "cell_type": "markdown",
      "source": [
        "Double-click (or enter) to edit"
      ],
      "metadata": {
        "id": "gedSOV7ni0YB"
      },
      "id": "gedSOV7ni0YB"
    },
    {
      "cell_type": "markdown",
      "source": [
        "**References**\n",
        "\n",
        "Pandas.DataFrame.Any — Pandas 1.4.3 Documentation. https://pandas.pydata.org/docs/reference/api/pandas.DataFrame.any.html.\n",
        "\n",
        "Pandas.DataFrame.Isna — Pandas 1.4.3 Documentation. https://pandas.pydata.org/docs/reference/api/pandas.DataFrame.isna.html.\n",
        "\n",
        "Pandas.Series.Sum — Pandas 1.4.3 Documentation. https://pandas.pydata.org/docs/reference/api/pandas.Series.sum.html.\n",
        "\n",
        "Saragih, H.S. *Dummy Marketing and Sales Data*. https://www.kaggle.com/datasets/harrimansaragih/dummy-advertising-and-sales-data."
      ],
      "metadata": {
        "id": "TLd689mcydX2"
      },
      "id": "TLd689mcydX2"
    },
    {
      "cell_type": "code",
      "source": [],
      "metadata": {
        "id": "acUurV2B5LZX"
      },
      "id": "acUurV2B5LZX",
      "execution_count": null,
      "outputs": []
    }
  ],
  "metadata": {
    "kernelspec": {
      "display_name": "Python 3 (ipykernel)",
      "language": "python",
      "name": "python3"
    },
    "language_info": {
      "codemirror_mode": {
        "name": "ipython",
        "version": 3
      },
      "file_extension": ".py",
      "mimetype": "text/x-python",
      "name": "python",
      "nbconvert_exporter": "python",
      "pygments_lexer": "ipython3",
      "version": "3.10.4"
    },
    "colab": {
      "provenance": [],
      "collapsed_sections": [
        "04271393-b4a7-40b8-8cfd-6dfd815f52bd",
        "29ec7e9e-ded4-4621-9ef1-62836b90b3a6",
        "dbdbfc1c-fce0-4813-aafe-c58bfaa436b6",
        "3521b6db-6c35-4574-9bea-17af4ef3dd96",
        "ad67e686-dd0e-4582-b867-47fe112a53f0",
        "a7eca70a-cbe7-4e61-b712-3eae5cf6da34",
        "b343172c-32e9-4d71-a353-5b769460afe1"
      ],
      "include_colab_link": true
    }
  },
  "nbformat": 4,
  "nbformat_minor": 5
}