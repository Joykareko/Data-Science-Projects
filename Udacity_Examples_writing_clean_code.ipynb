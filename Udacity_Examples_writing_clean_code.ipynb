{
  "nbformat": 4,
  "nbformat_minor": 0,
  "metadata": {
    "colab": {
      "name": "Udacity Examples-writing clean code",
      "provenance": [],
      "authorship_tag": "ABX9TyNWjGnv7bDhZ5aidGqHkSDN",
      "include_colab_link": true
    },
    "kernelspec": {
      "name": "python3",
      "display_name": "Python 3"
    },
    "language_info": {
      "name": "python"
    }
  },
  "cells": [
    {
      "cell_type": "markdown",
      "metadata": {
        "id": "view-in-github",
        "colab_type": "text"
      },
      "source": [
        "<a href=\"https://colab.research.google.com/github/Joykareko/Data-Science-Projects/blob/main/Udacity_Examples_writing_clean_code.ipynb\" target=\"_parent\"><img src=\"https://colab.research.google.com/assets/colab-badge.svg\" alt=\"Open In Colab\"/></a>"
      ]
    },
    {
      "cell_type": "code",
      "metadata": {
        "colab": {
          "base_uri": "https://localhost:8080/",
          "height": 223
        },
        "id": "z2Vjnc30E6qf",
        "outputId": "30407765-d7c8-41f9-95b6-0bc23fe3d8db"
      },
      "source": [
        "import pandas as pd\n",
        "df = pd.read_csv('/content/winequality-red (1).csv', sep=';')\n",
        "df.head()"
      ],
      "execution_count": 1,
      "outputs": [
        {
          "output_type": "execute_result",
          "data": {
            "text/html": [
              "<div>\n",
              "<style scoped>\n",
              "    .dataframe tbody tr th:only-of-type {\n",
              "        vertical-align: middle;\n",
              "    }\n",
              "\n",
              "    .dataframe tbody tr th {\n",
              "        vertical-align: top;\n",
              "    }\n",
              "\n",
              "    .dataframe thead th {\n",
              "        text-align: right;\n",
              "    }\n",
              "</style>\n",
              "<table border=\"1\" class=\"dataframe\">\n",
              "  <thead>\n",
              "    <tr style=\"text-align: right;\">\n",
              "      <th></th>\n",
              "      <th>fixed acidity</th>\n",
              "      <th>volatile acidity</th>\n",
              "      <th>citric acid</th>\n",
              "      <th>residual sugar</th>\n",
              "      <th>chlorides</th>\n",
              "      <th>free sulfur dioxide</th>\n",
              "      <th>total sulfur dioxide</th>\n",
              "      <th>density</th>\n",
              "      <th>pH</th>\n",
              "      <th>sulphates</th>\n",
              "      <th>alcohol</th>\n",
              "      <th>quality</th>\n",
              "    </tr>\n",
              "  </thead>\n",
              "  <tbody>\n",
              "    <tr>\n",
              "      <th>0</th>\n",
              "      <td>7.4</td>\n",
              "      <td>0.70</td>\n",
              "      <td>0.00</td>\n",
              "      <td>1.9</td>\n",
              "      <td>0.076</td>\n",
              "      <td>11.0</td>\n",
              "      <td>34.0</td>\n",
              "      <td>0.9978</td>\n",
              "      <td>3.51</td>\n",
              "      <td>0.56</td>\n",
              "      <td>9.4</td>\n",
              "      <td>5</td>\n",
              "    </tr>\n",
              "    <tr>\n",
              "      <th>1</th>\n",
              "      <td>7.8</td>\n",
              "      <td>0.88</td>\n",
              "      <td>0.00</td>\n",
              "      <td>2.6</td>\n",
              "      <td>0.098</td>\n",
              "      <td>25.0</td>\n",
              "      <td>67.0</td>\n",
              "      <td>0.9968</td>\n",
              "      <td>3.20</td>\n",
              "      <td>0.68</td>\n",
              "      <td>9.8</td>\n",
              "      <td>5</td>\n",
              "    </tr>\n",
              "    <tr>\n",
              "      <th>2</th>\n",
              "      <td>7.8</td>\n",
              "      <td>0.76</td>\n",
              "      <td>0.04</td>\n",
              "      <td>2.3</td>\n",
              "      <td>0.092</td>\n",
              "      <td>15.0</td>\n",
              "      <td>54.0</td>\n",
              "      <td>0.9970</td>\n",
              "      <td>3.26</td>\n",
              "      <td>0.65</td>\n",
              "      <td>9.8</td>\n",
              "      <td>5</td>\n",
              "    </tr>\n",
              "    <tr>\n",
              "      <th>3</th>\n",
              "      <td>11.2</td>\n",
              "      <td>0.28</td>\n",
              "      <td>0.56</td>\n",
              "      <td>1.9</td>\n",
              "      <td>0.075</td>\n",
              "      <td>17.0</td>\n",
              "      <td>60.0</td>\n",
              "      <td>0.9980</td>\n",
              "      <td>3.16</td>\n",
              "      <td>0.58</td>\n",
              "      <td>9.8</td>\n",
              "      <td>6</td>\n",
              "    </tr>\n",
              "    <tr>\n",
              "      <th>4</th>\n",
              "      <td>7.4</td>\n",
              "      <td>0.70</td>\n",
              "      <td>0.00</td>\n",
              "      <td>1.9</td>\n",
              "      <td>0.076</td>\n",
              "      <td>11.0</td>\n",
              "      <td>34.0</td>\n",
              "      <td>0.9978</td>\n",
              "      <td>3.51</td>\n",
              "      <td>0.56</td>\n",
              "      <td>9.4</td>\n",
              "      <td>5</td>\n",
              "    </tr>\n",
              "  </tbody>\n",
              "</table>\n",
              "</div>"
            ],
            "text/plain": [
              "   fixed acidity  volatile acidity  citric acid  ...  sulphates  alcohol  quality\n",
              "0            7.4              0.70         0.00  ...       0.56      9.4        5\n",
              "1            7.8              0.88         0.00  ...       0.68      9.8        5\n",
              "2            7.8              0.76         0.04  ...       0.65      9.8        5\n",
              "3           11.2              0.28         0.56  ...       0.58      9.8        6\n",
              "4            7.4              0.70         0.00  ...       0.56      9.4        5\n",
              "\n",
              "[5 rows x 12 columns]"
            ]
          },
          "metadata": {},
          "execution_count": 1
        }
      ]
    },
    {
      "cell_type": "code",
      "metadata": {
        "colab": {
          "base_uri": "https://localhost:8080/",
          "height": 226
        },
        "id": "aihMBujtFNhX",
        "outputId": "46b7340f-b337-49d3-879e-3506aadd32d4"
      },
      "source": [
        "## Renaming Columns\n",
        "\n",
        "df.columns = [label.replace(' ', '_') for label in df.columns]\n",
        "df.head()"
      ],
      "execution_count": 2,
      "outputs": [
        {
          "output_type": "execute_result",
          "data": {
            "text/html": [
              "<div>\n",
              "<style scoped>\n",
              "    .dataframe tbody tr th:only-of-type {\n",
              "        vertical-align: middle;\n",
              "    }\n",
              "\n",
              "    .dataframe tbody tr th {\n",
              "        vertical-align: top;\n",
              "    }\n",
              "\n",
              "    .dataframe thead th {\n",
              "        text-align: right;\n",
              "    }\n",
              "</style>\n",
              "<table border=\"1\" class=\"dataframe\">\n",
              "  <thead>\n",
              "    <tr style=\"text-align: right;\">\n",
              "      <th></th>\n",
              "      <th>fixed_acidity</th>\n",
              "      <th>volatile_acidity</th>\n",
              "      <th>citric_acid</th>\n",
              "      <th>residual_sugar</th>\n",
              "      <th>chlorides</th>\n",
              "      <th>free_sulfur_dioxide</th>\n",
              "      <th>total_sulfur_dioxide</th>\n",
              "      <th>density</th>\n",
              "      <th>pH</th>\n",
              "      <th>sulphates</th>\n",
              "      <th>alcohol</th>\n",
              "      <th>quality</th>\n",
              "    </tr>\n",
              "  </thead>\n",
              "  <tbody>\n",
              "    <tr>\n",
              "      <th>0</th>\n",
              "      <td>7.4</td>\n",
              "      <td>0.70</td>\n",
              "      <td>0.00</td>\n",
              "      <td>1.9</td>\n",
              "      <td>0.076</td>\n",
              "      <td>11.0</td>\n",
              "      <td>34.0</td>\n",
              "      <td>0.9978</td>\n",
              "      <td>3.51</td>\n",
              "      <td>0.56</td>\n",
              "      <td>9.4</td>\n",
              "      <td>5</td>\n",
              "    </tr>\n",
              "    <tr>\n",
              "      <th>1</th>\n",
              "      <td>7.8</td>\n",
              "      <td>0.88</td>\n",
              "      <td>0.00</td>\n",
              "      <td>2.6</td>\n",
              "      <td>0.098</td>\n",
              "      <td>25.0</td>\n",
              "      <td>67.0</td>\n",
              "      <td>0.9968</td>\n",
              "      <td>3.20</td>\n",
              "      <td>0.68</td>\n",
              "      <td>9.8</td>\n",
              "      <td>5</td>\n",
              "    </tr>\n",
              "    <tr>\n",
              "      <th>2</th>\n",
              "      <td>7.8</td>\n",
              "      <td>0.76</td>\n",
              "      <td>0.04</td>\n",
              "      <td>2.3</td>\n",
              "      <td>0.092</td>\n",
              "      <td>15.0</td>\n",
              "      <td>54.0</td>\n",
              "      <td>0.9970</td>\n",
              "      <td>3.26</td>\n",
              "      <td>0.65</td>\n",
              "      <td>9.8</td>\n",
              "      <td>5</td>\n",
              "    </tr>\n",
              "    <tr>\n",
              "      <th>3</th>\n",
              "      <td>11.2</td>\n",
              "      <td>0.28</td>\n",
              "      <td>0.56</td>\n",
              "      <td>1.9</td>\n",
              "      <td>0.075</td>\n",
              "      <td>17.0</td>\n",
              "      <td>60.0</td>\n",
              "      <td>0.9980</td>\n",
              "      <td>3.16</td>\n",
              "      <td>0.58</td>\n",
              "      <td>9.8</td>\n",
              "      <td>6</td>\n",
              "    </tr>\n",
              "    <tr>\n",
              "      <th>4</th>\n",
              "      <td>7.4</td>\n",
              "      <td>0.70</td>\n",
              "      <td>0.00</td>\n",
              "      <td>1.9</td>\n",
              "      <td>0.076</td>\n",
              "      <td>11.0</td>\n",
              "      <td>34.0</td>\n",
              "      <td>0.9978</td>\n",
              "      <td>3.51</td>\n",
              "      <td>0.56</td>\n",
              "      <td>9.4</td>\n",
              "      <td>5</td>\n",
              "    </tr>\n",
              "  </tbody>\n",
              "</table>\n",
              "</div>"
            ],
            "text/plain": [
              "   fixed_acidity  volatile_acidity  citric_acid  ...  sulphates  alcohol  quality\n",
              "0            7.4              0.70         0.00  ...       0.56      9.4        5\n",
              "1            7.8              0.88         0.00  ...       0.68      9.8        5\n",
              "2            7.8              0.76         0.04  ...       0.65      9.8        5\n",
              "3           11.2              0.28         0.56  ...       0.58      9.8        6\n",
              "4            7.4              0.70         0.00  ...       0.56      9.4        5\n",
              "\n",
              "[5 rows x 12 columns]"
            ]
          },
          "metadata": {},
          "execution_count": 2
        }
      ]
    },
    {
      "cell_type": "code",
      "metadata": {
        "id": "6SE0kl8pFcde"
      },
      "source": [
        "## Analyzing Features\n",
        "\n",
        "def numeric_to_buckets(df, column_name):\n",
        "    median = df[column_name].median()\n",
        "    for i, val in enumerate(df[column_name]):\n",
        "        if val >= median:\n",
        "            df.loc[i, column_name] = 'high'\n",
        "        else:\n",
        "            df.loc[i, column_name] = 'low' "
      ],
      "execution_count": 3,
      "outputs": []
    },
    {
      "cell_type": "code",
      "metadata": {
        "colab": {
          "base_uri": "https://localhost:8080/"
        },
        "id": "VDTx7Y1iFpVS",
        "outputId": "77f3ad81-43ff-492f-ad88-13f28dff0cac"
      },
      "source": [
        "for feature in df.columns[:-1]:\n",
        "    numeric_to_buckets(df, feature)\n",
        "    print(df.groupby(feature).quality.mean(), '\\n')"
      ],
      "execution_count": 4,
      "outputs": [
        {
          "output_type": "stream",
          "name": "stdout",
          "text": [
            "fixed_acidity\n",
            "high    5.726061\n",
            "low     5.540052\n",
            "Name: quality, dtype: float64 \n",
            "\n",
            "volatile_acidity\n",
            "high    5.392157\n",
            "low     5.890166\n",
            "Name: quality, dtype: float64 \n",
            "\n",
            "citric_acid\n",
            "high    5.822360\n",
            "low     5.447103\n",
            "Name: quality, dtype: float64 \n",
            "\n",
            "residual_sugar\n",
            "high    5.665880\n",
            "low     5.602394\n",
            "Name: quality, dtype: float64 \n",
            "\n",
            "chlorides\n",
            "high    5.507194\n",
            "low     5.776471\n",
            "Name: quality, dtype: float64 \n",
            "\n",
            "free_sulfur_dioxide\n",
            "high    5.595268\n",
            "low     5.677136\n",
            "Name: quality, dtype: float64 \n",
            "\n",
            "total_sulfur_dioxide\n",
            "high    5.522981\n",
            "low     5.750630\n",
            "Name: quality, dtype: float64 \n",
            "\n",
            "density\n",
            "high    5.540574\n",
            "low     5.731830\n",
            "Name: quality, dtype: float64 \n",
            "\n",
            "pH\n",
            "high    5.598039\n",
            "low     5.675607\n",
            "Name: quality, dtype: float64 \n",
            "\n",
            "sulphates\n",
            "high    5.898917\n",
            "low     5.351562\n",
            "Name: quality, dtype: float64 \n",
            "\n",
            "alcohol\n",
            "high    5.958904\n",
            "low     5.310302\n",
            "Name: quality, dtype: float64 \n",
            "\n"
          ]
        }
      ]
    },
    {
      "cell_type": "code",
      "metadata": {
        "colab": {
          "base_uri": "https://localhost:8080/"
        },
        "id": "7w3ABcl2Geed",
        "outputId": "d4587393-70e6-4b47-cbbd-88b545e1b5e2"
      },
      "source": [
        "import time\n",
        "import pandas as pd\n",
        "import numpy as np\n",
        "\n",
        "with open('/content/books-published-last-two-years.txt') as f:\n",
        "    recent_books = f.read().split('\\n')\n",
        "\n",
        "with open('/content/all-coding-books.txt') as f:\n",
        "    coding_books = f.read().split('\\n')\n",
        "\n",
        "start = time.time()\n",
        "recent_coding_books = []\n",
        "\n",
        "for book in recent_books:\n",
        "    if book in coding_books:\n",
        "        recent_coding_books.append(book)\n",
        "\n",
        "print(len(recent_coding_books))\n",
        "print('Duration: {} seconds'.format(time.time() - start))"
      ],
      "execution_count": 5,
      "outputs": [
        {
          "output_type": "stream",
          "name": "stdout",
          "text": [
            "96\n",
            "Duration: 16.600587368011475 seconds\n"
          ]
        }
      ]
    },
    {
      "cell_type": "code",
      "metadata": {
        "colab": {
          "base_uri": "https://localhost:8080/"
        },
        "id": "UmMMBMjiGlfb",
        "outputId": "0b291903-f469-4a50-ba1e-068f560dbca5"
      },
      "source": [
        "## Tip #1: Use vector operations over loops when possible\n",
        "\n",
        "start = time.time()\n",
        "recent_coding_books = np.intersect1d(recent_books, coding_books)\n",
        "print(len(recent_coding_books))\n",
        "print('Duration: {} seconds'.format(time.time() - start))\n",
        "\n",
        "## Tip #2: Know your data structures and which methods are faster\n",
        "\n",
        "start = time.time()\n",
        "recent_coding_books = set(recent_books).intersection(coding_books)\n",
        "print(len(recent_coding_books))\n",
        "print('Duration: {} seconds'.format(time.time() - start))"
      ],
      "execution_count": 6,
      "outputs": [
        {
          "output_type": "stream",
          "name": "stdout",
          "text": [
            "96\n",
            "Duration: 0.04017519950866699 seconds\n",
            "96\n",
            "Duration: 0.006872653961181641 seconds\n"
          ]
        }
      ]
    },
    {
      "cell_type": "code",
      "metadata": {
        "colab": {
          "base_uri": "https://localhost:8080/"
        },
        "id": "dje21rV6IBlr",
        "outputId": "89b4ff87-b414-4b31-87c5-00f155f82a8f"
      },
      "source": [
        "import time\n",
        "import numpy as np\n",
        "\n",
        "with open('/content/gift-costs.txt') as f:\n",
        "    gift_costs = f.read().split('\\n')\n",
        "\n",
        "gift_costs = np.array(gift_costs).astype(int)  # convert string to int\n",
        "\n",
        "start = time.time()\n",
        "\n",
        "total_price = 0\n",
        "for cost in gift_costs:\n",
        "    if cost < 25:\n",
        "        total_price += cost * 1.08  # add cost after tax\n",
        "\n",
        "print(total_price)\n",
        "print('Duration: {} seconds'.format(time.time() - start))\n",
        "\n",
        "## Refactor Code\n",
        "\n",
        "start = time.time()\n",
        "\n",
        "total_price = (gift_costs[gift_costs < 25]).sum() * 1.08\n",
        "print(total_price)\n",
        "\n",
        "print('Duration: {} seconds'.format(time.time() - start))"
      ],
      "execution_count": 7,
      "outputs": [
        {
          "output_type": "stream",
          "name": "stdout",
          "text": [
            "32765421.23999867\n",
            "Duration: 8.98597526550293 seconds\n",
            "32765421.240000002\n",
            "Duration: 0.07245159149169922 seconds\n"
          ]
        }
      ]
    }
  ]
}