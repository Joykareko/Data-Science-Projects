{
  "nbformat": 4,
  "nbformat_minor": 0,
  "metadata": {
    "colab": {
      "name": "Kenyas Politics Sentiment Analysis-ML Project 10",
      "provenance": [],
      "authorship_tag": "ABX9TyMCtEOvuHqMUc7z77rBn3OS",
      "include_colab_link": true
    },
    "kernelspec": {
      "name": "python3",
      "display_name": "Python 3"
    },
    "language_info": {
      "name": "python"
    }
  },
  "cells": [
    {
      "cell_type": "markdown",
      "metadata": {
        "id": "view-in-github",
        "colab_type": "text"
      },
      "source": [
        "<a href=\"https://colab.research.google.com/github/Joykareko/Data-Science-Projects/blob/main/Kenyas_Politics_Sentiment_Analysis_ML_Project_10.ipynb\" target=\"_parent\"><img src=\"https://colab.research.google.com/assets/colab-badge.svg\" alt=\"Open In Colab\"/></a>"
      ]
    },
    {
      "cell_type": "code",
      "metadata": {
        "id": "6GXEtcyCir7h"
      },
      "source": [
        "#importing the dependencies\n",
        "import pandas as pd\n",
        "import numpy as np\n",
        "import matplotlib.pyplot as plt\n",
        "import seaborn as sns\n",
        "import re\n",
        "from nltk.corpus import stopwords\n",
        "from nltk.stem.porter import PorterStemmer\n",
        "from sklearn.feature_extraction.text import TfidfVectorizer\n",
        "from sklearn.model_selection import train_test_split\n",
        "from sklearn.linear_model import LogisticRegression\n",
        "from sklearn.metrics import accuracy_score"
      ],
      "execution_count": 1,
      "outputs": []
    },
    {
      "cell_type": "code",
      "metadata": {
        "id": "LEQnJnbRlB9X"
      },
      "source": [
        "from textblob import TextBlob\n",
        "from wordcloud import WordCloud"
      ],
      "execution_count": 2,
      "outputs": []
    },
    {
      "cell_type": "code",
      "metadata": {
        "colab": {
          "base_uri": "https://localhost:8080/",
          "height": 319
        },
        "id": "EFQjcWAKkGcy",
        "outputId": "22c75f94-2174-4d0e-a19d-a51946e1cd01"
      },
      "source": [
        "#loading the data\n",
        "election_data = pd.read_csv('/content/kenya_political_tweets.csv')\n",
        "election_data.head(3)"
      ],
      "execution_count": 3,
      "outputs": [
        {
          "output_type": "execute_result",
          "data": {
            "text/html": [
              "<div>\n",
              "<style scoped>\n",
              "    .dataframe tbody tr th:only-of-type {\n",
              "        vertical-align: middle;\n",
              "    }\n",
              "\n",
              "    .dataframe tbody tr th {\n",
              "        vertical-align: top;\n",
              "    }\n",
              "\n",
              "    .dataframe thead th {\n",
              "        text-align: right;\n",
              "    }\n",
              "</style>\n",
              "<table border=\"1\" class=\"dataframe\">\n",
              "  <thead>\n",
              "    <tr style=\"text-align: right;\">\n",
              "      <th></th>\n",
              "      <th>id</th>\n",
              "      <th>user_name</th>\n",
              "      <th>user_location</th>\n",
              "      <th>user_description</th>\n",
              "      <th>user_created</th>\n",
              "      <th>user_followers</th>\n",
              "      <th>user_friends</th>\n",
              "      <th>user_favourites</th>\n",
              "      <th>user_verified</th>\n",
              "      <th>date</th>\n",
              "      <th>text</th>\n",
              "      <th>hashtags</th>\n",
              "      <th>source</th>\n",
              "      <th>retweets</th>\n",
              "      <th>favorites</th>\n",
              "      <th>is_retweet</th>\n",
              "    </tr>\n",
              "  </thead>\n",
              "  <tbody>\n",
              "    <tr>\n",
              "      <th>0</th>\n",
              "      <td>1396091006030856192</td>\n",
              "      <td>Doomster</td>\n",
              "      <td>Utopia slums</td>\n",
              "      <td>Alt-left, liberal, pronoun:them</td>\n",
              "      <td>2009-08-23 12:22:53</td>\n",
              "      <td>309</td>\n",
              "      <td>907</td>\n",
              "      <td>8050</td>\n",
              "      <td>False</td>\n",
              "      <td>2021-05-22 13:10:08</td>\n",
              "      <td>@PrettyAmmina The change to the new blue unifo...</td>\n",
              "      <td>NaN</td>\n",
              "      <td>Twitter Web App</td>\n",
              "      <td>0.0</td>\n",
              "      <td>0.0</td>\n",
              "      <td>False</td>\n",
              "    </tr>\n",
              "    <tr>\n",
              "      <th>1</th>\n",
              "      <td>1395981137764397056</td>\n",
              "      <td>Unruly 🗯</td>\n",
              "      <td>Morayfield</td>\n",
              "      <td>I don't know what you thought this was gonna b...</td>\n",
              "      <td>2011-04-20 19:35:54</td>\n",
              "      <td>1053</td>\n",
              "      <td>523</td>\n",
              "      <td>5279</td>\n",
              "      <td>False</td>\n",
              "      <td>2021-05-22 05:53:33</td>\n",
              "      <td>I think it's now safe to say President Uhuru K...</td>\n",
              "      <td>NaN</td>\n",
              "      <td>Twitter for Android</td>\n",
              "      <td>0.0</td>\n",
              "      <td>0.0</td>\n",
              "      <td>False</td>\n",
              "    </tr>\n",
              "    <tr>\n",
              "      <th>2</th>\n",
              "      <td>1395433210490798082</td>\n",
              "      <td>Khavin</td>\n",
              "      <td>Nairobi</td>\n",
              "      <td>CCTV installation and MAINTENANCE technician. ...</td>\n",
              "      <td>2020-02-11 04:52:44</td>\n",
              "      <td>4202</td>\n",
              "      <td>3735</td>\n",
              "      <td>29563</td>\n",
              "      <td>False</td>\n",
              "      <td>2021-05-20 17:36:17</td>\n",
              "      <td>@_CrazyKenyan President Uhuru Kenyatta bribed ...</td>\n",
              "      <td>['bbinonsense']</td>\n",
              "      <td>Twitter Web App</td>\n",
              "      <td>0.0</td>\n",
              "      <td>1.0</td>\n",
              "      <td>False</td>\n",
              "    </tr>\n",
              "  </tbody>\n",
              "</table>\n",
              "</div>"
            ],
            "text/plain": [
              "                    id user_name user_location  ... retweets favorites is_retweet\n",
              "0  1396091006030856192  Doomster  Utopia slums  ...      0.0       0.0      False\n",
              "1  1395981137764397056  Unruly 🗯    Morayfield  ...      0.0       0.0      False\n",
              "2  1395433210490798082    Khavin      Nairobi   ...      0.0       1.0      False\n",
              "\n",
              "[3 rows x 16 columns]"
            ]
          },
          "metadata": {},
          "execution_count": 3
        }
      ]
    },
    {
      "cell_type": "code",
      "metadata": {
        "colab": {
          "base_uri": "https://localhost:8080/"
        },
        "id": "eypEsdFlksMY",
        "outputId": "8f8d280d-9935-4781-9664-f32323a2f6e6"
      },
      "source": [
        "#checking the rows and columns\n",
        "election_data.shape"
      ],
      "execution_count": 4,
      "outputs": [
        {
          "output_type": "execute_result",
          "data": {
            "text/plain": [
              "(11723, 16)"
            ]
          },
          "metadata": {},
          "execution_count": 4
        }
      ]
    },
    {
      "cell_type": "code",
      "metadata": {
        "colab": {
          "base_uri": "https://localhost:8080/"
        },
        "id": "YH6LhyJal3ni",
        "outputId": "d1c97711-093a-4098-8bf3-25005a5731c1"
      },
      "source": [
        "#checking the general info\n",
        "election_data.info()"
      ],
      "execution_count": 5,
      "outputs": [
        {
          "output_type": "stream",
          "name": "stdout",
          "text": [
            "<class 'pandas.core.frame.DataFrame'>\n",
            "RangeIndex: 11723 entries, 0 to 11722\n",
            "Data columns (total 16 columns):\n",
            " #   Column            Non-Null Count  Dtype  \n",
            "---  ------            --------------  -----  \n",
            " 0   id                11723 non-null  object \n",
            " 1   user_name         11723 non-null  object \n",
            " 2   user_location     9239 non-null   object \n",
            " 3   user_description  10730 non-null  object \n",
            " 4   user_created      11722 non-null  object \n",
            " 5   user_followers    11722 non-null  object \n",
            " 6   user_friends      11722 non-null  object \n",
            " 7   user_favourites   11722 non-null  object \n",
            " 8   user_verified     11721 non-null  object \n",
            " 9   date              11722 non-null  object \n",
            " 10  text              11722 non-null  object \n",
            " 11  hashtags          1174 non-null   object \n",
            " 12  source            11722 non-null  object \n",
            " 13  retweets          11721 non-null  float64\n",
            " 14  favorites         11721 non-null  float64\n",
            " 15  is_retweet        11721 non-null  object \n",
            "dtypes: float64(2), object(14)\n",
            "memory usage: 1.4+ MB\n"
          ]
        }
      ]
    },
    {
      "cell_type": "code",
      "metadata": {
        "colab": {
          "base_uri": "https://localhost:8080/"
        },
        "id": "9fFgZh8jmGIW",
        "outputId": "f5cd7110-c628-40b9-f8cd-c249fa5ce655"
      },
      "source": [
        "#missing values?\n",
        "election_data.isnull().sum()"
      ],
      "execution_count": 6,
      "outputs": [
        {
          "output_type": "execute_result",
          "data": {
            "text/plain": [
              "id                      0\n",
              "user_name               0\n",
              "user_location        2484\n",
              "user_description      993\n",
              "user_created            1\n",
              "user_followers          1\n",
              "user_friends            1\n",
              "user_favourites         1\n",
              "user_verified           2\n",
              "date                    1\n",
              "text                    1\n",
              "hashtags            10549\n",
              "source                  1\n",
              "retweets                2\n",
              "favorites               2\n",
              "is_retweet              2\n",
              "dtype: int64"
            ]
          },
          "metadata": {},
          "execution_count": 6
        }
      ]
    },
    {
      "cell_type": "code",
      "metadata": {
        "colab": {
          "base_uri": "https://localhost:8080/"
        },
        "id": "UrgKkCQ_mO2f",
        "outputId": "546a6ed8-5b59-48aa-9064-fa165b8e2b63"
      },
      "source": [
        "#interested in user loaction and text\n",
        "election_data['user_location'].value_counts()"
      ],
      "execution_count": 7,
      "outputs": [
        {
          "output_type": "execute_result",
          "data": {
            "text/plain": [
              "Nairobi, Kenya                    2954\n",
              "Kenya                             1189\n",
              "Nairobi                            558\n",
              "Limuru, Kenya                      186\n",
              "Mombasa, Kenya                     173\n",
              "                                  ... \n",
              "South Carolina, USA                  1\n",
              "Nakuru,kenya                         1\n",
              "PFM Act-2012,Section 155(3)(b)       1\n",
              "Khachonge, Bungoma County            1\n",
              "Ndenderù                             1\n",
              "Name: user_location, Length: 986, dtype: int64"
            ]
          },
          "metadata": {},
          "execution_count": 7
        }
      ]
    },
    {
      "cell_type": "code",
      "metadata": {
        "colab": {
          "base_uri": "https://localhost:8080/"
        },
        "id": "S1KLjyHkmsks",
        "outputId": "58d0c9eb-823e-43aa-8370-13da63565632"
      },
      "source": [
        "#stopwords do not add value to the text\n",
        "import nltk\n",
        "nltk.download('stopwords')\n",
        "print(stopwords.words('english'))"
      ],
      "execution_count": 8,
      "outputs": [
        {
          "output_type": "stream",
          "name": "stdout",
          "text": [
            "[nltk_data] Downloading package stopwords to /root/nltk_data...\n",
            "[nltk_data]   Unzipping corpora/stopwords.zip.\n",
            "['i', 'me', 'my', 'myself', 'we', 'our', 'ours', 'ourselves', 'you', \"you're\", \"you've\", \"you'll\", \"you'd\", 'your', 'yours', 'yourself', 'yourselves', 'he', 'him', 'his', 'himself', 'she', \"she's\", 'her', 'hers', 'herself', 'it', \"it's\", 'its', 'itself', 'they', 'them', 'their', 'theirs', 'themselves', 'what', 'which', 'who', 'whom', 'this', 'that', \"that'll\", 'these', 'those', 'am', 'is', 'are', 'was', 'were', 'be', 'been', 'being', 'have', 'has', 'had', 'having', 'do', 'does', 'did', 'doing', 'a', 'an', 'the', 'and', 'but', 'if', 'or', 'because', 'as', 'until', 'while', 'of', 'at', 'by', 'for', 'with', 'about', 'against', 'between', 'into', 'through', 'during', 'before', 'after', 'above', 'below', 'to', 'from', 'up', 'down', 'in', 'out', 'on', 'off', 'over', 'under', 'again', 'further', 'then', 'once', 'here', 'there', 'when', 'where', 'why', 'how', 'all', 'any', 'both', 'each', 'few', 'more', 'most', 'other', 'some', 'such', 'no', 'nor', 'not', 'only', 'own', 'same', 'so', 'than', 'too', 'very', 's', 't', 'can', 'will', 'just', 'don', \"don't\", 'should', \"should've\", 'now', 'd', 'll', 'm', 'o', 're', 've', 'y', 'ain', 'aren', \"aren't\", 'couldn', \"couldn't\", 'didn', \"didn't\", 'doesn', \"doesn't\", 'hadn', \"hadn't\", 'hasn', \"hasn't\", 'haven', \"haven't\", 'isn', \"isn't\", 'ma', 'mightn', \"mightn't\", 'mustn', \"mustn't\", 'needn', \"needn't\", 'shan', \"shan't\", 'shouldn', \"shouldn't\", 'wasn', \"wasn't\", 'weren', \"weren't\", 'won', \"won't\", 'wouldn', \"wouldn't\"]\n"
          ]
        }
      ]
    },
    {
      "cell_type": "code",
      "metadata": {
        "colab": {
          "base_uri": "https://localhost:8080/"
        },
        "id": "y1-CS-aGm7V2",
        "outputId": "0740968f-7f47-40c4-e2f9-7955f4a306b2"
      },
      "source": [
        "#replacing the null values in 'text' column with empty strings\n",
        "#replacing the null values in 'location' column with mode\n",
        "election_data.fillna(value = {'text':' ','user_location':'Nairobi'},inplace = True)\n",
        "election_data.isnull().sum()"
      ],
      "execution_count": 9,
      "outputs": [
        {
          "output_type": "execute_result",
          "data": {
            "text/plain": [
              "id                      0\n",
              "user_name               0\n",
              "user_location           0\n",
              "user_description      993\n",
              "user_created            1\n",
              "user_followers          1\n",
              "user_friends            1\n",
              "user_favourites         1\n",
              "user_verified           2\n",
              "date                    1\n",
              "text                    0\n",
              "hashtags            10549\n",
              "source                  1\n",
              "retweets                2\n",
              "favorites               2\n",
              "is_retweet              2\n",
              "dtype: int64"
            ]
          },
          "metadata": {},
          "execution_count": 9
        }
      ]
    },
    {
      "cell_type": "markdown",
      "metadata": {
        "id": "na6mScuWtyU1"
      },
      "source": [
        "Cleaning the Data"
      ]
    },
    {
      "cell_type": "code",
      "metadata": {
        "id": "A_y_2ppAt04Z"
      },
      "source": [
        "#cleaning the text column which will be our main analysis\n",
        "election_data = election_data['text']"
      ],
      "execution_count": 10,
      "outputs": []
    },
    {
      "cell_type": "code",
      "metadata": {
        "colab": {
          "base_uri": "https://localhost:8080/"
        },
        "id": "x6hv7fJPvK7p",
        "outputId": "bd801379-fad6-4831-d4ec-edc3c2528353"
      },
      "source": [
        "#cleaning the data step 1 by removing tags ,@, RT\n",
        "def CleanTxt(text):\n",
        "    text = re.sub(r'@[A-Za-z0-9]+','',text) #removes @mentions and substitutes with an empty string\n",
        "    text = re.sub(r'#','', text) #removes #tags\n",
        "    text = re.sub(r'RT[\\s]+','',text) #removes the RT\n",
        "    text = re.sub(r'https?:\\/\\/\\S+','',text)\n",
        "    \n",
        "    return text\n",
        "\n",
        "election_data = election_data.apply(CleanTxt)\n",
        "election_data"
      ],
      "execution_count": 11,
      "outputs": [
        {
          "output_type": "execute_result",
          "data": {
            "text/plain": [
              "0         The change to the new blue uniforms was order...\n",
              "1        I think it's now safe to say President Uhuru K...\n",
              "2        @_CrazyKenyan President Uhuru Kenyatta bribed ...\n",
              "3        As _Kuria has just been saying,President Uhuru...\n",
              "4        David Murathe the KEMSA thief and President Uh...\n",
              "                               ...                        \n",
              "11718    Preparations are in top gear for the coronatio...\n",
              "11719    \"I managed to kick William Ruto out of Jubilee...\n",
              "11720    If William Ruto and Uhuru Kenyatta could not m...\n",
              "11721    DP William Ruto has criticized proponents of B...\n",
              "11722    In the early 90s, companies used to look for g...\n",
              "Name: text, Length: 11723, dtype: object"
            ]
          },
          "metadata": {},
          "execution_count": 11
        }
      ]
    },
    {
      "cell_type": "code",
      "metadata": {
        "id": "ZYNv8FzUxUTp"
      },
      "source": [
        "#stemming procedure\n",
        "#stemming removes the root words(prefixes/suffixes)\n",
        "port_stem = PorterStemmer()"
      ],
      "execution_count": 12,
      "outputs": []
    },
    {
      "cell_type": "code",
      "metadata": {
        "id": "6p-E2le9v_oM"
      },
      "source": [
        "#create a stemming function\n",
        "def stemming(text):\n",
        "    stemmed_content = re.sub('[^a-zA-Z]',' ',text)\n",
        "    stemmed_content = stemmed_content.lower()\n",
        "    stemmed_content = stemmed_content.split()\n",
        "    stemmed_content = [port_stem.stem(word) for word in stemmed_content if not word in stopwords.words('english')]\n",
        "    stemmed_content = ' '.join(stemmed_content)\n",
        "    return stemmed_content"
      ],
      "execution_count": 13,
      "outputs": []
    },
    {
      "cell_type": "code",
      "metadata": {
        "colab": {
          "base_uri": "https://localhost:8080/"
        },
        "id": "gKGel5RZwZj9",
        "outputId": "e7a14961-4fc1-4f45-f07c-e280824c21a1"
      },
      "source": [
        "election_data = election_data.apply(stemming)\n",
        "election_data"
      ],
      "execution_count": 14,
      "outputs": [
        {
          "output_type": "execute_result",
          "data": {
            "text/plain": [
              "0        chang new blue uniform order presid uhuru keny...\n",
              "1        think safe say presid uhuru kenyatta amepatia ...\n",
              "2        crazykenyan presid uhuru kenyatta bribe mca mp...\n",
              "3        kuria say presid uhuru kenyatta finish ago mt ...\n",
              "4        david murath kemsa thief presid uhuru kenyatta...\n",
              "                               ...                        \n",
              "11718    prepar top gear coron deputi presid william ru...\n",
              "11719       manag kick william ruto jubile murath one word\n",
              "11720    william ruto uhuru kenyatta could maintain sim...\n",
              "11721    dp william ruto critic propon bbi pursu consti...\n",
              "11722    earli compani use look graduat even villag gra...\n",
              "Name: text, Length: 11723, dtype: object"
            ]
          },
          "metadata": {},
          "execution_count": 14
        }
      ]
    },
    {
      "cell_type": "code",
      "metadata": {
        "colab": {
          "base_uri": "https://localhost:8080/",
          "height": 433
        },
        "id": "pBH_nTIzxmej",
        "outputId": "73db6245-1386-452a-ce91-920f3ce1b4e5"
      },
      "source": [
        "#creating a function that shows subjectivity\n",
        "def getSubjectivity(text):\n",
        "    return TextBlob(text).sentiment.subjectivity\n",
        "\n",
        "#creating a function that shows the polarity\n",
        "\n",
        "def getPolarity(text):\n",
        "    return TextBlob(text).sentiment.polarity\n",
        "\n",
        "election_data['Subjectivity'] = election_data.apply(getSubjectivity)\n",
        "election_data['Polarity'] = election_data.apply(getPolarity)\n",
        "\n",
        "#election_data "
      ],
      "execution_count": 16,
      "outputs": [
        {
          "output_type": "error",
          "ename": "TypeError",
          "evalue": "ignored",
          "traceback": [
            "\u001b[0;31m---------------------------------------------------------------------------\u001b[0m",
            "\u001b[0;31mTypeError\u001b[0m                                 Traceback (most recent call last)",
            "\u001b[0;32m<ipython-input-16-ba6734d8f0a3>\u001b[0m in \u001b[0;36m<module>\u001b[0;34m()\u001b[0m\n\u001b[1;32m      8\u001b[0m     \u001b[0;32mreturn\u001b[0m \u001b[0mTextBlob\u001b[0m\u001b[0;34m(\u001b[0m\u001b[0mtext\u001b[0m\u001b[0;34m)\u001b[0m\u001b[0;34m.\u001b[0m\u001b[0msentiment\u001b[0m\u001b[0;34m.\u001b[0m\u001b[0mpolarity\u001b[0m\u001b[0;34m\u001b[0m\u001b[0;34m\u001b[0m\u001b[0m\n\u001b[1;32m      9\u001b[0m \u001b[0;34m\u001b[0m\u001b[0m\n\u001b[0;32m---> 10\u001b[0;31m \u001b[0melection_data\u001b[0m\u001b[0;34m[\u001b[0m\u001b[0;34m'Subjectivity'\u001b[0m\u001b[0;34m]\u001b[0m \u001b[0;34m=\u001b[0m \u001b[0melection_data\u001b[0m\u001b[0;34m.\u001b[0m\u001b[0mapply\u001b[0m\u001b[0;34m(\u001b[0m\u001b[0mgetSubjectivity\u001b[0m\u001b[0;34m)\u001b[0m\u001b[0;34m\u001b[0m\u001b[0;34m\u001b[0m\u001b[0m\n\u001b[0m\u001b[1;32m     11\u001b[0m \u001b[0melection_data\u001b[0m\u001b[0;34m[\u001b[0m\u001b[0;34m'Polarity'\u001b[0m\u001b[0;34m]\u001b[0m \u001b[0;34m=\u001b[0m \u001b[0melection_data\u001b[0m\u001b[0;34m.\u001b[0m\u001b[0mapply\u001b[0m\u001b[0;34m(\u001b[0m\u001b[0mgetPolarity\u001b[0m\u001b[0;34m)\u001b[0m\u001b[0;34m\u001b[0m\u001b[0;34m\u001b[0m\u001b[0m\n\u001b[1;32m     12\u001b[0m \u001b[0;34m\u001b[0m\u001b[0m\n",
            "\u001b[0;32m/usr/local/lib/python3.7/dist-packages/pandas/core/series.py\u001b[0m in \u001b[0;36mapply\u001b[0;34m(self, func, convert_dtype, args, **kwds)\u001b[0m\n\u001b[1;32m   4211\u001b[0m             \u001b[0;32melse\u001b[0m\u001b[0;34m:\u001b[0m\u001b[0;34m\u001b[0m\u001b[0;34m\u001b[0m\u001b[0m\n\u001b[1;32m   4212\u001b[0m                 \u001b[0mvalues\u001b[0m \u001b[0;34m=\u001b[0m \u001b[0mself\u001b[0m\u001b[0;34m.\u001b[0m\u001b[0mastype\u001b[0m\u001b[0;34m(\u001b[0m\u001b[0mobject\u001b[0m\u001b[0;34m)\u001b[0m\u001b[0;34m.\u001b[0m\u001b[0m_values\u001b[0m\u001b[0;34m\u001b[0m\u001b[0;34m\u001b[0m\u001b[0m\n\u001b[0;32m-> 4213\u001b[0;31m                 \u001b[0mmapped\u001b[0m \u001b[0;34m=\u001b[0m \u001b[0mlib\u001b[0m\u001b[0;34m.\u001b[0m\u001b[0mmap_infer\u001b[0m\u001b[0;34m(\u001b[0m\u001b[0mvalues\u001b[0m\u001b[0;34m,\u001b[0m \u001b[0mf\u001b[0m\u001b[0;34m,\u001b[0m \u001b[0mconvert\u001b[0m\u001b[0;34m=\u001b[0m\u001b[0mconvert_dtype\u001b[0m\u001b[0;34m)\u001b[0m\u001b[0;34m\u001b[0m\u001b[0;34m\u001b[0m\u001b[0m\n\u001b[0m\u001b[1;32m   4214\u001b[0m \u001b[0;34m\u001b[0m\u001b[0m\n\u001b[1;32m   4215\u001b[0m         \u001b[0;32mif\u001b[0m \u001b[0mlen\u001b[0m\u001b[0;34m(\u001b[0m\u001b[0mmapped\u001b[0m\u001b[0;34m)\u001b[0m \u001b[0;32mand\u001b[0m \u001b[0misinstance\u001b[0m\u001b[0;34m(\u001b[0m\u001b[0mmapped\u001b[0m\u001b[0;34m[\u001b[0m\u001b[0;36m0\u001b[0m\u001b[0;34m]\u001b[0m\u001b[0;34m,\u001b[0m \u001b[0mSeries\u001b[0m\u001b[0;34m)\u001b[0m\u001b[0;34m:\u001b[0m\u001b[0;34m\u001b[0m\u001b[0;34m\u001b[0m\u001b[0m\n",
            "\u001b[0;32mpandas/_libs/lib.pyx\u001b[0m in \u001b[0;36mpandas._libs.lib.map_infer\u001b[0;34m()\u001b[0m\n",
            "\u001b[0;32m<ipython-input-16-ba6734d8f0a3>\u001b[0m in \u001b[0;36mgetSubjectivity\u001b[0;34m(text)\u001b[0m\n\u001b[1;32m      1\u001b[0m \u001b[0;31m#creating a function that shows subjectivity\u001b[0m\u001b[0;34m\u001b[0m\u001b[0;34m\u001b[0m\u001b[0;34m\u001b[0m\u001b[0m\n\u001b[1;32m      2\u001b[0m \u001b[0;32mdef\u001b[0m \u001b[0mgetSubjectivity\u001b[0m\u001b[0;34m(\u001b[0m\u001b[0mtext\u001b[0m\u001b[0;34m)\u001b[0m\u001b[0;34m:\u001b[0m\u001b[0;34m\u001b[0m\u001b[0;34m\u001b[0m\u001b[0m\n\u001b[0;32m----> 3\u001b[0;31m     \u001b[0;32mreturn\u001b[0m \u001b[0mTextBlob\u001b[0m\u001b[0;34m(\u001b[0m\u001b[0mtext\u001b[0m\u001b[0;34m)\u001b[0m\u001b[0;34m.\u001b[0m\u001b[0msentiment\u001b[0m\u001b[0;34m.\u001b[0m\u001b[0msubjectivity\u001b[0m\u001b[0;34m\u001b[0m\u001b[0;34m\u001b[0m\u001b[0m\n\u001b[0m\u001b[1;32m      4\u001b[0m \u001b[0;34m\u001b[0m\u001b[0m\n\u001b[1;32m      5\u001b[0m \u001b[0;31m#creating a function that shows the polarity\u001b[0m\u001b[0;34m\u001b[0m\u001b[0;34m\u001b[0m\u001b[0;34m\u001b[0m\u001b[0m\n",
            "\u001b[0;32m/usr/local/lib/python3.7/dist-packages/textblob/blob.py\u001b[0m in \u001b[0;36m__init__\u001b[0;34m(self, text, tokenizer, pos_tagger, np_extractor, analyzer, parser, classifier, clean_html)\u001b[0m\n\u001b[1;32m    368\u001b[0m         \u001b[0;32mif\u001b[0m \u001b[0;32mnot\u001b[0m \u001b[0misinstance\u001b[0m\u001b[0;34m(\u001b[0m\u001b[0mtext\u001b[0m\u001b[0;34m,\u001b[0m \u001b[0mbasestring\u001b[0m\u001b[0;34m)\u001b[0m\u001b[0;34m:\u001b[0m\u001b[0;34m\u001b[0m\u001b[0;34m\u001b[0m\u001b[0m\n\u001b[1;32m    369\u001b[0m             raise TypeError('The `text` argument passed to `__init__(text)` '\n\u001b[0;32m--> 370\u001b[0;31m                             'must be a string, not {0}'.format(type(text)))\n\u001b[0m\u001b[1;32m    371\u001b[0m         \u001b[0;32mif\u001b[0m \u001b[0mclean_html\u001b[0m\u001b[0;34m:\u001b[0m\u001b[0;34m\u001b[0m\u001b[0;34m\u001b[0m\u001b[0m\n\u001b[1;32m    372\u001b[0m             raise NotImplementedError(\"clean_html has been deprecated. \"\n",
            "\u001b[0;31mTypeError\u001b[0m: The `text` argument passed to `__init__(text)` must be a string, not <class 'pandas.core.series.Series'>"
          ]
        }
      ]
    }
  ]
}