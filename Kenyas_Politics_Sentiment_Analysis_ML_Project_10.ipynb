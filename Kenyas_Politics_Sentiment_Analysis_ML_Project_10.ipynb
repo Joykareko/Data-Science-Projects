{
  "nbformat": 4,
  "nbformat_minor": 0,
  "metadata": {
    "colab": {
      "name": "Kenyas Politics Sentiment Analysis-ML Project 10",
      "provenance": [],
      "collapsed_sections": [],
      "authorship_tag": "ABX9TyNv0aR4KpCh/xSjGFFyFmDe",
      "include_colab_link": true
    },
    "kernelspec": {
      "name": "python3",
      "display_name": "Python 3"
    },
    "language_info": {
      "name": "python"
    }
  },
  "cells": [
    {
      "cell_type": "markdown",
      "metadata": {
        "id": "view-in-github",
        "colab_type": "text"
      },
      "source": [
        "<a href=\"https://colab.research.google.com/github/Joykareko/Data-Science-Projects/blob/main/Kenyas_Politics_Sentiment_Analysis_ML_Project_10.ipynb\" target=\"_parent\"><img src=\"https://colab.research.google.com/assets/colab-badge.svg\" alt=\"Open In Colab\"/></a>"
      ]
    },
    {
      "cell_type": "code",
      "metadata": {
        "id": "6GXEtcyCir7h"
      },
      "source": [
        "#importing the dependencies\n",
        "import pandas as pd\n",
        "import numpy as np\n",
        "import matplotlib.pyplot as plt\n",
        "import seaborn as sns\n",
        "import re\n",
        "from nltk.corpus import stopwords\n",
        "from nltk.stem.porter import PorterStemmer\n",
        "from sklearn.feature_extraction.text import TfidfVectorizer\n",
        "from sklearn.model_selection import train_test_split\n",
        "from sklearn.linear_model import LogisticRegression\n",
        "from sklearn.metrics import accuracy_score"
      ],
      "execution_count": 35,
      "outputs": []
    },
    {
      "cell_type": "code",
      "metadata": {
        "id": "LEQnJnbRlB9X"
      },
      "source": [
        "from textblob import TextBlob\n",
        "from wordcloud import WordCloud"
      ],
      "execution_count": 36,
      "outputs": []
    },
    {
      "cell_type": "code",
      "metadata": {
        "colab": {
          "base_uri": "https://localhost:8080/",
          "height": 319
        },
        "id": "EFQjcWAKkGcy",
        "outputId": "ad1d517d-0f9f-4de3-fbcc-e80481f20b99"
      },
      "source": [
        "#loading the data\n",
        "election_data = pd.read_csv('/content/kenya_political_tweets.csv')\n",
        "election_data.head(3)"
      ],
      "execution_count": 37,
      "outputs": [
        {
          "output_type": "execute_result",
          "data": {
            "text/html": [
              "<div>\n",
              "<style scoped>\n",
              "    .dataframe tbody tr th:only-of-type {\n",
              "        vertical-align: middle;\n",
              "    }\n",
              "\n",
              "    .dataframe tbody tr th {\n",
              "        vertical-align: top;\n",
              "    }\n",
              "\n",
              "    .dataframe thead th {\n",
              "        text-align: right;\n",
              "    }\n",
              "</style>\n",
              "<table border=\"1\" class=\"dataframe\">\n",
              "  <thead>\n",
              "    <tr style=\"text-align: right;\">\n",
              "      <th></th>\n",
              "      <th>id</th>\n",
              "      <th>user_name</th>\n",
              "      <th>user_location</th>\n",
              "      <th>user_description</th>\n",
              "      <th>user_created</th>\n",
              "      <th>user_followers</th>\n",
              "      <th>user_friends</th>\n",
              "      <th>user_favourites</th>\n",
              "      <th>user_verified</th>\n",
              "      <th>date</th>\n",
              "      <th>text</th>\n",
              "      <th>hashtags</th>\n",
              "      <th>source</th>\n",
              "      <th>retweets</th>\n",
              "      <th>favorites</th>\n",
              "      <th>is_retweet</th>\n",
              "    </tr>\n",
              "  </thead>\n",
              "  <tbody>\n",
              "    <tr>\n",
              "      <th>0</th>\n",
              "      <td>1396091006030856192</td>\n",
              "      <td>Doomster</td>\n",
              "      <td>Utopia slums</td>\n",
              "      <td>Alt-left, liberal, pronoun:them</td>\n",
              "      <td>2009-08-23 12:22:53</td>\n",
              "      <td>309</td>\n",
              "      <td>907</td>\n",
              "      <td>8050</td>\n",
              "      <td>False</td>\n",
              "      <td>2021-05-22 13:10:08</td>\n",
              "      <td>@PrettyAmmina The change to the new blue unifo...</td>\n",
              "      <td>NaN</td>\n",
              "      <td>Twitter Web App</td>\n",
              "      <td>0.0</td>\n",
              "      <td>0.0</td>\n",
              "      <td>False</td>\n",
              "    </tr>\n",
              "    <tr>\n",
              "      <th>1</th>\n",
              "      <td>1395981137764397056</td>\n",
              "      <td>Unruly 🗯</td>\n",
              "      <td>Morayfield</td>\n",
              "      <td>I don't know what you thought this was gonna b...</td>\n",
              "      <td>2011-04-20 19:35:54</td>\n",
              "      <td>1053</td>\n",
              "      <td>523</td>\n",
              "      <td>5279</td>\n",
              "      <td>False</td>\n",
              "      <td>2021-05-22 05:53:33</td>\n",
              "      <td>I think it's now safe to say President Uhuru K...</td>\n",
              "      <td>NaN</td>\n",
              "      <td>Twitter for Android</td>\n",
              "      <td>0.0</td>\n",
              "      <td>0.0</td>\n",
              "      <td>False</td>\n",
              "    </tr>\n",
              "    <tr>\n",
              "      <th>2</th>\n",
              "      <td>1395433210490798082</td>\n",
              "      <td>Khavin</td>\n",
              "      <td>Nairobi</td>\n",
              "      <td>CCTV installation and MAINTENANCE technician. ...</td>\n",
              "      <td>2020-02-11 04:52:44</td>\n",
              "      <td>4202</td>\n",
              "      <td>3735</td>\n",
              "      <td>29563</td>\n",
              "      <td>False</td>\n",
              "      <td>2021-05-20 17:36:17</td>\n",
              "      <td>@_CrazyKenyan President Uhuru Kenyatta bribed ...</td>\n",
              "      <td>['bbinonsense']</td>\n",
              "      <td>Twitter Web App</td>\n",
              "      <td>0.0</td>\n",
              "      <td>1.0</td>\n",
              "      <td>False</td>\n",
              "    </tr>\n",
              "  </tbody>\n",
              "</table>\n",
              "</div>"
            ],
            "text/plain": [
              "                    id user_name user_location  ... retweets favorites is_retweet\n",
              "0  1396091006030856192  Doomster  Utopia slums  ...      0.0       0.0      False\n",
              "1  1395981137764397056  Unruly 🗯    Morayfield  ...      0.0       0.0      False\n",
              "2  1395433210490798082    Khavin      Nairobi   ...      0.0       1.0      False\n",
              "\n",
              "[3 rows x 16 columns]"
            ]
          },
          "metadata": {},
          "execution_count": 37
        }
      ]
    },
    {
      "cell_type": "code",
      "metadata": {
        "colab": {
          "base_uri": "https://localhost:8080/"
        },
        "id": "eypEsdFlksMY",
        "outputId": "9f51f579-17e6-403d-bbef-276acfcffb4a"
      },
      "source": [
        "#checking the rows and columns\n",
        "election_data.shape"
      ],
      "execution_count": 38,
      "outputs": [
        {
          "output_type": "execute_result",
          "data": {
            "text/plain": [
              "(11723, 16)"
            ]
          },
          "metadata": {},
          "execution_count": 38
        }
      ]
    },
    {
      "cell_type": "code",
      "metadata": {
        "colab": {
          "base_uri": "https://localhost:8080/"
        },
        "id": "YH6LhyJal3ni",
        "outputId": "af42fca9-0019-4b5c-8b74-e5a0de13abc4"
      },
      "source": [
        "#checking the general info\n",
        "election_data.info()"
      ],
      "execution_count": 39,
      "outputs": [
        {
          "output_type": "stream",
          "name": "stdout",
          "text": [
            "<class 'pandas.core.frame.DataFrame'>\n",
            "RangeIndex: 11723 entries, 0 to 11722\n",
            "Data columns (total 16 columns):\n",
            " #   Column            Non-Null Count  Dtype  \n",
            "---  ------            --------------  -----  \n",
            " 0   id                11723 non-null  object \n",
            " 1   user_name         11723 non-null  object \n",
            " 2   user_location     9239 non-null   object \n",
            " 3   user_description  10730 non-null  object \n",
            " 4   user_created      11722 non-null  object \n",
            " 5   user_followers    11722 non-null  object \n",
            " 6   user_friends      11722 non-null  object \n",
            " 7   user_favourites   11722 non-null  object \n",
            " 8   user_verified     11721 non-null  object \n",
            " 9   date              11722 non-null  object \n",
            " 10  text              11722 non-null  object \n",
            " 11  hashtags          1174 non-null   object \n",
            " 12  source            11722 non-null  object \n",
            " 13  retweets          11721 non-null  float64\n",
            " 14  favorites         11721 non-null  float64\n",
            " 15  is_retweet        11721 non-null  object \n",
            "dtypes: float64(2), object(14)\n",
            "memory usage: 1.4+ MB\n"
          ]
        }
      ]
    },
    {
      "cell_type": "code",
      "metadata": {
        "colab": {
          "base_uri": "https://localhost:8080/"
        },
        "id": "9fFgZh8jmGIW",
        "outputId": "b1d29494-a680-4929-90b3-9a3f788dbe11"
      },
      "source": [
        "#missing values?\n",
        "election_data.isnull().sum()"
      ],
      "execution_count": 40,
      "outputs": [
        {
          "output_type": "execute_result",
          "data": {
            "text/plain": [
              "id                      0\n",
              "user_name               0\n",
              "user_location        2484\n",
              "user_description      993\n",
              "user_created            1\n",
              "user_followers          1\n",
              "user_friends            1\n",
              "user_favourites         1\n",
              "user_verified           2\n",
              "date                    1\n",
              "text                    1\n",
              "hashtags            10549\n",
              "source                  1\n",
              "retweets                2\n",
              "favorites               2\n",
              "is_retweet              2\n",
              "dtype: int64"
            ]
          },
          "metadata": {},
          "execution_count": 40
        }
      ]
    },
    {
      "cell_type": "code",
      "metadata": {
        "colab": {
          "base_uri": "https://localhost:8080/"
        },
        "id": "UrgKkCQ_mO2f",
        "outputId": "ec359a9e-3895-4edc-b0b4-0c90d43104a7"
      },
      "source": [
        "#interested in user loaction and text\n",
        "election_data['user_location'].value_counts()"
      ],
      "execution_count": 41,
      "outputs": [
        {
          "output_type": "execute_result",
          "data": {
            "text/plain": [
              "Nairobi, Kenya       2954\n",
              "Kenya                1189\n",
              "Nairobi               558\n",
              "Limuru, Kenya         186\n",
              "Mombasa, Kenya        173\n",
              "                     ... \n",
              "nyandarua               1\n",
              "Meru, India             1\n",
              "Mombasa ✈ Meru          1\n",
              "Nairobi, Garissa        1\n",
              "ndio ukule fare🤔🤔       1\n",
              "Name: user_location, Length: 986, dtype: int64"
            ]
          },
          "metadata": {},
          "execution_count": 41
        }
      ]
    },
    {
      "cell_type": "code",
      "metadata": {
        "colab": {
          "base_uri": "https://localhost:8080/"
        },
        "id": "s4VR4gqfOOq-",
        "outputId": "7c223b0f-c9ff-4905-b712-d7d17c8cface"
      },
      "source": [
        "election_data['user_name'].value_counts()"
      ],
      "execution_count": 42,
      "outputs": [
        {
          "output_type": "execute_result",
          "data": {
            "text/plain": [
              "Who is John Galt?             185\n",
              "Kings Research Consultancy    129\n",
              "Nation Africa                 116\n",
              "Abuga Makori EGH, MBE          87\n",
              "The Standard Digital           81\n",
              "                             ... \n",
              "Erick Kanyeki Ngure             1\n",
              "Killa Lando                     1\n",
              "Swam Technologies®️             1\n",
              "Call of Dhootie                 1\n",
              "Peter Abonyo                    1\n",
              "Name: user_name, Length: 4198, dtype: int64"
            ]
          },
          "metadata": {},
          "execution_count": 42
        }
      ]
    },
    {
      "cell_type": "code",
      "metadata": {
        "colab": {
          "base_uri": "https://localhost:8080/"
        },
        "id": "y1-CS-aGm7V2",
        "outputId": "9140b726-1d07-438d-e46f-488ed0fd4101"
      },
      "source": [
        "#replacing the null values in 'text' column with empty strings\n",
        "#replacing the null values in 'location' column with mode\n",
        "election_data.fillna(value = {'text':' ','user_location':'Nairobi'},inplace = True)\n",
        "election_data.isnull().sum()"
      ],
      "execution_count": 43,
      "outputs": [
        {
          "output_type": "execute_result",
          "data": {
            "text/plain": [
              "id                      0\n",
              "user_name               0\n",
              "user_location           0\n",
              "user_description      993\n",
              "user_created            1\n",
              "user_followers          1\n",
              "user_friends            1\n",
              "user_favourites         1\n",
              "user_verified           2\n",
              "date                    1\n",
              "text                    0\n",
              "hashtags            10549\n",
              "source                  1\n",
              "retweets                2\n",
              "favorites               2\n",
              "is_retweet              2\n",
              "dtype: int64"
            ]
          },
          "metadata": {},
          "execution_count": 43
        }
      ]
    },
    {
      "cell_type": "markdown",
      "metadata": {
        "id": "na6mScuWtyU1"
      },
      "source": [
        "Cleaning the Data"
      ]
    },
    {
      "cell_type": "code",
      "metadata": {
        "colab": {
          "base_uri": "https://localhost:8080/",
          "height": 143
        },
        "id": "A_y_2ppAt04Z",
        "outputId": "94616c87-352a-4160-8a09-7a98404ad877"
      },
      "source": [
        "#cleaning the text column which will be our main analysis\n",
        "election_dataset = election_data.drop(columns = ['id','user_name','user_location','user_description','user_created',\n",
        "                                      'user_followers','user_friends','user_favourites','user_verified','date','hashtags','source',\n",
        "                                      'retweets','favorites','is_retweet'],axis = 1)\n",
        "election_dataset.head(3)"
      ],
      "execution_count": 44,
      "outputs": [
        {
          "output_type": "execute_result",
          "data": {
            "text/html": [
              "<div>\n",
              "<style scoped>\n",
              "    .dataframe tbody tr th:only-of-type {\n",
              "        vertical-align: middle;\n",
              "    }\n",
              "\n",
              "    .dataframe tbody tr th {\n",
              "        vertical-align: top;\n",
              "    }\n",
              "\n",
              "    .dataframe thead th {\n",
              "        text-align: right;\n",
              "    }\n",
              "</style>\n",
              "<table border=\"1\" class=\"dataframe\">\n",
              "  <thead>\n",
              "    <tr style=\"text-align: right;\">\n",
              "      <th></th>\n",
              "      <th>text</th>\n",
              "    </tr>\n",
              "  </thead>\n",
              "  <tbody>\n",
              "    <tr>\n",
              "      <th>0</th>\n",
              "      <td>@PrettyAmmina The change to the new blue unifo...</td>\n",
              "    </tr>\n",
              "    <tr>\n",
              "      <th>1</th>\n",
              "      <td>I think it's now safe to say President Uhuru K...</td>\n",
              "    </tr>\n",
              "    <tr>\n",
              "      <th>2</th>\n",
              "      <td>@_CrazyKenyan President Uhuru Kenyatta bribed ...</td>\n",
              "    </tr>\n",
              "  </tbody>\n",
              "</table>\n",
              "</div>"
            ],
            "text/plain": [
              "                                                text\n",
              "0  @PrettyAmmina The change to the new blue unifo...\n",
              "1  I think it's now safe to say President Uhuru K...\n",
              "2  @_CrazyKenyan President Uhuru Kenyatta bribed ..."
            ]
          },
          "metadata": {},
          "execution_count": 44
        }
      ]
    },
    {
      "cell_type": "code",
      "metadata": {
        "colab": {
          "base_uri": "https://localhost:8080/",
          "height": 143
        },
        "id": "x6hv7fJPvK7p",
        "outputId": "58f2be62-4822-4e4e-94da-c106fe0c4ca5"
      },
      "source": [
        "#cleaning the data step 1 by removing tags ,@, RT\n",
        "def CleanTxt(text):\n",
        "    text = re.sub(r'@[A-Za-z0-9]+','',text) #removes @mentions and substitutes with an empty string\n",
        "    text = re.sub(r'@_','',text)\n",
        "    text = re.sub(r'#','', text) #removes #tags\n",
        "    text = re.sub(r'RT[\\s]+','',text) #removes the RT\n",
        "    text = re.sub(r'https?:\\/\\/\\S+','',text)\n",
        "    \n",
        "    return text\n",
        "\n",
        "election_dataset['Cleaned Text'] = election_dataset['text'].apply(CleanTxt)\n",
        "election_dataset.head(3)"
      ],
      "execution_count": 45,
      "outputs": [
        {
          "output_type": "execute_result",
          "data": {
            "text/html": [
              "<div>\n",
              "<style scoped>\n",
              "    .dataframe tbody tr th:only-of-type {\n",
              "        vertical-align: middle;\n",
              "    }\n",
              "\n",
              "    .dataframe tbody tr th {\n",
              "        vertical-align: top;\n",
              "    }\n",
              "\n",
              "    .dataframe thead th {\n",
              "        text-align: right;\n",
              "    }\n",
              "</style>\n",
              "<table border=\"1\" class=\"dataframe\">\n",
              "  <thead>\n",
              "    <tr style=\"text-align: right;\">\n",
              "      <th></th>\n",
              "      <th>text</th>\n",
              "      <th>Cleaned Text</th>\n",
              "    </tr>\n",
              "  </thead>\n",
              "  <tbody>\n",
              "    <tr>\n",
              "      <th>0</th>\n",
              "      <td>@PrettyAmmina The change to the new blue unifo...</td>\n",
              "      <td>The change to the new blue uniforms was order...</td>\n",
              "    </tr>\n",
              "    <tr>\n",
              "      <th>1</th>\n",
              "      <td>I think it's now safe to say President Uhuru K...</td>\n",
              "      <td>I think it's now safe to say President Uhuru K...</td>\n",
              "    </tr>\n",
              "    <tr>\n",
              "      <th>2</th>\n",
              "      <td>@_CrazyKenyan President Uhuru Kenyatta bribed ...</td>\n",
              "      <td>CrazyKenyan President Uhuru Kenyatta bribed MC...</td>\n",
              "    </tr>\n",
              "  </tbody>\n",
              "</table>\n",
              "</div>"
            ],
            "text/plain": [
              "                                                text                                       Cleaned Text\n",
              "0  @PrettyAmmina The change to the new blue unifo...   The change to the new blue uniforms was order...\n",
              "1  I think it's now safe to say President Uhuru K...  I think it's now safe to say President Uhuru K...\n",
              "2  @_CrazyKenyan President Uhuru Kenyatta bribed ...  CrazyKenyan President Uhuru Kenyatta bribed MC..."
            ]
          },
          "metadata": {},
          "execution_count": 45
        }
      ]
    },
    {
      "cell_type": "code",
      "metadata": {
        "colab": {
          "base_uri": "https://localhost:8080/"
        },
        "id": "yOQDDJLhX8qp",
        "outputId": "2f681123-8465-4bd5-80b5-2663a43ecd59"
      },
      "source": [
        "import nltk\n",
        "nltk.download('punkt')\n",
        "from nltk.tokenize import word_tokenize\n",
        "from nltk import pos_tag\n",
        "nltk.download('stopwords')\n",
        "from nltk.corpus import stopwords\n",
        "nltk.download('wordnet')\n",
        "from nltk.corpus import wordnet\n",
        "import nltk\n",
        "nltk.download('averaged_perceptron_tagger')"
      ],
      "execution_count": 58,
      "outputs": [
        {
          "output_type": "stream",
          "name": "stdout",
          "text": [
            "[nltk_data] Downloading package punkt to /root/nltk_data...\n",
            "[nltk_data]   Package punkt is already up-to-date!\n",
            "[nltk_data] Downloading package stopwords to /root/nltk_data...\n",
            "[nltk_data]   Package stopwords is already up-to-date!\n",
            "[nltk_data] Downloading package wordnet to /root/nltk_data...\n",
            "[nltk_data]   Package wordnet is already up-to-date!\n",
            "[nltk_data] Downloading package averaged_perceptron_tagger to\n",
            "[nltk_data]     /root/nltk_data...\n",
            "[nltk_data]   Package averaged_perceptron_tagger is already up-to-\n",
            "[nltk_data]       date!\n"
          ]
        },
        {
          "output_type": "execute_result",
          "data": {
            "text/plain": [
              "True"
            ]
          },
          "metadata": {},
          "execution_count": 58
        }
      ]
    },
    {
      "cell_type": "code",
      "metadata": {
        "colab": {
          "base_uri": "https://localhost:8080/",
          "height": 299
        },
        "id": "BlbEox3uWPHw",
        "outputId": "9564e146-c342-4f48-8f36-5d282bcb0e66"
      },
      "source": [
        "# POS tagger dictionary\n",
        "#pos_dict = {'J':wordnet.ADJ, 'V':wordnet.VERB, 'N':wordnet.NOUN, 'R':wordnet.ADV}\n",
        "#def token_stop_pos(text):\n",
        "    #tags = pos_tag(word_tokenize(text))\n",
        "    #newlist = []\n",
        "    #for word, tag in tags:\n",
        "        #if word.lower() not in set(stopwords.words('english')):\n",
        "          #newlist.append(tuple([word, pos_dict.get(tag[0])]))\n",
        "        #return newlist\n",
        "\n",
        "#election_dataset['POS tagged'] = election_dataset['Cleaned Text'].apply(token_stop_pos)\n",
        "#election_dataset.head(3)"
      ],
      "execution_count": 51,
      "outputs": [
        {
          "output_type": "stream",
          "name": "stdout",
          "text": [
            "[nltk_data] Downloading package punkt to /root/nltk_data...\n",
            "[nltk_data]   Package punkt is already up-to-date!\n",
            "[nltk_data] Downloading package stopwords to /root/nltk_data...\n",
            "[nltk_data]   Package stopwords is already up-to-date!\n",
            "[nltk_data] Downloading package wordnet to /root/nltk_data...\n",
            "[nltk_data]   Package wordnet is already up-to-date!\n",
            "[nltk_data] Downloading package averaged_perceptron_tagger to\n",
            "[nltk_data]     /root/nltk_data...\n",
            "[nltk_data]   Unzipping taggers/averaged_perceptron_tagger.zip.\n"
          ]
        },
        {
          "output_type": "execute_result",
          "data": {
            "text/html": [
              "<div>\n",
              "<style scoped>\n",
              "    .dataframe tbody tr th:only-of-type {\n",
              "        vertical-align: middle;\n",
              "    }\n",
              "\n",
              "    .dataframe tbody tr th {\n",
              "        vertical-align: top;\n",
              "    }\n",
              "\n",
              "    .dataframe thead th {\n",
              "        text-align: right;\n",
              "    }\n",
              "</style>\n",
              "<table border=\"1\" class=\"dataframe\">\n",
              "  <thead>\n",
              "    <tr style=\"text-align: right;\">\n",
              "      <th></th>\n",
              "      <th>text</th>\n",
              "      <th>Cleaned Text</th>\n",
              "      <th>POS tagged</th>\n",
              "    </tr>\n",
              "  </thead>\n",
              "  <tbody>\n",
              "    <tr>\n",
              "      <th>0</th>\n",
              "      <td>@PrettyAmmina The change to the new blue unifo...</td>\n",
              "      <td>The change to the new blue uniforms was order...</td>\n",
              "      <td>[]</td>\n",
              "    </tr>\n",
              "    <tr>\n",
              "      <th>1</th>\n",
              "      <td>I think it's now safe to say President Uhuru K...</td>\n",
              "      <td>I think it's now safe to say President Uhuru K...</td>\n",
              "      <td>[]</td>\n",
              "    </tr>\n",
              "    <tr>\n",
              "      <th>2</th>\n",
              "      <td>@_CrazyKenyan President Uhuru Kenyatta bribed ...</td>\n",
              "      <td>CrazyKenyan President Uhuru Kenyatta bribed MC...</td>\n",
              "      <td>[(CrazyKenyan, n)]</td>\n",
              "    </tr>\n",
              "  </tbody>\n",
              "</table>\n",
              "</div>"
            ],
            "text/plain": [
              "                                                text  ...          POS tagged\n",
              "0  @PrettyAmmina The change to the new blue unifo...  ...                  []\n",
              "1  I think it's now safe to say President Uhuru K...  ...                  []\n",
              "2  @_CrazyKenyan President Uhuru Kenyatta bribed ...  ...  [(CrazyKenyan, n)]\n",
              "\n",
              "[3 rows x 3 columns]"
            ]
          },
          "metadata": {},
          "execution_count": 51
        }
      ]
    },
    {
      "cell_type": "code",
      "metadata": {
        "colab": {
          "base_uri": "https://localhost:8080/",
          "height": 143
        },
        "id": "ls3-O_5ecrGF",
        "outputId": "87823793-af2d-4e62-8c44-615ad7245867"
      },
      "source": [
        "#election_dataset.tail(3)"
      ],
      "execution_count": 56,
      "outputs": [
        {
          "output_type": "execute_result",
          "data": {
            "text/html": [
              "<div>\n",
              "<style scoped>\n",
              "    .dataframe tbody tr th:only-of-type {\n",
              "        vertical-align: middle;\n",
              "    }\n",
              "\n",
              "    .dataframe tbody tr th {\n",
              "        vertical-align: top;\n",
              "    }\n",
              "\n",
              "    .dataframe thead th {\n",
              "        text-align: right;\n",
              "    }\n",
              "</style>\n",
              "<table border=\"1\" class=\"dataframe\">\n",
              "  <thead>\n",
              "    <tr style=\"text-align: right;\">\n",
              "      <th></th>\n",
              "      <th>text</th>\n",
              "      <th>Cleaned Text</th>\n",
              "      <th>POS tagged</th>\n",
              "    </tr>\n",
              "  </thead>\n",
              "  <tbody>\n",
              "    <tr>\n",
              "      <th>11720</th>\n",
              "      <td>If William Ruto and Uhuru Kenyatta could not m...</td>\n",
              "      <td>If William Ruto and Uhuru Kenyatta could not m...</td>\n",
              "      <td>[]</td>\n",
              "    </tr>\n",
              "    <tr>\n",
              "      <th>11721</th>\n",
              "      <td>DP William Ruto has criticized proponents of B...</td>\n",
              "      <td>DP William Ruto has criticized proponents of B...</td>\n",
              "      <td>[(DP, n)]</td>\n",
              "    </tr>\n",
              "    <tr>\n",
              "      <th>11722</th>\n",
              "      <td>In the early 90s, companies used to look for g...</td>\n",
              "      <td>In the early 90s, companies used to look for g...</td>\n",
              "      <td>[]</td>\n",
              "    </tr>\n",
              "  </tbody>\n",
              "</table>\n",
              "</div>"
            ],
            "text/plain": [
              "                                                    text  ... POS tagged\n",
              "11720  If William Ruto and Uhuru Kenyatta could not m...  ...         []\n",
              "11721  DP William Ruto has criticized proponents of B...  ...  [(DP, n)]\n",
              "11722  In the early 90s, companies used to look for g...  ...         []\n",
              "\n",
              "[3 rows x 3 columns]"
            ]
          },
          "metadata": {},
          "execution_count": 56
        }
      ]
    },
    {
      "cell_type": "code",
      "metadata": {
        "colab": {
          "base_uri": "https://localhost:8080/",
          "height": 398
        },
        "id": "0kBHRY8XYeGz",
        "outputId": "93d260e0-0508-4af8-dc66-7f275cd6e5ba"
      },
      "source": [
        "#from nltk.stem import WordNetLemmatizer\n",
        "#wordnet_lemmatizer = WordNetLemmatizer()\n",
        "#def lemmatize(pos_data):\n",
        "    #lemma_rew = \" \"\n",
        "    #for word, pos in pos_data:\n",
        "      #if not pos:\n",
        "          #lemma = word\n",
        "          #lemma_rew = lemma_rew + \" \" + lemma\n",
        "      #else:\n",
        "          #lemma = wordnet_lemmatizer.lemmatize(word, pos=pos)\n",
        "          #lemma_rew = lemma_rew + \" \" + lemma\n",
        "      #return lemma_rew\n",
        "#election_dataset['Lemma'] = election_dataset['Cleaned Text'].apply(lemmatize)\n",
        "#election_dataset.head(3)"
      ],
      "execution_count": 59,
      "outputs": [
        {
          "output_type": "error",
          "ename": "ValueError",
          "evalue": "ignored",
          "traceback": [
            "\u001b[0;31m---------------------------------------------------------------------------\u001b[0m",
            "\u001b[0;31mValueError\u001b[0m                                Traceback (most recent call last)",
            "\u001b[0;32m<ipython-input-59-e21909a0592f>\u001b[0m in \u001b[0;36m<module>\u001b[0;34m()\u001b[0m\n\u001b[1;32m     11\u001b[0m           \u001b[0mlemma_rew\u001b[0m \u001b[0;34m=\u001b[0m \u001b[0mlemma_rew\u001b[0m \u001b[0;34m+\u001b[0m \u001b[0;34m\" \"\u001b[0m \u001b[0;34m+\u001b[0m \u001b[0mlemma\u001b[0m\u001b[0;34m\u001b[0m\u001b[0;34m\u001b[0m\u001b[0m\n\u001b[1;32m     12\u001b[0m       \u001b[0;32mreturn\u001b[0m \u001b[0mlemma_rew\u001b[0m\u001b[0;34m\u001b[0m\u001b[0;34m\u001b[0m\u001b[0m\n\u001b[0;32m---> 13\u001b[0;31m \u001b[0melection_dataset\u001b[0m\u001b[0;34m[\u001b[0m\u001b[0;34m'Lemma'\u001b[0m\u001b[0;34m]\u001b[0m \u001b[0;34m=\u001b[0m \u001b[0melection_dataset\u001b[0m\u001b[0;34m[\u001b[0m\u001b[0;34m'Cleaned Text'\u001b[0m\u001b[0;34m]\u001b[0m\u001b[0;34m.\u001b[0m\u001b[0mapply\u001b[0m\u001b[0;34m(\u001b[0m\u001b[0mlemmatize\u001b[0m\u001b[0;34m)\u001b[0m\u001b[0;34m\u001b[0m\u001b[0;34m\u001b[0m\u001b[0m\n\u001b[0m\u001b[1;32m     14\u001b[0m \u001b[0mmydata\u001b[0m\u001b[0;34m.\u001b[0m\u001b[0mhead\u001b[0m\u001b[0;34m(\u001b[0m\u001b[0;36m3\u001b[0m\u001b[0;34m)\u001b[0m\u001b[0;34m\u001b[0m\u001b[0;34m\u001b[0m\u001b[0m\n",
            "\u001b[0;32m/usr/local/lib/python3.7/dist-packages/pandas/core/series.py\u001b[0m in \u001b[0;36mapply\u001b[0;34m(self, func, convert_dtype, args, **kwds)\u001b[0m\n\u001b[1;32m   4211\u001b[0m             \u001b[0;32melse\u001b[0m\u001b[0;34m:\u001b[0m\u001b[0;34m\u001b[0m\u001b[0;34m\u001b[0m\u001b[0m\n\u001b[1;32m   4212\u001b[0m                 \u001b[0mvalues\u001b[0m \u001b[0;34m=\u001b[0m \u001b[0mself\u001b[0m\u001b[0;34m.\u001b[0m\u001b[0mastype\u001b[0m\u001b[0;34m(\u001b[0m\u001b[0mobject\u001b[0m\u001b[0;34m)\u001b[0m\u001b[0;34m.\u001b[0m\u001b[0m_values\u001b[0m\u001b[0;34m\u001b[0m\u001b[0;34m\u001b[0m\u001b[0m\n\u001b[0;32m-> 4213\u001b[0;31m                 \u001b[0mmapped\u001b[0m \u001b[0;34m=\u001b[0m \u001b[0mlib\u001b[0m\u001b[0;34m.\u001b[0m\u001b[0mmap_infer\u001b[0m\u001b[0;34m(\u001b[0m\u001b[0mvalues\u001b[0m\u001b[0;34m,\u001b[0m \u001b[0mf\u001b[0m\u001b[0;34m,\u001b[0m \u001b[0mconvert\u001b[0m\u001b[0;34m=\u001b[0m\u001b[0mconvert_dtype\u001b[0m\u001b[0;34m)\u001b[0m\u001b[0;34m\u001b[0m\u001b[0;34m\u001b[0m\u001b[0m\n\u001b[0m\u001b[1;32m   4214\u001b[0m \u001b[0;34m\u001b[0m\u001b[0m\n\u001b[1;32m   4215\u001b[0m         \u001b[0;32mif\u001b[0m \u001b[0mlen\u001b[0m\u001b[0;34m(\u001b[0m\u001b[0mmapped\u001b[0m\u001b[0;34m)\u001b[0m \u001b[0;32mand\u001b[0m \u001b[0misinstance\u001b[0m\u001b[0;34m(\u001b[0m\u001b[0mmapped\u001b[0m\u001b[0;34m[\u001b[0m\u001b[0;36m0\u001b[0m\u001b[0;34m]\u001b[0m\u001b[0;34m,\u001b[0m \u001b[0mSeries\u001b[0m\u001b[0;34m)\u001b[0m\u001b[0;34m:\u001b[0m\u001b[0;34m\u001b[0m\u001b[0;34m\u001b[0m\u001b[0m\n",
            "\u001b[0;32mpandas/_libs/lib.pyx\u001b[0m in \u001b[0;36mpandas._libs.lib.map_infer\u001b[0;34m()\u001b[0m\n",
            "\u001b[0;32m<ipython-input-59-e21909a0592f>\u001b[0m in \u001b[0;36mlemmatize\u001b[0;34m(pos_data)\u001b[0m\n\u001b[1;32m      3\u001b[0m \u001b[0;32mdef\u001b[0m \u001b[0mlemmatize\u001b[0m\u001b[0;34m(\u001b[0m\u001b[0mpos_data\u001b[0m\u001b[0;34m)\u001b[0m\u001b[0;34m:\u001b[0m\u001b[0;34m\u001b[0m\u001b[0;34m\u001b[0m\u001b[0m\n\u001b[1;32m      4\u001b[0m     \u001b[0mlemma_rew\u001b[0m \u001b[0;34m=\u001b[0m \u001b[0;34m\" \"\u001b[0m\u001b[0;34m\u001b[0m\u001b[0;34m\u001b[0m\u001b[0m\n\u001b[0;32m----> 5\u001b[0;31m     \u001b[0;32mfor\u001b[0m \u001b[0mword\u001b[0m\u001b[0;34m,\u001b[0m \u001b[0mpos\u001b[0m \u001b[0;32min\u001b[0m \u001b[0mpos_data\u001b[0m\u001b[0;34m:\u001b[0m\u001b[0;34m\u001b[0m\u001b[0;34m\u001b[0m\u001b[0m\n\u001b[0m\u001b[1;32m      6\u001b[0m       \u001b[0;32mif\u001b[0m \u001b[0;32mnot\u001b[0m \u001b[0mpos\u001b[0m\u001b[0;34m:\u001b[0m\u001b[0;34m\u001b[0m\u001b[0;34m\u001b[0m\u001b[0m\n\u001b[1;32m      7\u001b[0m           \u001b[0mlemma\u001b[0m \u001b[0;34m=\u001b[0m \u001b[0mword\u001b[0m\u001b[0;34m\u001b[0m\u001b[0;34m\u001b[0m\u001b[0m\n",
            "\u001b[0;31mValueError\u001b[0m: not enough values to unpack (expected 2, got 1)"
          ]
        }
      ]
    },
    {
      "cell_type": "code",
      "metadata": {
        "id": "ZYNv8FzUxUTp"
      },
      "source": [
        "#stemming procedure\n",
        "#stemming removes the root words(prefixes/suffixes)\n",
        "port_stem = PorterStemmer()"
      ],
      "execution_count": 60,
      "outputs": []
    },
    {
      "cell_type": "code",
      "metadata": {
        "id": "6p-E2le9v_oM"
      },
      "source": [
        "#create a stemming function\n",
        "def stemming(text):\n",
        "    stemmed_content = re.sub('[^a-zA-Z]',' ',text)\n",
        "    stemmed_content = stemmed_content.lower()\n",
        "    stemmed_content = stemmed_content.split()\n",
        "    stemmed_content = [port_stem.stem(word) for word in stemmed_content if not word in stopwords.words('english')]\n",
        "    stemmed_content = ' '.join(stemmed_content)\n",
        "    return stemmed_content"
      ],
      "execution_count": 61,
      "outputs": []
    },
    {
      "cell_type": "code",
      "metadata": {
        "colab": {
          "base_uri": "https://localhost:8080/",
          "height": 161
        },
        "id": "gKGel5RZwZj9",
        "outputId": "d7617bef-85ab-43e4-96af-40db346210a5"
      },
      "source": [
        "election_dataset['Stemmed Words'] = election_dataset['Cleaned Text'].apply(stemming)\n",
        "election_dataset.head(3)"
      ],
      "execution_count": 62,
      "outputs": [
        {
          "output_type": "execute_result",
          "data": {
            "text/html": [
              "<div>\n",
              "<style scoped>\n",
              "    .dataframe tbody tr th:only-of-type {\n",
              "        vertical-align: middle;\n",
              "    }\n",
              "\n",
              "    .dataframe tbody tr th {\n",
              "        vertical-align: top;\n",
              "    }\n",
              "\n",
              "    .dataframe thead th {\n",
              "        text-align: right;\n",
              "    }\n",
              "</style>\n",
              "<table border=\"1\" class=\"dataframe\">\n",
              "  <thead>\n",
              "    <tr style=\"text-align: right;\">\n",
              "      <th></th>\n",
              "      <th>text</th>\n",
              "      <th>Cleaned Text</th>\n",
              "      <th>POS tagged</th>\n",
              "      <th>Stemmed Words</th>\n",
              "    </tr>\n",
              "  </thead>\n",
              "  <tbody>\n",
              "    <tr>\n",
              "      <th>0</th>\n",
              "      <td>@PrettyAmmina The change to the new blue unifo...</td>\n",
              "      <td>The change to the new blue uniforms was order...</td>\n",
              "      <td>[]</td>\n",
              "      <td>chang new blue uniform order presid uhuru keny...</td>\n",
              "    </tr>\n",
              "    <tr>\n",
              "      <th>1</th>\n",
              "      <td>I think it's now safe to say President Uhuru K...</td>\n",
              "      <td>I think it's now safe to say President Uhuru K...</td>\n",
              "      <td>[]</td>\n",
              "      <td>think safe say presid uhuru kenyatta amepatia ...</td>\n",
              "    </tr>\n",
              "    <tr>\n",
              "      <th>2</th>\n",
              "      <td>@_CrazyKenyan President Uhuru Kenyatta bribed ...</td>\n",
              "      <td>CrazyKenyan President Uhuru Kenyatta bribed MC...</td>\n",
              "      <td>[(CrazyKenyan, n)]</td>\n",
              "      <td>crazykenyan presid uhuru kenyatta bribe mca mp...</td>\n",
              "    </tr>\n",
              "  </tbody>\n",
              "</table>\n",
              "</div>"
            ],
            "text/plain": [
              "                                                text  ...                                      Stemmed Words\n",
              "0  @PrettyAmmina The change to the new blue unifo...  ...  chang new blue uniform order presid uhuru keny...\n",
              "1  I think it's now safe to say President Uhuru K...  ...  think safe say presid uhuru kenyatta amepatia ...\n",
              "2  @_CrazyKenyan President Uhuru Kenyatta bribed ...  ...  crazykenyan presid uhuru kenyatta bribe mca mp...\n",
              "\n",
              "[3 rows x 4 columns]"
            ]
          },
          "metadata": {},
          "execution_count": 62
        }
      ]
    },
    {
      "cell_type": "code",
      "metadata": {
        "colab": {
          "base_uri": "https://localhost:8080/",
          "height": 248
        },
        "id": "uQvxDbgUM2t9",
        "outputId": "afa4a316-9f2b-443d-b7c8-a002f48b3116"
      },
      "source": [
        "#creating a word cloud\n",
        "all_words = ' '.join(twts for twts in election_dataset['Stemmed Words'])\n",
        "wordcloud = WordCloud( width = 1000, height = 900, random_state = 21, max_font_size = 120).generate(all_words)\n",
        "\n",
        "plt.imshow(wordcloud, interpolation = 'bilinear')\n",
        "plt.axis('off')\n",
        "plt.show()"
      ],
      "execution_count": 63,
      "outputs": [
        {
          "output_type": "display_data",
          "data": {
            "image/png": "[encoded data removed]",
            "text/plain": [
              "<Figure size 432x288 with 1 Axes>"
            ]
          },
          "metadata": {
            "needs_background": "light"
          }
        }
      ]
    },
    {
      "cell_type": "code",
      "metadata": {
        "id": "pBH_nTIzxmej",
        "colab": {
          "base_uri": "https://localhost:8080/",
          "height": 195
        },
        "outputId": "f27d4961-8bb1-42a0-bebd-c51a525c95d8"
      },
      "source": [
        "#creating a function that shows subjectivity\n",
        "def getSubjectivity(text):\n",
        "    return TextBlob(text).sentiment.subjectivity\n",
        "#creating a function that shows the polarity\n",
        "def getPolarity(text):\n",
        "    return TextBlob(text).sentiment.polarity\n",
        "\n",
        "election_dataset['Subjectivity'] = election_dataset['Stemmed Words'].apply(getSubjectivity)\n",
        "\n",
        "election_dataset['Polarity'] = election_dataset['Stemmed Words'].apply(getPolarity)\n",
        "\n",
        "# function to analyze the reviews\n",
        "def analysis(score):\n",
        "    if score < 0:\n",
        "        return 'Negative'\n",
        "    elif score == 0:\n",
        "        return 'Neutral'\n",
        "    else:\n",
        "        return 'Positive'\n",
        "\n",
        "\n",
        "\n",
        "election_dataset.head(3) "
      ],
      "execution_count": 64,
      "outputs": [
        {
          "output_type": "execute_result",
          "data": {
            "text/html": [
              "<div>\n",
              "<style scoped>\n",
              "    .dataframe tbody tr th:only-of-type {\n",
              "        vertical-align: middle;\n",
              "    }\n",
              "\n",
              "    .dataframe tbody tr th {\n",
              "        vertical-align: top;\n",
              "    }\n",
              "\n",
              "    .dataframe thead th {\n",
              "        text-align: right;\n",
              "    }\n",
              "</style>\n",
              "<table border=\"1\" class=\"dataframe\">\n",
              "  <thead>\n",
              "    <tr style=\"text-align: right;\">\n",
              "      <th></th>\n",
              "      <th>text</th>\n",
              "      <th>Cleaned Text</th>\n",
              "      <th>POS tagged</th>\n",
              "      <th>Stemmed Words</th>\n",
              "      <th>Subjectivity</th>\n",
              "      <th>Polarity</th>\n",
              "    </tr>\n",
              "  </thead>\n",
              "  <tbody>\n",
              "    <tr>\n",
              "      <th>0</th>\n",
              "      <td>@PrettyAmmina The change to the new blue unifo...</td>\n",
              "      <td>The change to the new blue uniforms was order...</td>\n",
              "      <td>[]</td>\n",
              "      <td>chang new blue uniform order presid uhuru keny...</td>\n",
              "      <td>0.277273</td>\n",
              "      <td>0.068182</td>\n",
              "    </tr>\n",
              "    <tr>\n",
              "      <th>1</th>\n",
              "      <td>I think it's now safe to say President Uhuru K...</td>\n",
              "      <td>I think it's now safe to say President Uhuru K...</td>\n",
              "      <td>[]</td>\n",
              "      <td>think safe say presid uhuru kenyatta amepatia ...</td>\n",
              "      <td>0.500000</td>\n",
              "      <td>0.500000</td>\n",
              "    </tr>\n",
              "    <tr>\n",
              "      <th>2</th>\n",
              "      <td>@_CrazyKenyan President Uhuru Kenyatta bribed ...</td>\n",
              "      <td>CrazyKenyan President Uhuru Kenyatta bribed MC...</td>\n",
              "      <td>[(CrazyKenyan, n)]</td>\n",
              "      <td>crazykenyan presid uhuru kenyatta bribe mca mp...</td>\n",
              "      <td>0.000000</td>\n",
              "      <td>0.000000</td>\n",
              "    </tr>\n",
              "  </tbody>\n",
              "</table>\n",
              "</div>"
            ],
            "text/plain": [
              "                                                text  ...  Polarity\n",
              "0  @PrettyAmmina The change to the new blue unifo...  ...  0.068182\n",
              "1  I think it's now safe to say President Uhuru K...  ...  0.500000\n",
              "2  @_CrazyKenyan President Uhuru Kenyatta bribed ...  ...  0.000000\n",
              "\n",
              "[3 rows x 6 columns]"
            ]
          },
          "metadata": {},
          "execution_count": 64
        }
      ]
    },
    {
      "cell_type": "code",
      "metadata": {
        "id": "IjI1BAx2L6rP",
        "colab": {
          "base_uri": "https://localhost:8080/",
          "height": 206
        },
        "outputId": "76aa70c4-54c4-4237-e0e2-042afe6046bf"
      },
      "source": [
        "fin_data = pd.DataFrame(election_dataset[['text', 'Stemmed Words']])\n",
        "# fin_data['Subjectivity'] = fin_data['Lemma'].apply(getSubjectivity) \n",
        "fin_data['Polarity'] = fin_data['Stemmed Words'].apply(getPolarity) \n",
        "fin_data['Analysis'] = fin_data['Polarity'].apply(analysis)\n",
        "fin_data.head()"
      ],
      "execution_count": 65,
      "outputs": [
        {
          "output_type": "execute_result",
          "data": {
            "text/html": [
              "<div>\n",
              "<style scoped>\n",
              "    .dataframe tbody tr th:only-of-type {\n",
              "        vertical-align: middle;\n",
              "    }\n",
              "\n",
              "    .dataframe tbody tr th {\n",
              "        vertical-align: top;\n",
              "    }\n",
              "\n",
              "    .dataframe thead th {\n",
              "        text-align: right;\n",
              "    }\n",
              "</style>\n",
              "<table border=\"1\" class=\"dataframe\">\n",
              "  <thead>\n",
              "    <tr style=\"text-align: right;\">\n",
              "      <th></th>\n",
              "      <th>text</th>\n",
              "      <th>Stemmed Words</th>\n",
              "      <th>Polarity</th>\n",
              "      <th>Analysis</th>\n",
              "    </tr>\n",
              "  </thead>\n",
              "  <tbody>\n",
              "    <tr>\n",
              "      <th>0</th>\n",
              "      <td>@PrettyAmmina The change to the new blue unifo...</td>\n",
              "      <td>chang new blue uniform order presid uhuru keny...</td>\n",
              "      <td>0.068182</td>\n",
              "      <td>Positive</td>\n",
              "    </tr>\n",
              "    <tr>\n",
              "      <th>1</th>\n",
              "      <td>I think it's now safe to say President Uhuru K...</td>\n",
              "      <td>think safe say presid uhuru kenyatta amepatia ...</td>\n",
              "      <td>0.500000</td>\n",
              "      <td>Positive</td>\n",
              "    </tr>\n",
              "    <tr>\n",
              "      <th>2</th>\n",
              "      <td>@_CrazyKenyan President Uhuru Kenyatta bribed ...</td>\n",
              "      <td>crazykenyan presid uhuru kenyatta bribe mca mp...</td>\n",
              "      <td>0.000000</td>\n",
              "      <td>Neutral</td>\n",
              "    </tr>\n",
              "    <tr>\n",
              "      <th>3</th>\n",
              "      <td>As @HonMoses_Kuria has just been saying,Presid...</td>\n",
              "      <td>kuria say presid uhuru kenyatta finish ago mt ...</td>\n",
              "      <td>0.136364</td>\n",
              "      <td>Positive</td>\n",
              "    </tr>\n",
              "    <tr>\n",
              "      <th>4</th>\n",
              "      <td>David Murathe the KEMSA thief and President Uh...</td>\n",
              "      <td>david murath kemsa thief presid uhuru kenyatta...</td>\n",
              "      <td>0.000000</td>\n",
              "      <td>Neutral</td>\n",
              "    </tr>\n",
              "  </tbody>\n",
              "</table>\n",
              "</div>"
            ],
            "text/plain": [
              "                                                text  ...  Analysis\n",
              "0  @PrettyAmmina The change to the new blue unifo...  ...  Positive\n",
              "1  I think it's now safe to say President Uhuru K...  ...  Positive\n",
              "2  @_CrazyKenyan President Uhuru Kenyatta bribed ...  ...   Neutral\n",
              "3  As @HonMoses_Kuria has just been saying,Presid...  ...  Positive\n",
              "4  David Murathe the KEMSA thief and President Uh...  ...   Neutral\n",
              "\n",
              "[5 rows x 4 columns]"
            ]
          },
          "metadata": {},
          "execution_count": 65
        }
      ]
    },
    {
      "cell_type": "code",
      "metadata": {
        "colab": {
          "base_uri": "https://localhost:8080/"
        },
        "id": "XrxqZL3ofKgV",
        "outputId": "126ecf4b-ab77-4ab2-be16-9c0cdc12dc22"
      },
      "source": [
        "tb_counts = fin_data.Analysis.value_counts()\n",
        "\n",
        "tb_counts"
      ],
      "execution_count": 66,
      "outputs": [
        {
          "output_type": "execute_result",
          "data": {
            "text/plain": [
              "Neutral     7340\n",
              "Positive    3108\n",
              "Negative    1275\n",
              "Name: Analysis, dtype: int64"
            ]
          },
          "metadata": {},
          "execution_count": 66
        }
      ]
    },
    {
      "cell_type": "code",
      "metadata": {
        "id": "tucicg_IgFXI"
      },
      "source": [
        ""
      ],
      "execution_count": null,
      "outputs": []
    },
    {
      "cell_type": "markdown",
      "metadata": {
        "id": "GaYnjHmIffQA"
      },
      "source": [
        "# **Using Vader**"
      ]
    },
    {
      "cell_type": "code",
      "metadata": {
        "colab": {
          "base_uri": "https://localhost:8080/",
          "height": 143
        },
        "id": "K49_-SZ6fjia",
        "outputId": "cc6e270b-0ef4-457f-b598-eb6f6cc91e96"
      },
      "source": [
        "import vaderSentiment\n",
        "from vaderSentiment.vaderSentiment import SentimentIntensityAnalyzer\n",
        "analyzer = SentimentIntensityAnalyzer()\n",
        "# function to calculate vader sentiment\n",
        "def vadersentimentanalysis(text):\n",
        "    vs = analyzer.polarity_scores(text)\n",
        "    return vs['compound']\n",
        "    fin_data['Vader Sentiment'] = fin_data['Stemmed Words'].apply(vadersentimentanalysis)\n",
        "\n",
        "\n",
        "\n",
        "# function to analyse\n",
        "def vader_analysis(compound):\n",
        "    if compound >= 0.5:\n",
        "        return 'Positive'\n",
        "    elif compound <= -0.5 :\n",
        "        return 'Negative'\n",
        "    else:\n",
        "      return 'Neutral'\n",
        "\n",
        "fin_data.head(3)"
      ],
      "execution_count": 78,
      "outputs": [
        {
          "output_type": "execute_result",
          "data": {
            "text/html": [
              "<div>\n",
              "<style scoped>\n",
              "    .dataframe tbody tr th:only-of-type {\n",
              "        vertical-align: middle;\n",
              "    }\n",
              "\n",
              "    .dataframe tbody tr th {\n",
              "        vertical-align: top;\n",
              "    }\n",
              "\n",
              "    .dataframe thead th {\n",
              "        text-align: right;\n",
              "    }\n",
              "</style>\n",
              "<table border=\"1\" class=\"dataframe\">\n",
              "  <thead>\n",
              "    <tr style=\"text-align: right;\">\n",
              "      <th></th>\n",
              "      <th>text</th>\n",
              "      <th>Stemmed Words</th>\n",
              "    </tr>\n",
              "  </thead>\n",
              "  <tbody>\n",
              "    <tr>\n",
              "      <th>0</th>\n",
              "      <td>@PrettyAmmina The change to the new blue unifo...</td>\n",
              "      <td>chang new blue uniform order presid uhuru keny...</td>\n",
              "    </tr>\n",
              "    <tr>\n",
              "      <th>1</th>\n",
              "      <td>I think it's now safe to say President Uhuru K...</td>\n",
              "      <td>think safe say presid uhuru kenyatta amepatia ...</td>\n",
              "    </tr>\n",
              "    <tr>\n",
              "      <th>2</th>\n",
              "      <td>@_CrazyKenyan President Uhuru Kenyatta bribed ...</td>\n",
              "      <td>crazykenyan presid uhuru kenyatta bribe mca mp...</td>\n",
              "    </tr>\n",
              "  </tbody>\n",
              "</table>\n",
              "</div>"
            ],
            "text/plain": [
              "                                                text                                      Stemmed Words\n",
              "0  @PrettyAmmina The change to the new blue unifo...  chang new blue uniform order presid uhuru keny...\n",
              "1  I think it's now safe to say President Uhuru K...  think safe say presid uhuru kenyatta amepatia ...\n",
              "2  @_CrazyKenyan President Uhuru Kenyatta bribed ...  crazykenyan presid uhuru kenyatta bribe mca mp..."
            ]
          },
          "metadata": {},
          "execution_count": 78
        }
      ]
    },
    {
      "cell_type": "code",
      "metadata": {
        "colab": {
          "base_uri": "https://localhost:8080/",
          "height": 571
        },
        "id": "gC9KBEtTgV6N",
        "outputId": "34f8b0cd-1049-43c1-eda1-e50e781b860d"
      },
      "source": [
        "#fin_data = pd.DataFrame(election_dataset[['text', 'Stemmed Words']])\n",
        "fin_data['Vader Analysis'] = fin_data['Vader Sentiment'].apply(vader_analysis)\n",
        "fin_data.head()"
      ],
      "execution_count": 74,
      "outputs": [
        {
          "output_type": "error",
          "ename": "KeyError",
          "evalue": "ignored",
          "traceback": [
            "\u001b[0;31m---------------------------------------------------------------------------\u001b[0m",
            "\u001b[0;31mKeyError\u001b[0m                                  Traceback (most recent call last)",
            "\u001b[0;32m/usr/local/lib/python3.7/dist-packages/pandas/core/indexes/base.py\u001b[0m in \u001b[0;36mget_loc\u001b[0;34m(self, key, method, tolerance)\u001b[0m\n\u001b[1;32m   2897\u001b[0m             \u001b[0;32mtry\u001b[0m\u001b[0;34m:\u001b[0m\u001b[0;34m\u001b[0m\u001b[0;34m\u001b[0m\u001b[0m\n\u001b[0;32m-> 2898\u001b[0;31m                 \u001b[0;32mreturn\u001b[0m \u001b[0mself\u001b[0m\u001b[0;34m.\u001b[0m\u001b[0m_engine\u001b[0m\u001b[0;34m.\u001b[0m\u001b[0mget_loc\u001b[0m\u001b[0;34m(\u001b[0m\u001b[0mcasted_key\u001b[0m\u001b[0;34m)\u001b[0m\u001b[0;34m\u001b[0m\u001b[0;34m\u001b[0m\u001b[0m\n\u001b[0m\u001b[1;32m   2899\u001b[0m             \u001b[0;32mexcept\u001b[0m \u001b[0mKeyError\u001b[0m \u001b[0;32mas\u001b[0m \u001b[0merr\u001b[0m\u001b[0;34m:\u001b[0m\u001b[0;34m\u001b[0m\u001b[0;34m\u001b[0m\u001b[0m\n",
            "\u001b[0;32mpandas/_libs/index.pyx\u001b[0m in \u001b[0;36mpandas._libs.index.IndexEngine.get_loc\u001b[0;34m()\u001b[0m\n",
            "\u001b[0;32mpandas/_libs/index.pyx\u001b[0m in \u001b[0;36mpandas._libs.index.IndexEngine.get_loc\u001b[0;34m()\u001b[0m\n",
            "\u001b[0;32mpandas/_libs/hashtable_class_helper.pxi\u001b[0m in \u001b[0;36mpandas._libs.hashtable.PyObjectHashTable.get_item\u001b[0;34m()\u001b[0m\n",
            "\u001b[0;32mpandas/_libs/hashtable_class_helper.pxi\u001b[0m in \u001b[0;36mpandas._libs.hashtable.PyObjectHashTable.get_item\u001b[0;34m()\u001b[0m\n",
            "\u001b[0;31mKeyError\u001b[0m: 'Vader Sentiment'",
            "\nThe above exception was the direct cause of the following exception:\n",
            "\u001b[0;31mKeyError\u001b[0m                                  Traceback (most recent call last)",
            "\u001b[0;32m<ipython-input-74-adaff1f90f21>\u001b[0m in \u001b[0;36m<module>\u001b[0;34m()\u001b[0m\n\u001b[1;32m      1\u001b[0m \u001b[0;31m#fin_data = pd.DataFrame(election_dataset[['text', 'Stemmed Words']])\u001b[0m\u001b[0;34m\u001b[0m\u001b[0;34m\u001b[0m\u001b[0;34m\u001b[0m\u001b[0m\n\u001b[0;32m----> 2\u001b[0;31m \u001b[0mfin_data\u001b[0m\u001b[0;34m[\u001b[0m\u001b[0;34m'Vader Analysis'\u001b[0m\u001b[0;34m]\u001b[0m \u001b[0;34m=\u001b[0m \u001b[0mfin_data\u001b[0m\u001b[0;34m[\u001b[0m\u001b[0;34m'Vader Sentiment'\u001b[0m\u001b[0;34m]\u001b[0m\u001b[0;34m.\u001b[0m\u001b[0mapply\u001b[0m\u001b[0;34m(\u001b[0m\u001b[0mvader_analysis\u001b[0m\u001b[0;34m)\u001b[0m\u001b[0;34m\u001b[0m\u001b[0;34m\u001b[0m\u001b[0m\n\u001b[0m\u001b[1;32m      3\u001b[0m \u001b[0mfin_data\u001b[0m\u001b[0;34m.\u001b[0m\u001b[0mhead\u001b[0m\u001b[0;34m(\u001b[0m\u001b[0;34m)\u001b[0m\u001b[0;34m\u001b[0m\u001b[0;34m\u001b[0m\u001b[0m\n",
            "\u001b[0;32m/usr/local/lib/python3.7/dist-packages/pandas/core/frame.py\u001b[0m in \u001b[0;36m__getitem__\u001b[0;34m(self, key)\u001b[0m\n\u001b[1;32m   2904\u001b[0m             \u001b[0;32mif\u001b[0m \u001b[0mself\u001b[0m\u001b[0;34m.\u001b[0m\u001b[0mcolumns\u001b[0m\u001b[0;34m.\u001b[0m\u001b[0mnlevels\u001b[0m \u001b[0;34m>\u001b[0m \u001b[0;36m1\u001b[0m\u001b[0;34m:\u001b[0m\u001b[0;34m\u001b[0m\u001b[0;34m\u001b[0m\u001b[0m\n\u001b[1;32m   2905\u001b[0m                 \u001b[0;32mreturn\u001b[0m \u001b[0mself\u001b[0m\u001b[0;34m.\u001b[0m\u001b[0m_getitem_multilevel\u001b[0m\u001b[0;34m(\u001b[0m\u001b[0mkey\u001b[0m\u001b[0;34m)\u001b[0m\u001b[0;34m\u001b[0m\u001b[0;34m\u001b[0m\u001b[0m\n\u001b[0;32m-> 2906\u001b[0;31m             \u001b[0mindexer\u001b[0m \u001b[0;34m=\u001b[0m \u001b[0mself\u001b[0m\u001b[0;34m.\u001b[0m\u001b[0mcolumns\u001b[0m\u001b[0;34m.\u001b[0m\u001b[0mget_loc\u001b[0m\u001b[0;34m(\u001b[0m\u001b[0mkey\u001b[0m\u001b[0;34m)\u001b[0m\u001b[0;34m\u001b[0m\u001b[0;34m\u001b[0m\u001b[0m\n\u001b[0m\u001b[1;32m   2907\u001b[0m             \u001b[0;32mif\u001b[0m \u001b[0mis_integer\u001b[0m\u001b[0;34m(\u001b[0m\u001b[0mindexer\u001b[0m\u001b[0;34m)\u001b[0m\u001b[0;34m:\u001b[0m\u001b[0;34m\u001b[0m\u001b[0;34m\u001b[0m\u001b[0m\n\u001b[1;32m   2908\u001b[0m                 \u001b[0mindexer\u001b[0m \u001b[0;34m=\u001b[0m \u001b[0;34m[\u001b[0m\u001b[0mindexer\u001b[0m\u001b[0;34m]\u001b[0m\u001b[0;34m\u001b[0m\u001b[0;34m\u001b[0m\u001b[0m\n",
            "\u001b[0;32m/usr/local/lib/python3.7/dist-packages/pandas/core/indexes/base.py\u001b[0m in \u001b[0;36mget_loc\u001b[0;34m(self, key, method, tolerance)\u001b[0m\n\u001b[1;32m   2898\u001b[0m                 \u001b[0;32mreturn\u001b[0m \u001b[0mself\u001b[0m\u001b[0;34m.\u001b[0m\u001b[0m_engine\u001b[0m\u001b[0;34m.\u001b[0m\u001b[0mget_loc\u001b[0m\u001b[0;34m(\u001b[0m\u001b[0mcasted_key\u001b[0m\u001b[0;34m)\u001b[0m\u001b[0;34m\u001b[0m\u001b[0;34m\u001b[0m\u001b[0m\n\u001b[1;32m   2899\u001b[0m             \u001b[0;32mexcept\u001b[0m \u001b[0mKeyError\u001b[0m \u001b[0;32mas\u001b[0m \u001b[0merr\u001b[0m\u001b[0;34m:\u001b[0m\u001b[0;34m\u001b[0m\u001b[0;34m\u001b[0m\u001b[0m\n\u001b[0;32m-> 2900\u001b[0;31m                 \u001b[0;32mraise\u001b[0m \u001b[0mKeyError\u001b[0m\u001b[0;34m(\u001b[0m\u001b[0mkey\u001b[0m\u001b[0;34m)\u001b[0m \u001b[0;32mfrom\u001b[0m \u001b[0merr\u001b[0m\u001b[0;34m\u001b[0m\u001b[0;34m\u001b[0m\u001b[0m\n\u001b[0m\u001b[1;32m   2901\u001b[0m \u001b[0;34m\u001b[0m\u001b[0m\n\u001b[1;32m   2902\u001b[0m         \u001b[0;32mif\u001b[0m \u001b[0mtolerance\u001b[0m \u001b[0;32mis\u001b[0m \u001b[0;32mnot\u001b[0m \u001b[0;32mNone\u001b[0m\u001b[0;34m:\u001b[0m\u001b[0;34m\u001b[0m\u001b[0;34m\u001b[0m\u001b[0m\n",
            "\u001b[0;31mKeyError\u001b[0m: 'Vader Sentiment'"
          ]
        }
      ]
    }
  ]
}