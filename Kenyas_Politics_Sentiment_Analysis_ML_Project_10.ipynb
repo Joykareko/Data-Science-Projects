{
  "nbformat": 4,
  "nbformat_minor": 0,
  "metadata": {
    "colab": {
      "name": "Kenyas Politics Sentiment Analysis-ML Project 10",
      "provenance": [],
      "authorship_tag": "ABX9TyPRAiswPIY2NsFlNMoxVYeI",
      "include_colab_link": true
    },
    "kernelspec": {
      "name": "python3",
      "display_name": "Python 3"
    },
    "language_info": {
      "name": "python"
    }
  },
  "cells": [
    {
      "cell_type": "markdown",
      "metadata": {
        "id": "view-in-github",
        "colab_type": "text"
      },
      "source": [
        "<a href=\"https://colab.research.google.com/github/Joykareko/Data-Science-Projects/blob/main/Kenyas_Politics_Sentiment_Analysis_ML_Project_10.ipynb\" target=\"_parent\"><img src=\"https://colab.research.google.com/assets/colab-badge.svg\" alt=\"Open In Colab\"/></a>"
      ]
    },
    {
      "cell_type": "code",
      "metadata": {
        "id": "6GXEtcyCir7h"
      },
      "source": [
        "#importing the dependencies\n",
        "import pandas as pd\n",
        "import numpy as np\n",
        "import matplotlib.pyplot as plt\n",
        "import seaborn as sns\n",
        "import re\n",
        "from nltk.corpus import stopwords\n",
        "from nltk.stem.porter import PorterStemmer\n",
        "from sklearn.feature_extraction.text import TfidfVectorizer\n",
        "from sklearn.model_selection import train_test_split\n",
        "from sklearn.linear_model import LogisticRegression\n",
        "from sklearn.metrics import accuracy_score"
      ],
      "execution_count": 1,
      "outputs": []
    },
    {
      "cell_type": "code",
      "metadata": {
        "id": "LEQnJnbRlB9X"
      },
      "source": [
        "from textblob import TextBlob\n",
        "from wordcloud import WordCloud"
      ],
      "execution_count": 2,
      "outputs": []
    },
    {
      "cell_type": "code",
      "metadata": {
        "colab": {
          "base_uri": "https://localhost:8080/",
          "height": 319
        },
        "id": "EFQjcWAKkGcy",
        "outputId": "0e1ffdee-b80b-46bc-fd5a-549e04b578d7"
      },
      "source": [
        "#loading the data\n",
        "election_data = pd.read_csv('/content/kenya_political_tweets.csv')\n",
        "election_data.head(3)"
      ],
      "execution_count": 3,
      "outputs": [
        {
          "output_type": "execute_result",
          "data": {
            "text/html": [
              "<div>\n",
              "<style scoped>\n",
              "    .dataframe tbody tr th:only-of-type {\n",
              "        vertical-align: middle;\n",
              "    }\n",
              "\n",
              "    .dataframe tbody tr th {\n",
              "        vertical-align: top;\n",
              "    }\n",
              "\n",
              "    .dataframe thead th {\n",
              "        text-align: right;\n",
              "    }\n",
              "</style>\n",
              "<table border=\"1\" class=\"dataframe\">\n",
              "  <thead>\n",
              "    <tr style=\"text-align: right;\">\n",
              "      <th></th>\n",
              "      <th>id</th>\n",
              "      <th>user_name</th>\n",
              "      <th>user_location</th>\n",
              "      <th>user_description</th>\n",
              "      <th>user_created</th>\n",
              "      <th>user_followers</th>\n",
              "      <th>user_friends</th>\n",
              "      <th>user_favourites</th>\n",
              "      <th>user_verified</th>\n",
              "      <th>date</th>\n",
              "      <th>text</th>\n",
              "      <th>hashtags</th>\n",
              "      <th>source</th>\n",
              "      <th>retweets</th>\n",
              "      <th>favorites</th>\n",
              "      <th>is_retweet</th>\n",
              "    </tr>\n",
              "  </thead>\n",
              "  <tbody>\n",
              "    <tr>\n",
              "      <th>0</th>\n",
              "      <td>1396091006030856192</td>\n",
              "      <td>Doomster</td>\n",
              "      <td>Utopia slums</td>\n",
              "      <td>Alt-left, liberal, pronoun:them</td>\n",
              "      <td>2009-08-23 12:22:53</td>\n",
              "      <td>309</td>\n",
              "      <td>907</td>\n",
              "      <td>8050</td>\n",
              "      <td>False</td>\n",
              "      <td>2021-05-22 13:10:08</td>\n",
              "      <td>@PrettyAmmina The change to the new blue unifo...</td>\n",
              "      <td>NaN</td>\n",
              "      <td>Twitter Web App</td>\n",
              "      <td>0.0</td>\n",
              "      <td>0.0</td>\n",
              "      <td>False</td>\n",
              "    </tr>\n",
              "    <tr>\n",
              "      <th>1</th>\n",
              "      <td>1395981137764397056</td>\n",
              "      <td>Unruly 🗯</td>\n",
              "      <td>Morayfield</td>\n",
              "      <td>I don't know what you thought this was gonna b...</td>\n",
              "      <td>2011-04-20 19:35:54</td>\n",
              "      <td>1053</td>\n",
              "      <td>523</td>\n",
              "      <td>5279</td>\n",
              "      <td>False</td>\n",
              "      <td>2021-05-22 05:53:33</td>\n",
              "      <td>I think it's now safe to say President Uhuru K...</td>\n",
              "      <td>NaN</td>\n",
              "      <td>Twitter for Android</td>\n",
              "      <td>0.0</td>\n",
              "      <td>0.0</td>\n",
              "      <td>False</td>\n",
              "    </tr>\n",
              "    <tr>\n",
              "      <th>2</th>\n",
              "      <td>1395433210490798082</td>\n",
              "      <td>Khavin</td>\n",
              "      <td>Nairobi</td>\n",
              "      <td>CCTV installation and MAINTENANCE technician. ...</td>\n",
              "      <td>2020-02-11 04:52:44</td>\n",
              "      <td>4202</td>\n",
              "      <td>3735</td>\n",
              "      <td>29563</td>\n",
              "      <td>False</td>\n",
              "      <td>2021-05-20 17:36:17</td>\n",
              "      <td>@_CrazyKenyan President Uhuru Kenyatta bribed ...</td>\n",
              "      <td>['bbinonsense']</td>\n",
              "      <td>Twitter Web App</td>\n",
              "      <td>0.0</td>\n",
              "      <td>1.0</td>\n",
              "      <td>False</td>\n",
              "    </tr>\n",
              "  </tbody>\n",
              "</table>\n",
              "</div>"
            ],
            "text/plain": [
              "                    id user_name user_location  ... retweets favorites is_retweet\n",
              "0  1396091006030856192  Doomster  Utopia slums  ...      0.0       0.0      False\n",
              "1  1395981137764397056  Unruly 🗯    Morayfield  ...      0.0       0.0      False\n",
              "2  1395433210490798082    Khavin      Nairobi   ...      0.0       1.0      False\n",
              "\n",
              "[3 rows x 16 columns]"
            ]
          },
          "metadata": {},
          "execution_count": 3
        }
      ]
    },
    {
      "cell_type": "code",
      "metadata": {
        "colab": {
          "base_uri": "https://localhost:8080/"
        },
        "id": "eypEsdFlksMY",
        "outputId": "b7d87fdb-d7b1-4b00-863b-f8dde13c8ee1"
      },
      "source": [
        "#checking the rows and columns\n",
        "election_data.shape"
      ],
      "execution_count": 4,
      "outputs": [
        {
          "output_type": "execute_result",
          "data": {
            "text/plain": [
              "(11723, 16)"
            ]
          },
          "metadata": {},
          "execution_count": 4
        }
      ]
    },
    {
      "cell_type": "code",
      "metadata": {
        "colab": {
          "base_uri": "https://localhost:8080/"
        },
        "id": "YH6LhyJal3ni",
        "outputId": "1468196f-a127-4ef8-b9ed-4fbfd9fd2867"
      },
      "source": [
        "#checking the general info\n",
        "election_data.info()"
      ],
      "execution_count": 5,
      "outputs": [
        {
          "output_type": "stream",
          "name": "stdout",
          "text": [
            "<class 'pandas.core.frame.DataFrame'>\n",
            "RangeIndex: 11723 entries, 0 to 11722\n",
            "Data columns (total 16 columns):\n",
            " #   Column            Non-Null Count  Dtype  \n",
            "---  ------            --------------  -----  \n",
            " 0   id                11723 non-null  object \n",
            " 1   user_name         11723 non-null  object \n",
            " 2   user_location     9239 non-null   object \n",
            " 3   user_description  10730 non-null  object \n",
            " 4   user_created      11722 non-null  object \n",
            " 5   user_followers    11722 non-null  object \n",
            " 6   user_friends      11722 non-null  object \n",
            " 7   user_favourites   11722 non-null  object \n",
            " 8   user_verified     11721 non-null  object \n",
            " 9   date              11722 non-null  object \n",
            " 10  text              11722 non-null  object \n",
            " 11  hashtags          1174 non-null   object \n",
            " 12  source            11722 non-null  object \n",
            " 13  retweets          11721 non-null  float64\n",
            " 14  favorites         11721 non-null  float64\n",
            " 15  is_retweet        11721 non-null  object \n",
            "dtypes: float64(2), object(14)\n",
            "memory usage: 1.4+ MB\n"
          ]
        }
      ]
    },
    {
      "cell_type": "code",
      "metadata": {
        "colab": {
          "base_uri": "https://localhost:8080/"
        },
        "id": "9fFgZh8jmGIW",
        "outputId": "e863f485-e5c5-40ed-a056-eee41a94b0c3"
      },
      "source": [
        "#missing values?\n",
        "election_data.isnull().sum()"
      ],
      "execution_count": 6,
      "outputs": [
        {
          "output_type": "execute_result",
          "data": {
            "text/plain": [
              "id                      0\n",
              "user_name               0\n",
              "user_location        2484\n",
              "user_description      993\n",
              "user_created            1\n",
              "user_followers          1\n",
              "user_friends            1\n",
              "user_favourites         1\n",
              "user_verified           2\n",
              "date                    1\n",
              "text                    1\n",
              "hashtags            10549\n",
              "source                  1\n",
              "retweets                2\n",
              "favorites               2\n",
              "is_retweet              2\n",
              "dtype: int64"
            ]
          },
          "metadata": {},
          "execution_count": 6
        }
      ]
    },
    {
      "cell_type": "code",
      "metadata": {
        "colab": {
          "base_uri": "https://localhost:8080/"
        },
        "id": "UrgKkCQ_mO2f",
        "outputId": "fe0a6107-c065-4f4e-aeb6-bf8db52eb75a"
      },
      "source": [
        "#interested in user loaction and text\n",
        "election_data['user_location'].value_counts()"
      ],
      "execution_count": 7,
      "outputs": [
        {
          "output_type": "execute_result",
          "data": {
            "text/plain": [
              "Nairobi, Kenya                   2954\n",
              "Kenya                            1189\n",
              "Nairobi                           558\n",
              "Limuru, Kenya                     186\n",
              "Mombasa, Kenya                    173\n",
              "                                 ... \n",
              "Mogadishu, Baidoa and Nairobi       1\n",
              "Weldonlangat@gmail.com              1\n",
              "Oude Meer, Haarlemmermeer           1\n",
              "Geertruidenberg, Nederland          1\n",
              "naenda kanani                       1\n",
              "Name: user_location, Length: 986, dtype: int64"
            ]
          },
          "metadata": {},
          "execution_count": 7
        }
      ]
    },
    {
      "cell_type": "code",
      "metadata": {
        "colab": {
          "base_uri": "https://localhost:8080/"
        },
        "id": "S1KLjyHkmsks",
        "outputId": "f4d653d6-cb19-435e-ec57-370a34f6d820"
      },
      "source": [
        "#stopwords do not add value to the text\n",
        "import nltk\n",
        "nltk.download('stopwords')\n",
        "print(stopwords.words('english'))"
      ],
      "execution_count": 8,
      "outputs": [
        {
          "output_type": "stream",
          "name": "stdout",
          "text": [
            "[nltk_data] Downloading package stopwords to /root/nltk_data...\n",
            "[nltk_data]   Package stopwords is already up-to-date!\n",
            "['i', 'me', 'my', 'myself', 'we', 'our', 'ours', 'ourselves', 'you', \"you're\", \"you've\", \"you'll\", \"you'd\", 'your', 'yours', 'yourself', 'yourselves', 'he', 'him', 'his', 'himself', 'she', \"she's\", 'her', 'hers', 'herself', 'it', \"it's\", 'its', 'itself', 'they', 'them', 'their', 'theirs', 'themselves', 'what', 'which', 'who', 'whom', 'this', 'that', \"that'll\", 'these', 'those', 'am', 'is', 'are', 'was', 'were', 'be', 'been', 'being', 'have', 'has', 'had', 'having', 'do', 'does', 'did', 'doing', 'a', 'an', 'the', 'and', 'but', 'if', 'or', 'because', 'as', 'until', 'while', 'of', 'at', 'by', 'for', 'with', 'about', 'against', 'between', 'into', 'through', 'during', 'before', 'after', 'above', 'below', 'to', 'from', 'up', 'down', 'in', 'out', 'on', 'off', 'over', 'under', 'again', 'further', 'then', 'once', 'here', 'there', 'when', 'where', 'why', 'how', 'all', 'any', 'both', 'each', 'few', 'more', 'most', 'other', 'some', 'such', 'no', 'nor', 'not', 'only', 'own', 'same', 'so', 'than', 'too', 'very', 's', 't', 'can', 'will', 'just', 'don', \"don't\", 'should', \"should've\", 'now', 'd', 'll', 'm', 'o', 're', 've', 'y', 'ain', 'aren', \"aren't\", 'couldn', \"couldn't\", 'didn', \"didn't\", 'doesn', \"doesn't\", 'hadn', \"hadn't\", 'hasn', \"hasn't\", 'haven', \"haven't\", 'isn', \"isn't\", 'ma', 'mightn', \"mightn't\", 'mustn', \"mustn't\", 'needn', \"needn't\", 'shan', \"shan't\", 'shouldn', \"shouldn't\", 'wasn', \"wasn't\", 'weren', \"weren't\", 'won', \"won't\", 'wouldn', \"wouldn't\"]\n"
          ]
        }
      ]
    },
    {
      "cell_type": "code",
      "metadata": {
        "colab": {
          "base_uri": "https://localhost:8080/"
        },
        "id": "y1-CS-aGm7V2",
        "outputId": "773b9e34-a224-4dc3-9f74-ece46e01484a"
      },
      "source": [
        "#replacing the null values in 'text' column with empty strings\n",
        "#replacing the null values in 'location' column with mode\n",
        "election_data.fillna(value = {'text':' ','user_location':'Nairobi'},inplace = True)\n",
        "election_data.isnull().sum()"
      ],
      "execution_count": 11,
      "outputs": [
        {
          "output_type": "execute_result",
          "data": {
            "text/plain": [
              "id                      0\n",
              "user_name               0\n",
              "user_location           0\n",
              "user_description      993\n",
              "user_created            1\n",
              "user_followers          1\n",
              "user_friends            1\n",
              "user_favourites         1\n",
              "user_verified           2\n",
              "date                    1\n",
              "text                    0\n",
              "hashtags            10549\n",
              "source                  1\n",
              "retweets                2\n",
              "favorites               2\n",
              "is_retweet              2\n",
              "dtype: int64"
            ]
          },
          "metadata": {},
          "execution_count": 11
        }
      ]
    },
    {
      "cell_type": "markdown",
      "metadata": {
        "id": "na6mScuWtyU1"
      },
      "source": [
        "Cleaning the Data"
      ]
    },
    {
      "cell_type": "code",
      "metadata": {
        "id": "A_y_2ppAt04Z"
      },
      "source": [
        ""
      ],
      "execution_count": null,
      "outputs": []
    }
  ]
}