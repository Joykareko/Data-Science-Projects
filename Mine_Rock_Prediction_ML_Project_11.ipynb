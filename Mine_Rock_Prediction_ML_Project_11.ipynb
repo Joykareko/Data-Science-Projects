{
  "nbformat": 4,
  "nbformat_minor": 0,
  "metadata": {
    "colab": {
      "name": "Mine/Rock Prediction - ML Project 11",
      "provenance": [],
      "authorship_tag": "ABX9TyNkeIBr0dtWCVBb8e1AjTOW",
      "include_colab_link": true
    },
    "kernelspec": {
      "name": "python3",
      "display_name": "Python 3"
    },
    "language_info": {
      "name": "python"
    }
  },
  "cells": [
    {
      "cell_type": "markdown",
      "metadata": {
        "id": "view-in-github",
        "colab_type": "text"
      },
      "source": [
        "<a href=\"https://colab.research.google.com/github/Joykareko/Data-Science-Projects/blob/main/Mine_Rock_Prediction_ML_Project_11.ipynb\" target=\"_parent\"><img src=\"https://colab.research.google.com/assets/colab-badge.svg\" alt=\"Open In Colab\"/></a>"
      ]
    },
    {
      "cell_type": "markdown",
      "metadata": {
        "id": "3C2YNSjyigdb"
      },
      "source": [
        "Mine/Rock Prediction using Sonar Data"
      ]
    },
    {
      "cell_type": "code",
      "metadata": {
        "id": "A81b7W7Uh2I1"
      },
      "source": [
        ""
      ],
      "execution_count": null,
      "outputs": []
    }
  ]
}