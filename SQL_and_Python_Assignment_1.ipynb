{
  "nbformat": 4,
  "nbformat_minor": 0,
  "metadata": {
    "colab": {
      "name": "SQL and Python Assignment 1",
      "provenance": [],
      "authorship_tag": "ABX9TyOz6nH0CXu16oDzBK0WxbfX",
      "include_colab_link": true
    },
    "kernelspec": {
      "name": "python3",
      "display_name": "Python 3"
    },
    "language_info": {
      "name": "python"
    }
  },
  "cells": [
    {
      "cell_type": "markdown",
      "metadata": {
        "id": "view-in-github",
        "colab_type": "text"
      },
      "source": [
        "<a href=\"https://colab.research.google.com/github/Joykareko/Data-Science-Projects/blob/main/SQL_and_Python_Assignment_1.ipynb\" target=\"_parent\"><img src=\"https://colab.research.google.com/assets/colab-badge.svg\" alt=\"Open In Colab\"/></a>"
      ]
    },
    {
      "cell_type": "markdown",
      "source": [
        "# **SQL Questions**"
      ],
      "metadata": {
        "id": "HLxup8HXwB51"
      }
    },
    {
      "cell_type": "markdown",
      "source": [
        "## Qn.1 Given a theoretical “Employees” table, write a query to show only row 4 through row 7."
      ],
      "metadata": {
        "id": "PflaGLhho0He"
      }
    },
    {
      "cell_type": "markdown",
      "source": [
        "\n",
        "\n",
        "```\n",
        "SELECT * \n",
        "FROM Employees\n",
        "ORDER BY Salary\n",
        "LIMIT 4\n",
        "OFFSET 3;\n",
        "```\n",
        "\n"
      ],
      "metadata": {
        "id": "pvx6SrkAy6_d"
      }
    },
    {
      "cell_type": "markdown",
      "source": [
        "## Qn.2 Given a theoretical “Stock” table that has the columns “name” and “price”, write a query to display the min and max price in the same table including the name."
      ],
      "metadata": {
        "id": "yKW02o1lqi6Y"
      }
    },
    {
      "cell_type": "markdown",
      "source": [
        "\n",
        "```\n",
        "SELECT *\n",
        "FROM \n",
        "\n",
        "(SELECT name, max(price) AS max_price\n",
        "\tFROM Stock) t,\n",
        "\n",
        "  (SELECT name, min(price) AS min_price\n",
        "  FROM Stock) k\n",
        "```\n",
        "\n"
      ],
      "metadata": {
        "id": "PcnHXrjYyo_P"
      }
    },
    {
      "cell_type": "markdown",
      "source": [
        "## Qn.3 In the same “Stock” table from #2, how would you query the third-highest price in the Table.\n"
      ],
      "metadata": {
        "id": "FU_3yG-arTSX"
      }
    },
    {
      "cell_type": "markdown",
      "source": [
        "\n",
        "\n",
        "```\n",
        "SELECT Price \n",
        "FROM Stock \n",
        "ORDER BY Price DESC \n",
        "LIMIT 2, 1\n",
        "```\n",
        "\n"
      ],
      "metadata": {
        "id": "JE4Cb3P4zVFq"
      }
    },
    {
      "cell_type": "markdown",
      "source": [
        "## Qn.4 In a “Users” table there are the columns “name” and “email”. Write a query to find duplicates that have the same email.\n"
      ],
      "metadata": {
        "id": "7FbJtk_BrzS7"
      }
    },
    {
      "cell_type": "markdown",
      "source": [
        "\n",
        "\n",
        "```\n",
        " SELECT email, COUNT(*)\n",
        "  FROM Users \n",
        "  GROUP BY email\n",
        "  HAVING count(*) > 1 \n",
        "```\n",
        "\n"
      ],
      "metadata": {
        "id": "XilppKoF6oBO"
      }
    },
    {
      "cell_type": "markdown",
      "source": [
        "## Qn.5 In the same table from #4, write a query to find duplicates that have all the same fields(assume there are more than just name and email)\n",
        "\n",
        "\n",
        "\n"
      ],
      "metadata": {
        "id": "YHipraHQr63G"
      }
    },
    {
      "cell_type": "markdown",
      "source": [
        "\n",
        "\n",
        "```\n",
        "SELECT *\n",
        "FROM (\n",
        "\n",
        "SELECT Name,Email,Count(*) email_cnt\n",
        "FROM Users\n",
        "GROUP BY Email\n",
        "HAVING Count(*)>1 )b,\n",
        "\n",
        "(\n",
        "\n",
        "SELECT Name, Salary,Count(*) sal_cnt\n",
        "FROM Users\n",
        "GROUP BY Salary\n",
        "HAVING Count(*)>1 ) a\n",
        "\n",
        "```\n",
        "\n"
      ],
      "metadata": {
        "id": "Ghm6KAN78Nph"
      }
    },
    {
      "cell_type": "markdown",
      "source": [
        "## Qn.6 Succinctly explain the difference between a subquery and a correlated subquery."
      ],
      "metadata": {
        "id": "8ZRJN4EHszN0"
      }
    },
    {
      "cell_type": "markdown",
      "source": [
        "*Correlated Subquery is a subquery that uses values from the outer query. In this case, the inner query has to be executed for every row of the outer query.*\n",
        "*The simple subquery doesn't use values from the outer query and is being calculated only once.*"
      ],
      "metadata": {
        "id": "e217SKNgtCP1"
      }
    },
    {
      "cell_type": "markdown",
      "source": [
        "## Qn.7 Provide an example of a correlated subquery. Describe the simple table and what data you are trying to find via the correlated subquery. Include what makes it a correlated subquery and why it is better to use than a subquery to get the information you want.\n"
      ],
      "metadata": {
        "id": "36J8zU22tTSH"
      }
    },
    {
      "cell_type": "markdown",
      "source": [
        "\n",
        "\n",
        "```\n",
        "SELECT employee_number, name\n",
        "       FROM employees emp\n",
        "       WHERE salary > (\n",
        "         SELECT AVG(salary)\n",
        "           FROM employees\n",
        "           WHERE department = emp.department);\n",
        "```\n",
        "\n",
        "\n",
        ">\n",
        "*Its useful when comparing rows by rows to return different results.*\n",
        "\n",
        "\n",
        "\n"
      ],
      "metadata": {
        "id": "ZUdJ7jpK8hvg"
      }
    },
    {
      "cell_type": "markdown",
      "source": [
        "## Qn.8 Using the below table description, write a query to find all the employees who have a higher salary than the Vice President (the Vice President’s job_id is VP)\n"
      ],
      "metadata": {
        "id": "r9WHD98cttu8"
      }
    },
    {
      "cell_type": "markdown",
      "source": [
        "\n",
        "\n",
        "```\n",
        "SELECT *\n",
        "FROM Employees\n",
        "WHERE Salary>1000\n",
        "```\n",
        "\n"
      ],
      "metadata": {
        "id": "-L5944YQ9f8u"
      }
    },
    {
      "cell_type": "markdown",
      "source": [
        "## Qn.9 In the below table, how would you query to find all the customers from the same country?\n"
      ],
      "metadata": {
        "id": "Ij9bjK51t8_B"
      }
    },
    {
      "cell_type": "markdown",
      "source": [
        "\n",
        "\n",
        "```\n",
        "SELECT Name,Country\n",
        "  FROM Customers \n",
        "  WHERE Country = \"Kenya\"\n",
        "```\n",
        "\n"
      ],
      "metadata": {
        "id": "B503Ry2f-mpB"
      }
    },
    {
      "cell_type": "markdown",
      "source": [
        "## Qn.10\tWhat is the difference between WHERE and HAVING clauses in a query? Provide an example of each use.\n"
      ],
      "metadata": {
        "id": "mkvieqXfuHFa"
      }
    },
    {
      "cell_type": "markdown",
      "source": [
        "*In SQL, the HAVING and WHERE clauses are both used to impose a condition. However, HAVING is used to filter out results from aggregated data, whereas WHERE is used to add conditions to individual rows.*\n",
        "\n",
        "\n",
        "\n",
        "```\n",
        "#HAVING\n",
        "SELECT Cust_ID, \n",
        "SUM(Price) AS Total \n",
        "FROM order_details\n",
        "GROUP BY Cust_ID\n",
        "HAVING Total > 13\n",
        "```\n",
        "\n",
        "\n",
        "```\n",
        "#WHERE\n",
        "SELECT Fname, Lname \n",
        "FROM customer_details\n",
        "WHERE Age < 40;\n",
        "```\n",
        "\n",
        "\n",
        "\n"
      ],
      "metadata": {
        "id": "FZJk9xJjuQ33"
      }
    },
    {
      "cell_type": "markdown",
      "source": [
        "# **Python/CompSci Questions.**"
      ],
      "metadata": {
        "id": "V1JYLEk0vXfh"
      }
    },
    {
      "cell_type": "markdown",
      "source": [
        "## Qn.1\tHow are lists and string similar?"
      ],
      "metadata": {
        "id": "epxk3qchv_cF"
      }
    },
    {
      "cell_type": "markdown",
      "source": [
        "Both are ordered collections of characters."
      ],
      "metadata": {
        "id": "qg5Fx2iiwdiy"
      }
    },
    {
      "cell_type": "markdown",
      "source": [
        "## Qn.2\tWhat is a lambda function in Python and when would you use one?"
      ],
      "metadata": {
        "id": "loZbXdrywaCI"
      }
    },
    {
      "cell_type": "markdown",
      "source": [
        "We use the lambda keyword to declare an anonymous function, which is why we refer to them as \"Lambda functions\". An anonymous function refers to a function declared with no name.\n",
        "\n",
        "They are used whenever a user needs to use the function just once.\n"
      ],
      "metadata": {
        "id": "tV_Sr6AowsBX"
      }
    },
    {
      "cell_type": "markdown",
      "source": [
        "## Qn.3\tRewrite the below for loop as a list comprehension.\n",
        "\n",
        "\n",
        "```\n",
        "L=[]\n",
        "for client in abc_financial_clients:\n",
        "L.append(client)\n",
        "\n",
        "print(L)\n",
        "```\n",
        "\n"
      ],
      "metadata": {
        "id": "AnJaBc3xu0_m"
      }
    },
    {
      "cell_type": "markdown",
      "source": [
        "\n",
        "```\n",
        "L=[client for client in abc_financial_clients]\n",
        "print(L)\n",
        "\n",
        "```\n",
        "\n",
        "\n"
      ],
      "metadata": {
        "id": "-6K-vJbEyHgE"
      }
    },
    {
      "cell_type": "markdown",
      "source": [
        "## Qn.4\tWrite a function that will take two parameters: a list of integers and a number. The function must return the indices of the two integers in the list that when added together produce the number passed. If none are found return an empty list.\n"
      ],
      "metadata": {
        "id": "KnpfrviCykTm"
      }
    },
    {
      "cell_type": "code",
      "source": [
        "lst=[]\n",
        "def my_function(lst,n):\n",
        "  \n",
        "  for i in lst:\n",
        "    for j in lst:\n",
        "      if i+j==n:\n",
        "        print(lst[i],lst[j],n)\n",
        "  \n",
        "my_function([0,1,2,3,4,5],5) "
      ],
      "metadata": {
        "colab": {
          "base_uri": "https://localhost:8080/"
        },
        "id": "Amo29ABpjLcJ",
        "outputId": "498d4ba1-a22e-4b84-8320-72ab911e1c9d"
      },
      "execution_count": null,
      "outputs": [
        {
          "output_type": "stream",
          "name": "stdout",
          "text": [
            "0 5 5\n",
            "1 4 5\n",
            "2 3 5\n",
            "3 2 5\n",
            "4 1 5\n",
            "5 0 5\n"
          ]
        }
      ]
    },
    {
      "cell_type": "markdown",
      "source": [
        "## Qn.5 Write a function to return the nth number in the Fibonacci sequence. Make sure it can find the 1000th number in a reasonable amount of time."
      ],
      "metadata": {
        "id": "RBfuaqJ-yzr_"
      }
    },
    {
      "cell_type": "code",
      "source": [
        "def fibonacci (n):\n",
        "   if n<= 0:\n",
        "     return \"Incorrect Output\"\n",
        "   data = [0, 1]\n",
        "   if n > 2:\n",
        "        for i in range (2, n):\n",
        "            data.append(data[i-1] + data[i-2])\n",
        "        return data[n-1]\n",
        " \n",
        "# printing 1000th Fibonacci number\n",
        " \n",
        "print(fibonacci(1000))"
      ],
      "metadata": {
        "colab": {
          "base_uri": "https://localhost:8080/"
        },
        "id": "MPQ96ufhy6_C",
        "outputId": "19de7420-e885-4a5c-8b9e-fc33f17dcb62"
      },
      "execution_count": null,
      "outputs": [
        {
          "output_type": "stream",
          "name": "stdout",
          "text": [
            "26863810024485359386146727202142923967616609318986952340123175997617981700247881689338369654483356564191827856161443356312976673642210350324634850410377680367334151172899169723197082763985615764450078474174626\n"
          ]
        }
      ]
    },
    {
      "cell_type": "markdown",
      "source": [
        "## Qn.6\tGiven a list of indeterminate length, sort the list from smallest to largest. Do not use python’s sort function.\n"
      ],
      "metadata": {
        "id": "mrdqH0BhzHGt"
      }
    },
    {
      "cell_type": "code",
      "source": [
        "l = [64, 25, 12, 22, 11, 1,2,44,3,122, 23, 34]\n",
        "\n",
        "for i in range(len(l)):\n",
        "    for j in range(i + 1, len(l)):\n",
        "\n",
        "        if l[i] > l[j]:\n",
        "           l[i], l[j] = l[j], l[i]\n",
        "\n",
        "print (l)\n"
      ],
      "metadata": {
        "colab": {
          "base_uri": "https://localhost:8080/"
        },
        "id": "HFivFwpnzFKz",
        "outputId": "70371e14-da12-4230-e924-96e406f5dcda"
      },
      "execution_count": null,
      "outputs": [
        {
          "output_type": "stream",
          "name": "stdout",
          "text": [
            "[1, 2, 3, 11, 12, 22, 23, 25, 34, 44, 64, 122]\n"
          ]
        }
      ]
    },
    {
      "cell_type": "markdown",
      "source": [
        "## Qn.7\tGiven the following two lists, concatenate them together so the output is as demonstrated below.\n"
      ],
      "metadata": {
        "id": "YSmYieH40CHs"
      }
    },
    {
      "cell_type": "code",
      "source": [
        "l1=['Morgan Stanley', 'Bank of America', 'Goldman Sachs', 'BlackRock', 'JP Morgan Chase']\n",
        "l2=[' MS', ' BAC', ' GS', ' BLK', ' JPM']\n",
        "\n",
        "res = [i + j for i, j in zip(l1, l2)]\n",
        "print (\"The list after element concatenation is : \" +  str(res))"
      ],
      "metadata": {
        "colab": {
          "base_uri": "https://localhost:8080/"
        },
        "id": "FyCZaX_0z98e",
        "outputId": "0525af88-ef45-4ece-e01b-612bf6df2245"
      },
      "execution_count": null,
      "outputs": [
        {
          "output_type": "stream",
          "name": "stdout",
          "text": [
            "The list after element concatenation is : ['Morgan Stanley MS', 'Bank of America BAC', 'Goldman Sachs GS', 'BlackRock BLK', 'JP Morgan Chase JPM']\n"
          ]
        }
      ]
    },
    {
      "cell_type": "markdown",
      "source": [
        "## Qn.8 Describe the differences among the following data types in Python: list, tuple, dict,OrderedDict, and namedtuple.\n"
      ],
      "metadata": {
        "id": "XU3bnYRx0bcx"
      }
    },
    {
      "cell_type": "markdown",
      "source": [
        "\n",
        "> *A list is a data structure that is used to store different data types. Its mutable(can be changed) and are ordered(appears in sorted arrangement)and allows duplicates. List elements are accessible through indexes*\n",
        "\n",
        "> A tuple is a data structure like a list, but its elements are **immutable**(cannot be added,removed or changed) and also allow duplicates.Tuples are also accessed by indexing.\n",
        "\n",
        "> A dictionary stores data in key,value pairs and is ordered, is mutable but does **not** allow duplicates.\n",
        "\n",
        "> An Ordered Dictionary is a dictionary subclass that remembers the order that keys were first inserted.\n",
        "\n",
        "> A named tuple is like a dictionary.Like dictionaries, they contain keys that are hashed to a particular value. But on contrary, it supports both access from key-value and iteration, the functionality that dictionaries lack.\n",
        "\n",
        "\n",
        "\n",
        "\n",
        "\n",
        "\n",
        "\n",
        "\n",
        "\n"
      ],
      "metadata": {
        "id": "7OOyRNZukh_h"
      }
    },
    {
      "cell_type": "markdown",
      "source": [
        "## Qn.9 Create a class that implements a working stack data structure."
      ],
      "metadata": {
        "id": "zcog7IlW0hbi"
      }
    },
    {
      "cell_type": "code",
      "source": [
        "class Stack:\n",
        "     def __init__(self):\n",
        "         self.items = []\n",
        "\n",
        "     def isEmpty(self):\n",
        "         return self.items == []\n",
        "\n",
        "     def push(self, item):\n",
        "         self.items.append(item)\n",
        "\n",
        "     def pop(self):\n",
        "         return self.items.pop()\n",
        "\n",
        "     def peek(self):\n",
        "         return self.items[len(self.items)-1]\n",
        "\n",
        "     def size(self):\n",
        "         return len(self.items)\n"
      ],
      "metadata": {
        "id": "ofZ43HCVo6UK"
      },
      "execution_count": null,
      "outputs": []
    },
    {
      "cell_type": "markdown",
      "source": [
        "## Qn.10 Create a class that implements a working queue data structure."
      ],
      "metadata": {
        "id": "E9uRWAqi0t4o"
      }
    },
    {
      "cell_type": "code",
      "source": [
        "class Queue:\n",
        "    def __init__(self):\n",
        "        self.items = []\n",
        "\n",
        "    def isEmpty(self):\n",
        "        return self.items == []\n",
        "\n",
        "    def enqueue(self, item):\n",
        "        self.items.insert(0,item)\n",
        "\n",
        "    def dequeue(self):\n",
        "        return self.items.pop()\n",
        "\n",
        "    def size(self):\n",
        "        return len(self.items)\n",
        "\n",
        "\n",
        "q = Queue()\n",
        "q.enqueue('Just')\n",
        "q.enqueue('Enchant')\n",
        "q.enqueue('Dog')\n",
        "q.dequeue()"
      ],
      "metadata": {
        "colab": {
          "base_uri": "https://localhost:8080/",
          "height": 35
        },
        "id": "LvBHvj_2o7ZV",
        "outputId": "71fa68ca-babc-4c2b-8222-fb4d69b4ec24"
      },
      "execution_count": null,
      "outputs": [
        {
          "output_type": "execute_result",
          "data": {
            "application/vnd.google.colaboratory.intrinsic+json": {
              "type": "string"
            },
            "text/plain": [
              "'Just'"
            ]
          },
          "metadata": {},
          "execution_count": 45
        }
      ]
    },
    {
      "cell_type": "markdown",
      "source": [
        "## Qn.11\tCreate a class that implements a working deque data structure."
      ],
      "metadata": {
        "id": "8q6EQUH203Cj"
      }
    },
    {
      "cell_type": "code",
      "source": [
        "class Deque:\n",
        "    def __init__(self):\n",
        "        self.items = []\n",
        "\n",
        "    def isEmpty(self):\n",
        "        return self.items == []\n",
        "\n",
        "    def addFront(self, item):\n",
        "        self.items.append(item)\n",
        "\n",
        "    def addRear(self, item):\n",
        "        self.items.insert(0,item)\n",
        "\n",
        "    def removeFront(self):\n",
        "        return self.items.pop()\n",
        "\n",
        "    def removeRear(self):\n",
        "        return self.items.pop(0)\n",
        "\n",
        "    def size(self):\n",
        "        return len(self.items)"
      ],
      "metadata": {
        "id": "J8-Y5Kkdo9Dq"
      },
      "execution_count": null,
      "outputs": []
    }
  ]
}