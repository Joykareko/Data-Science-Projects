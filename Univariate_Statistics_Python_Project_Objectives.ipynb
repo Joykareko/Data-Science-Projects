{
  "nbformat": 4,
  "nbformat_minor": 5,
  "metadata": {
    "kernelspec": {
      "display_name": "Python 3 (ipykernel)",
      "language": "python",
      "name": "python3"
    },
    "language_info": {
      "codemirror_mode": {
        "name": "ipython",
        "version": 3
      },
      "file_extension": ".py",
      "mimetype": "text/x-python",
      "name": "python",
      "nbconvert_exporter": "python",
      "pygments_lexer": "ipython3",
      "version": "3.8.8"
    },
    "colab": {
      "name": "Univariate Statistics Python Project Objectives.ipynb",
      "provenance": [],
      "collapsed_sections": [],
      "include_colab_link": true
    }
  },
  "cells": [
    {
      "cell_type": "markdown",
      "metadata": {
        "id": "view-in-github",
        "colab_type": "text"
      },
      "source": [
        "<a href=\"https://colab.research.google.com/github/Joykareko/Data-Science-Projects/blob/main/Univariate_Statistics_Python_Project_Objectives.ipynb\" target=\"_parent\"><img src=\"https://colab.research.google.com/assets/colab-badge.svg\" alt=\"Open In Colab\"/></a>"
      ]
    },
    {
      "cell_type": "markdown",
      "metadata": {
        "id": "P9I8E0gTC6nV"
      },
      "source": [
        "##✍ **Univariate Statistics Python Project**\n",
        "🦋**Student Name : Joy Kareko**\n",
        "\n",
        "> \n",
        "\n",
        "\n",
        "🥇**Supervisor Name : Zion Pibowei**"
      ],
      "id": "P9I8E0gTC6nV"
    },
    {
      "cell_type": "markdown",
      "source": [
        "# ⛳**0.About the Data:**\n",
        "\n",
        "\n",
        "> \n",
        "\n",
        "✅**Background:** *The growth of supermarkets in most populated cities is increasing and at the same time experiencing high market competitions.*\n",
        "\n",
        "\n",
        "> \n",
        "\n",
        "✅**About the dataset:** *The dataset is one of the historical sales of a supermarket company which was recorded in 3 different branches for 3 months data.*"
      ],
      "metadata": {
        "id": "vTg4KVa083J5"
      },
      "id": "vTg4KVa083J5"
    },
    {
      "cell_type": "code",
      "metadata": {
        "id": "06bacd34"
      },
      "source": [
        "import pandas as pd\n",
        "import matplotlib.pyplot as plt\n",
        "import seaborn as sns\n",
        "%matplotlib inline"
      ],
      "id": "06bacd34",
      "execution_count": null,
      "outputs": []
    },
    {
      "cell_type": "code",
      "metadata": {
        "scrolled": true,
        "id": "4e7d574b",
        "outputId": "160bc024-71a3-4275-c7b5-2ee51ff60252",
        "colab": {
          "base_uri": "https://localhost:8080/",
          "height": 374
        }
      },
      "source": [
        "sales = pd.read_csv(\"/content/supermarket_sales.csv\")\n",
        "sales.rename(columns={'Unit price': 'Unit_price','Tax 5%':'Tax_5perc','gross margin percentage':'gross_margin_perc',\n",
        "                      'gross income':'gross_income','Customer type':'Customer_type','Product line':'Product_line'},inplace=True)\n",
        "sales.head()"
      ],
      "id": "4e7d574b",
      "execution_count": null,
      "outputs": [
        {
          "output_type": "execute_result",
          "data": {
            "text/html": [
              "\n",
              "  <div id=\"df-3ad7b2c2-11fc-4c15-944b-0968dc63249a\">\n",
              "    <div class=\"colab-df-container\">\n",
              "      <div>\n",
              "<style scoped>\n",
              "    .dataframe tbody tr th:only-of-type {\n",
              "        vertical-align: middle;\n",
              "    }\n",
              "\n",
              "    .dataframe tbody tr th {\n",
              "        vertical-align: top;\n",
              "    }\n",
              "\n",
              "    .dataframe thead th {\n",
              "        text-align: right;\n",
              "    }\n",
              "</style>\n",
              "<table border=\"1\" class=\"dataframe\">\n",
              "  <thead>\n",
              "    <tr style=\"text-align: right;\">\n",
              "      <th></th>\n",
              "      <th>Invoice ID</th>\n",
              "      <th>Branch</th>\n",
              "      <th>City</th>\n",
              "      <th>Customer_type</th>\n",
              "      <th>Gender</th>\n",
              "      <th>Product_line</th>\n",
              "      <th>Unit_price</th>\n",
              "      <th>Quantity</th>\n",
              "      <th>Tax_5perc</th>\n",
              "      <th>Total</th>\n",
              "      <th>Date</th>\n",
              "      <th>Time</th>\n",
              "      <th>Payment</th>\n",
              "      <th>cogs</th>\n",
              "      <th>gross_margin_perc</th>\n",
              "      <th>gross_income</th>\n",
              "      <th>Rating</th>\n",
              "    </tr>\n",
              "  </thead>\n",
              "  <tbody>\n",
              "    <tr>\n",
              "      <th>0</th>\n",
              "      <td>750-67-8428</td>\n",
              "      <td>A</td>\n",
              "      <td>Yangon</td>\n",
              "      <td>Member</td>\n",
              "      <td>Female</td>\n",
              "      <td>Health and beauty</td>\n",
              "      <td>74.69</td>\n",
              "      <td>7</td>\n",
              "      <td>26.1415</td>\n",
              "      <td>548.9715</td>\n",
              "      <td>1/5/2019</td>\n",
              "      <td>13:08</td>\n",
              "      <td>Ewallet</td>\n",
              "      <td>522.83</td>\n",
              "      <td>4.761905</td>\n",
              "      <td>26.1415</td>\n",
              "      <td>9.1</td>\n",
              "    </tr>\n",
              "    <tr>\n",
              "      <th>1</th>\n",
              "      <td>226-31-3081</td>\n",
              "      <td>C</td>\n",
              "      <td>Naypyitaw</td>\n",
              "      <td>Normal</td>\n",
              "      <td>Female</td>\n",
              "      <td>Electronic accessories</td>\n",
              "      <td>15.28</td>\n",
              "      <td>5</td>\n",
              "      <td>3.8200</td>\n",
              "      <td>80.2200</td>\n",
              "      <td>3/8/2019</td>\n",
              "      <td>10:29</td>\n",
              "      <td>Cash</td>\n",
              "      <td>76.40</td>\n",
              "      <td>4.761905</td>\n",
              "      <td>3.8200</td>\n",
              "      <td>9.6</td>\n",
              "    </tr>\n",
              "    <tr>\n",
              "      <th>2</th>\n",
              "      <td>631-41-3108</td>\n",
              "      <td>A</td>\n",
              "      <td>Yangon</td>\n",
              "      <td>Normal</td>\n",
              "      <td>Male</td>\n",
              "      <td>Home and lifestyle</td>\n",
              "      <td>46.33</td>\n",
              "      <td>7</td>\n",
              "      <td>16.2155</td>\n",
              "      <td>340.5255</td>\n",
              "      <td>3/3/2019</td>\n",
              "      <td>13:23</td>\n",
              "      <td>Credit card</td>\n",
              "      <td>324.31</td>\n",
              "      <td>4.761905</td>\n",
              "      <td>16.2155</td>\n",
              "      <td>7.4</td>\n",
              "    </tr>\n",
              "    <tr>\n",
              "      <th>3</th>\n",
              "      <td>123-19-1176</td>\n",
              "      <td>A</td>\n",
              "      <td>Yangon</td>\n",
              "      <td>Member</td>\n",
              "      <td>Male</td>\n",
              "      <td>Health and beauty</td>\n",
              "      <td>58.22</td>\n",
              "      <td>8</td>\n",
              "      <td>23.2880</td>\n",
              "      <td>489.0480</td>\n",
              "      <td>1/27/2019</td>\n",
              "      <td>20:33</td>\n",
              "      <td>Ewallet</td>\n",
              "      <td>465.76</td>\n",
              "      <td>4.761905</td>\n",
              "      <td>23.2880</td>\n",
              "      <td>8.4</td>\n",
              "    </tr>\n",
              "    <tr>\n",
              "      <th>4</th>\n",
              "      <td>373-73-7910</td>\n",
              "      <td>A</td>\n",
              "      <td>Yangon</td>\n",
              "      <td>Normal</td>\n",
              "      <td>Male</td>\n",
              "      <td>Sports and travel</td>\n",
              "      <td>86.31</td>\n",
              "      <td>7</td>\n",
              "      <td>30.2085</td>\n",
              "      <td>634.3785</td>\n",
              "      <td>2/8/2019</td>\n",
              "      <td>10:37</td>\n",
              "      <td>Ewallet</td>\n",
              "      <td>604.17</td>\n",
              "      <td>4.761905</td>\n",
              "      <td>30.2085</td>\n",
              "      <td>5.3</td>\n",
              "    </tr>\n",
              "  </tbody>\n",
              "</table>\n",
              "</div>\n",
              "      <button class=\"colab-df-convert\" onclick=\"convertToInteractive('df-3ad7b2c2-11fc-4c15-944b-0968dc63249a')\"\n",
              "              title=\"Convert this dataframe to an interactive table.\"\n",
              "              style=\"display:none;\">\n",
              "        \n",
              "  <svg xmlns=\"http://www.w3.org/2000/svg\" height=\"24px\"viewBox=\"0 0 24 24\"\n",
              "       width=\"24px\">\n",
              "    <path d=\"M0 0h24v24H0V0z\" fill=\"none\"/>\n",
              "    <path d=\"M18.56 5.44l.94 2.06.94-2.06 2.06-.94-2.06-.94-.94-2.06-.94 2.06-2.06.94zm-11 1L8.5 8.5l.94-2.06 2.06-.94-2.06-.94L8.5 2.5l-.94 2.06-2.06.94zm10 10l.94 2.06.94-2.06 2.06-.94-2.06-.94-.94-2.06-.94 2.06-2.06.94z\"/><path d=\"M17.41 7.96l-1.37-1.37c-.4-.4-.92-.59-1.43-.59-.52 0-1.04.2-1.43.59L10.3 9.45l-7.72 7.72c-.78.78-.78 2.05 0 2.83L4 21.41c.39.39.9.59 1.41.59.51 0 1.02-.2 1.41-.59l7.78-7.78 2.81-2.81c.8-.78.8-2.07 0-2.86zM5.41 20L4 18.59l7.72-7.72 1.47 1.35L5.41 20z\"/>\n",
              "  </svg>\n",
              "      </button>\n",
              "      \n",
              "  <style>\n",
              "    .colab-df-container {\n",
              "      display:flex;\n",
              "      flex-wrap:wrap;\n",
              "      gap: 12px;\n",
              "    }\n",
              "\n",
              "    .colab-df-convert {\n",
              "      background-color: #E8F0FE;\n",
              "      border: none;\n",
              "      border-radius: 50%;\n",
              "      cursor: pointer;\n",
              "      display: none;\n",
              "      fill: #1967D2;\n",
              "      height: 32px;\n",
              "      padding: 0 0 0 0;\n",
              "      width: 32px;\n",
              "    }\n",
              "\n",
              "    .colab-df-convert:hover {\n",
              "      background-color: #E2EBFA;\n",
              "      box-shadow: 0px 1px 2px rgba(60, 64, 67, 0.3), 0px 1px 3px 1px rgba(60, 64, 67, 0.15);\n",
              "      fill: #174EA6;\n",
              "    }\n",
              "\n",
              "    [theme=dark] .colab-df-convert {\n",
              "      background-color: #3B4455;\n",
              "      fill: #D2E3FC;\n",
              "    }\n",
              "\n",
              "    [theme=dark] .colab-df-convert:hover {\n",
              "      background-color: #434B5C;\n",
              "      box-shadow: 0px 1px 3px 1px rgba(0, 0, 0, 0.15);\n",
              "      filter: drop-shadow(0px 1px 2px rgba(0, 0, 0, 0.3));\n",
              "      fill: #FFFFFF;\n",
              "    }\n",
              "  </style>\n",
              "\n",
              "      <script>\n",
              "        const buttonEl =\n",
              "          document.querySelector('#df-3ad7b2c2-11fc-4c15-944b-0968dc63249a button.colab-df-convert');\n",
              "        buttonEl.style.display =\n",
              "          google.colab.kernel.accessAllowed ? 'block' : 'none';\n",
              "\n",
              "        async function convertToInteractive(key) {\n",
              "          const element = document.querySelector('#df-3ad7b2c2-11fc-4c15-944b-0968dc63249a');\n",
              "          const dataTable =\n",
              "            await google.colab.kernel.invokeFunction('convertToInteractive',\n",
              "                                                     [key], {});\n",
              "          if (!dataTable) return;\n",
              "\n",
              "          const docLinkHtml = 'Like what you see? Visit the ' +\n",
              "            '<a target=\"_blank\" href=https://colab.research.google.com/notebooks/data_table.ipynb>data table notebook</a>'\n",
              "            + ' to learn more about interactive tables.';\n",
              "          element.innerHTML = '';\n",
              "          dataTable['output_type'] = 'display_data';\n",
              "          await google.colab.output.renderOutput(dataTable, element);\n",
              "          const docLink = document.createElement('div');\n",
              "          docLink.innerHTML = docLinkHtml;\n",
              "          element.appendChild(docLink);\n",
              "        }\n",
              "      </script>\n",
              "    </div>\n",
              "  </div>\n",
              "  "
            ],
            "text/plain": [
              "    Invoice ID Branch       City  ... gross_margin_perc gross_income Rating\n",
              "0  750-67-8428      A     Yangon  ...          4.761905      26.1415    9.1\n",
              "1  226-31-3081      C  Naypyitaw  ...          4.761905       3.8200    9.6\n",
              "2  631-41-3108      A     Yangon  ...          4.761905      16.2155    7.4\n",
              "3  123-19-1176      A     Yangon  ...          4.761905      23.2880    8.4\n",
              "4  373-73-7910      A     Yangon  ...          4.761905      30.2085    5.3\n",
              "\n",
              "[5 rows x 17 columns]"
            ]
          },
          "metadata": {},
          "execution_count": 47
        }
      ]
    },
    {
      "cell_type": "code",
      "metadata": {
        "id": "5145ea04",
        "outputId": "481586e4-397d-423b-9a4f-321c1ab72827",
        "colab": {
          "base_uri": "https://localhost:8080/"
        }
      },
      "source": [
        "sales.shape"
      ],
      "id": "5145ea04",
      "execution_count": null,
      "outputs": [
        {
          "output_type": "execute_result",
          "data": {
            "text/plain": [
              "(1000, 17)"
            ]
          },
          "metadata": {},
          "execution_count": 48
        }
      ]
    },
    {
      "cell_type": "code",
      "source": [
        "sales.describe()"
      ],
      "metadata": {
        "colab": {
          "base_uri": "https://localhost:8080/",
          "height": 300
        },
        "id": "5gtaLPoTR761",
        "outputId": "8a26bb23-94c6-46ab-a16b-5ec173904424"
      },
      "id": "5gtaLPoTR761",
      "execution_count": null,
      "outputs": [
        {
          "output_type": "execute_result",
          "data": {
            "text/html": [
              "\n",
              "  <div id=\"df-ea50e4ad-c188-4630-bbb5-fa8021e07266\">\n",
              "    <div class=\"colab-df-container\">\n",
              "      <div>\n",
              "<style scoped>\n",
              "    .dataframe tbody tr th:only-of-type {\n",
              "        vertical-align: middle;\n",
              "    }\n",
              "\n",
              "    .dataframe tbody tr th {\n",
              "        vertical-align: top;\n",
              "    }\n",
              "\n",
              "    .dataframe thead th {\n",
              "        text-align: right;\n",
              "    }\n",
              "</style>\n",
              "<table border=\"1\" class=\"dataframe\">\n",
              "  <thead>\n",
              "    <tr style=\"text-align: right;\">\n",
              "      <th></th>\n",
              "      <th>Unit_price</th>\n",
              "      <th>Quantity</th>\n",
              "      <th>Tax_5perc</th>\n",
              "      <th>Total</th>\n",
              "      <th>cogs</th>\n",
              "      <th>gross_margin_perc</th>\n",
              "      <th>gross_income</th>\n",
              "      <th>Rating</th>\n",
              "    </tr>\n",
              "  </thead>\n",
              "  <tbody>\n",
              "    <tr>\n",
              "      <th>count</th>\n",
              "      <td>1000.000000</td>\n",
              "      <td>1000.000000</td>\n",
              "      <td>1000.000000</td>\n",
              "      <td>1000.000000</td>\n",
              "      <td>1000.00000</td>\n",
              "      <td>1.000000e+03</td>\n",
              "      <td>1000.000000</td>\n",
              "      <td>1000.00000</td>\n",
              "    </tr>\n",
              "    <tr>\n",
              "      <th>mean</th>\n",
              "      <td>55.672130</td>\n",
              "      <td>5.510000</td>\n",
              "      <td>15.379369</td>\n",
              "      <td>322.966749</td>\n",
              "      <td>307.58738</td>\n",
              "      <td>4.761905e+00</td>\n",
              "      <td>15.379369</td>\n",
              "      <td>6.97270</td>\n",
              "    </tr>\n",
              "    <tr>\n",
              "      <th>std</th>\n",
              "      <td>26.494628</td>\n",
              "      <td>2.923431</td>\n",
              "      <td>11.708825</td>\n",
              "      <td>245.885335</td>\n",
              "      <td>234.17651</td>\n",
              "      <td>6.220360e-14</td>\n",
              "      <td>11.708825</td>\n",
              "      <td>1.71858</td>\n",
              "    </tr>\n",
              "    <tr>\n",
              "      <th>min</th>\n",
              "      <td>10.080000</td>\n",
              "      <td>1.000000</td>\n",
              "      <td>0.508500</td>\n",
              "      <td>10.678500</td>\n",
              "      <td>10.17000</td>\n",
              "      <td>4.761905e+00</td>\n",
              "      <td>0.508500</td>\n",
              "      <td>4.00000</td>\n",
              "    </tr>\n",
              "    <tr>\n",
              "      <th>25%</th>\n",
              "      <td>32.875000</td>\n",
              "      <td>3.000000</td>\n",
              "      <td>5.924875</td>\n",
              "      <td>124.422375</td>\n",
              "      <td>118.49750</td>\n",
              "      <td>4.761905e+00</td>\n",
              "      <td>5.924875</td>\n",
              "      <td>5.50000</td>\n",
              "    </tr>\n",
              "    <tr>\n",
              "      <th>50%</th>\n",
              "      <td>55.230000</td>\n",
              "      <td>5.000000</td>\n",
              "      <td>12.088000</td>\n",
              "      <td>253.848000</td>\n",
              "      <td>241.76000</td>\n",
              "      <td>4.761905e+00</td>\n",
              "      <td>12.088000</td>\n",
              "      <td>7.00000</td>\n",
              "    </tr>\n",
              "    <tr>\n",
              "      <th>75%</th>\n",
              "      <td>77.935000</td>\n",
              "      <td>8.000000</td>\n",
              "      <td>22.445250</td>\n",
              "      <td>471.350250</td>\n",
              "      <td>448.90500</td>\n",
              "      <td>4.761905e+00</td>\n",
              "      <td>22.445250</td>\n",
              "      <td>8.50000</td>\n",
              "    </tr>\n",
              "    <tr>\n",
              "      <th>max</th>\n",
              "      <td>99.960000</td>\n",
              "      <td>10.000000</td>\n",
              "      <td>49.650000</td>\n",
              "      <td>1042.650000</td>\n",
              "      <td>993.00000</td>\n",
              "      <td>4.761905e+00</td>\n",
              "      <td>49.650000</td>\n",
              "      <td>10.00000</td>\n",
              "    </tr>\n",
              "  </tbody>\n",
              "</table>\n",
              "</div>\n",
              "      <button class=\"colab-df-convert\" onclick=\"convertToInteractive('df-ea50e4ad-c188-4630-bbb5-fa8021e07266')\"\n",
              "              title=\"Convert this dataframe to an interactive table.\"\n",
              "              style=\"display:none;\">\n",
              "        \n",
              "  <svg xmlns=\"http://www.w3.org/2000/svg\" height=\"24px\"viewBox=\"0 0 24 24\"\n",
              "       width=\"24px\">\n",
              "    <path d=\"M0 0h24v24H0V0z\" fill=\"none\"/>\n",
              "    <path d=\"M18.56 5.44l.94 2.06.94-2.06 2.06-.94-2.06-.94-.94-2.06-.94 2.06-2.06.94zm-11 1L8.5 8.5l.94-2.06 2.06-.94-2.06-.94L8.5 2.5l-.94 2.06-2.06.94zm10 10l.94 2.06.94-2.06 2.06-.94-2.06-.94-.94-2.06-.94 2.06-2.06.94z\"/><path d=\"M17.41 7.96l-1.37-1.37c-.4-.4-.92-.59-1.43-.59-.52 0-1.04.2-1.43.59L10.3 9.45l-7.72 7.72c-.78.78-.78 2.05 0 2.83L4 21.41c.39.39.9.59 1.41.59.51 0 1.02-.2 1.41-.59l7.78-7.78 2.81-2.81c.8-.78.8-2.07 0-2.86zM5.41 20L4 18.59l7.72-7.72 1.47 1.35L5.41 20z\"/>\n",
              "  </svg>\n",
              "      </button>\n",
              "      \n",
              "  <style>\n",
              "    .colab-df-container {\n",
              "      display:flex;\n",
              "      flex-wrap:wrap;\n",
              "      gap: 12px;\n",
              "    }\n",
              "\n",
              "    .colab-df-convert {\n",
              "      background-color: #E8F0FE;\n",
              "      border: none;\n",
              "      border-radius: 50%;\n",
              "      cursor: pointer;\n",
              "      display: none;\n",
              "      fill: #1967D2;\n",
              "      height: 32px;\n",
              "      padding: 0 0 0 0;\n",
              "      width: 32px;\n",
              "    }\n",
              "\n",
              "    .colab-df-convert:hover {\n",
              "      background-color: #E2EBFA;\n",
              "      box-shadow: 0px 1px 2px rgba(60, 64, 67, 0.3), 0px 1px 3px 1px rgba(60, 64, 67, 0.15);\n",
              "      fill: #174EA6;\n",
              "    }\n",
              "\n",
              "    [theme=dark] .colab-df-convert {\n",
              "      background-color: #3B4455;\n",
              "      fill: #D2E3FC;\n",
              "    }\n",
              "\n",
              "    [theme=dark] .colab-df-convert:hover {\n",
              "      background-color: #434B5C;\n",
              "      box-shadow: 0px 1px 3px 1px rgba(0, 0, 0, 0.15);\n",
              "      filter: drop-shadow(0px 1px 2px rgba(0, 0, 0, 0.3));\n",
              "      fill: #FFFFFF;\n",
              "    }\n",
              "  </style>\n",
              "\n",
              "      <script>\n",
              "        const buttonEl =\n",
              "          document.querySelector('#df-ea50e4ad-c188-4630-bbb5-fa8021e07266 button.colab-df-convert');\n",
              "        buttonEl.style.display =\n",
              "          google.colab.kernel.accessAllowed ? 'block' : 'none';\n",
              "\n",
              "        async function convertToInteractive(key) {\n",
              "          const element = document.querySelector('#df-ea50e4ad-c188-4630-bbb5-fa8021e07266');\n",
              "          const dataTable =\n",
              "            await google.colab.kernel.invokeFunction('convertToInteractive',\n",
              "                                                     [key], {});\n",
              "          if (!dataTable) return;\n",
              "\n",
              "          const docLinkHtml = 'Like what you see? Visit the ' +\n",
              "            '<a target=\"_blank\" href=https://colab.research.google.com/notebooks/data_table.ipynb>data table notebook</a>'\n",
              "            + ' to learn more about interactive tables.';\n",
              "          element.innerHTML = '';\n",
              "          dataTable['output_type'] = 'display_data';\n",
              "          await google.colab.output.renderOutput(dataTable, element);\n",
              "          const docLink = document.createElement('div');\n",
              "          docLink.innerHTML = docLinkHtml;\n",
              "          element.appendChild(docLink);\n",
              "        }\n",
              "      </script>\n",
              "    </div>\n",
              "  </div>\n",
              "  "
            ],
            "text/plain": [
              "        Unit_price     Quantity  ...  gross_income      Rating\n",
              "count  1000.000000  1000.000000  ...   1000.000000  1000.00000\n",
              "mean     55.672130     5.510000  ...     15.379369     6.97270\n",
              "std      26.494628     2.923431  ...     11.708825     1.71858\n",
              "min      10.080000     1.000000  ...      0.508500     4.00000\n",
              "25%      32.875000     3.000000  ...      5.924875     5.50000\n",
              "50%      55.230000     5.000000  ...     12.088000     7.00000\n",
              "75%      77.935000     8.000000  ...     22.445250     8.50000\n",
              "max      99.960000    10.000000  ...     49.650000    10.00000\n",
              "\n",
              "[8 rows x 8 columns]"
            ]
          },
          "metadata": {},
          "execution_count": 49
        }
      ]
    },
    {
      "cell_type": "code",
      "source": [
        "sales.info()"
      ],
      "metadata": {
        "colab": {
          "base_uri": "https://localhost:8080/"
        },
        "id": "hFy1ElNOi3Jw",
        "outputId": "8d3ef3af-cd81-4111-a7ff-0090be83124c"
      },
      "id": "hFy1ElNOi3Jw",
      "execution_count": null,
      "outputs": [
        {
          "output_type": "stream",
          "name": "stdout",
          "text": [
            "<class 'pandas.core.frame.DataFrame'>\n",
            "RangeIndex: 1000 entries, 0 to 999\n",
            "Data columns (total 17 columns):\n",
            " #   Column             Non-Null Count  Dtype  \n",
            "---  ------             --------------  -----  \n",
            " 0   Invoice ID         1000 non-null   object \n",
            " 1   Branch             1000 non-null   object \n",
            " 2   City               1000 non-null   object \n",
            " 3   Customer_type      1000 non-null   object \n",
            " 4   Gender             1000 non-null   object \n",
            " 5   Product_line       1000 non-null   object \n",
            " 6   Unit_price         1000 non-null   float64\n",
            " 7   Quantity           1000 non-null   int64  \n",
            " 8   Tax_5perc          1000 non-null   float64\n",
            " 9   Total              1000 non-null   float64\n",
            " 10  Date               1000 non-null   object \n",
            " 11  Time               1000 non-null   object \n",
            " 12  Payment            1000 non-null   object \n",
            " 13  cogs               1000 non-null   float64\n",
            " 14  gross_margin_perc  1000 non-null   float64\n",
            " 15  gross_income       1000 non-null   float64\n",
            " 16  Rating             1000 non-null   float64\n",
            "dtypes: float64(7), int64(1), object(9)\n",
            "memory usage: 132.9+ KB\n"
          ]
        }
      ]
    },
    {
      "cell_type": "markdown",
      "source": [
        "#⛳**1.Describe each of the numerical variables using summary measures.**\n",
        "*Summary measures to be computed: mean, median, variance, standard deviation, skewness, kurtosis.*\n",
        "\n",
        ">\n",
        "\n",
        "*1.   Use Sympy to display the formula for each of the summary measures above*\n",
        "\n",
        "> \n",
        "*2.   Write custom functions to compute each of these summary measures, and apply the functions on each of the numerical variables*\n",
        "\n",
        "\n"
      ],
      "metadata": {
        "id": "r9D5JkITAdre"
      },
      "id": "r9D5JkITAdre"
    },
    {
      "cell_type": "code",
      "source": [
        "import sympy as sym\n",
        "from sympy.abc import i, k, m, n, x,f,F,l,h,s\n",
        "from IPython.display import Math, display"
      ],
      "metadata": {
        "id": "1p0eAiz8B73b"
      },
      "id": "1p0eAiz8B73b",
      "execution_count": null,
      "outputs": []
    },
    {
      "cell_type": "code",
      "source": [
        "xi,xm,f,F,h,l,s = sym.symbols(\"x_i, x_m,f,F,h,l,s\")"
      ],
      "metadata": {
        "id": "uQ7qH45NB7ev"
      },
      "id": "uQ7qH45NB7ev",
      "execution_count": null,
      "outputs": []
    },
    {
      "cell_type": "code",
      "source": [
        "#Mean\n",
        "mean=sym.Sum(xi,(i,1,n))/n\n",
        "display(Math('Mean = ' + sym.latex(mean)))"
      ],
      "metadata": {
        "colab": {
          "base_uri": "https://localhost:8080/",
          "height": 41
        },
        "id": "Xv2cW5hTDNUn",
        "outputId": "bf1d3623-13ad-47f1-f049-fe47311d3c77"
      },
      "id": "Xv2cW5hTDNUn",
      "execution_count": null,
      "outputs": [
        {
          "output_type": "display_data",
          "data": {
            "text/latex": "$$Mean = \\frac{\\sum_{i=1}^{n} x_{i}}{n}$$",
            "text/plain": [
              "<IPython.core.display.Math object>"
            ]
          },
          "metadata": {}
        }
      ]
    },
    {
      "cell_type": "code",
      "source": [
        "#Mean custom function\n",
        "def sample_mean(data):\n",
        "  sample_sum = data.sum()\n",
        "  count = data.count()\n",
        "  mean = sample_sum/count\n",
        "  return mean"
      ],
      "metadata": {
        "id": "_GBQy9tmTFtB"
      },
      "id": "_GBQy9tmTFtB",
      "execution_count": null,
      "outputs": []
    },
    {
      "cell_type": "code",
      "source": [
        "print('Mean on Quantity: ',sample_mean(sales.Quantity))\n",
        "print('Mean on Unit Price: ',sample_mean(sales.Unit_price))\n",
        "print('Mean on Gross Income: ',sample_mean(sales.gross_income))\n",
        "print('Mean on Gross Margin Percentage: ',sample_mean(sales.gross_margin_perc))\n",
        "print('Mean on Rating: ',sample_mean(sales.Rating))\n",
        "print('Mean on Cogs: ',sample_mean(sales.cogs))\n",
        "print('Mean on Tax_5%: ',sample_mean(sales.Tax_5perc))\n",
        "print('Mean on Total: ',sample_mean(sales.Total))"
      ],
      "metadata": {
        "colab": {
          "base_uri": "https://localhost:8080/"
        },
        "id": "_glosIBLWFn9",
        "outputId": "b7bb7af1-ace4-4da9-b1e3-53034baddb3a"
      },
      "id": "_glosIBLWFn9",
      "execution_count": null,
      "outputs": [
        {
          "output_type": "stream",
          "name": "stdout",
          "text": [
            "Mean on Quantity:  5.51\n",
            "Mean on Unit Price:  55.67213\n",
            "Mean on Gross Income:  15.379368999999999\n",
            "Mean on Gross Margin Percentage:  4.7619047619999995\n",
            "Mean on Rating:  6.9727\n",
            "Mean on Cogs:  307.58738\n",
            "Mean on Tax_5%:  15.379368999999999\n",
            "Mean on Total:  322.96674899999994\n"
          ]
        }
      ]
    },
    {
      "cell_type": "code",
      "source": [
        "#Variance\n",
        "var=sym.Sum((xi - xm)**2,(i,1,n))/(n-1)\n",
        "display(Math('Variance = ' + sym.latex(var)))"
      ],
      "metadata": {
        "colab": {
          "base_uri": "https://localhost:8080/",
          "height": 43
        },
        "id": "JMvXV3V_EPcI",
        "outputId": "e7ce3b4b-c733-4818-8625-7fca0109dca8"
      },
      "id": "JMvXV3V_EPcI",
      "execution_count": null,
      "outputs": [
        {
          "output_type": "display_data",
          "data": {
            "text/latex": "$$Variance = \\frac{\\sum_{i=1}^{n} \\left(x_{i} - x_{m}\\right)^{2}}{n - 1}$$",
            "text/plain": [
              "<IPython.core.display.Math object>"
            ]
          },
          "metadata": {}
        }
      ]
    },
    {
      "cell_type": "code",
      "source": [
        "#Variance Custom Function\n",
        "def variance(data):\n",
        "  #def sample_mean(data):\n",
        "    #mean = data.sum()/data.count()\n",
        "    #return mean\n",
        "  squared_diff = []\n",
        "  for i in data:\n",
        "    mdev = (i - sample_mean(data))\n",
        "    squared_diff.append(mdev**2)\n",
        "  ssd = sum(squared_diff)\n",
        "  var = ssd/(len(squared_diff)-1)\n",
        "  return var"
      ],
      "metadata": {
        "id": "BPFG3tPFTlAx"
      },
      "id": "BPFG3tPFTlAx",
      "execution_count": null,
      "outputs": []
    },
    {
      "cell_type": "code",
      "source": [
        "print('Variance on Quantity: ',variance(sales.Quantity))\n",
        "print('Variance on Unit Price: ',variance(sales.Unit_price))\n",
        "print('Variance on Gross Income: ',variance(sales.gross_income))\n",
        "print('Variance on Gross Margin Percentage: ',variance(sales.gross_margin_perc))\n",
        "print('Variance on Rating: ',variance(sales.Rating))\n",
        "print('Variance on Cogs: ',variance(sales.cogs))\n",
        "print('Variance on Tax_5%: ',variance(sales.Tax_5perc))\n",
        "print('Variance on Total: ',variance(sales.Total))"
      ],
      "metadata": {
        "colab": {
          "base_uri": "https://localhost:8080/"
        },
        "id": "pRc1IfduYgIl",
        "outputId": "0eb4b70e-e198-44fc-91fd-b31ae9e25192"
      },
      "id": "pRc1IfduYgIl",
      "execution_count": null,
      "outputs": [
        {
          "output_type": "stream",
          "name": "stdout",
          "text": [
            "Variance on Quantity:  8.546446446446451\n",
            "Variance on Unit Price:  701.965331294394\n",
            "Variance on Gross Income:  137.0965941444835\n",
            "Variance on Gross Margin Percentage:  0.0\n",
            "Variance on Rating:  2.953518228228234\n",
            "Variance on Cogs:  54838.637657793355\n",
            "Variance on Tax_5%:  137.0965941444835\n",
            "Variance on Total:  60459.598017717326\n"
          ]
        }
      ]
    },
    {
      "cell_type": "code",
      "source": [
        "#Std Deviation\n",
        "std_dev=sym.sqrt(sym.Sum((x-xm)**2,(i,1,n))/(n-1))\n",
        "display(Math('Standard Deviation = ' + sym.latex(std_dev)))"
      ],
      "metadata": {
        "colab": {
          "base_uri": "https://localhost:8080/",
          "height": 48
        },
        "id": "CsRqJu_gEWX1",
        "outputId": "fa996a65-e921-450f-9805-2f21d9992480"
      },
      "id": "CsRqJu_gEWX1",
      "execution_count": null,
      "outputs": [
        {
          "output_type": "display_data",
          "data": {
            "text/latex": "$$Standard Deviation = \\sqrt{\\frac{\\sum_{i=1}^{n} \\left(x - x_{m}\\right)^{2}}{n - 1}}$$",
            "text/plain": [
              "<IPython.core.display.Math object>"
            ]
          },
          "metadata": {}
        }
      ]
    },
    {
      "cell_type": "code",
      "source": [
        "#STD custom std deviation\n",
        "def std_dev(data):\n",
        "  #def sample_mean(data):\n",
        "    #mean = data.sum()/data.count()\n",
        "    #return mean\n",
        "  squared_diff = []\n",
        "  for i in data:\n",
        "    mdev = (i - sample_mean(data))\n",
        "    squared_diff.append(mdev**2)\n",
        "  ssd = sum(squared_diff)\n",
        "  var = ssd/(len(squared_diff)-1)\n",
        "  std_dev = var**0.5\n",
        "  return std_dev"
      ],
      "metadata": {
        "id": "Jqp6QeveUJSf"
      },
      "id": "Jqp6QeveUJSf",
      "execution_count": null,
      "outputs": []
    },
    {
      "cell_type": "code",
      "source": [
        "print('Standard Deviation on Quantity: ',std_dev(sales.Quantity))\n",
        "print('Standard Deviation on Unit Price: ',std_dev(sales.Unit_price))\n",
        "print('Standard Deviation on Gross Income: ',std_dev(sales.gross_income))\n",
        "print('Standard Deviation on Gross Margin Percentage: ',std_dev(sales.gross_margin_perc))\n",
        "print('Standard Deviation on Ratings: ',std_dev(sales.Rating))\n",
        "print('Standard Deviation on Cogs: ',std_dev(sales.cogs))\n",
        "print('Standard Deviation on Tax_5%: ',std_dev(sales.Tax_5perc))\n",
        "print('Standard Deviation on Total: ',std_dev(sales.Total))"
      ],
      "metadata": {
        "colab": {
          "base_uri": "https://localhost:8080/"
        },
        "id": "KIFqpOQpZGiO",
        "outputId": "30bec12d-633d-43e5-8827-f667d5d64bbc"
      },
      "id": "KIFqpOQpZGiO",
      "execution_count": null,
      "outputs": [
        {
          "output_type": "stream",
          "name": "stdout",
          "text": [
            "Standard Deviation on Quantity:  2.923430595455697\n",
            "Standard Deviation on Unit Price:  26.49462834791977\n",
            "Standard Deviation on Gross Income:  11.70882548099866\n",
            "Standard Deviation on Gross Margin Percentage:  0.0\n",
            "Standard Deviation on Ratings:  1.7185802943791233\n",
            "Standard Deviation on Cogs:  234.1765096199731\n",
            "Standard Deviation on Tax_5%:  11.70882548099866\n",
            "Standard Deviation on Total:  245.88533510097207\n"
          ]
        }
      ]
    },
    {
      "cell_type": "code",
      "source": [
        "#Skewness\n",
        "skew=sym.Sum((xi - xm)**3,(i,1,n))/((n-1)*s**3)\n",
        "display(Math('Skewness = ' + sym.latex(skew)))"
      ],
      "metadata": {
        "colab": {
          "base_uri": "https://localhost:8080/",
          "height": 45
        },
        "id": "ZhVoDXEhEevt",
        "outputId": "2e3acf7f-dba6-4b15-e07b-6e7dc497a80a"
      },
      "id": "ZhVoDXEhEevt",
      "execution_count": null,
      "outputs": [
        {
          "output_type": "display_data",
          "data": {
            "text/latex": "$$Skewness = \\frac{\\sum_{i=1}^{n} \\left(x_{i} - x_{m}\\right)^{3}}{s^{3} \\left(n - 1\\right)}$$",
            "text/plain": [
              "<IPython.core.display.Math object>"
            ]
          },
          "metadata": {}
        }
      ]
    },
    {
      "cell_type": "code",
      "source": [
        "#Custom Skewness formula\n",
        "def skewness(data):\n",
        "  #def sample_mean(data):\n",
        "    #mean = data.sum()/data.count()\n",
        "    #return mean\n",
        "  def std_dev(data):\n",
        "    squared_diff = []\n",
        "    for i in data:\n",
        "      mdev = (i - sample_mean(data))\n",
        "      squared_diff.append(mdev**2)\n",
        "    ssd = sum(squared_diff)\n",
        "    var = ssd/(len(squared_diff)-1)\n",
        "    std_dev = var**0.5\n",
        "    return std_dev\n",
        "  cubed_diff = []\n",
        "  for i in data:\n",
        "    mdev = (i - sample_mean(data))\n",
        "    cubed_diff.append(mdev**3)\n",
        "  skew_sum = sum(cubed_diff)\n",
        "  s3 = std_dev(data)**3\n",
        "  n = len(cubed_diff)\n",
        "  skewness = skew_sum/(s3*(n-1))\n",
        "  return skewness"
      ],
      "metadata": {
        "id": "3hNy66ByUcRt"
      },
      "id": "3hNy66ByUcRt",
      "execution_count": null,
      "outputs": []
    },
    {
      "cell_type": "code",
      "source": [
        "print('Skewness on Quantity: ',skewness(sales.Quantity))\n",
        "print('Skewness on Unit Price: ',skewness(sales.Unit_price))\n",
        "print('Skewness on Gross Income: ',skewness(sales.gross_income))\n",
        "print('Skewness on Gross Margin Percentage: ',skewness(sales.gross_margin_perc))\n",
        "print('Skewness on Ratings: ',skewness(sales.Rating))\n",
        "print('Skewness on COGS: ',skewness(sales.cogs))\n",
        "print('Skewness on Tax: ',skewness(sales.Tax_5perc))\n",
        "print('Skewness on Total: ',skewness(sales.Total))"
      ],
      "metadata": {
        "colab": {
          "base_uri": "https://localhost:8080/"
        },
        "id": "vCn91j8_Zhfv",
        "outputId": "08969394-be41-41e9-82ea-57e72f311f97"
      },
      "id": "vCn91j8_Zhfv",
      "execution_count": null,
      "outputs": [
        {
          "output_type": "stream",
          "name": "stdout",
          "text": [
            "Skewness on Quantity:  0.012915165921138375\n",
            "Skewness on Unit Price:  0.007063292957622198\n",
            "Skewness on Gross Income:  0.890784665348227\n"
          ]
        },
        {
          "output_type": "stream",
          "name": "stderr",
          "text": [
            "/usr/local/lib/python3.7/dist-packages/ipykernel_launcher.py:22: RuntimeWarning: invalid value encountered in double_scalars\n"
          ]
        },
        {
          "output_type": "stream",
          "name": "stdout",
          "text": [
            "Skewness on Gross Margin Percentage:  nan\n",
            "Skewness on Ratings:  0.00899162946819919\n",
            "Skewness on COGS:  0.890784665348225\n",
            "Skewness on Tax:  0.890784665348227\n",
            "Skewness on Total:  0.8907846653482228\n"
          ]
        }
      ]
    },
    {
      "cell_type": "code",
      "source": [
        "#confirming the numbers with inbuilt skewness function in pandas\n",
        "skewness_pandas=sales.skew(axis=0,numeric_only=True)\n",
        "print(skewness_pandas)"
      ],
      "metadata": {
        "colab": {
          "base_uri": "https://localhost:8080/"
        },
        "id": "Ppm2U577jiAQ",
        "outputId": "3e1ac7fc-d64b-4fed-9d44-0ff7b0d77179"
      },
      "id": "Ppm2U577jiAQ",
      "execution_count": null,
      "outputs": [
        {
          "output_type": "stream",
          "name": "stdout",
          "text": [
            "Unit_price           0.007077\n",
            "Quantity             0.012941\n",
            "Tax_5perc            0.892570\n",
            "Total                0.892570\n",
            "cogs                 0.892570\n",
            "gross_margin_perc    0.000000\n",
            "gross_income         0.892570\n",
            "Rating               0.009010\n",
            "dtype: float64\n"
          ]
        }
      ]
    },
    {
      "cell_type": "code",
      "source": [
        "#Kurtosis\n",
        "kurt=sym.Sum((xi - xm)**4,(i,1,n))/((n-1)*s**4)\n",
        "display(Math('Kurtosis = ' + sym.latex(kurt)))"
      ],
      "metadata": {
        "colab": {
          "base_uri": "https://localhost:8080/",
          "height": 45
        },
        "id": "MBWgW-4uEsOB",
        "outputId": "c5b0ee83-e3fe-4773-db40-8ee0ab7c9893"
      },
      "id": "MBWgW-4uEsOB",
      "execution_count": null,
      "outputs": [
        {
          "output_type": "display_data",
          "data": {
            "text/latex": "$$Kurtosis = \\frac{\\sum_{i=1}^{n} \\left(x_{i} - x_{m}\\right)^{4}}{s^{4} \\left(n - 1\\right)}$$",
            "text/plain": [
              "<IPython.core.display.Math object>"
            ]
          },
          "metadata": {}
        }
      ]
    },
    {
      "cell_type": "code",
      "source": [
        "#Custom Kurtosis formula\n",
        "def kurtosis(data):\n",
        "  #def sample_mean(data):\n",
        "    #mean = data.sum()/data.count()\n",
        "    #return mean\n",
        "  def std_dev(data):\n",
        "    squared_diff = []\n",
        "    for i in data:\n",
        "      mdev = (i - sample_mean(data))\n",
        "      squared_diff.append(mdev**2)\n",
        "    ssd = sum(squared_diff)\n",
        "    var = ssd/(len(squared_diff)-1)\n",
        "    std_dev = var**0.5\n",
        "    return std_dev\n",
        "  quad_diff = []\n",
        "  for i in data:\n",
        "    mdev = (i - sample_mean(data))\n",
        "    quad_diff.append(mdev**4)\n",
        "  kurt_sum = sum(quad_diff)\n",
        "  s4 = std_dev(data)**4\n",
        "  n = len(quad_diff)\n",
        "  kurtosis = (kurt_sum/(s4*(n-1))-3)\n",
        "  return kurtosis"
      ],
      "metadata": {
        "id": "K7KmksQNU74h"
      },
      "execution_count": null,
      "outputs": [],
      "id": "K7KmksQNU74h"
    },
    {
      "cell_type": "code",
      "source": [
        "print('Kurtosis on Quantity: ',kurtosis(sales.Quantity))\n",
        "print('Kurtosis on Unit Price: ',kurtosis(sales.Unit_price))\n",
        "print('Kurtosis on Gross Income: ',kurtosis(sales.gross_income))\n",
        "print('Kurtosis on Gross Margin Percentage: ',kurtosis(sales.gross_margin_perc))\n",
        "print('Kurtosis on Rating: ',kurtosis(sales.Rating))\n",
        "print('Kurtosis on Cogs: ',kurtosis(sales.cogs))\n",
        "print('Kurtosis on Tax_5%: ',kurtosis(sales.Tax_5perc))\n",
        "print('Kurtosis on Total: ',kurtosis(sales.Total))"
      ],
      "metadata": {
        "colab": {
          "base_uri": "https://localhost:8080/"
        },
        "id": "MS_RW0Mkeigt",
        "outputId": "483bbc42-e51b-4044-e4a5-3deec417c652"
      },
      "id": "MS_RW0Mkeigt",
      "execution_count": null,
      "outputs": [
        {
          "output_type": "stream",
          "name": "stdout",
          "text": [
            "Kurtosis on Quantity:  -1.2172565270991318\n",
            "Kurtosis on Unit Price:  -1.220282500024295\n",
            "Kurtosis on Gross Income:  -0.09038244298039455\n"
          ]
        },
        {
          "output_type": "stream",
          "name": "stderr",
          "text": [
            "/usr/local/lib/python3.7/dist-packages/ipykernel_launcher.py:22: RuntimeWarning: invalid value encountered in double_scalars\n"
          ]
        },
        {
          "output_type": "stream",
          "name": "stdout",
          "text": [
            "Kurtosis on Gross Margin Percentage:  nan\n",
            "Kurtosis on Rating:  -1.1536791351270737\n",
            "Kurtosis on Cogs:  -0.09038244298039366\n",
            "Kurtosis on Tax_5%:  -0.09038244298039455\n",
            "Kurtosis on Total:  -0.09038244298040521\n"
          ]
        }
      ]
    },
    {
      "cell_type": "code",
      "source": [
        "#Confirming kurtosis with inbuilt pandas formula\n",
        "kurtosis_pandas=sales.kurt(axis=0,numeric_only=True)\n",
        "print(kurtosis_pandas)"
      ],
      "metadata": {
        "colab": {
          "base_uri": "https://localhost:8080/"
        },
        "id": "BGNuz7KJhv6t",
        "outputId": "4b09305f-c567-4cfa-d5d7-738e5c6fcc44"
      },
      "id": "BGNuz7KJhv6t",
      "execution_count": null,
      "outputs": [
        {
          "output_type": "stream",
          "name": "stdout",
          "text": [
            "Unit_price          -1.218591\n",
            "Quantity            -1.215547\n",
            "Tax_5perc           -0.081885\n",
            "Total               -0.081885\n",
            "cogs                -0.081885\n",
            "gross_margin_perc    0.000000\n",
            "gross_income        -0.081885\n",
            "Rating              -1.151587\n",
            "dtype: float64\n"
          ]
        }
      ]
    },
    {
      "cell_type": "code",
      "source": [
        "#Median\n",
        "med = {((n)/2)}\n",
        "display(Math('Median = ' + sym.latex(med) + ' th '))"
      ],
      "metadata": {
        "colab": {
          "base_uri": "https://localhost:8080/",
          "height": 39
        },
        "id": "BFy44e77DV7W",
        "outputId": "44fd7c8e-c627-4b9f-95c6-a1c2724e4bb5"
      },
      "id": "BFy44e77DV7W",
      "execution_count": null,
      "outputs": [
        {
          "output_type": "display_data",
          "data": {
            "text/latex": "$$Median = \\left\\{\\frac{n}{2}\\right\\} th $$",
            "text/plain": [
              "<IPython.core.display.Math object>"
            ]
          },
          "metadata": {}
        }
      ]
    },
    {
      "cell_type": "code",
      "source": [
        "#Custom Median Formula\n",
        "def median(data):\n",
        "  n = len(data)\n",
        "  index = n // 2\n",
        "    # Sample with an odd number of observations\n",
        "  if n % 2:\n",
        "    return sorted(data)[index]\n",
        "    # Sample with an even number of observations\n",
        "  return sum(sorted(data)[index - 1:index + 1]) / 2"
      ],
      "metadata": {
        "id": "cvEalVBZHPLm"
      },
      "id": "cvEalVBZHPLm",
      "execution_count": null,
      "outputs": []
    },
    {
      "cell_type": "code",
      "source": [
        "print('Median on Quantity: ',median(sales.Quantity))\n",
        "print('Median on Unit Price: ',median(sales.Unit_price))\n",
        "print('Median on Gross Income: ',median(sales.gross_income))\n",
        "print('Median on Rating: ',median(sales.Rating))\n",
        "print('Median on cogs: ',median(sales.cogs))\n",
        "print('Median on Total: ',median(sales.Total))\n",
        "print('Median on Tax_5%: ',median(sales.Tax_5perc))\n",
        "print('Median on Gross Margin Percentage: ',median(sales.gross_margin_perc))"
      ],
      "metadata": {
        "id": "t2F0aBKTRQIJ",
        "colab": {
          "base_uri": "https://localhost:8080/"
        },
        "outputId": "ea2efc03-df67-4441-996f-7f564be82fe8"
      },
      "id": "t2F0aBKTRQIJ",
      "execution_count": null,
      "outputs": [
        {
          "output_type": "stream",
          "name": "stdout",
          "text": [
            "Median on Quantity:  5.0\n",
            "Median on Unit Price:  55.230000000000004\n",
            "Median on Gross Income:  12.088\n",
            "Median on Rating:  7.0\n",
            "Median on cogs:  241.76\n",
            "Median on Total:  253.848\n",
            "Median on Tax_5%:  12.088\n",
            "Median on Gross Margin Percentage:  4.7619047619999995\n"
          ]
        }
      ]
    },
    {
      "cell_type": "markdown",
      "source": [
        "#⚡**2.Describe each of the numerical variables using graphical methods.**\n",
        "\n",
        "\n",
        ">\n",
        "\n",
        "*1.   Use histograms, strip plots and box plots to plot the distribution of each of the variables*\n",
        "\n",
        "> \n",
        "*2.   Carry out your visualisations using pandas, matplotlib and seaborn for each of the variables.*\n"
      ],
      "metadata": {
        "id": "vQj9P7HIthJg"
      },
      "id": "vQj9P7HIthJg"
    },
    {
      "cell_type": "code",
      "source": [
        "fig, axes = plt.subplots(2,4, figsize=(24, 10))\n",
        "\n",
        "fig.suptitle('Histogram Plots on Numerical Variables')\n",
        "\n",
        "sns.histplot(ax=axes[0, 0], data=sales, x='gross_income',kde=True)\n",
        "sns.histplot(ax=axes[0, 1], data=sales, x='Rating',kde=True)\n",
        "sns.histplot(ax=axes[0, 2], data=sales, x='cogs',kde=True)\n",
        "sns.histplot(ax=axes[0, 3], data=sales, x='Total',kde=True)\n",
        "sns.histplot(ax=axes[1, 0], data=sales, x='gross_margin_perc',stat=\"percent\", discrete=True)\n",
        "sns.histplot(ax=axes[1, 1], data=sales, x='Quantity',kde=True)\n",
        "sns.histplot(ax=axes[1, 2], data=sales, x='Unit_price',kde=True)\n",
        "sns.histplot(ax=axes[1, 3], data=sales, x='Tax_5perc',kde=True)"
      ],
      "metadata": {
        "colab": {
          "base_uri": "https://localhost:8080/",
          "height": 584
        },
        "id": "xOl3HgnrkbU8",
        "outputId": "e2fd65cc-de8e-46e7-e445-484551f258eb"
      },
      "id": "xOl3HgnrkbU8",
      "execution_count": null,
      "outputs": [
        {
          "output_type": "execute_result",
          "data": {
            "text/plain": [
              "<matplotlib.axes._subplots.AxesSubplot at 0x7f40d47e6210>"
            ]
          },
          "metadata": {},
          "execution_count": 73
        },
        {
          "output_type": "display_data",
          "data": {
            "image/png": "[encoded data removed]",
            "text/plain": [
              "<Figure size 1728x720 with 8 Axes>"
            ]
          },
          "metadata": {
            "needs_background": "light"
          }
        }
      ]
    },
    {
      "cell_type": "code",
      "source": [
        "#Boxplots\n",
        "boxplot=sales.boxplot(figsize = (16,8),grid=False, rot=30, fontsize=15)\n",
        "plt.title('Boxplots on Numerical Features')\n",
        "plt.show()"
      ],
      "metadata": {
        "colab": {
          "base_uri": "https://localhost:8080/",
          "height": 574
        },
        "id": "wA9xUQPNSDfD",
        "outputId": "f71b77ca-0fd9-488c-ca11-04ebe6a1bac7"
      },
      "id": "wA9xUQPNSDfD",
      "execution_count": null,
      "outputs": [
        {
          "output_type": "display_data",
          "data": {
            "image/png": "[encoded data removed]",
            "text/plain": [
              "<Figure size 1152x576 with 1 Axes>"
            ]
          },
          "metadata": {
            "needs_background": "light"
          }
        }
      ]
    },
    {
      "cell_type": "code",
      "source": [
        "#strip plots\n",
        "plt.figure(figsize=(12,8))\n",
        "plt.title('Strip Plots on Numerical Variables')\n",
        "sns.set(style=\"whitegrid\")\n",
        "sns.stripplot(data = sales, size=5 , jitter = 0.1)\n",
        "plt.show()"
      ],
      "metadata": {
        "colab": {
          "base_uri": "https://localhost:8080/",
          "height": 500
        },
        "id": "iJFFNbzGWBC5",
        "outputId": "2e9e0db2-f2af-4ee0-f6d6-ad888f81ce6a"
      },
      "id": "iJFFNbzGWBC5",
      "execution_count": null,
      "outputs": [
        {
          "output_type": "display_data",
          "data": {
            "image/png": "[encoded data removed]",
            "text/plain": [
              "<Figure size 864x576 with 1 Axes>"
            ]
          },
          "metadata": {
            "needs_background": "light"
          }
        }
      ]
    },
    {
      "cell_type": "markdown",
      "source": [
        "##✨**3.Describe each of the categorical variables using numerical methods.**\n",
        "\n",
        "\n",
        ">\n",
        "\n",
        "*1.   Obtain the unique categories and frequency of occurence of these elements for each of the categorical variables*\n",
        "\n"
      ],
      "metadata": {
        "id": "FMfEU2vIun2f"
      },
      "id": "FMfEU2vIun2f"
    },
    {
      "cell_type": "code",
      "source": [
        "#Unique categories and their Frequency using Numerical Methods\n",
        "print('Branch Categories: ')\n",
        "print(sales.Branch.value_counts())\n",
        "print(' ')\n",
        "print('City Categories: ')\n",
        "print(sales.City.value_counts())\n",
        "print(' ')\n",
        "print('Customer categories: ')\n",
        "print(sales.Customer_type.value_counts())\n",
        "print(' ')\n",
        "print('Gender Categories')\n",
        "print(sales.Gender.value_counts())\n",
        "print(' ')\n",
        "print('Product line Categories: ')\n",
        "print(sales.Product_line.value_counts())\n",
        "print(' ')\n",
        "print('Payment type Categories')\n",
        "print(sales.Payment.value_counts())"
      ],
      "metadata": {
        "colab": {
          "base_uri": "https://localhost:8080/"
        },
        "id": "-qYYXnWsY4U6",
        "outputId": "06d881b2-e26c-4029-a769-94035c56d778"
      },
      "id": "-qYYXnWsY4U6",
      "execution_count": null,
      "outputs": [
        {
          "output_type": "stream",
          "name": "stdout",
          "text": [
            "Branch Categories: \n",
            "A    340\n",
            "B    332\n",
            "C    328\n",
            "Name: Branch, dtype: int64\n",
            " \n",
            "City Categories: \n",
            "Yangon       340\n",
            "Mandalay     332\n",
            "Naypyitaw    328\n",
            "Name: City, dtype: int64\n",
            " \n",
            "Customer categories: \n",
            "Member    501\n",
            "Normal    499\n",
            "Name: Customer_type, dtype: int64\n",
            " \n",
            "Gender Categories\n",
            "Female    501\n",
            "Male      499\n",
            "Name: Gender, dtype: int64\n",
            " \n",
            "Product line Categories: \n",
            "Fashion accessories       178\n",
            "Food and beverages        174\n",
            "Electronic accessories    170\n",
            "Sports and travel         166\n",
            "Home and lifestyle        160\n",
            "Health and beauty         152\n",
            "Name: Product_line, dtype: int64\n",
            " \n",
            "Payment type Categories\n",
            "Ewallet        345\n",
            "Cash           344\n",
            "Credit card    311\n",
            "Name: Payment, dtype: int64\n"
          ]
        }
      ]
    },
    {
      "cell_type": "markdown",
      "source": [
        "##⭐**4.Describe each of the categorical variables using graphical methods.**\n",
        "\n",
        "\n",
        ">\n",
        "\n",
        "*1.   Describe each of the categorical variables using graphical methods*\n",
        "\n",
        "> \n",
        "*2.   Carry out your visualisations using pandas, matplotlib and seaborn.*"
      ],
      "metadata": {
        "id": "QX9QUeXzupbL"
      },
      "id": "QX9QUeXzupbL"
    },
    {
      "cell_type": "code",
      "source": [
        "sns.set_theme()\n",
        "fig, axes = plt.subplots(2, 3, figsize=(18, 10))\n",
        "fig.suptitle('Categorical Variables and their Frequencies of Occurrence')\n",
        "sns.countplot(ax=axes[0, 0], data=sales, x='Branch',palette='magma')\n",
        "sns.countplot(ax=axes[0, 1], data=sales, x='City',palette='magma')\n",
        "sns.countplot(ax=axes[0, 2], data=sales, x='Customer_type',palette='magma')\n",
        "sns.countplot(ax=axes[1, 0], data=sales, x='Gender',palette='magma')\n",
        "sns.countplot(ax=axes[1, 1], data=sales, x='Product_line',palette='magma')\n",
        "sns.countplot(ax=axes[1, 2], data=sales, x='Payment',palette='magma')"
      ],
      "metadata": {
        "colab": {
          "base_uri": "https://localhost:8080/",
          "height": 701
        },
        "id": "UqDepFMTiCIy",
        "outputId": "16d6f948-4790-4f11-f1b0-006a29a1e9d6"
      },
      "id": "UqDepFMTiCIy",
      "execution_count": null,
      "outputs": [
        {
          "output_type": "execute_result",
          "data": {
            "text/plain": [
              "<matplotlib.axes._subplots.AxesSubplot at 0x7f40cf31a450>"
            ]
          },
          "metadata": {},
          "execution_count": 77
        },
        {
          "output_type": "display_data",
          "data": {
            "image/png": "[encoded data removed]",
            "text/plain": [
              "<Figure size 1296x720 with 6 Axes>"
            ]
          },
          "metadata": {}
        }
      ]
    },
    {
      "cell_type": "code",
      "source": [
        "sns.set_theme()\n",
        "plt.figure(figsize = (20,5))\n",
        "sns.countplot(x = 'Product_line',data = sales, palette = 'magma')"
      ],
      "metadata": {
        "colab": {
          "base_uri": "https://localhost:8080/",
          "height": 351
        },
        "id": "Xl4b0zmzrY1d",
        "outputId": "d1388dd2-7c4a-4daf-ef38-2ac7db4ddf1e"
      },
      "id": "Xl4b0zmzrY1d",
      "execution_count": null,
      "outputs": [
        {
          "output_type": "execute_result",
          "data": {
            "text/plain": [
              "<matplotlib.axes._subplots.AxesSubplot at 0x7f40d12fbb90>"
            ]
          },
          "metadata": {},
          "execution_count": 78
        },
        {
          "output_type": "display_data",
          "data": {
            "image/png": "[encoded data removed]",
            "text/plain": [
              "<Figure size 1440x360 with 1 Axes>"
            ]
          },
          "metadata": {}
        }
      ]
    },
    {
      "cell_type": "markdown",
      "source": [
        "# 🔚**THE END**\n",
        "\n"
      ],
      "metadata": {
        "id": "RiMe78gw0Rvq"
      },
      "id": "RiMe78gw0Rvq"
    }
  ]
}